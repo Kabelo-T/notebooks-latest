{
 "cells": [
  {
   "cell_type": "code",
   "execution_count": null,
   "metadata": {},
   "outputs": [],
   "source": [
    "__author__ = 'Stephanie Juneau <stephanie.juneau@noirlab.edu>, David Herrera <david.herrera@noirlab.edu>, and the Astro Data Lab Team <datalab@noirlab.edu>'\n",
    "__version__ = '20230424' # yyyymmdd\n",
    "__datasets__ = ['ls_dr3','sdss_dr13']\n",
    "__keywords__ = ['extragalactic','galaxies','joint query','spectroscopic redshift','3d plot']"
   ]
  },
  {
   "cell_type": "markdown",
   "metadata": {},
   "source": [
    "# DECaLS and SDSS/BOSS Large Scale Structure\n",
    "by Stéphanie Juneau, David Herrera, and the Astro Data Lab Team"
   ]
  },
  {
   "cell_type": "markdown",
   "metadata": {
    "jp-MarkdownHeadingCollapsed": true,
    "tags": []
   },
   "source": [
    "### Table of contents\n",
    "* [Goals & Summary](#goals)\n",
    "* [Disclaimer & attribution](#attribution)\n",
    "* [Imports & setup](#import)\n",
    "* [Joint Query of LS and SDSS catalogs](#query)\n",
    "* [Plot Results](#plots)\n",
    "* [Exercise](#exercise)\n",
    "* [3D plot (RA,DEC and z)](3d_plot)"
   ]
  },
  {
   "cell_type": "markdown",
   "metadata": {},
   "source": [
    "<a class=\"anchor\" id=\"goals\"></a>\n",
    "# Goals\n",
    "* Joint query between photometric (LS) and spectroscopic (SDSS) catalogs\n",
    "* Plot on-sky position of extragalactic objects, color-coded by redshift\n",
    "* Plot, visualize and move around positions of extragalactic objects in 3D\n",
    "\n",
    "# Summary\n",
    "\n",
    "In this Notebook, we explore large-scale structures of galaxies by combining spectroscopic redshifts from SDSS/BOSS with photometry from the DESI pre-imaging Legacy Survey (LS). The advantage of spectroscopic redshifts is that they are far more accurate than photometric redshifts to probe distances to galaxies (though still need to be corrected for possible distortion effects such as the finger-of-God effect, which we ignore here). The advantage of the LS photometry is that it reaches deeper than SDSS by about 1 magnitude, which yields better image quality to measure magnitudes, colors, and galaxy shapes. While there are several possible extensions to the example work included below, we will show that a simple figure of galaxy spatial locations color-coded by galaxy morphological type reveals the known morphology-density relation.\n",
    "\n",
    "We wanted to extend indeed a little further and be able to visualize and even interact with a representation of these galaxies in the actual space. For that, we developed a 3D plot based directly (as a flat cube, without any projection or correction) on RA, DEC and z, and that is at the end of this NB.\n",
    "\n",
    "On a technical point of view, this short notebook illustrates an example joint query between the LS DR3 photometry Tractor table, and the SDSS/BOSS DR13 specObj spectroscopy table. It takes advantage of the fact that there is a version of the LS DR3 tractor table that was pre-matched to SDSS/BOSS DR13 so we can join on a common column called **specobjid**.\n",
    "\n",
    "The columns from the LS table used (Tractor, pre-matched to specObj DR13) can be seen here: http://datalab.noirlab.edu/query.php?name=ls_dr3.dr3_specobj_dr13\n",
    "\n",
    "The columns from the SDSS/BOSS DR13 table can be seen here: http://datalab.noirlab.edu/query.php?name=sdss_dr13.specobj\n",
    "\n",
    "The columns from the SDSS DR17 used for the 3D plot can be found here http://datalab.noirlab.edu/query.php?name=sdss_dr17.specobj\n"
   ]
  },
  {
   "cell_type": "markdown",
   "metadata": {},
   "source": [
    "<a class=\"anchor\" id=\"attribution\"></a>\n",
    "# Disclaimer & attribution\n",
    "If you use this notebook for your published science, please acknowledge the following:\n",
    "\n",
    "* Data Lab concept paper: Fitzpatrick et al., \"The NOAO Data Laboratory: a conceptual overview\", SPIE, 9149, 2014, http://dx.doi.org/10.1117/12.2057445\n",
    "\n",
    "* Data Lab disclaimer: http://datalab.noirlab.edu/disclaimers.php"
   ]
  },
  {
   "cell_type": "markdown",
   "metadata": {},
   "source": [
    "<a class=\"anchor\" id=\"import\"></a>\n",
    "# Imports and setup\n",
    "\n",
    "Please note that this notebook is written for Python 3."
   ]
  },
  {
   "cell_type": "code",
   "execution_count": null,
   "metadata": {},
   "outputs": [],
   "source": [
    "# std lib\n",
    "from getpass import getpass\n",
    "\n",
    "# 3rd party\n",
    "import numpy as np\n",
    "import matplotlib\n",
    "import matplotlib.pyplot as plt\n",
    "import matplotlib.patches as patches\n",
    "from scipy.stats import binned_statistic_2d\n",
    "%matplotlib inline\n",
    "from astropy.table import Table\n",
    "from astropy.cosmology import Planck18 as cosmo\n",
    "import plotly\n",
    "import plotly.graph_objs as go\n",
    "import pandas as pd\n",
    "plotly.offline.init_notebook_mode()\n",
    "\n",
    "# Data Lab\n",
    "from dl import queryClient as qc\n",
    "from dl import authClient as ac\n",
    "\n",
    "print('Done importing')"
   ]
  },
  {
   "cell_type": "markdown",
   "metadata": {},
   "source": [
    "# Authentication"
   ]
  },
  {
   "cell_type": "code",
   "execution_count": null,
   "metadata": {},
   "outputs": [],
   "source": [
    "# Uncomment the next 3 lines in case authentication is needed:\n",
    "#token = ac.login(input(\"Enter user name: (+ENTER) \"),getpass(\"Enter password: (+ENTER) \"))\n",
    "#if not ac.isValidToken(token):\n",
    "#    raise Exception('Token is not valid. Please check your usename/password and execute this cell again.')"
   ]
  },
  {
   "cell_type": "markdown",
   "metadata": {},
   "source": [
    "<a class=\"anchor\" id=\"query\"></a>\n",
    "# Query DECaLS Tractor Photometry Catalog\n",
    "\n",
    "The photometry is derived from Tractor modeling of sources, and the database includes model photometry, type (shape), as well as other quantities. \n",
    "\n",
    "The Legacy Survey DR3 database is called **ls_dr3** and includes several tables. We will use the **dr3_specobj_dr13** table, which is a version of the LS DR3 tractor table which was pre-matched with specObj table from SDSS/BOSS DR13. The column names and descriptions can be found from the [Data Lab Query Interface](http://datalab.noirlab.edu/query.php) or using the Table Access Protocol (TAP) service with, e.g., TOPCAT. In both cases, we are interested in **ls_dr3.dr3_specobj_dr13**. \n",
    "\n",
    "The SDSS DR13 database is called **sdss_dr13** and also includes several tables. We will use the **specObj** table, which has spectroscopic information."
   ]
  },
  {
   "cell_type": "code",
   "execution_count": null,
   "metadata": {},
   "outputs": [],
   "source": [
    "%%time\n",
    "# number of rows from LS DR3 tractor (NOTE: tractor is the main photometry table):\n",
    "query=\"SELECT nrows FROM tbl_stat WHERE schema='ls_dr4' and tbl_name='tractor'\"\n",
    "\n",
    "# Call query manager\n",
    "response = qc.query(sql=query, fmt='csv')\n",
    "\n",
    "print(response)\n",
    "print('Time')"
   ]
  },
  {
   "cell_type": "code",
   "execution_count": null,
   "metadata": {},
   "outputs": [],
   "source": [
    "%%time\n",
    "# number of rows from SDSS specObj DR13:\n",
    "query=\"SELECT nrows FROM tbl_stat WHERE schema='sdss_dr13' and tbl_name='specobj'\"\n",
    "\n",
    "# Call query manager\n",
    "response = qc.query(sql=query, fmt='csv')\n",
    "\n",
    "print(response)\n",
    "print('Time')"
   ]
  },
  {
   "cell_type": "code",
   "execution_count": null,
   "metadata": {},
   "outputs": [],
   "source": [
    "# ls_dr3.dr3_specobj_dr13           #DECaLS matched to SDSS DR13 specobj\n",
    "# sdss_dr13.specobj                 #SDSS DR13 specobj\n",
    "\n",
    "# Write query statement (adql)\n",
    "query = (\"\"\"SELECT \n",
    "           L.ra,L.dec,L.type,L.g_r,L.r_z,\n",
    "           S.z,S.plug_ra,S.plug_dec,S.class, \n",
    "           S.vdisp,S.vdisp_err \n",
    "         FROM ls_dr3.dr3_specobj_dr13 as L JOIN sdss_dr13.specobj as S \n",
    "         ON L.specObjId = S.specobjid \n",
    "         WHERE L.ra BETWEEN %s and %s and L.dec BETWEEN %s and %s and (L.ra_ivar > 0) \n",
    "         limit 100000\"\"\") %(126,131,7.,12.)  #small region\n",
    "\n",
    "# L.ra, L.dec      = RA, Dec from Legacy Survey (LS) table    \n",
    "# L.type           = object type (PSF, SIMP, EXP, DEV, COMP)\n",
    "# L.g_r, L.r_z     = pre-computed g-r and r-z colors from photometry\n",
    "# S.z              = redshift (z) from SDSS specObj table\n",
    "# S.plug_ra,dec    = RA, Dec of SDSS fiber from specObj table\n",
    "# S.class          = Source class (Star, Galaxy, QSO) from SDSS\n",
    "# S.vdisp,vdisp_err= velocity dispersion (and error) from SDSS specObj table\n",
    "#\n",
    "# WHERE: requirement that RA & Dec coordinates are within a rectangular region\n",
    "\n",
    "print(query)"
   ]
  },
  {
   "cell_type": "code",
   "execution_count": null,
   "metadata": {},
   "outputs": [],
   "source": [
    "%%time\n",
    "# Call query manager\n",
    "response = qc.query(adql=query, fmt='csv')\n",
    "\n",
    "print('Time')"
   ]
  },
  {
   "cell_type": "code",
   "execution_count": null,
   "metadata": {
    "scrolled": true
   },
   "outputs": [],
   "source": [
    "# Reformat output into a table\n",
    "result = Table.read(response, format='csv')  #dictionary\n",
    "\n",
    "result[:10]"
   ]
  },
  {
   "cell_type": "markdown",
   "metadata": {},
   "source": [
    "<a class=\"anchor\" id=\"plots\"></a>\n",
    "# Plot Results\n",
    "\n",
    "## Sanity check: RA, Dec positions from both tables"
   ]
  },
  {
   "cell_type": "code",
   "execution_count": null,
   "metadata": {},
   "outputs": [],
   "source": [
    "# convert RA coordinates from [0,360] to [-180,180] \n",
    "chgsign = np.where(result['ra'] > 180)\n",
    "result['ra'][chgsign] = result['ra'][chgsign]-360.\n",
    "result['plug_ra'][chgsign] = result['plug_ra'][chgsign]-360.\n",
    "\n",
    "plt.figure(figsize=(9,8))\n",
    "\n",
    "# plot RA, Dec from LS catalog in red with larger symbols\n",
    "plt.scatter(result['ra'],result['dec'],s=3,color='red',marker='1')\n",
    "\n",
    "# overplot RA, Dec from SDSS catalog in blue with smaller symbols\n",
    "plt.scatter(result['plug_ra'],result['plug_dec'],s=3,color='black',marker='2')\n",
    "\n",
    "# Extent of RA, Dec (in degrees) to plot\n",
    "xmin = 126.\n",
    "xmax = 131.\n",
    "ymin = 7.\n",
    "ymax = 12.\n",
    "\n",
    "plt.axis([xmin, xmax, ymin, ymax])\n",
    "plt.xlim(reversed(plt.xlim())) # flip the x-axis\n",
    "plt.xlabel(\"RA (degrees)\", fontsize=20)\n",
    "plt.ylabel(\"Dec (degrees)\", fontsize=20)\n",
    "plt.show()"
   ]
  },
  {
   "cell_type": "markdown",
   "metadata": {},
   "source": [
    "## Visual Inspection of Large-Scale Structures\n",
    "\n",
    "Plot the positions of a broad range of redshift, and overplot a thin slice in redshift to show possible structures within that slice."
   ]
  },
  {
   "cell_type": "code",
   "execution_count": null,
   "metadata": {},
   "outputs": [],
   "source": [
    "# Select redshift slice\n",
    "rz = np.where((result['z'] >0.105) & (result['z']<0.125))\n",
    "\n",
    "fig, (ax1, ax2) = plt.subplots(1, 2, figsize=(15, 6.5))\n",
    "\n",
    "# plot all points in red (all redshifts)\n",
    "ax1.scatter(result['plug_ra'],result['plug_dec'],s=3,color='r',marker='o',alpha=0.25)\n",
    "\n",
    "# overplot in blue objects in narrow redshift slice\n",
    "ax1.scatter(result['plug_ra'][rz],result['plug_dec'][rz],s=10,color='black')\n",
    "\n",
    "# Extent of RA, Dec (in degrees) to plot\n",
    "xmin = 126.\n",
    "xmax = 131.\n",
    "ymin = 7.\n",
    "ymax = 12.\n",
    "\n",
    "ax1.axis([xmin, xmax, ymin, ymax])\n",
    "ax1.set_xlim(reversed(ax1.set_xlim())) # flip the x-axis\n",
    "ax1.set_xlabel(\"RA (degrees)\", fontsize=20)\n",
    "ax1.set_ylabel(\"Dec (degrees)\", fontsize=20)\n",
    "\n",
    "# add rectangle to show where we zoom in next panel\n",
    "ax1.add_patch(patches.Rectangle((128.65-0.25, 8.85-0.2),0.5,0.4,fill=False,color='b'))\n",
    "\n",
    "\n",
    "## ZOOM IN A SMALLER REGION\n",
    "\n",
    "# plot all points in red (all redshifts)\n",
    "ax2.scatter(result['plug_ra'],result['plug_dec'],s=15,color='r',marker='o',alpha=0.3)\n",
    "\n",
    "# overplot in blue objects in narrow redshift slice\n",
    "ax2.scatter(result['plug_ra'][rz],result['plug_dec'][rz],s=30,color='black')\n",
    "\n",
    "# Extent of RA, Dec (in degrees) to plot\n",
    "xmin = 128.4\n",
    "xmax = 128.9\n",
    "ymin = 8.65\n",
    "ymax = 9.05\n",
    "\n",
    "ax2.axis([xmin, xmax, ymin, ymax])\n",
    "ax2.set_xlim(reversed(ax2.set_xlim())) # flip the x-axis\n",
    "ax2.set_xlabel(\"RA (degrees)\", fontsize=20)\n",
    "ax2.set_ylabel(\"Dec (degrees)\", fontsize=20)\n",
    "\n",
    "# add rectangle to show where we zoom in next panel\n",
    "ax2.add_patch(patches.Rectangle((128.63, 8.81),0.13,0.107,fill=False,color='b'))\n",
    "\n",
    "plt.show()"
   ]
  },
  {
   "cell_type": "markdown",
   "metadata": {},
   "source": [
    "Above, the left-hand panel shows a thin redshift slice (0.105 < *z* < 0.125, black symbols) among objects with redshifts from the spectroscopic SDSS DR13 sample (red symbols). We can see by eye some large-scale filamentary structures and overdensities. The blue rectangle shows a selected region where we zoom in the right-hand panel. On the latter, we further select a smaller region, which we will use in the next cell below."
   ]
  },
  {
   "cell_type": "code",
   "execution_count": null,
   "metadata": {},
   "outputs": [],
   "source": [
    "## ZOOM IN AGAIN OVER AN EVEN SMALLER REGION\n",
    "fig, (ax1, ax2) = plt.subplots(1, 2, figsize=(15, 5.5))\n",
    "\n",
    "# plot all points in red (all redshifts)\n",
    "ax1.scatter(result['plug_ra'],result['plug_dec'],s=30,color='r',marker='o',alpha=0.25)\n",
    "\n",
    "# overplot in black objects in narrow redshift slice\n",
    "ax1.scatter(result['plug_ra'][rz],result['plug_dec'][rz],s=50,color='black')\n",
    "\n",
    "# Extent of RA, Dec (in degrees) to plot\n",
    "xmin = 128.63\n",
    "xmax = 128.76\n",
    "ymin = 8.81\n",
    "ymax = 8.917\n",
    "\n",
    "ax1.axis([xmin, xmax, ymin, ymax])\n",
    "ax1.set_xlim(reversed(ax1.set_xlim())) # flip the x-axis\n",
    "ax1.set_xlabel(\"RA (degrees)\", fontsize=20)\n",
    "ax1.set_ylabel(\"Dec (degrees)\", fontsize=20)\n",
    "\n",
    "## SHOW DECaLS IMAGE (screenshot pre-made but could instead implement image cutout)\n",
    "im = plt.imread('DECaLS_screenshot_zoomIn_labels.jpg')\n",
    "ax2.imshow(im)\n",
    "ax2.axis('off')\n",
    "\n",
    "plt.show()"
   ]
  },
  {
   "cell_type": "markdown",
   "metadata": {},
   "source": [
    "The left-hand panel shows the small region enclosed in the blue rectangle that we chose above (right-hand panel). The galaxies in black are in the same narrow redshift slice as defined previously (0.105 < *z* < 0.125). The right-hand panel is an image cutout of the same region of the sky from the [LS sky viewer](http://legacysurvey.org/viewer?ra=128.7040&dec=8.8439&zoom=13&layer=decals-dr5). The galaxies encircled correspond to the points in black, and some or perhaps most of them likely belong to a galaxy cluster."
   ]
  },
  {
   "cell_type": "markdown",
   "metadata": {},
   "source": [
    "## Large-Scale Structures with LS Morphologies\n",
    "\n",
    "There are many possible extensions to this work. For instance, one could plot again with symbols coded with object *type* (from LS) and/or *class* (from SDSS) and/or velocity dispersion (from SDSS) and/or other quantities. Here, we will start with the object \"TYPE\" from LS, related to the morphological shapes. \n",
    "\n",
    "The object shape (2D light profile) is modeled by [the Tractor](http://thetractor.org) ([Lang, Hogg & Mykytyn](http://adsabs.harvard.edu/abs/2016ascl.soft04008L)) as part of the procedure to compute model photometry.\n",
    "\n",
    "Possible shapes for LS DR3:\n",
    "<ul>\n",
    "<li>PSF (point spread function: size will vary with the seeing of the observations)</li>\n",
    "<li>SIMP (“simple” galaxies: round, exponential profile with 0.45″ effective radius)</li>\n",
    "<li>EXP (exponential profile; spiral galaxies)</li>\n",
    "<li>DEV (deVaucouleurs profile; elliptical galaxies)</li>\n",
    "<li>COMP (composite deVaucouleurs+exponential at same centroid)</li>\n",
    "</ul>\n",
    "\n",
    "Please note that starting in DR4 and in subsequent data releases, the SIMP model as been replaced with a REX model (Round Exponential).\n",
    "\n",
    "<figure>\n",
    "<img src=\"Gals_Qso.jpg\", align=\"left\", width=600>\n",
    "<figcaption>**Figure:** Images of galaxies including a nearby elliptical galaxy, a nearby spiral galaxy, and a QSO.</figcaption>\n",
    "</figure>"
   ]
  },
  {
   "cell_type": "code",
   "execution_count": null,
   "metadata": {},
   "outputs": [],
   "source": [
    "# Select redshift slice\n",
    "rz = np.where((result['z'] >0.105) & (result['z']<0.125))\n",
    "\n",
    "fig, (ax1, ax2) = plt.subplots(1, 2, figsize=(15, 6.5))\n",
    "\n",
    "# plot all points in red (all redshifts)\n",
    "ax1.scatter(result['plug_ra'],result['plug_dec'],s=3,color='r',marker='o',alpha=0.25)\n",
    "\n",
    "# overplot in black objects in narrow redshift slice\n",
    "ax1.scatter(result['plug_ra'][rz],result['plug_dec'][rz],s=10,color='black')\n",
    "\n",
    "# Extent of RA, Dec (in degrees) to plot\n",
    "xmin = 126.\n",
    "xmax = 131.\n",
    "ymin = 7.\n",
    "ymax = 12.\n",
    "\n",
    "ax1.axis([xmin, xmax, ymin, ymax])\n",
    "ax1.set_xlim(reversed(ax1.set_xlim())) # flip the x-axis\n",
    "ax1.set_xlabel(\"RA (degrees)\", fontsize=20)\n",
    "ax1.set_ylabel(\"Dec (degrees)\", fontsize=20)\n",
    "\n",
    "\n",
    "# Select redshift slice and per type\n",
    "rdev  = np.where((result['type']=='DEV') & (result['z'] >0.105) & (result['z']<0.125))\n",
    "rexp  = np.where((result['type']=='EXP') & (result['z'] >0.105) & (result['z']<0.125))\n",
    "rcomp = np.where((result['type']=='COMP') & (result['z'] >0.105) & (result['z']<0.125))\n",
    "\n",
    "# plot all points in red (all redshifts)\n",
    "ax2.scatter(result['plug_ra'],result['plug_dec'],s=3,color='gray',marker='o',alpha=0.25)\n",
    "\n",
    "# overplot in blue objects in narrow redshift slice\n",
    "ax2.scatter(result['plug_ra'][rexp],result['plug_dec'][rexp],s=15,color='b')         # blue = EXP\n",
    "ax2.scatter(result['plug_ra'][rdev],result['plug_dec'][rdev],s=15,color='r')         # red  = DEV\n",
    "ax2.scatter(result['plug_ra'][rcomp],result['plug_dec'][rcomp],s=15,color='orange')  # orange = COMP\n",
    "\n",
    "plt.axis([xmin, xmax, ymin, ymax])\n",
    "plt.xlim(reversed(plt.xlim())) # flip the x-axis\n",
    "plt.xlabel(\"RA (degrees)\", fontsize=20)\n",
    "plt.ylabel(\"Dec (degrees)\", fontsize=20)\n",
    "plt.show()"
   ]
  },
  {
   "cell_type": "markdown",
   "metadata": {
    "tags": []
   },
   "source": [
    "<a class=\"anchor\" id=\"exercise\"></a>\n",
    "## EXERCISE: Large-Scale Structures with Galaxy Colors\n",
    "\n",
    "There are pre-computed colors available. The columns are described here:\n",
    "http://datalab.noirlab.edu/query.php?name=ls_dr3.dr3_specobj_dr13\n",
    "\n",
    "Another possibility would be to plot again the galaxies spatial coordinates, but color-coded according to their photometric colors. This is left as an exercise for the user, but feel free to get in touch with the Data Lab Team if you have questions."
   ]
  },
  {
   "cell_type": "markdown",
   "metadata": {
    "tags": []
   },
   "source": [
    "<a class=\"anchor\" id=\"3d_plot\"></a>\n",
    "# Interactive 3D plot (RA, DEC and z)\n",
    "\n",
    "We now turn to a different area of the sky. We want to identify filaments and clumps of galaxies in 3D, moving around and 'traveling' through space.\n",
    "\n",
    "We want to take an interesting section of the sky, where we could observe galaxies clustering and/or filaments of the large scale structure of the universe, as we did in the previous section, except that now we can move through 'space' within those galaxies and see them from different points of view in that section of the universe.\n",
    "\n",
    "We chose an are far from the galactic plane of the Milky Way\n",
    "\n",
    "Next, we will get the SDSS data for positions and redshifts, and define our boundaries."
   ]
  },
  {
   "cell_type": "markdown",
   "metadata": {
    "tags": []
   },
   "source": [
    "### Plotting in 3D\n",
    "We want to take an interesting section of the sky, where we could observe galaxies clustering and/or filaments of the large scale structure of the universe, as we did in the previous section, EXCEPT, that now we can move through 'space' within those galaxies and see them from different points of view in that section of the universe.\n",
    "\n",
    "In the following cell, we will get the SDSS data for coordinates and redshift, and define our boundaries:"
   ]
  },
  {
   "cell_type": "code",
   "execution_count": null,
   "metadata": {
    "tags": []
   },
   "outputs": [],
   "source": [
    "#Create the query to fetch the SDSS data from DataLab:\n",
    "\n",
    "query = \"\"\"\n",
    "SELECT ra,dec,z\n",
    "FROM sdss_dr17.specobj\n",
    "WHERE q3c_radial_query(ra,dec,%s,%s,%s)\n",
    "\"\"\" % (190,8,8)\n",
    "print (query)"
   ]
  },
  {
   "cell_type": "code",
   "execution_count": null,
   "metadata": {
    "tags": []
   },
   "outputs": [],
   "source": [
    "%%time\n",
    "# Fetch the SDSS data from ls_dr17.specobj\n",
    "selection = qc.query(adql=query, fmt='csv')"
   ]
  },
  {
   "cell_type": "code",
   "execution_count": null,
   "metadata": {
    "tags": []
   },
   "outputs": [],
   "source": [
    "# Reformat output into a table\n",
    "data = Table.read(selection, format='csv')  #dictionary\n",
    "data[:10]"
   ]
  },
  {
   "cell_type": "code",
   "execution_count": null,
   "metadata": {
    "tags": []
   },
   "outputs": [],
   "source": [
    "ra = data['ra']\n",
    "dec = data['dec']\n",
    "z = data['z']\n",
    "\n",
    "ra_ = ra\n",
    "dec_ = dec\n",
    "z_ = z\n",
    "print('There initially are %s points to plot'%len(ra_))\n",
    "\n",
    "sel = (z_ > 0.02) & (z_ < 0.4)\n",
    "ra_ = ra_[sel]\n",
    "dec_ = dec_[sel]\n",
    "z_ = z_[sel]\n",
    "\n",
    "print('Now here are %s points to plot'%len(ra_))"
   ]
  },
  {
   "cell_type": "markdown",
   "metadata": {
    "tags": []
   },
   "source": [
    "Compute luminosity distance for every galaxy, using Planck cosmology values"
   ]
  },
  {
   "cell_type": "code",
   "execution_count": null,
   "metadata": {
    "tags": []
   },
   "outputs": [],
   "source": [
    "dist = cosmo.luminosity_distance(z_)\n",
    "dist"
   ]
  },
  {
   "cell_type": "code",
   "execution_count": null,
   "metadata": {},
   "outputs": [],
   "source": [
    "ra = ra_\n",
    "dec = dec_"
   ]
  },
  {
   "cell_type": "code",
   "execution_count": null,
   "metadata": {},
   "outputs": [],
   "source": [
    "print('There are %s points to plot'%len(ra))"
   ]
  },
  {
   "cell_type": "code",
   "execution_count": null,
   "metadata": {},
   "outputs": [],
   "source": [
    "dist.min()"
   ]
  },
  {
   "cell_type": "markdown",
   "metadata": {},
   "source": [
    "Convert ra,dec,dist to cartesian coordinates X,Y,Z (in Mpc)"
   ]
  },
  {
   "cell_type": "code",
   "execution_count": null,
   "metadata": {},
   "outputs": [],
   "source": [
    "def get_cartesian(ra,dec,dist):\n",
    "    rarad = np.radians(ra)\n",
    "    decrad = np.radians(dec)\n",
    "    X = dist * np.sin(decrad) * np.cos(rarad)\n",
    "    Y = dist * np.sin(decrad) * np.sin(rarad)\n",
    "    Z = dist * np.cos(decrad)\n",
    "    return X,Y,Z"
   ]
  },
  {
   "cell_type": "code",
   "execution_count": null,
   "metadata": {},
   "outputs": [],
   "source": [
    "X,Y,Z = get_cartesian(ra,dec,dist)"
   ]
  },
  {
   "cell_type": "markdown",
   "metadata": {
    "tags": []
   },
   "source": [
    "### Plotting in 3D\n",
    "We want to take an interesting section of the sky, where we could observe galaxies clustering and/or filaments of the large scale structure of the universe, as we did in the previous section, EXCEPT, that now we can move through 'space' within those galaxies and see them from different points of view in that section of the universe.\n",
    "\n",
    "In the following cell, we will get the SDSS data for coordinates and redshift, and define our boundaries:"
   ]
  },
  {
   "cell_type": "markdown",
   "metadata": {
    "tags": []
   },
   "source": [
    "Now we prepare the trace to plot"
   ]
  },
  {
   "cell_type": "code",
   "execution_count": null,
   "metadata": {
    "tags": []
   },
   "outputs": [],
   "source": [
    "trace = go.Scatter3d(\n",
    "    x = X,\n",
    "    y = Y,\n",
    "    z = Z,\n",
    "    mode = 'markers',\n",
    "    marker = {\n",
    "        'size'      : 1.5,\n",
    "        'opacity'   : 0.7,\n",
    "        'color'     : dist, \n",
    "        'colorscale': 'OrRd'\n",
    "    }\n",
    ")"
   ]
  },
  {
   "cell_type": "code",
   "execution_count": null,
   "metadata": {
    "tags": []
   },
   "outputs": [],
   "source": [
    "data = [trace]"
   ]
  },
  {
   "cell_type": "markdown",
   "metadata": {
    "tags": []
   },
   "source": [
    "Next, we define camera location and the layout of the plot"
   ]
  },
  {
   "cell_type": "code",
   "execution_count": null,
   "metadata": {
    "tags": []
   },
   "outputs": [],
   "source": [
    "camera = dict(\n",
    "    up = dict(x = 0, y = 0, z = 1),\n",
    "    center = dict(x = 0, y = 0, z = 0),\n",
    "    eye = dict(x = -0.2, y = -0.2, z = -1)\n",
    ")\n",
    "\n",
    "layout = go.Layout(\n",
    "    scene = dict(\n",
    "        xaxis = dict(title = 'X',\n",
    "                     backgroundcolor = 'black',\n",
    "                     showbackground=True,\n",
    "                     gridcolor = \"black\",\n",
    "                     ),\n",
    "        yaxis = dict(title = 'Y',\n",
    "                     backgroundcolor = 'black',\n",
    "                     showbackground=True,\n",
    "                     gridcolor = \"black\",\n",
    "                     ),\n",
    "        zaxis = dict(title = 'Z',\n",
    "                     backgroundcolor = 'black',\n",
    "                     showbackground=True,\n",
    "                     gridcolor = \"black\",\n",
    "                     ),\n",
    "    ),\n",
    "        scene_camera = camera,\n",
    "        plot_bgcolor = 'black',\n",
    "        paper_bgcolor = 'black',\n",
    "        title = None,\n",
    "        showlegend=False,\n",
    "        width = 1000,\n",
    "        height = 1000,\n",
    "        autosize = False,\n",
    "        margin = {'l':0, 'r':0, 'b':0, 't':0}\n",
    ")"
   ]
  },
  {
   "cell_type": "code",
   "execution_count": null,
   "metadata": {
    "tags": []
   },
   "outputs": [],
   "source": [
    "# Now we finally draw the plot:\n",
    "\n",
    "plot_figure = go.Figure(data = data, layout = layout)\n",
    "plot_figure.update_layout()\n"
   ]
  },
  {
   "cell_type": "markdown",
   "metadata": {
    "tags": []
   },
   "source": [
    "Feel free to zoom in and zoom out with your mouse/pad.  \n",
    "You can immerse yourself in the plot!!  \n",
    "Rotate and fly through the points, so you can notice the filaments and clusters from different points of view.  \n",
    "Hover over different points and a pop up tag will reveal its RA, Dec and z\n",
    "\n",
    "NOTE: Try to see the z axis from the side and notice there is a 'layer' effect in z. It is NOT clear why that is"
   ]
  },
  {
   "cell_type": "code",
   "execution_count": null,
   "metadata": {},
   "outputs": [],
   "source": []
  }
 ],
 "metadata": {
  "anaconda-cloud": {},
  "kernelspec": {
   "display_name": "Python 3",
   "language": "python",
   "name": "python3"
  },
  "language_info": {
   "codemirror_mode": {
    "name": "ipython",
    "version": 3
   },
   "file_extension": ".py",
   "mimetype": "text/x-python",
   "name": "python",
   "nbconvert_exporter": "python",
   "pygments_lexer": "ipython3",
   "version": "3.8.8"
  }
 },
 "nbformat": 4,
 "nbformat_minor": 4
}
