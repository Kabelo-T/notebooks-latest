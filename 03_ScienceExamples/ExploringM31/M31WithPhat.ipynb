{
 "cells": [
  {
   "cell_type": "code",
   "execution_count": 1,
   "metadata": {
    "execution": {
     "iopub.execute_input": "2024-02-05T20:10:43.858456Z",
     "iopub.status.busy": "2024-02-05T20:10:43.857844Z",
     "iopub.status.idle": "2024-02-05T20:10:43.865082Z",
     "shell.execute_reply": "2024-02-05T20:10:43.863674Z",
     "shell.execute_reply.started": "2024-02-05T20:10:43.858399Z"
    }
   },
   "outputs": [],
   "source": [
    "__author__ = 'Knut Olsen <knut.olsen@noirlab.edu>'\n",
    "__version__ = '20240205' # yyyymmdd\n",
    "__datasets__ = ['phat_v2']\n",
    "__keywords__ = ['M31', 'Healpix map', 'plot:cmd', 'lightcurve']"
   ]
  },
  {
   "cell_type": "markdown",
   "metadata": {},
   "source": [
    "# Fun with PHAT!\n",
    "\n",
    "*Knut Olsen & the Astro Data Lab Team*"
   ]
  },
  {
   "cell_type": "markdown",
   "metadata": {},
   "source": [
    "## Table of contents\n",
    "* [Goals & Summary](#goals)\n",
    "* [Disclaimer & attribution](#attribution)\n",
    "* [Imports & setup](#import)\n",
    "* [Authentication](#auth)\n",
    "* [Basic info](#basic)\n",
    "* [Examine the columns of the PHAT object table](#columns)\n",
    "* [Make an object density map](#density)\n",
    "* [Make depth and color maps](#depth)\n",
    "* [Do a spatial query and make color-color diagrams and CMDs](#cmd)\n",
    "* [Retrieving time series photometry of select objects](#timeseries)\n",
    "* [Resources and references](#resources)"
   ]
  },
  {
   "cell_type": "markdown",
   "metadata": {},
   "source": [
    "<a class=\"anchor\" id=\"goals\"></a>\n",
    "# Goals\n",
    "* Learn how to access the PHAT average photometry and single epoch measurement tables\n",
    "* Learn how to use an SQL query to make Healpix maps of object density, average depth, average color, and PHAT brick number\n",
    "* Learn how to retrieve and plot lightcurve data from the PHAT single epoch measurement table"
   ]
  },
  {
   "cell_type": "markdown",
   "metadata": {},
   "source": [
    "# Summary\n",
    "The Panchromatic Hubble Andromeda Treasury (PHAT; PI Dalcanton) was a Hubble Space Telescope Multi-cycle program to map roughly a third of M31's star forming disk, using 6 filters covering from the ultraviolet through the near infrared. \n",
    "\n",
    "The Data Lab hosts two main tables from PHAT: the version 2 object table (phat_v2.phot_mod) and the version 2 single epoch measurement table (phat_v2.phot_meas).  The object table contains average photometry in all filters, with one row per object.  The measurement table contains all of the photometric measurements for all objects, with one row per measurement.  The measurement table contains ~7.5 billion rows.\n",
    "\n",
    "In this notebook, we'll use these tables to do some exploration of the PHAT survey.\n"
   ]
  },
  {
   "cell_type": "markdown",
   "metadata": {},
   "source": [
    "<a class=\"anchor\" id=\"attribution\"></a>\n",
    "# Disclaimer & attribution\n",
    "If you use this notebook for your published science, please acknowledge the following:\n",
    "\n",
    "* Data Lab concept paper: Fitzpatrick et al., \"The NOAO Data Laboratory: a conceptual overview\", SPIE, 9149, 2014, http://dx.doi.org/10.1117/12.2057445\n",
    "\n",
    "* Data Lab disclaimer: https://datalab.noirlab.edu/disclaimers.php\n",
    "\n",
    "* PHAT Reduction paper: Williams et al., \"Reducing and Analyzing the PHAT Survey with the Cloud\", ApJS, 2018, 236, 4: https://ui.adsabs.harvard.edu/abs/2018ApJS..236....4W"
   ]
  },
  {
   "cell_type": "markdown",
   "metadata": {},
   "source": [
    "<a class=\"anchor\" id=\"import\"></a>\n",
    "# Imports and setup"
   ]
  },
  {
   "cell_type": "code",
   "execution_count": 2,
   "metadata": {
    "execution": {
     "iopub.execute_input": "2024-02-05T20:10:43.867191Z",
     "iopub.status.busy": "2024-02-05T20:10:43.866631Z",
     "iopub.status.idle": "2024-02-05T20:10:46.564755Z",
     "shell.execute_reply": "2024-02-05T20:10:46.563372Z",
     "shell.execute_reply.started": "2024-02-05T20:10:43.867147Z"
    },
    "tags": []
   },
   "outputs": [],
   "source": [
    "import numpy as np\n",
    "import pylab as plt\n",
    "import matplotlib\n",
    "import healpy as hp\n",
    "from getpass import getpass\n",
    "\n",
    "%matplotlib inline\n",
    "\n",
    "# Datalab and related imports\n",
    "from dl import authClient as ac, queryClient as qc\n",
    "from dl.helpers.utils import convert"
   ]
  },
  {
   "cell_type": "code",
   "execution_count": 3,
   "metadata": {
    "execution": {
     "iopub.execute_input": "2024-02-05T20:10:46.566622Z",
     "iopub.status.busy": "2024-02-05T20:10:46.566140Z",
     "iopub.status.idle": "2024-02-05T20:10:46.571717Z",
     "shell.execute_reply": "2024-02-05T20:10:46.570375Z",
     "shell.execute_reply.started": "2024-02-05T20:10:46.566572Z"
    }
   },
   "outputs": [],
   "source": [
    "qc.set_profile('db01')"
   ]
  },
  {
   "cell_type": "markdown",
   "metadata": {},
   "source": [
    "<a class=\"anchor\" id=\"auth\"></a>\n",
    "# Authentication\n",
    "Much of the functionality of Data Lab can be accessed without explicitly logging in (the service then uses an anonymous login). But some capacities, for instance saving the results of your queries to your virtual storage space, require a login (i.e. you will need a registered user account).\n",
    "\n",
    "If you need to log in to Data Lab, un-comment the cell below and execute it:"
   ]
  },
  {
   "cell_type": "code",
   "execution_count": 4,
   "metadata": {
    "execution": {
     "iopub.execute_input": "2024-02-05T20:10:46.574024Z",
     "iopub.status.busy": "2024-02-05T20:10:46.573379Z",
     "iopub.status.idle": "2024-02-05T20:10:46.578446Z",
     "shell.execute_reply": "2024-02-05T20:10:46.577197Z",
     "shell.execute_reply.started": "2024-02-05T20:10:46.573975Z"
    }
   },
   "outputs": [],
   "source": [
    "#token = ac.login(input(\"Enter user name: (+ENTER) \"),getpass(\"Enter password: (+ENTER) \"))\n",
    "#ac.whoAmI()"
   ]
  },
  {
   "cell_type": "markdown",
   "metadata": {},
   "source": [
    "<a class=\"anchor\" id=\"basic\"></a>\n",
    "# Basic info\n",
    "First, let's look at the tables available in the PHAT database, and then get some basic information from the Data Lab statistics database (<tt>tbl_stat</tt>) about the main PHAT object table, phat_v2.phot_mod. "
   ]
  },
  {
   "cell_type": "code",
   "execution_count": 5,
   "metadata": {
    "execution": {
     "iopub.execute_input": "2024-02-05T20:10:46.580546Z",
     "iopub.status.busy": "2024-02-05T20:10:46.579952Z",
     "iopub.status.idle": "2024-02-05T20:10:46.653527Z",
     "shell.execute_reply": "2024-02-05T20:10:46.652096Z",
     "shell.execute_reply.started": "2024-02-05T20:10:46.580498Z"
    }
   },
   "outputs": [
    {
     "name": "stdout",
     "output_type": "stream",
     "text": [
      "\n",
      "Schema: phat_v2\n",
      "\n",
      "      Table Name   Description\n",
      "      ----------   -----------\n",
      "       phot_meas   Individual photometric measurements, one row per measurement\n",
      "        phot_mod   Combined average photometry\n",
      "         phot_v2   Individual photometric measurements in original table format\n",
      "         star_v2   Combined average photometry in original table format\n",
      "x1p5__phot_mod__allwise__source   phat_v2.phot_mod and allwise.source crossmatch (1.5 arcsec)\n",
      "x1p5__phot_mod__gaia_dr3__gaia_source   xmatch_std.phat_v2__phot_mod and gaia_dr3.gaia_source cros\n",
      "                   smatch (1.5 arcsec)\n",
      "x1p5__phot_mod__unwise_dr1__object   phat_v2.phot_mod and unwise_dr1.object crossmatch (1.5 arcsec)\n",
      "\n"
     ]
    }
   ],
   "source": [
    "try:\n",
    "    print(qc.schema('phat_v2',format='json',profile='default'))\n",
    "except Exception as e:\n",
    "    print(e.message)"
   ]
  },
  {
   "cell_type": "code",
   "execution_count": 6,
   "metadata": {
    "execution": {
     "iopub.execute_input": "2024-02-05T20:10:46.657331Z",
     "iopub.status.busy": "2024-02-05T20:10:46.656793Z",
     "iopub.status.idle": "2024-02-05T20:10:46.764139Z",
     "shell.execute_reply": "2024-02-05T20:10:46.762573Z",
     "shell.execute_reply.started": "2024-02-05T20:10:46.657287Z"
    }
   },
   "outputs": [
    {
     "name": "stdout",
     "output_type": "stream",
     "text": [
      "Error: relation \"tbl_stat\" does not exist\n",
      "LINE 1: copy (SELECT * FROM tbl_stat WHERE schema='phat_v2' and tbl_...\n",
      "                            ^\n",
      "\n"
     ]
    }
   ],
   "source": [
    "query = \"SELECT * FROM tbl_stat WHERE schema='phat_v2' and tbl_name='phot_mod'\" # Retrieve useful stats, quickly\n",
    "try:\n",
    "    info = qc.query(sql=query) # by default the result is a CSV formatted string\n",
    "except Exception as e:\n",
    "    print(e.message)"
   ]
  },
  {
   "cell_type": "code",
   "execution_count": 7,
   "metadata": {
    "execution": {
     "iopub.execute_input": "2024-02-05T20:10:46.767741Z",
     "iopub.status.busy": "2024-02-05T20:10:46.767079Z",
     "iopub.status.idle": "2024-02-05T20:10:46.895436Z",
     "shell.execute_reply": "2024-02-05T20:10:46.891811Z",
     "shell.execute_reply.started": "2024-02-05T20:10:46.767689Z"
    }
   },
   "outputs": [
    {
     "ename": "NameError",
     "evalue": "name 'info' is not defined",
     "output_type": "error",
     "traceback": [
      "\u001b[0;31m---------------------------------------------------------------------------\u001b[0m",
      "\u001b[0;31mNameError\u001b[0m                                 Traceback (most recent call last)",
      "\u001b[0;32m<ipython-input-7-a4f7abf517dd>\u001b[0m in \u001b[0;36m<module>\u001b[0;34m\u001b[0m\n\u001b[0;32m----> 1\u001b[0;31m \u001b[0mprint\u001b[0m\u001b[0;34m(\u001b[0m\u001b[0minfo\u001b[0m\u001b[0;34m)\u001b[0m\u001b[0;34m\u001b[0m\u001b[0;34m\u001b[0m\u001b[0m\n\u001b[0m",
      "\u001b[0;31mNameError\u001b[0m: name 'info' is not defined"
     ]
    }
   ],
   "source": [
    "print(info)"
   ]
  },
  {
   "cell_type": "markdown",
   "metadata": {},
   "source": [
    "<a class=\"anchor\" id=\"columns\"></a>\n",
    "# Examine the columns of the PHAT object table\n",
    "First, we'll take a look at some rows from phat_v2.phot_mod, and get all columns."
   ]
  },
  {
   "cell_type": "code",
   "execution_count": null,
   "metadata": {
    "execution": {
     "iopub.status.busy": "2024-02-05T20:10:46.897232Z",
     "iopub.status.idle": "2024-02-05T20:10:46.898006Z",
     "shell.execute_reply": "2024-02-05T20:10:46.897668Z"
    }
   },
   "outputs": [],
   "source": [
    "query = \"\"\"SELECT *\n",
    "           FROM phat_v2.phot_mod\n",
    "           LIMIT 100\n",
    "        \"\"\""
   ]
  },
  {
   "cell_type": "code",
   "execution_count": null,
   "metadata": {
    "execution": {
     "iopub.status.busy": "2024-02-05T20:10:46.899354Z",
     "iopub.status.idle": "2024-02-05T20:10:46.900110Z",
     "shell.execute_reply": "2024-02-05T20:10:46.899781Z"
    }
   },
   "outputs": [],
   "source": [
    "try:\n",
    "    result = qc.query(sql=query) # by default the result is a CSV formatted string\n",
    "except Exception as e:\n",
    "    print(e.message)"
   ]
  },
  {
   "cell_type": "markdown",
   "metadata": {},
   "source": [
    "### Convert the output to a Pandas Dataframe\n",
    "Pandas dataframes are a convenient way to store and work with the data.  The Data Lab 'helpers' module (<a href=\"http://datalab.noirlab.edu/docs/manual/UsingAstroDataLab/ClientInterfaces/Helpers/Helpers.html\">docs</a>) has a conversion method, with many possible output formats."
   ]
  },
  {
   "cell_type": "code",
   "execution_count": null,
   "metadata": {
    "execution": {
     "iopub.status.busy": "2024-02-05T20:10:46.901285Z",
     "iopub.status.idle": "2024-02-05T20:10:46.902026Z",
     "shell.execute_reply": "2024-02-05T20:10:46.901700Z"
    }
   },
   "outputs": [],
   "source": [
    "df1 = convert(result,'pandas')\n",
    "print(\"Number of rows:\", len(df1))\n",
    "print(df1.columns) # print column headings\n",
    "print(len(df1.columns))"
   ]
  },
  {
   "cell_type": "markdown",
   "metadata": {},
   "source": [
    "<a class=\"anchor\" id=\"density\"></a>\n",
    "# Make an object density map\n",
    "One of the columns in the PHAT object table, nest4096, is the Healpix index (NSIDE=4096, nested scheme) for the objects's RA and Dec.  Healpix is a handy tesselation of the sky into tiles of equal area.  The Python module healpy has all of the Healpix related functions.\n",
    "\n",
    "To make maps of aggregate quantities in PHAT, we're going to use the database to return results in a query grouped by Healpix index value.  We can then put the results into arrays, and use healpy's functionality to display the maps.\n",
    "\n",
    "In this first query, the GROUP BY clause tells the database to aggregate the results by the values in the nest4096 column, and return the average RA and Dec of objects in those groups, as well as the nest4096 value itself and the count of the number of objects in the group.\n"
   ]
  },
  {
   "cell_type": "code",
   "execution_count": null,
   "metadata": {
    "execution": {
     "iopub.status.busy": "2024-02-05T20:10:46.903190Z",
     "iopub.status.idle": "2024-02-05T20:10:46.903961Z",
     "shell.execute_reply": "2024-02-05T20:10:46.903627Z"
    }
   },
   "outputs": [],
   "source": [
    "query = \"\"\"SELECT avg(ra) as ra0,avg(dec) as dec0,nest4096,count(nest4096) as nb\n",
    "           FROM phat_v2.phot_mod\n",
    "           GROUP BY nest4096\n",
    "        \"\"\""
   ]
  },
  {
   "cell_type": "code",
   "execution_count": null,
   "metadata": {
    "execution": {
     "iopub.status.busy": "2024-02-05T20:10:46.905390Z",
     "iopub.status.idle": "2024-02-05T20:10:46.906137Z",
     "shell.execute_reply": "2024-02-05T20:10:46.905808Z"
    }
   },
   "outputs": [],
   "source": [
    "try:\n",
    "    result = qc.query(sql=query) # by default the result is a CSV formatted string\n",
    "except Exception as e:\n",
    "    print(e.message)"
   ]
  },
  {
   "cell_type": "markdown",
   "metadata": {},
   "source": [
    "### Convert the output to a Pandas Dataframe\n",
    "We'll once again use helpers to convert the result to a Pandas dataframe.  Our dataframe has one row per Healpix.  We'll check that the sum of the number of objects in all Healpixels equals the number of rows in the table."
   ]
  },
  {
   "cell_type": "code",
   "execution_count": null,
   "metadata": {
    "execution": {
     "iopub.status.busy": "2024-02-05T20:10:46.907373Z",
     "iopub.status.idle": "2024-02-05T20:10:46.908121Z",
     "shell.execute_reply": "2024-02-05T20:10:46.907794Z"
    }
   },
   "outputs": [],
   "source": [
    "df_density = convert(result,'pandas')\n",
    "print(\"Number of rows:\", len(df_density))\n",
    "print(np.sum(df_density['nb'])) # print total counts"
   ]
  },
  {
   "cell_type": "markdown",
   "metadata": {},
   "source": [
    "### Making the Healpix map\n",
    "A Healpix map is simply a one-dimensional array with number of elements set by the NSIDE parameter, which is the number of times the base Healpixels are split.  We can visualize it as a map using the <tt>healpy</tt> library."
   ]
  },
  {
   "cell_type": "code",
   "execution_count": null,
   "metadata": {
    "execution": {
     "iopub.status.busy": "2024-02-05T20:10:46.909278Z",
     "iopub.status.idle": "2024-02-05T20:10:46.910030Z",
     "shell.execute_reply": "2024-02-05T20:10:46.909704Z"
    }
   },
   "outputs": [],
   "source": [
    "hmap = np.zeros(hp.nside2npix(4096))"
   ]
  },
  {
   "cell_type": "code",
   "execution_count": null,
   "metadata": {
    "execution": {
     "iopub.status.busy": "2024-02-05T20:10:46.911280Z",
     "iopub.status.idle": "2024-02-05T20:10:46.912013Z",
     "shell.execute_reply": "2024-02-05T20:10:46.911704Z"
    }
   },
   "outputs": [],
   "source": [
    "print(df_density.head())"
   ]
  },
  {
   "cell_type": "markdown",
   "metadata": {},
   "source": [
    "### Populating the Healpix map\n",
    "Now we set the elements of our Healpix map to the number of objects returned by the query, calculate the center of the RA and Dec distribution of the objects, and use healpy's gnomview to visualize the output. Notice anything funny?  The PHAT object table has duplicate objects between some of the bricks (bricks 11, 12, 13, and 14)."
   ]
  },
  {
   "cell_type": "code",
   "execution_count": null,
   "metadata": {
    "execution": {
     "iopub.status.busy": "2024-02-05T20:10:46.913153Z",
     "iopub.status.idle": "2024-02-05T20:10:46.913854Z",
     "shell.execute_reply": "2024-02-05T20:10:46.913536Z"
    }
   },
   "outputs": [],
   "source": [
    "hmap[df_density['nest4096']]=df_density['nb']\n",
    "(rarot,decrot)=(np.median(df_density['ra0']),np.median(df_density['dec0']))"
   ]
  },
  {
   "cell_type": "code",
   "execution_count": null,
   "metadata": {
    "execution": {
     "iopub.status.busy": "2024-02-05T20:10:46.915187Z",
     "iopub.status.idle": "2024-02-05T20:10:46.915897Z",
     "shell.execute_reply": "2024-02-05T20:10:46.915572Z"
    }
   },
   "outputs": [],
   "source": [
    "hp.gnomview(hmap,title='',notext=True,cbar=False,reso=0.4,nest=True,rot=(rarot,decrot,0),cmap='inferno',min=1e3,max=8e4)"
   ]
  },
  {
   "cell_type": "markdown",
   "metadata": {},
   "source": [
    "<a class=\"anchor\" id=\"depth\"></a>\n",
    "# Make depth and color maps\n",
    "Now we'll get a little fancier with our maps.  We'll have the database return average WFC3 u-band and ACS magnitudes and colors and the PHAT brick numbers, and make some cuts on the magnitudes and flags of the objects.  We again GROUP BY the nest4096 column.\n"
   ]
  },
  {
   "cell_type": "code",
   "execution_count": null,
   "metadata": {
    "execution": {
     "iopub.status.busy": "2024-02-05T20:10:46.917102Z",
     "iopub.status.idle": "2024-02-05T20:10:46.917805Z",
     "shell.execute_reply": "2024-02-05T20:10:46.917485Z"
    }
   },
   "outputs": [],
   "source": [
    "query = \"\"\"SELECT avg(ra) as ra0,avg(dec) as dec0,nest4096,count(nest4096) as nb,\n",
    "            avg(f475w_vega) as gmag,avg(f814w_vega) as imag,avg(brick) as brick,\n",
    "            avg(f475w_vega-f814w_vega) as g_i\n",
    "           FROM phat_v2.phot_mod\n",
    "           WHERE f475w_gst=1 AND f814w_gst=1 AND f475w_vega<50 AND f814w_vega<50\n",
    "           GROUP BY nest4096\n",
    "          \"\"\"\n",
    "print(query)"
   ]
  },
  {
   "cell_type": "code",
   "execution_count": null,
   "metadata": {
    "execution": {
     "iopub.status.busy": "2024-02-05T20:10:46.918975Z",
     "iopub.status.idle": "2024-02-05T20:10:46.919672Z",
     "shell.execute_reply": "2024-02-05T20:10:46.919357Z"
    }
   },
   "outputs": [],
   "source": [
    "try:\n",
    "    result = qc.query(sql=query) # by default the result is a CSV formatted string\n",
    "except Exception as e:\n",
    "    print(e.message)"
   ]
  },
  {
   "cell_type": "code",
   "execution_count": null,
   "metadata": {
    "execution": {
     "iopub.status.busy": "2024-02-05T20:10:46.920776Z",
     "iopub.status.idle": "2024-02-05T20:10:46.921475Z",
     "shell.execute_reply": "2024-02-05T20:10:46.921153Z"
    }
   },
   "outputs": [],
   "source": [
    "df_all = convert(result,'pandas')\n",
    "print(\"Number of rows:\", len(df_all))\n",
    "print(np.sum(df_all['nb'])) # print total counts"
   ]
  },
  {
   "cell_type": "code",
   "execution_count": null,
   "metadata": {
    "execution": {
     "iopub.status.busy": "2024-02-05T20:10:46.922665Z",
     "iopub.status.idle": "2024-02-05T20:10:46.923316Z",
     "shell.execute_reply": "2024-02-05T20:10:46.923026Z"
    }
   },
   "outputs": [],
   "source": [
    "print(df_all.head())"
   ]
  },
  {
   "cell_type": "markdown",
   "metadata": {},
   "source": [
    "### Healpix map of average F475W magnitude\n",
    "The map of the average F475W magnitude gives a good idea of how the PHAT catalog depth varies with position in M31.  The depth is much shallower in the Bulge, which is very crowded, than in the outer disk."
   ]
  },
  {
   "cell_type": "code",
   "execution_count": null,
   "metadata": {
    "execution": {
     "iopub.status.busy": "2024-02-05T20:10:46.924412Z",
     "iopub.status.idle": "2024-02-05T20:10:46.925078Z",
     "shell.execute_reply": "2024-02-05T20:10:46.924786Z"
    }
   },
   "outputs": [],
   "source": [
    "gmap = np.zeros(hp.nside2npix(4096))\n",
    "gmap[df_all['nest4096']] = df_all['gmag']\n",
    "hp.gnomview(gmap,title='',notext=True,cbar=False,reso=0.4,nest=True,rot=(rarot,decrot,0),cmap='inferno',min=25,max=28)"
   ]
  },
  {
   "cell_type": "markdown",
   "metadata": {},
   "source": [
    "### Healpix map of average F475W-F814W color\n",
    "The map of average color reveals both population differences and the dust lanes in the galaxy, as well as the 10 kpc ring."
   ]
  },
  {
   "cell_type": "code",
   "execution_count": null,
   "metadata": {
    "execution": {
     "iopub.status.busy": "2024-02-05T20:10:46.926176Z",
     "iopub.status.idle": "2024-02-05T20:10:46.926850Z",
     "shell.execute_reply": "2024-02-05T20:10:46.926535Z"
    }
   },
   "outputs": [],
   "source": [
    "gimap = np.zeros(hp.nside2npix(4096))\n",
    "gimap[df_all['nest4096']] = df_all['g_i']\n",
    "hp.gnomview(gimap,title='',notext=True,cbar=False,reso=0.4,nest=True,rot=(rarot,decrot,0),cmap='inferno',min=1,max=2.5)"
   ]
  },
  {
   "cell_type": "markdown",
   "metadata": {},
   "source": [
    "### Healpix map of the brick number\n",
    "We can also use our Healpix table to make a map of the PHAT bricks."
   ]
  },
  {
   "cell_type": "code",
   "execution_count": null,
   "metadata": {
    "execution": {
     "iopub.status.busy": "2024-02-05T20:10:46.927961Z",
     "iopub.status.idle": "2024-02-05T20:10:46.928616Z",
     "shell.execute_reply": "2024-02-05T20:10:46.928318Z"
    }
   },
   "outputs": [],
   "source": [
    "brickmap = np.zeros(hp.nside2npix(4096))\n",
    "brickmap[df_all['nest4096']] = df_all['brick']\n",
    "hp.gnomview(brickmap,reso=0.4,nest=True,rot=(rarot,decrot,0),cmap='jet',min=0,max=23)"
   ]
  },
  {
   "cell_type": "markdown",
   "metadata": {},
   "source": [
    "<a class=\"anchor\" id=\"cmd\"></a>\n",
    "# Do a spatial query and make color-color diagrams and CMDs\n",
    "Now let's do a cone search for objects within a radius of a particular position.  The PHAT tables are spatially indexed to make such queries fast.  We'll search within a 1 arcmin radius of the RA and Dec position that we defined earlier."
   ]
  },
  {
   "cell_type": "code",
   "execution_count": null,
   "metadata": {
    "execution": {
     "iopub.status.busy": "2024-02-05T20:10:46.929874Z",
     "iopub.status.idle": "2024-02-05T20:10:46.930522Z",
     "shell.execute_reply": "2024-02-05T20:10:46.930233Z"
    }
   },
   "outputs": [],
   "source": [
    "query = \"\"\"SELECT *\n",
    "           FROM phat_v2.phot_mod WHERE q3c_radial_query(ra,dec,{0},{1},{2})\n",
    "        \"\"\".format(rarot,decrot,1./60)\n",
    "print(query)"
   ]
  },
  {
   "cell_type": "code",
   "execution_count": null,
   "metadata": {
    "execution": {
     "iopub.status.busy": "2024-02-05T20:10:46.931639Z",
     "iopub.status.idle": "2024-02-05T20:10:46.932290Z",
     "shell.execute_reply": "2024-02-05T20:10:46.932000Z"
    }
   },
   "outputs": [],
   "source": [
    "try:\n",
    "    result = qc.query(sql=query) # by default the result is a CSV formatted string\n",
    "except Exception as e:\n",
    "    print(e.message)"
   ]
  },
  {
   "cell_type": "markdown",
   "metadata": {},
   "source": [
    "### Cut out bad missing values\n",
    "Some of the objects returned will have missing magnitude measurements, indicated by 99's.  Let's cut those out, and also select only the \"good\" stars in the ACS bands."
   ]
  },
  {
   "cell_type": "code",
   "execution_count": null,
   "metadata": {
    "execution": {
     "iopub.status.busy": "2024-02-05T20:10:46.933358Z",
     "iopub.status.idle": "2024-02-05T20:10:46.933984Z",
     "shell.execute_reply": "2024-02-05T20:10:46.933708Z"
    }
   },
   "outputs": [],
   "source": [
    "df = convert(result,'pandas')\n",
    "print(\"Number of rows:\", len(df))\n",
    "df_cmd = df[(df['f336w_vega']<50) & (df['f475w_vega']<50) & (df['f814w_vega']<50) & \\\n",
    "          (df['f475w_gst']==1) & (df['f814w_gst']==1)]\n",
    "print(\"Number of rows:\", len(df_cmd))\n"
   ]
  },
  {
   "cell_type": "markdown",
   "metadata": {},
   "source": [
    "### Make color-color and CMD plots\n",
    "We'll show the F475W-F814W,F336W-F475W color-color diagram, and a color-magnitude diagram.  What do you notice?"
   ]
  },
  {
   "cell_type": "code",
   "execution_count": null,
   "metadata": {
    "execution": {
     "iopub.status.busy": "2024-02-05T20:10:46.935082Z",
     "iopub.status.idle": "2024-02-05T20:10:46.935708Z",
     "shell.execute_reply": "2024-02-05T20:10:46.935423Z"
    }
   },
   "outputs": [],
   "source": [
    "# make a figure\n",
    "fig = plt.figure(figsize=(20,10))\n",
    "ax1 = fig.add_subplot(121)\n",
    "ax2 = fig.add_subplot(122)\n",
    "\n",
    "# color-magnitude diagram (Hess diagram)\n",
    "im = ax1.hexbin(df_cmd['f475w_vega']-df_cmd['f814w_vega'],df_cmd['f336w_vega']-df_cmd['f475w_vega'], \\\n",
    "                gridsize=400,cmap=matplotlib.cm.viridis,norm=matplotlib.colors.LogNorm())\n",
    "ax1.set_ylabel('F336W - F475W',fontsize=15)\n",
    "ax1.set_xlabel('F475W - F814W',fontsize=15)\n",
    "ax1.set_title('Color-color diagram',fontsize=20)\n",
    "ax1.set_ylim(-2,6)\n",
    "ax1.set_xlim(-1,5)\n",
    "\n",
    "\n",
    "# color-magnitude diagram (Hess diagram)\n",
    "im2 = ax2.hexbin(df_cmd['f475w_vega']-df_cmd['f814w_vega'],df_cmd['f475w_vega'], \\\n",
    "                 gridsize=200,cmap=matplotlib.cm.viridis,norm=matplotlib.colors.LogNorm())\n",
    "ax2.set_xlabel('F475W - F814W',fontsize=15)\n",
    "ax2.set_ylabel('F475W',fontsize=15)\n",
    "ax2.set_title('Color-magnitude (Hess) diagram',fontsize=20)\n",
    "ax2.set_xlim(-1,5)\n",
    "ax2.set_ylim(28.4,22)"
   ]
  },
  {
   "cell_type": "markdown",
   "metadata": {},
   "source": [
    "<a class=\"anchor\" id=\"timeseries\"></a>\n",
    "# Retrieving time series photometry of select objects\n",
    "In this part of the notebook, we'll pick a Cepheid variable, and then query the full measurement table for the time series photometry.  We'll define a couple of functions to retrieve data and make a plot."
   ]
  },
  {
   "cell_type": "code",
   "execution_count": null,
   "metadata": {
    "execution": {
     "iopub.status.busy": "2024-02-05T20:10:46.936768Z",
     "iopub.status.idle": "2024-02-05T20:10:46.937386Z",
     "shell.execute_reply": "2024-02-05T20:10:46.937109Z"
    }
   },
   "outputs": [],
   "source": [
    "# define a function to select only measurements in one band\n",
    "def get_data(df,band='F475W'):\n",
    "    sel = (df['filter'] == band) & (df['magvega'] < 90)    \n",
    "    t = df['mjd'][sel].values\n",
    "    y = df['magvega'][sel].values\n",
    "    dy = df['magerr'][sel].values\n",
    "    return t,y,dy # return time, magnitudes in one band, uncertainties"
   ]
  },
  {
   "cell_type": "code",
   "execution_count": null,
   "metadata": {
    "execution": {
     "iopub.status.busy": "2024-02-05T20:10:46.938426Z",
     "iopub.status.idle": "2024-02-05T20:10:46.939056Z",
     "shell.execute_reply": "2024-02-05T20:10:46.938780Z"
    }
   },
   "outputs": [],
   "source": [
    "# a reusable function to plot the lightcurve\n",
    "def plot_raw_lightcurve(t,y,dy,title='',ax=None,lperc=13,rperc=99,color='g',ms=8):\n",
    "    \n",
    "    if ax is None:\n",
    "        fig, ax = plt.subplots()\n",
    "    \n",
    "    jd0 = t.min() # modified Julian date offset\n",
    "    t = t-jd0 # first date of observations = 0\n",
    "\n",
    "    ax.errorbar(t,y,yerr=dy,marker='.',ms=ms,ls='none',color=color,lw=1,alpha=0.5,label='')\n",
    "\n",
    "    # Main panel chores\n",
    "    ax.set_xlabel('modified Julian date - %g (days)' % jd0, fontsize=20)\n",
    "    ax.set_ylabel('magnitude',fontsize=20)\n",
    "    ax.tick_params(labelsize=20)\n",
    "    ax.invert_yaxis()\n",
    "    ax.set_title(title)\n"
   ]
  },
  {
   "cell_type": "code",
   "execution_count": null,
   "metadata": {
    "execution": {
     "iopub.status.busy": "2024-02-05T20:10:46.940117Z",
     "iopub.status.idle": "2024-02-05T20:10:46.940748Z",
     "shell.execute_reply": "2024-02-05T20:10:46.940458Z"
    }
   },
   "outputs": [],
   "source": [
    "def get_folded_phase(t,best_period):\n",
    "    \n",
    "    \"\"\"Fold the observation times with the best period of the variable signal.\"\"\"\n",
    "    \n",
    "    # light curve over period, take the remainder (i.e. the \"phase\" of one period)\n",
    "    phase = (t / best_period) % 1\n",
    "    \n",
    "    return phase"
   ]
  },
  {
   "cell_type": "code",
   "execution_count": null,
   "metadata": {
    "execution": {
     "iopub.status.busy": "2024-02-05T20:10:46.941823Z",
     "iopub.status.idle": "2024-02-05T20:10:46.942437Z",
     "shell.execute_reply": "2024-02-05T20:10:46.942163Z"
    }
   },
   "outputs": [],
   "source": [
    "def plot_folded_lightcurve(t,y,best_period,dy=None,ax=None,color='g',ms=10):\n",
    "    \n",
    "    \"\"\"Plot folded lightcurve.\n",
    "    \n",
    "    Parameters\n",
    "    ----------\n",
    "    \n",
    "    t, y : array\n",
    "        Time and magnitude 1-d arrays\n",
    "        \n",
    "    best_period : float\n",
    "        True period of the signal.\n",
    "        \n",
    "    dy : array or None\n",
    "        If array, the values are the uncertainies on ``y``, and the plot will show errorbars.\n",
    "        If None, the plot will have no errorbars.\n",
    "        \n",
    "    ax : instance or None\n",
    "        If instance of axis class, will plot to that object. If None, will generate a new figure and axis object.\n",
    "    \"\"\"\n",
    "\n",
    "    phase = get_folded_phase(t,best_period)\n",
    "    \n",
    "    if ax is None:\n",
    "        fig, ax = plt.subplots()\n",
    "        \n",
    "    marker = '.'\n",
    "    lw = 1\n",
    "    alpha = 0.6\n",
    "    \n",
    "    \n",
    "    if dy is not None:\n",
    "        ax.errorbar(phase,y,yerr=dy,marker=marker,ms=ms,ls='none',lw=lw,color=color,alpha=alpha)\n",
    "    else:\n",
    "        ax.plot(phase,y,marker=marker,ms=ms,ls='none',lw=lw,color=color,alpha=alpha)\n",
    "            \n",
    "    ax.invert_yaxis()\n",
    "    ax.tick_params(labelsize=20)\n",
    "    ax.set_xlabel('phase (days)', fontsize=20)\n",
    "    ax.set_ylabel('magnitude',fontsize=20);"
   ]
  },
  {
   "cell_type": "code",
   "execution_count": null,
   "metadata": {
    "execution": {
     "iopub.status.busy": "2024-02-05T20:10:46.943469Z",
     "iopub.status.idle": "2024-02-05T20:10:46.944079Z",
     "shell.execute_reply": "2024-02-05T20:10:46.943809Z"
    }
   },
   "outputs": [],
   "source": [
    "# Pick a star from Wagner-Kaiser et al. (2015)\n",
    "rawk = 11.02203\n",
    "decwk = 41.23451\n",
    "best_period = 10.29 # days\n",
    "query = \"\"\"SELECT * FROM phat_v2.phot_meas WHERE q3c_radial_query(ra,dec,{0},{1},{2})\"\"\".format(rawk,decwk,0.2/3600)\n",
    "print(query)"
   ]
  },
  {
   "cell_type": "code",
   "execution_count": null,
   "metadata": {
    "execution": {
     "iopub.status.busy": "2024-02-05T20:10:46.944997Z",
     "iopub.status.idle": "2024-02-05T20:10:46.945577Z",
     "shell.execute_reply": "2024-02-05T20:10:46.945317Z"
    }
   },
   "outputs": [],
   "source": [
    "try:\n",
    "    result = qc.query(sql=query) # by default the result is a CSV formatted string\n",
    "except Exception as e:\n",
    "    print(e.message)"
   ]
  },
  {
   "cell_type": "code",
   "execution_count": null,
   "metadata": {
    "execution": {
     "iopub.status.busy": "2024-02-05T20:10:46.946578Z",
     "iopub.status.idle": "2024-02-05T20:10:46.947171Z",
     "shell.execute_reply": "2024-02-05T20:10:46.946913Z"
    }
   },
   "outputs": [],
   "source": [
    "df_ts = convert(result,'pandas')\n",
    "print(\"Number of rows:\", len(df_ts))\n",
    "print(df_ts['filter'].unique())\n",
    "print(df_ts['objid'].unique())\n"
   ]
  },
  {
   "cell_type": "code",
   "execution_count": null,
   "metadata": {
    "execution": {
     "iopub.status.busy": "2024-02-05T20:10:46.948185Z",
     "iopub.status.idle": "2024-02-05T20:10:46.948784Z",
     "shell.execute_reply": "2024-02-05T20:10:46.948510Z"
    }
   },
   "outputs": [],
   "source": [
    "uid=df_ts['objid'].unique()\n",
    "df_ts=df_ts[(df_ts['objid']==uid[0])]"
   ]
  },
  {
   "cell_type": "code",
   "execution_count": null,
   "metadata": {
    "execution": {
     "iopub.status.busy": "2024-02-05T20:10:46.949731Z",
     "iopub.status.idle": "2024-02-05T20:10:46.950313Z",
     "shell.execute_reply": "2024-02-05T20:10:46.950052Z"
    }
   },
   "outputs": [],
   "source": [
    "colors = list('gcbrkm')\n",
    "filters = ['F475W','F275W','F336W','F814W','F160W','F110W']\n",
    "fig, (ax1,ax2) = plt.subplots(1,2,figsize=(20,10))\n",
    "ax2.set_title('Folded light curve',fontsize=20)\n",
    "for j in range(len(colors)):\n",
    "   c = colors[j]\n",
    "   t,y,dy = get_data(df_ts,filters[j])\n",
    "   plot_raw_lightcurve(t,y,dy,title='',ax=ax1,color=c,ms=20)\n",
    "   plot_folded_lightcurve(t,y,best_period,dy=dy,ax=ax2,color=c,ms=20)\n"
   ]
  },
  {
   "cell_type": "markdown",
   "metadata": {},
   "source": [
    "<a class=\"anchor\" id=\"resources\"></a>\n",
    "# Resources and references\n",
    "Dalcanton, J.J. et al. (2012, ApJS, 200, 18), \"The Panchromatic Hubble Andromeda Treasury\"\n",
    "http://adsabs.harvard.edu/abs/2012ApJS..200...18D\n",
    "\n",
    "Wagner-Kaiser, R. et al. (2015, MNRAS, 451, 724), \"Panchromatic Hubble Andromeda Treasury XIII: The Cepheid period-luminosity relation in M31\"\n",
    "http://adsabs.harvard.edu/abs/2015MNRAS.451..724W\n",
    "\n",
    "Williams, B.F. et al. (2014, ApJS, 215, 9), \"The Panchromatic Hubble Andromeda Treasury. X. Ultraviolet to Infrared Photometry of 117 Million Equidistant Stars\"\n",
    "http://adsabs.harvard.edu/abs/2014ApJS..215....9W\n",
    "\n",
    "Williams, B.F. et al., \"Reducing and Analyzing the PHAT Survey with the Cloud\", ApJS, 236, 4 https://ui.adsabs.harvard.edu/abs/2018ApJS..236....4W\n"
   ]
  }
 ],
 "metadata": {
  "kernelspec": {
   "display_name": "Python 3",
   "language": "python",
   "name": "python3"
  },
  "language_info": {
   "codemirror_mode": {
    "name": "ipython",
    "version": 3
   },
   "file_extension": ".py",
   "mimetype": "text/x-python",
   "name": "python",
   "nbconvert_exporter": "python",
   "pygments_lexer": "ipython3",
   "version": "3.8.8"
  }
 },
 "nbformat": 4,
 "nbformat_minor": 4
}
