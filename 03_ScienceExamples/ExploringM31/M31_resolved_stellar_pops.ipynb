{
 "cells": [
  {
   "cell_type": "code",
   "execution_count": 1,
   "metadata": {
    "execution": {
     "iopub.execute_input": "2023-09-18T20:39:03.179936Z",
     "iopub.status.busy": "2023-09-18T20:39:03.179339Z",
     "iopub.status.idle": "2023-09-18T20:39:03.188068Z",
     "shell.execute_reply": "2023-09-18T20:39:03.186695Z",
     "shell.execute_reply.started": "2023-09-18T20:39:03.179875Z"
    }
   },
   "outputs": [],
   "source": [
    "__author__ = 'Yumi Choi <yumi.choi@noirlab.edu>'\n",
    "__version__ = '20230918' \n",
    "__datasets__ = ['phat_v2']  \n",
    "__keywords__ = ['M31', 'stars', 'interactive plot', 'plot:cmd', 'plot:sed']"
   ]
  },
  {
   "cell_type": "markdown",
   "metadata": {},
   "source": [
    "# Exploring Resolved Stellar Populations in M31 with PHAT\n",
    "\n",
    "*Yumi Choi & the Astro Data Lab Team*"
   ]
  },
  {
   "cell_type": "markdown",
   "metadata": {},
   "source": [
    "### Table of contents\n",
    "* [Goals & notebook summary](#goals)\n",
    "* [Disclaimer & attribution](#attribution)\n",
    "* [Imports & setup](#import)\n",
    "* [Authentication](#auth)\n",
    "* [First chapter](#chapter1)\n",
    "* [Resources and references](#resources)"
   ]
  },
  {
   "cell_type": "markdown",
   "metadata": {},
   "source": [
    "<a class=\"anchor\" id=\"goals\"></a>\n",
    "# Goals\n",
    "One or two sentences, or a bullet list, of the goals of this notebook. E.g. \"To find dwarf galaxies in DES DR1 images\"."
   ]
  },
  {
   "cell_type": "markdown",
   "metadata": {},
   "source": [
    "# Summary\n",
    "Description of the content of this notebook: we do X, using data Y. The technique used is Z. Also rename the notebook file to something meaningful, e.g. 'TimeSeriesAnalysisRRLyrae_20171011'."
   ]
  },
  {
   "cell_type": "markdown",
   "metadata": {},
   "source": [
    "<a class=\"anchor\" id=\"attribution\"></a>\n",
    "# Disclaimer & attribution\n",
    "If you use this notebook for your published science, please acknowledge the following:\n",
    "\n",
    "* Data Lab concept paper: Fitzpatrick et al., \"The NOAO Data Laboratory: a conceptual overview\", SPIE, 9149, 2014, http://dx.doi.org/10.1117/12.2057445\n",
    "\n",
    "* Data Lab disclaimer: https://datalab.noirlab.edu/disclaimers.php"
   ]
  },
  {
   "cell_type": "markdown",
   "metadata": {},
   "source": [
    "<a class=\"anchor\" id=\"import\"></a>\n",
    "# Imports and setup"
   ]
  },
  {
   "cell_type": "code",
   "execution_count": 21,
   "metadata": {
    "execution": {
     "iopub.execute_input": "2023-09-19T20:35:21.164252Z",
     "iopub.status.busy": "2023-09-19T20:35:21.163645Z",
     "iopub.status.idle": "2023-09-19T20:35:21.535365Z",
     "shell.execute_reply": "2023-09-19T20:35:21.533896Z",
     "shell.execute_reply.started": "2023-09-19T20:35:21.164199Z"
    }
   },
   "outputs": [],
   "source": [
    "# std lib\n",
    "from getpass import getpass\n",
    "\n",
    "# 3rd party # remove imports that are not needed\n",
    "import numpy as np\n",
    "import pylab as plt\n",
    "import matplotlib\n",
    "import healpy as hp\n",
    "\n",
    "# Data Lab\n",
    "from dl import authClient as ac, queryClient as qc, storeClient as sc\n",
    "from dl.helpers.utils import convert"
   ]
  },
  {
   "cell_type": "markdown",
   "metadata": {},
   "source": [
    "# Explore the main PHAT object table\n",
    "The notebook `M31withPhat` listed available tables in the PHAT databse. This notebook will use the main PHAT object table, phat_v2.phot_mod, which contains combined average photometry."
   ]
  },
  {
   "cell_type": "markdown",
   "metadata": {},
   "source": [
    "### Examine the columns of the phat_v2.phot_mod table\n",
    "\n",
    "First, query 10 rows from phat_v2.phot_mod just to get all columns."
   ]
  },
  {
   "cell_type": "code",
   "execution_count": 13,
   "metadata": {
    "execution": {
     "iopub.execute_input": "2023-09-18T21:57:27.588436Z",
     "iopub.status.busy": "2023-09-18T21:57:27.587833Z",
     "iopub.status.idle": "2023-09-18T21:57:27.595023Z",
     "shell.execute_reply": "2023-09-18T21:57:27.593016Z",
     "shell.execute_reply.started": "2023-09-18T21:57:27.588380Z"
    }
   },
   "outputs": [],
   "source": [
    "query = \"\"\"SELECT *\n",
    "           FROM phat_v2.phot_mod\n",
    "           LIMIT 10\n",
    "        \"\"\""
   ]
  },
  {
   "cell_type": "code",
   "execution_count": 14,
   "metadata": {
    "execution": {
     "iopub.execute_input": "2023-09-18T21:57:50.134223Z",
     "iopub.status.busy": "2023-09-18T21:57:50.133622Z",
     "iopub.status.idle": "2023-09-18T21:57:50.234428Z",
     "shell.execute_reply": "2023-09-18T21:57:50.232878Z",
     "shell.execute_reply.started": "2023-09-18T21:57:50.134170Z"
    }
   },
   "outputs": [],
   "source": [
    "try:\n",
    "    result = qc.query(sql=query) # by default the result is a CSV formatted string\n",
    "except Exception as e:\n",
    "    print(e.message)"
   ]
  },
  {
   "cell_type": "markdown",
   "metadata": {},
   "source": [
    "### Convert the output to a Pandas Dataframe\n",
    "Convert the result, which is by default a CSV formatted string, to a Pandas dataframe."
   ]
  },
  {
   "cell_type": "code",
   "execution_count": 12,
   "metadata": {
    "execution": {
     "iopub.execute_input": "2023-09-18T21:55:54.237363Z",
     "iopub.status.busy": "2023-09-18T21:55:54.236805Z",
     "iopub.status.idle": "2023-09-18T21:55:54.257886Z",
     "shell.execute_reply": "2023-09-18T21:55:54.256418Z",
     "shell.execute_reply.started": "2023-09-18T21:55:54.237311Z"
    }
   },
   "outputs": [
    {
     "name": "stdout",
     "output_type": "stream",
     "text": [
      "Number of columns: 88\n",
      "Index(['ra', 'dec', 'htm9', 'pix256', 'pix4096', 'random_id', 'x', 'y', 'ir_x',\n",
      "       'ir_y', 'f110w_rate', 'f110w_raterr', 'f110w_vega', 'f110w_err',\n",
      "       'f110w_chi', 'f110w_snr', 'f110w_sharp', 'f110w_round', 'f110w_crowd',\n",
      "       'f160w_rate', 'f160w_raterr', 'f160w_vega', 'f160w_err', 'f160w_chi',\n",
      "       'f160w_snr', 'f160w_sharp', 'f160w_round', 'f160w_crowd', 'f275w_rate',\n",
      "       'f275w_raterr', 'f275w_vega', 'f275w_err', 'f275w_chi', 'f275w_snr',\n",
      "       'f275w_sharp', 'f275w_round', 'f275w_crowd', 'f336w_rate',\n",
      "       'f336w_raterr', 'f336w_vega', 'f336w_err', 'f336w_chi', 'f336w_snr',\n",
      "       'f336w_sharp', 'f336w_round', 'f336w_crowd', 'f475w_rate',\n",
      "       'f475w_raterr', 'f475w_vega', 'f475w_err', 'f475w_chi', 'f475w_snr',\n",
      "       'f475w_sharp', 'f475w_round', 'f475w_crowd', 'f814w_rate',\n",
      "       'f814w_raterr', 'f814w_vega', 'f814w_err', 'f814w_chi', 'f814w_snr',\n",
      "       'f814w_sharp', 'f814w_round', 'f814w_crowd', 'f814w_f475w',\n",
      "       'f475w_f336w', 'f336w_f275w', 'f275w_f160w', 'f160w_f110w',\n",
      "       'f110w_flag', 'f160w_flag', 'f275w_flag', 'f336w_flag', 'f475w_flag',\n",
      "       'f814w_flag', 'f275w_gst', 'f336w_gst', 'f475w_gst', 'f814w_gst',\n",
      "       'f110w_gst', 'f160w_gst', 'inside_ir', 'inside_brick', 'inside_chipgap',\n",
      "       'inside_other_chipgap', 'field', 'brick', 'objid'],\n",
      "      dtype='object')\n"
     ]
    }
   ],
   "source": [
    "df1 = convert(result,'pandas')\n",
    "print(\"Number of columns:\",len(df1.columns))\n",
    "print(df1.columns)"
   ]
  },
  {
   "cell_type": "markdown",
   "metadata": {},
   "source": [
    "<a class=\"anchor\" id=\"chapter1\"></a>\n",
    "# Make a Healpix map of the brick number\n",
    "\n",
    "PHAT tiled the survey area with 23 bricks. Each brick consists of a 3$\\times$6 mosaic of 18 HST pointings.\n",
    "\n",
    "One of the columns in the PHAT object table, pix4096, is the Healpix index (NSIDE=4096, nested scheme) for the objects's RA and Dec. Healpix is a handy tesselation of the sky into tiles of equal area. To make maps of aggregate quantities in PHAT, we're going to use the database to return results in a query grouped by Healpix index value.  We can then put the results into arrays, and use `healpy`'s functionality to display the maps.\n",
    "\n",
    "In this first query, the GROUP BY clause tells the database to aggregate the results by the values in the pix4096 column, and return the average RA and Dec of objects in those groups, as well as the pix4096 value itself and the count of the number of objects in the group."
   ]
  },
  {
   "cell_type": "code",
   "execution_count": 125,
   "metadata": {
    "execution": {
     "iopub.execute_input": "2023-09-19T21:31:12.210338Z",
     "iopub.status.busy": "2023-09-19T21:31:12.209751Z",
     "iopub.status.idle": "2023-09-19T21:31:12.216569Z",
     "shell.execute_reply": "2023-09-19T21:31:12.215037Z",
     "shell.execute_reply.started": "2023-09-19T21:31:12.210284Z"
    }
   },
   "outputs": [],
   "source": [
    "query = \"\"\"SELECT avg(ra) as ra0, avg(dec) as dec0, pix4096, count(pix4096) as nb, \n",
    "            avg(brick) as brick\n",
    "           FROM phat_v2.phot_mod\n",
    "           WHERE f475w_gst=1 AND f814w_gst=1 AND \n",
    "            f475w_vega-f814w_vega>-0.5 AND f475w_vega-f814w_vega<0.25 AND f814w_vega<24\n",
    "           GROUP BY pix4096\n",
    "          \"\"\""
   ]
  },
  {
   "cell_type": "code",
   "execution_count": 126,
   "metadata": {
    "execution": {
     "iopub.execute_input": "2023-09-19T21:31:12.589163Z",
     "iopub.status.busy": "2023-09-19T21:31:12.588515Z",
     "iopub.status.idle": "2023-09-19T21:31:30.192886Z",
     "shell.execute_reply": "2023-09-19T21:31:30.191048Z",
     "shell.execute_reply.started": "2023-09-19T21:31:12.589104Z"
    }
   },
   "outputs": [],
   "source": [
    "try:\n",
    "    result = qc.query(sql=query) # by default the result is a CSV formatted string\n",
    "except Exception as e:\n",
    "    print(e.message)"
   ]
  },
  {
   "cell_type": "code",
   "execution_count": 127,
   "metadata": {
    "execution": {
     "iopub.execute_input": "2023-09-19T21:31:30.195674Z",
     "iopub.status.busy": "2023-09-19T21:31:30.195181Z",
     "iopub.status.idle": "2023-09-19T21:31:30.211015Z",
     "shell.execute_reply": "2023-09-19T21:31:30.209640Z",
     "shell.execute_reply.started": "2023-09-19T21:31:30.195621Z"
    }
   },
   "outputs": [
    {
     "name": "stdout",
     "output_type": "stream",
     "text": [
      "Number of rows: 2511\n"
     ]
    }
   ],
   "source": [
    "df_MS = convert(result,'pandas')\n",
    "print(\"Number of rows:\", len(df_MS))"
   ]
  },
  {
   "cell_type": "code",
   "execution_count": 128,
   "metadata": {
    "execution": {
     "iopub.execute_input": "2023-09-19T21:31:43.523975Z",
     "iopub.status.busy": "2023-09-19T21:31:43.523319Z",
     "iopub.status.idle": "2023-09-19T21:31:43.532965Z",
     "shell.execute_reply": "2023-09-19T21:31:43.531201Z",
     "shell.execute_reply.started": "2023-09-19T21:31:43.523915Z"
    }
   },
   "outputs": [],
   "source": [
    "(rarot,decrot)=(np.median(df_MS['ra0']),np.median(df_MS['dec0']))"
   ]
  },
  {
   "cell_type": "code",
   "execution_count": 129,
   "metadata": {
    "execution": {
     "iopub.execute_input": "2023-09-19T21:31:44.088622Z",
     "iopub.status.busy": "2023-09-19T21:31:44.087940Z",
     "iopub.status.idle": "2023-09-19T21:31:44.395640Z",
     "shell.execute_reply": "2023-09-19T21:31:44.394176Z",
     "shell.execute_reply.started": "2023-09-19T21:31:44.088548Z"
    }
   },
   "outputs": [
    {
     "data": {
      "image/png": "[encoded data removed]",
      "text/plain": [
       "<Figure size 417.6x460.8 with 2 Axes>"
      ]
     },
     "metadata": {
      "needs_background": "light"
     },
     "output_type": "display_data"
    }
   ],
   "source": [
    "brickmap = np.zeros(hp.nside2npix(4096))\n",
    "brickmap[df_MS['pix4096']] = df_MS['brick']\n",
    "hp.gnomview(brickmap,reso=0.4,nest=True,rot=(rarot,decrot,0),cmap='jet',min=0,max=23)"
   ]
  },
  {
   "cell_type": "code",
   "execution_count": 132,
   "metadata": {
    "execution": {
     "iopub.execute_input": "2023-09-19T21:32:17.157815Z",
     "iopub.status.busy": "2023-09-19T21:32:17.157129Z",
     "iopub.status.idle": "2023-09-19T21:32:17.458546Z",
     "shell.execute_reply": "2023-09-19T21:32:17.457388Z",
     "shell.execute_reply.started": "2023-09-19T21:32:17.157740Z"
    }
   },
   "outputs": [
    {
     "data": {
      "image/png": "[encoded data removed]",
      "text/plain": [
       "<Figure size 417.6x460.8 with 2 Axes>"
      ]
     },
     "metadata": {
      "needs_background": "light"
     },
     "output_type": "display_data"
    }
   ],
   "source": [
    "msmap = np.zeros(hp.nside2npix(4096))\n",
    "msmap[df_MS['pix4096']] = df_MS['nb']\n",
    "hp.gnomview(msmap, title='', notext=True, reso=0.4, nest=True, \n",
    "            rot=(rarot,decrot,0), norm=\"%LogNorm\", max=200)"
   ]
  },
  {
   "cell_type": "markdown",
   "metadata": {},
   "source": [
    "### RGB spatial distribution"
   ]
  },
  {
   "cell_type": "code",
   "execution_count": 135,
   "metadata": {
    "execution": {
     "iopub.execute_input": "2023-09-19T21:39:03.093506Z",
     "iopub.status.busy": "2023-09-19T21:39:03.092861Z",
     "iopub.status.idle": "2023-09-19T21:39:03.100390Z",
     "shell.execute_reply": "2023-09-19T21:39:03.098531Z",
     "shell.execute_reply.started": "2023-09-19T21:39:03.093445Z"
    }
   },
   "outputs": [],
   "source": [
    "query = \"\"\"SELECT pix4096, count(pix4096) as nb\n",
    "           FROM phat_v2.phot_mod\n",
    "           WHERE f110w_gst=1 AND f160w_gst=1 AND \n",
    "            f110w_vega-f160w_vega>0.75 AND f110w_vega-f160w_vega<2.0 AND \n",
    "            f160w_vega>18.5 AND f160w_vega<22.0\n",
    "           GROUP BY pix4096\n",
    "          \"\"\""
   ]
  },
  {
   "cell_type": "code",
   "execution_count": 136,
   "metadata": {
    "execution": {
     "iopub.execute_input": "2023-09-19T21:39:04.099373Z",
     "iopub.status.busy": "2023-09-19T21:39:04.098677Z",
     "iopub.status.idle": "2023-09-19T21:39:18.426395Z",
     "shell.execute_reply": "2023-09-19T21:39:18.424694Z",
     "shell.execute_reply.started": "2023-09-19T21:39:04.099311Z"
    }
   },
   "outputs": [],
   "source": [
    "try:\n",
    "    result = qc.query(sql=query) # by default the result is a CSV formatted string\n",
    "except Exception as e:\n",
    "    print(e.message)"
   ]
  },
  {
   "cell_type": "code",
   "execution_count": 137,
   "metadata": {
    "execution": {
     "iopub.execute_input": "2023-09-19T21:39:25.218455Z",
     "iopub.status.busy": "2023-09-19T21:39:25.217914Z",
     "iopub.status.idle": "2023-09-19T21:39:25.233546Z",
     "shell.execute_reply": "2023-09-19T21:39:25.231944Z",
     "shell.execute_reply.started": "2023-09-19T21:39:25.218403Z"
    }
   },
   "outputs": [
    {
     "name": "stdout",
     "output_type": "stream",
     "text": [
      "Number of rows: 2571\n"
     ]
    }
   ],
   "source": [
    "df_RGB = convert(result,'pandas')\n",
    "print(\"Number of rows:\", len(df_RGB))"
   ]
  },
  {
   "cell_type": "code",
   "execution_count": 140,
   "metadata": {
    "execution": {
     "iopub.execute_input": "2023-09-19T21:40:25.304101Z",
     "iopub.status.busy": "2023-09-19T21:40:25.303502Z",
     "iopub.status.idle": "2023-09-19T21:40:25.562524Z",
     "shell.execute_reply": "2023-09-19T21:40:25.561369Z",
     "shell.execute_reply.started": "2023-09-19T21:40:25.304047Z"
    }
   },
   "outputs": [
    {
     "data": {
      "image/png": "[encoded data removed]",
      "text/plain": [
       "<Figure size 417.6x460.8 with 2 Axes>"
      ]
     },
     "metadata": {
      "needs_background": "light"
     },
     "output_type": "display_data"
    }
   ],
   "source": [
    "rgbmap = np.zeros(hp.nside2npix(4096))\n",
    "rgbmap[df_RGB['pix4096']] = df_RGB['nb']\n",
    "hp.gnomview(rgbmap, title='', notext=True, reso=0.4, nest=True, \n",
    "            rot=(rarot,decrot,0), norm=\"%LogNorm\", max=1e4)"
   ]
  },
  {
   "cell_type": "markdown",
   "metadata": {},
   "source": [
    "<a class=\"anchor\" id=\"resources\"></a>\n",
    "# Resources and references\n",
    "Dalcanton, J.J. et al. (2012, ApJS, 200, 18), \"The Panchromatic Hubble Andromeda Treasury\"\n",
    "http://adsabs.harvard.edu/abs/2012ApJS..200...18D\n",
    "\n",
    "Williams, B.F. et al. (2023, arXiv:2307.09681), \"The Panchromatic Hubble Andromeda Treasury XXI. The Legacy Resolved Stellar Photometry Catalog\"\n",
    "https://ui.adsabs.harvard.edu/abs/2023arXiv230709681W/abstract"
   ]
  },
  {
   "cell_type": "code",
   "execution_count": null,
   "metadata": {},
   "outputs": [],
   "source": []
  }
 ],
 "metadata": {
  "kernelspec": {
   "display_name": "Python 3",
   "language": "python",
   "name": "python3"
  },
  "language_info": {
   "codemirror_mode": {
    "name": "ipython",
    "version": 3
   },
   "file_extension": ".py",
   "mimetype": "text/x-python",
   "name": "python",
   "nbconvert_exporter": "python",
   "pygments_lexer": "ipython3",
   "version": "3.8.8"
  }
 },
 "nbformat": 4,
 "nbformat_minor": 4
}
