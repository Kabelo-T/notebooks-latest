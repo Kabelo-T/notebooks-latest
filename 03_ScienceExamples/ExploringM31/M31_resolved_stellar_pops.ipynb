{
 "cells": [
  {
   "cell_type": "code",
   "execution_count": 1,
   "metadata": {
    "execution": {
     "iopub.execute_input": "2023-09-18T20:39:03.179936Z",
     "iopub.status.busy": "2023-09-18T20:39:03.179339Z",
     "iopub.status.idle": "2023-09-18T20:39:03.188068Z",
     "shell.execute_reply": "2023-09-18T20:39:03.186695Z",
     "shell.execute_reply.started": "2023-09-18T20:39:03.179875Z"
    }
   },
   "outputs": [],
   "source": [
    "__author__ = 'Yumi Choi <yumi.choi@noirlab.edu>'\n",
    "__version__ = '20230918' \n",
    "__datasets__ = ['phat_v2']  \n",
    "__keywords__ = ['M31', 'stars', 'interactive plot', 'plot:cmd', 'plot:sed']"
   ]
  },
  {
   "cell_type": "markdown",
   "metadata": {},
   "source": [
    "# Exploring Resolved Stellar Populations in M31 with PHAT\n",
    "\n",
    "*Yumi Choi & the Astro Data Lab Team*"
   ]
  },
  {
   "cell_type": "markdown",
   "metadata": {},
   "source": [
    "### Table of contents\n",
    "* [Goals & notebook summary](#goals)\n",
    "* [Disclaimer & attribution](#attribution)\n",
    "* [Imports & setup](#import)\n",
    "* [Authentication](#auth)\n",
    "* [First chapter](#chapter1)\n",
    "* [Resources and references](#resources)"
   ]
  },
  {
   "cell_type": "markdown",
   "metadata": {},
   "source": [
    "<a class=\"anchor\" id=\"goals\"></a>\n",
    "# Goals\n",
    "One or two sentences, or a bullet list, of the goals of this notebook. E.g. \"To find dwarf galaxies in DES DR1 images\"."
   ]
  },
  {
   "cell_type": "markdown",
   "metadata": {},
   "source": [
    "# Summary\n",
    "Description of the content of this notebook: we do X, using data Y. The technique used is Z. Also rename the notebook file to something meaningful, e.g. 'TimeSeriesAnalysisRRLyrae_20171011'."
   ]
  },
  {
   "cell_type": "markdown",
   "metadata": {},
   "source": [
    "<a class=\"anchor\" id=\"attribution\"></a>\n",
    "# Disclaimer & attribution\n",
    "If you use this notebook for your published science, please acknowledge the following:\n",
    "\n",
    "* Data Lab concept paper: Fitzpatrick et al., \"The NOAO Data Laboratory: a conceptual overview\", SPIE, 9149, 2014, http://dx.doi.org/10.1117/12.2057445\n",
    "\n",
    "* Data Lab disclaimer: https://datalab.noirlab.edu/disclaimers.php"
   ]
  },
  {
   "cell_type": "markdown",
   "metadata": {},
   "source": [
    "<a class=\"anchor\" id=\"import\"></a>\n",
    "# Imports and setup"
   ]
  },
  {
   "cell_type": "code",
   "execution_count": 10,
   "metadata": {
    "execution": {
     "iopub.execute_input": "2023-09-18T21:54:56.123086Z",
     "iopub.status.busy": "2023-09-18T21:54:56.122532Z",
     "iopub.status.idle": "2023-09-18T21:54:56.129668Z",
     "shell.execute_reply": "2023-09-18T21:54:56.128341Z",
     "shell.execute_reply.started": "2023-09-18T21:54:56.123034Z"
    }
   },
   "outputs": [],
   "source": [
    "# std lib\n",
    "from getpass import getpass\n",
    "\n",
    "# 3rd party # remove imports that are not needed\n",
    "import numpy as np\n",
    "import pylab as plt\n",
    "import matplotlib\n",
    "\n",
    "# Data Lab\n",
    "from dl import authClient as ac, queryClient as qc, storeClient as sc\n",
    "from dl.helpers.utils import convert"
   ]
  },
  {
   "cell_type": "markdown",
   "metadata": {},
   "source": [
    "# Explore the main PHAT object table\n",
    "The notebook `M31withPhat` listed available tables in the PHAT databse. This notebook will use the main PHAT object table, phat_v2.phot_mod, which contains combined average photometry."
   ]
  },
  {
   "cell_type": "markdown",
   "metadata": {},
   "source": [
    "### Examine the columns of the phat_v2.phot_mod table\n",
    "\n",
    "First, query 10 rows from phat_v2.phot_mod just to get all columns."
   ]
  },
  {
   "cell_type": "code",
   "execution_count": 13,
   "metadata": {
    "execution": {
     "iopub.execute_input": "2023-09-18T21:57:27.588436Z",
     "iopub.status.busy": "2023-09-18T21:57:27.587833Z",
     "iopub.status.idle": "2023-09-18T21:57:27.595023Z",
     "shell.execute_reply": "2023-09-18T21:57:27.593016Z",
     "shell.execute_reply.started": "2023-09-18T21:57:27.588380Z"
    }
   },
   "outputs": [],
   "source": [
    "query = \"\"\"SELECT *\n",
    "           FROM phat_v2.phot_mod\n",
    "           LIMIT 10\n",
    "        \"\"\""
   ]
  },
  {
   "cell_type": "code",
   "execution_count": 14,
   "metadata": {
    "execution": {
     "iopub.execute_input": "2023-09-18T21:57:50.134223Z",
     "iopub.status.busy": "2023-09-18T21:57:50.133622Z",
     "iopub.status.idle": "2023-09-18T21:57:50.234428Z",
     "shell.execute_reply": "2023-09-18T21:57:50.232878Z",
     "shell.execute_reply.started": "2023-09-18T21:57:50.134170Z"
    }
   },
   "outputs": [],
   "source": [
    "try:\n",
    "    result = qc.query(sql=query) # by default the result is a CSV formatted string\n",
    "except Exception as e:\n",
    "    print(e.message)"
   ]
  },
  {
   "cell_type": "markdown",
   "metadata": {},
   "source": [
    "### Convert the output to a Pandas Dataframe\n",
    "Convert the result, which is by default a CSV formatted string, to a Pandas dataframe."
   ]
  },
  {
   "cell_type": "code",
   "execution_count": 12,
   "metadata": {
    "execution": {
     "iopub.execute_input": "2023-09-18T21:55:54.237363Z",
     "iopub.status.busy": "2023-09-18T21:55:54.236805Z",
     "iopub.status.idle": "2023-09-18T21:55:54.257886Z",
     "shell.execute_reply": "2023-09-18T21:55:54.256418Z",
     "shell.execute_reply.started": "2023-09-18T21:55:54.237311Z"
    }
   },
   "outputs": [
    {
     "name": "stdout",
     "output_type": "stream",
     "text": [
      "Number of columns: 88\n",
      "Index(['ra', 'dec', 'htm9', 'pix256', 'pix4096', 'random_id', 'x', 'y', 'ir_x',\n",
      "       'ir_y', 'f110w_rate', 'f110w_raterr', 'f110w_vega', 'f110w_err',\n",
      "       'f110w_chi', 'f110w_snr', 'f110w_sharp', 'f110w_round', 'f110w_crowd',\n",
      "       'f160w_rate', 'f160w_raterr', 'f160w_vega', 'f160w_err', 'f160w_chi',\n",
      "       'f160w_snr', 'f160w_sharp', 'f160w_round', 'f160w_crowd', 'f275w_rate',\n",
      "       'f275w_raterr', 'f275w_vega', 'f275w_err', 'f275w_chi', 'f275w_snr',\n",
      "       'f275w_sharp', 'f275w_round', 'f275w_crowd', 'f336w_rate',\n",
      "       'f336w_raterr', 'f336w_vega', 'f336w_err', 'f336w_chi', 'f336w_snr',\n",
      "       'f336w_sharp', 'f336w_round', 'f336w_crowd', 'f475w_rate',\n",
      "       'f475w_raterr', 'f475w_vega', 'f475w_err', 'f475w_chi', 'f475w_snr',\n",
      "       'f475w_sharp', 'f475w_round', 'f475w_crowd', 'f814w_rate',\n",
      "       'f814w_raterr', 'f814w_vega', 'f814w_err', 'f814w_chi', 'f814w_snr',\n",
      "       'f814w_sharp', 'f814w_round', 'f814w_crowd', 'f814w_f475w',\n",
      "       'f475w_f336w', 'f336w_f275w', 'f275w_f160w', 'f160w_f110w',\n",
      "       'f110w_flag', 'f160w_flag', 'f275w_flag', 'f336w_flag', 'f475w_flag',\n",
      "       'f814w_flag', 'f275w_gst', 'f336w_gst', 'f475w_gst', 'f814w_gst',\n",
      "       'f110w_gst', 'f160w_gst', 'inside_ir', 'inside_brick', 'inside_chipgap',\n",
      "       'inside_other_chipgap', 'field', 'brick', 'objid'],\n",
      "      dtype='object')\n"
     ]
    }
   ],
   "source": [
    "df1 = convert(result,'pandas')\n",
    "print(\"Number of columns:\",len(df1.columns))\n",
    "print(df1.columns)"
   ]
  },
  {
   "cell_type": "markdown",
   "metadata": {},
   "source": [
    "<a class=\"anchor\" id=\"chapter1\"></a>\n",
    "# Make a Healpix map of the brick number\n",
    "\n",
    "PHAT tiled the survey area with 18 bricks. Each brick consists of a 3$\\times$6 mosaic of 18 HST pointings.\n",
    "\n",
    "One of the columns in the PHAT object table, pix4096, is the Healpix index (NSIDE=4096, nested scheme) for the objects's RA and Dec.  Healpix is a handy tesselation of the sky into tiles of equal area.  The Python module healpy has all of the Healpix related functions.\n",
    "\n",
    "To make maps of aggregate quantities in PHAT, we're going to use the database to return results in a query grouped by Healpix index value.  We can then put the results into arrays, and use healpy's functionality to display the maps.\n",
    "\n",
    "In this first query, the GROUP BY clause tells the database to aggregate the results by the values in the pix4096 column, and return the average RA and Dec of objects in those groups, as well as the pix4096 value itself and the count of the number of objects in the group."
   ]
  },
  {
   "cell_type": "code",
   "execution_count": 5,
   "metadata": {},
   "outputs": [
    {
     "name": "stdout",
     "output_type": "stream",
     "text": [
      "5\n"
     ]
    }
   ],
   "source": [
    "query = \"\"\"SELECT avg(ra) as ra0, avg(dec) as dec0,pix4096,count(pix4096) as nb,\n",
    "            avg(f475w_vega) as gmag,avg(f814w_vega) as imag,avg(brick) as brick,\n",
    "            avg(f475w_vega-f814w_vega) as g_i\n",
    "           FROM phat_v2.phot_mod\n",
    "           WHERE f475w_gst=1 AND f814w_gst=1 AND f475w_vega<50 AND f814w_vega<50\n",
    "           GROUP BY pix4096\n",
    "          \"\"\"\n",
    "print(query)"
   ]
  },
  {
   "cell_type": "markdown",
   "metadata": {},
   "source": [
    "<a class=\"anchor\" id=\"resources\"></a>\n",
    "# Resources and references\n",
    "Dalcanton, J.J. et al. (2012, ApJS, 200, 18), \"The Panchromatic Hubble Andromeda Treasury\"\n",
    "http://adsabs.harvard.edu/abs/2012ApJS..200...18D\n",
    "\n",
    "Williams, B.F. et al. (2023, arXiv:2307.09681), \"The Panchromatic Hubble Andromeda Treasury XXI. The Legacy Resolved Stellar Photometry Catalog\"\n",
    "https://ui.adsabs.harvard.edu/abs/2023arXiv230709681W/abstract"
   ]
  },
  {
   "cell_type": "code",
   "execution_count": null,
   "metadata": {},
   "outputs": [],
   "source": []
  }
 ],
 "metadata": {
  "kernelspec": {
   "display_name": "Python 3",
   "language": "python",
   "name": "python3"
  },
  "language_info": {
   "codemirror_mode": {
    "name": "ipython",
    "version": 3
   },
   "file_extension": ".py",
   "mimetype": "text/x-python",
   "name": "python",
   "nbconvert_exporter": "python",
   "pygments_lexer": "ipython3",
   "version": "3.8.8"
  }
 },
 "nbformat": 4,
 "nbformat_minor": 4
}
