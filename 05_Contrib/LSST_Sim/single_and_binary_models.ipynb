{
 "cells": [
  {
   "cell_type": "code",
   "execution_count": 1,
   "metadata": {},
   "outputs": [],
   "source": [
    "__author__ = 'Giada Pastorelli <gpastorelli.astro@gmail.com>'\n",
    "__version__ = '20230728' # yyyymmdd\n",
    "__datasets__ = ['lsst_sim']\n",
    "__keywords__ = ['science example', 'tutorial', 'Milky Way', 'catalogues', 'plot:histogram', 'plot:cmd', 'plot:color-color']"
   ]
  },
  {
   "cell_type": "markdown",
   "metadata": {},
   "source": [
    "# Combining single and binary models: the South Galactic Pole\n",
    "\n",
    "*Giada Pastorelli*"
   ]
  },
  {
   "cell_type": "markdown",
   "metadata": {},
   "source": [
    "### Table of contents\n",
    "* [Goals & notebook summary](#goals)\n",
    "* [Disclaimer & attribution](#attribution)\n",
    "* [Imports & setup](#import)\n",
    "* [Authentication](#auth)\n",
    "* [SQL query](#chapter1)\n",
    "* [Getting useful data and plotting functions](#chapter2)\n",
    "* [Number counts, CMDs and CCDs](#chapter3)\n",
    "* [Resources and references](#resources)"
   ]
  },
  {
   "cell_type": "markdown",
   "metadata": {},
   "source": [
    "<a class=\"anchor\" id=\"goals\"></a>\n",
    "# Goals\n",
    "Combine the single and binary catalogs from `lsst_sim.simdr2` and `lsst_sim.simdr2_binary` datasets to provide a more realistic description of a real stellar population."
   ]
  },
  {
   "cell_type": "markdown",
   "metadata": {},
   "source": [
    "# Summary\n",
    "As we have two separate catalogs for single and binary stars, these catalogs should be combined together to provide a realistic description of real stellar populations. The present computation of binary systems represents just one-tenth of the binaries that should be in a “binaries-only” simulation. \n",
    "We show how to combine the two catalogs and we plot the resulting and luminosity functions, CMDs and color-color diagrams.\n",
    "In this example we use stars in the South Galactic Pole."
   ]
  },
  {
   "cell_type": "markdown",
   "metadata": {},
   "source": [
    "<a class=\"anchor\" id=\"attribution\"></a>\n",
    "# Disclaimer & attribution\n",
    "If you use this notebook for your published science, please acknowledge the following:\n",
    "\n",
    "* Data Lab concept paper: Fitzpatrick et al., \"The NOAO Data Laboratory: a conceptual overview\", SPIE, 9149, 2014, http://dx.doi.org/10.1117/12.2057445\n",
    "\n",
    "* Data Lab disclaimer: https://datalab.noirlab.edu/disclaimers.php\n",
    "\n",
    "* LSST White paper: Dal Tio et al., 2022, \"Simulating the Legacy Survey of Space and Time Stellar Content with TRILEGAL\", ApJS, 262, 22. https://doi.org/10.3847/1538-4365/ac7be6"
   ]
  },
  {
   "cell_type": "markdown",
   "metadata": {},
   "source": [
    "<a class=\"anchor\" id=\"import\"></a>\n",
    "# Imports and setup"
   ]
  },
  {
   "cell_type": "code",
   "execution_count": 2,
   "metadata": {},
   "outputs": [],
   "source": [
    "# std lib\n",
    "from getpass import getpass\n",
    "\n",
    "# 3rd party # remove imports that are not needed\n",
    "import numpy as np\n",
    "import pylab as plt\n",
    "import matplotlib.colors as colors\n",
    "from astroML.stats import binned_statistic_2d\n",
    "import statistics\n",
    "%matplotlib inline\n",
    "\n",
    "# Data Lab\n",
    "from dl import authClient as ac, queryClient as qc, storeClient as sc\n",
    "\n",
    "# user-defined \n",
    "from utils import plot_2D_hess"
   ]
  },
  {
   "cell_type": "markdown",
   "metadata": {},
   "source": [
    "<a class=\"anchor\" id=\"auth\"></a>\n",
    "# Authentication\n",
    "Much of the functionality of Data Lab can be accessed without explicitly logging in (the service then uses an anonymous login). But some capacities, for instance saving the results of your queries to your virtual storage space, require a login (i.e. you will need a registered user account).\n",
    "\n",
    "If you need to log in to Data Lab, un-comment the cell below and execute it:"
   ]
  },
  {
   "cell_type": "code",
   "execution_count": 3,
   "metadata": {},
   "outputs": [
    {
     "data": {
      "text/plain": [
       "'demo00'"
      ]
     },
     "execution_count": 3,
     "metadata": {},
     "output_type": "execute_result"
    }
   ],
   "source": [
    "#token = ac.login(input(\"Enter user name: (+ENTER) \"),getpass(\"Enter password: (+ENTER) \"))\n",
    "ac.whoAmI()"
   ]
  },
  {
   "cell_type": "markdown",
   "metadata": {},
   "source": [
    "<a class=\"anchor\" id=\"chapter1\"></a>\n",
    "# SQL query"
   ]
  },
  {
   "cell_type": "markdown",
   "metadata": {},
   "source": [
    "Here we define a couple of functions to perform the query needed to retrieve the simulated sources in the South Galactic Pole (SGP).\n",
    "The first one will get single stars in the SGP, i.e. sources with b <= -85 degrees, from the single-star catalog `lsst_sim.simdr2`. \n",
    "The second one will get binary systems in the SGP from the binary-star catalog `lsst_sim.simdr2_binary`.\n",
    "\n",
    "**Warning:** Due a mismatch between the ages of tracks on the RGB and the zero-age\n",
    "horizontal branch, for a minor fraction of binary stars there is an excess of HB stars in old metal poor populations. These stars can be identified with the following: \n",
    "\n",
    "```\n",
    "c1_mass > 0.7 && c1_mass < 0.9 && logage > 10.0 && c1_label == 4 && c1_logg > 3.2\n",
    "```\n",
    "\n",
    "The above condition is included in the function ```get_sgp_query_binary()``` to retrieve binary stars from the simulated catalogs."
   ]
  },
  {
   "cell_type": "code",
   "execution_count": 4,
   "metadata": {},
   "outputs": [],
   "source": [
    "# Query to retrieve single stars in the SGP\n",
    "# and select all sources with b <= -85\n",
    "def get_sgp_query_single():\n",
    "    query=\\\n",
    "    \"\"\"SELECT umag, gmag, rmag\n",
    "       FROM lsst_sim.simdr2\n",
    "       WHERE galb <= -85\"\"\"\n",
    "\n",
    "    return query "
   ]
  },
  {
   "cell_type": "code",
   "execution_count": 5,
   "metadata": {},
   "outputs": [],
   "source": [
    "# This defines the query to retrieve binary stars in the SGP\n",
    "# and select all sources with b <= -85\n",
    "def get_sgp_query_binary():\n",
    "    query=\\\n",
    "    \"\"\"SELECT c3_umag, c3_gmag, c3_rmag \n",
    "       FROM lsst_sim.simdr2_binary\n",
    "       WHERE galb <= -85 \n",
    "             AND NOT (c1_mass > 0.7 AND c1_mass < 0.9 AND logage > 10.0 AND c1_label = 4 AND c1_logg > 3.2)\n",
    "    \"\"\"\n",
    "    \n",
    "    return query    "
   ]
  },
  {
   "cell_type": "markdown",
   "metadata": {},
   "source": [
    "We execute both queries and print the them"
   ]
  },
  {
   "cell_type": "code",
   "execution_count": 6,
   "metadata": {},
   "outputs": [
    {
     "name": "stdout",
     "output_type": "stream",
     "text": [
      "SELECT umag, gmag, rmag\n",
      "       FROM lsst_sim.simdr2\n",
      "       WHERE galb <= -85\n"
     ]
    }
   ],
   "source": [
    "# Single stars query\n",
    "sgp_single = get_sgp_query_single()\n",
    "print (sgp_single)"
   ]
  },
  {
   "cell_type": "code",
   "execution_count": 7,
   "metadata": {},
   "outputs": [
    {
     "name": "stdout",
     "output_type": "stream",
     "text": [
      "SELECT c3_umag, c3_gmag, c3_rmag \n",
      "       FROM lsst_sim.simdr2_binary\n",
      "       WHERE galb <= -85 \n",
      "             AND NOT (c1_mass > 0.7 AND c1_mass < 0.9 AND logage > 10.0 AND c1_label = 4 AND c1_logg > 3.2)\n",
      "    \n"
     ]
    }
   ],
   "source": [
    "# Binary stars query\n",
    "sgp_binary = get_sgp_query_binary()\n",
    "print (sgp_binary)"
   ]
  },
  {
   "cell_type": "markdown",
   "metadata": {},
   "source": [
    "With our selected queries, we now retrieve the data and print the number of objects and the first rows of the tables"
   ]
  },
  {
   "cell_type": "code",
   "execution_count": 8,
   "metadata": {},
   "outputs": [
    {
     "name": "stdout",
     "output_type": "stream",
     "text": [
      "Number of objects: 1567784\n",
      "     umag    gmag    rmag\n",
      "0  28.045  26.450  25.768\n",
      "1  30.893  28.471  27.245\n",
      "2  28.400  25.772  24.460\n",
      "3  30.797  27.107  25.444\n",
      "4  18.700  17.715  17.252\n",
      "CPU times: user 743 ms, sys: 397 ms, total: 1.14 s\n",
      "Wall time: 5.22 s\n"
     ]
    }
   ],
   "source": [
    "%%time\n",
    "cat_single = qc.query(sql=sgp_single,fmt='pandas') # cat_single is a pandas DataFrame\n",
    "print(\"Number of objects:\", cat_single.shape[0])\n",
    "print(cat_single.head())"
   ]
  },
  {
   "cell_type": "code",
   "execution_count": 9,
   "metadata": {},
   "outputs": [
    {
     "name": "stdout",
     "output_type": "stream",
     "text": [
      "Number of objects: 126897\n",
      "   c3_umag  c3_gmag  c3_rmag\n",
      "0   31.538   28.611   27.112\n",
      "1   27.939   26.793   26.031\n",
      "2   22.420   19.483   18.148\n",
      "3   29.798   27.289   26.013\n",
      "4   29.515   26.561   25.142\n",
      "CPU times: user 112 ms, sys: 14.5 ms, total: 127 ms\n",
      "Wall time: 1.11 s\n"
     ]
    }
   ],
   "source": [
    "%%time\n",
    "cat_binary = qc.query(sql=sgp_binary,fmt='pandas') # cat_binary is a pandas DataFrame\n",
    "print(\"Number of objects:\", cat_binary.shape[0])\n",
    "print(cat_binary.head())"
   ]
  },
  {
   "cell_type": "markdown",
   "metadata": {},
   "source": [
    "<a class=\"anchor\" id=\"chapter2\"></a>\n",
    "# Combining the two catalogs"
   ]
  },
  {
   "cell_type": "markdown",
   "metadata": {},
   "source": [
    "The scheme for simulating binaries introduced in [Dal Tio et al. (2021)](https://doi.org/10.3847/1538-4365/ac7be6) produces both non-interacting and\n",
    "interacting binaries, with a more realistic distribution of mass ratios (and also orbital parameters), and in numbers deﬁned by\n",
    "the population initial total mass. To reproduce a given stellar density using single and binary models, this scheme requires\n",
    "the speciﬁcation of a suitable initial binary fraction (by mass), `fbin`.\n",
    "\n",
    "We recommend a `fbin=0.4`, as being both most robust (see Dal Tio et al. 2021) and more consistent with the way the stellar densities were originally calibrated in TRILEGAL. As we simulated only one-tenth of expected binaries, the `fbin` value of 0.4 can be\n",
    "achieved by randomly selecting 60 per cent of single stars and by multiplying by 4 the number of binary systems present in\n",
    "the same region."
   ]
  },
  {
   "cell_type": "code",
   "execution_count": 10,
   "metadata": {},
   "outputs": [],
   "source": [
    "# Get 60 percent of single stars\n",
    "cat_single60 = cat_single.sample(frac=0.6, random_state=7) # fixed random state to reproduce the example"
   ]
  },
  {
   "cell_type": "code",
   "execution_count": 11,
   "metadata": {},
   "outputs": [],
   "source": [
    "# Get useful magnitude data\n",
    "\n",
    "# Magnitudes of single stars\n",
    "\n",
    "umag = cat_single['umag']\n",
    "rmag = cat_single['rmag']\n",
    "gmag = cat_single['gmag']\n",
    "\n",
    "# Single stars 60 per cent - Magnitudes\n",
    "umag60 = cat_single60['umag']\n",
    "rmag60 = cat_single60['rmag']\n",
    "gmag60 = cat_single60['gmag']\n",
    "\n",
    "# Magnitude of the total binary system\n",
    "umag3 = cat_binary['c3_umag']\n",
    "rmag3 = cat_binary['c3_rmag']\n",
    "gmag3 = cat_binary['c3_gmag']\n"
   ]
  },
  {
   "cell_type": "markdown",
   "metadata": {},
   "source": [
    "<a class=\"anchor\" id=\"chapter4\"></a>\n",
    "# Luminosity functions for single and binary stars"
   ]
  },
  {
   "cell_type": "markdown",
   "metadata": {},
   "source": [
    "First we plot the luminosity functions in the r-band for single and binary stars separately"
   ]
  },
  {
   "cell_type": "code",
   "execution_count": 12,
   "metadata": {},
   "outputs": [
    {
     "data": {
      "image/png": "[encoded data removed]",
      "text/plain": [
       "<Figure size 576x288 with 2 Axes>"
      ]
     },
     "metadata": {
      "needs_background": "light"
     },
     "output_type": "display_data"
    }
   ],
   "source": [
    "fig, (ax1,ax2) = plt.subplots(1,2, sharey = True, figsize = (8,4))\n",
    "\n",
    "bins = np.linspace(4,28,50)\n",
    "\n",
    "# 1. r-mag single stars\n",
    "ax1.hist(rmag, bins=bins)\n",
    "ax1.set_xlabel(\"r (mag)\")\n",
    "ax1.invert_xaxis()\n",
    "ax1.set_title(\"Single stars\")\n",
    "ax1.set_ylabel(\"log # counts\")\n",
    "\n",
    "# 2. r-mag binary systems\n",
    "ax2.hist(rmag3, bins=bins)\n",
    "ax2.set_xlabel(\"r (mag)\")\n",
    "ax2.invert_xaxis()\n",
    "ax2.set_title(\"Binary stars 1/10\")\n",
    "\n",
    "ax1.set_yscale(\"log\")\n",
    "\n",
    "# Use tight_layout\n",
    "plt.tight_layout()\n"
   ]
  },
  {
   "cell_type": "markdown",
   "metadata": {},
   "source": [
    "Now, we combine the two catalogs to obtain the r-band luminosity function of a population of stars with `fbin` = 0.4"
   ]
  },
  {
   "cell_type": "code",
   "execution_count": 13,
   "metadata": {},
   "outputs": [],
   "source": [
    "# Histogram of single stars\n",
    "count_single60, bin_single = np.histogram(rmag60, bins = bins)"
   ]
  },
  {
   "cell_type": "code",
   "execution_count": 14,
   "metadata": {},
   "outputs": [],
   "source": [
    "# Histogram of binary stars\n",
    "count_bin, bin_bin = np.histogram(rmag3, bins = bins)"
   ]
  },
  {
   "cell_type": "code",
   "execution_count": 15,
   "metadata": {},
   "outputs": [],
   "source": [
    "#Get the bin centers\n",
    "bin_centers = 0.5*( bin_single[1:] + bin_single[:-1])"
   ]
  },
  {
   "cell_type": "code",
   "execution_count": 16,
   "metadata": {},
   "outputs": [],
   "source": [
    "# Combined histogram\n",
    "count_comb = count_single60+4.*count_bin"
   ]
  },
  {
   "cell_type": "code",
   "execution_count": 17,
   "metadata": {},
   "outputs": [
    {
     "data": {
      "image/png": "[encoded data removed]",
      "text/plain": [
       "<Figure size 432x288 with 1 Axes>"
      ]
     },
     "metadata": {
      "needs_background": "light"
     },
     "output_type": "display_data"
    }
   ],
   "source": [
    "fig, ax1 = plt.subplots(1,1, figsize = (6,4))\n",
    "\n",
    "ax1.hist(bin_centers, bins = bin_single, weights = count_comb, histtype ='step', lw=2, label = 'combined fbin=0.4')\n",
    "\n",
    "ax1.hist(bin_centers, bins = bin_single, weights = count_single60, histtype ='step', lw=2, label = 'single stars')\n",
    "ax1.hist(bin_centers, bins = bin_single, weights = 4*count_bin, histtype ='step', lw=2, label = 'binary stars')\n",
    "\n",
    "\n",
    "ax1.legend()\n",
    "ax1.set_yscale(\"log\")\n",
    "# Axis labels\n",
    "ax1.set_xlabel('r (mag)')\n",
    "ax1.set_ylabel(\"log # counts\")\n",
    "ax1.invert_xaxis()\n",
    "# Use tight_layout\n",
    "plt.tight_layout()"
   ]
  },
  {
   "cell_type": "markdown",
   "metadata": {},
   "source": [
    "# CMDs and CCDs"
   ]
  },
  {
   "cell_type": "markdown",
   "metadata": {},
   "source": [
    "In the following, we use the function `binned_statistic_2d()` to get the Hess diagrams. "
   ]
  },
  {
   "cell_type": "code",
   "execution_count": 18,
   "metadata": {},
   "outputs": [],
   "source": [
    "# Define the number of bins in color and magnitude\n",
    "bins = [np.arange(-1,3,0.05), np.arange(4,28,0.1)]\n",
    "\n",
    "# Hess diagrams of the stellar density for single stars.\n",
    "H1, xed1, yed1 = binned_statistic_2d(gmag60-rmag60, rmag60, None, statistic='count', bins=bins)\n",
    "\n",
    "# Hess diagrams of the stellar density for binary stars.\n",
    "H2, xed2, yed2 = binned_statistic_2d(gmag3-rmag3, rmag3, None, statistic='count', bins=bins)\n",
    "\n",
    "# Let's multiply the number counts of the binary Hess diagram by 4 to get \n",
    "# the expected number of binary stars for a fbin = 0.4 \n",
    "\n",
    "H2*=4.\n",
    "\n",
    "# Combination of the single and binary hess diagrams\n",
    "H12 = H1 + H2"
   ]
  },
  {
   "cell_type": "markdown",
   "metadata": {},
   "source": [
    "Now we plot the Hess diagrams color-coded according to the stellar density."
   ]
  },
  {
   "cell_type": "code",
   "execution_count": 19,
   "metadata": {},
   "outputs": [
    {
     "data": {
      "image/png": "[encoded data removed]",
      "text/plain": [
       "<Figure size 864x288 with 4 Axes>"
      ]
     },
     "metadata": {
      "needs_background": "light"
     },
     "output_type": "display_data"
    }
   ],
   "source": [
    "fig, ((ax1,ax2, ax3)) = plt.subplots(1,3, sharex=True, sharey=True, figsize = (12,4))\n",
    "\n",
    "# Normalization\n",
    "norm = colors.LogNorm(1, np.max(H12))\n",
    "\n",
    "#Single stars\n",
    "plot_2D_hess(H1, xed1, yed1, ax = ax1, norm=norm)\n",
    "\n",
    "#Binary stars\n",
    "plot_2D_hess(H2, xed2, yed2, ax = ax2, norm=norm)\n",
    "\n",
    "#Combined single and binary stars\n",
    "cc = plot_2D_hess(H12, xed2, yed2, ax = ax3, norm=norm)\n",
    "\n",
    "#Make a single colorbar\n",
    "axes = fig.get_axes()\n",
    "fig.colorbar(cc, ax = axes, label=\"# star/pixel\")\n",
    "\n",
    "# Limits\n",
    "ax1.set_ylim(28, 3)\n",
    "ax1.set_xlim(-0.7, 2.5)\n",
    "\n",
    "# Axis labels\n",
    "for ax in [ax1]:\n",
    "    ax.set_ylabel(\"$r$ [mag]\")\n",
    "for ax in [ax1,ax2,ax3]:\n",
    "    ax.set_xlabel(\"$g - r$ [mag]\")\n",
    "\n",
    "# Axis titles\n",
    "ax1.set_title(\"Single stars\")\n",
    "ax2.set_title(\"Binary stars\")\n",
    "ax3.set_title(\"Single+Binary stars\");"
   ]
  },
  {
   "cell_type": "markdown",
   "metadata": {},
   "source": [
    "We use the function `binned_statistic_2d` to get the Hess diagrams for the color-color plots "
   ]
  },
  {
   "cell_type": "code",
   "execution_count": 20,
   "metadata": {},
   "outputs": [],
   "source": [
    "# Define bins in color-color\n",
    "bins_cc = [ np.arange(-1,4.5,0.025), np.arange(-1,3,0.025)]\n",
    "\n",
    "# Color-color Hess diagram of the stellar density for single stars.\n",
    "H1cc, xed1cc, yed1cc = binned_statistic_2d(umag60 - gmag60, gmag60-rmag60, None, statistic='count', bins=bins_cc)\n",
    "\n",
    "# Color-color Hess diagram of the stellar density for binary stars.\n",
    "H2cc, xed2cc, yed2cc = binned_statistic_2d(umag3-gmag3, gmag3-rmag3, None, statistic='count', bins=bins_cc)\n",
    "\n",
    "# Let's multiply the number counts of the binary Hess diagram by 4 to get \n",
    "# the expected number of binary stars for a fbin = 0.4 \n",
    "\n",
    "H2cc*=4\n",
    "\n",
    "# Combination of the single and binary hess diagrams\n",
    "H12cc = H1cc + H2cc"
   ]
  },
  {
   "cell_type": "markdown",
   "metadata": {},
   "source": [
    "Plots of the color-color Hess diagrams"
   ]
  },
  {
   "cell_type": "code",
   "execution_count": 21,
   "metadata": {},
   "outputs": [
    {
     "data": {
      "image/png": "[encoded data removed]",
      "text/plain": [
       "<Figure size 864x288 with 4 Axes>"
      ]
     },
     "metadata": {
      "needs_background": "light"
     },
     "output_type": "display_data"
    }
   ],
   "source": [
    "fig, ((ax1,ax2, ax3)) = plt.subplots(1,3, sharex=True, sharey=True, figsize = (12,4))\n",
    "\n",
    "norm = colors.LogNorm(1, np.max(H12cc))\n",
    "\n",
    "plot_2D_hess(H1cc, xed1cc, yed1cc, ax = ax1, norm=norm)\n",
    "\n",
    "plot_2D_hess(H2cc, xed2cc, yed2cc, ax = ax2, norm=norm)\n",
    "\n",
    "cc = plot_2D_hess(H12cc, xed1cc, yed1cc, ax = ax3, norm=norm)\n",
    "\n",
    "#Make a single colorbar\n",
    "axes = fig.get_axes()\n",
    "fig.colorbar(cc, ax = axes, label=\"# star/pixel\")\n",
    "\n",
    "ax1.set_xlim(-1, 4.5)\n",
    "ax1.set_ylim(-0.7, 2.5)\n",
    "\n",
    "# Axis labels\n",
    "for ax in [ax1]:\n",
    "    ax.set_ylabel(\"$g - r$ [mag]\")\n",
    "for ax in [ax1,ax2, ax3]:\n",
    "    ax.set_xlabel(\"$u - g$ [mag]\")\n",
    "\n",
    "# Set a title for the entire figure\n",
    "ax1.set_title(\"Single stars\")\n",
    "ax2.set_title(\"Binary stars\")\n",
    "ax3.set_title(\"Single+Binary stars\");"
   ]
  },
  {
   "cell_type": "markdown",
   "metadata": {},
   "source": [
    "<a class=\"anchor\" id=\"resources\"></a>\n",
    "# Resources and references\n",
    "\n",
    "astroML examples: https://www.astroml.org/examples/datasets/plot_SDSS_SSPP.html\n",
    "\n",
    "LSST White paper: Dal Tio et al., 2022, \"Simulating the Legacy Survey of Space and Time Stellar Content with TRILEGAL\", ApJS, 262, 22. https://doi.org/10.3847/1538-4365/ac7be6"
   ]
  }
 ],
 "metadata": {
  "kernelspec": {
   "display_name": "Python 3",
   "language": "python",
   "name": "python3"
  },
  "language_info": {
   "codemirror_mode": {
    "name": "ipython",
    "version": 3
   },
   "file_extension": ".py",
   "mimetype": "text/x-python",
   "name": "python",
   "nbconvert_exporter": "python",
   "pygments_lexer": "ipython3",
   "version": "3.8.8"
  },
  "vscode": {
   "interpreter": {
    "hash": "39e169e8d49094775a9cdfa1f3c8e72b95173327c5c3dfc7031892c566b098f1"
   }
  }
 },
 "nbformat": 4,
 "nbformat_minor": 4
}
