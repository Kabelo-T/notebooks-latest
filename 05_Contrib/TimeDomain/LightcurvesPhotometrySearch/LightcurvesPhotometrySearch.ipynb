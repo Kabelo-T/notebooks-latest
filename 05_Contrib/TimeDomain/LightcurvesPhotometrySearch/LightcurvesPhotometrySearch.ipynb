{
 "cells": [
  {
   "cell_type": "code",
   "execution_count": 1,
   "id": "59b085e8-042a-4135-a2d5-d284c82f1a56",
   "metadata": {},
   "outputs": [],
   "source": [
    "__author__ = 'Ryan M. Lau <ryan.lau@noirlab.edu>'\n",
    "__version__ = '20230614' # yyyymmdd\n",
    "__datasets__ = ['ztf','atlas','neowise','spitzer']\n",
    "__keywords__ = ['light curve','photometry','time domain']"
   ]
  },
  {
   "cell_type": "markdown",
   "id": "81ea48b2-f439-4c08-aa09-fb901b9dc03e",
   "metadata": {
    "tags": []
   },
   "source": [
    "## ANTARES, ATLAS, (NEO)WISE, and Spitzer Photometry Search\n",
    "\n",
    "*Ryan M. Lau (NSF's NOIRLab) & Astro Data Lab Team*\n",
    "\n",
    "### Table of contents\n",
    "* [Goals & notebook summary](#goals)\n",
    "* [Disclaimer & Attribution](#attribution)\n",
    "* [Imports & setup](#import)\n",
    "* [Chapter 1: ZTF Query using ANTARES Client](#chapter1)\n",
    "* [Chapter 2: Spitzer Query and Forced Photometry](#chapter2)\n",
    "* [Chapter 3: ATLAS Forced Photometry](#chapter3)\n",
    "* [Chapter 4: (NEO)WISE Photometry Search](#chapter4)\n",
    "* [Resources and references](#resources)"
   ]
  },
  {
   "cell_type": "markdown",
   "id": "6118213d-09c0-47da-bd91-5f8f5abb75de",
   "metadata": {},
   "source": [
    "<a class=\"anchor\" id=\"goals\"></a>\n",
    "# Goals and Summary\n",
    "The goal of this notebook is to generate light curves and output photometry using multiple optical and IR data sets. The notebook currently incorporates a search for optical data from ZTF and ATLAS, and IR data from Spitzer and (NEO)WISE. Photometry from ZTF are obtained using the [ANTARES client](https://gitlab.com/nsf-noirlab/csdc/antares/client), a light-weight client for receiving alerts from ANTARES. Photometry from WISE are obtained using the [unTimely Catalog Explorer](https://github.com/fkiwy/unTimely_Catalog_explorer). Forced photometry is performed in this notebook on Spitzer images, and an [ATLAS API](https://fallingstar-data.com/forcedphot/apiguide/) is used in this notebook to submit requests on the [ATLAS forced photometry server](https://fallingstar-data.com/forcedphot/).\n",
    "\n"
   ]
  },
  {
   "cell_type": "markdown",
   "id": "48b54685-dbed-49b2-8e13-79bc1c54bb3e",
   "metadata": {},
   "source": [
    "<a class=\"anchor\" id=\"attribution\"></a>\n",
    "# Disclaimer & attribution\n",
    "If you use this notebook for your published science, please acknowledge the following:\n",
    "\n",
    "* Data Lab concept paper: Fitzpatrick et al., \"The NOAO Data Laboratory: a conceptual overview\", SPIE, 9149, 2014, http://dx.doi.org/10.1117/12.2057445\n",
    "\n",
    "* Data Lab Acknowledgements: https://datalab.noirlab.edu/docs/manual/UsingAstroDataLab/Introduction/AcknowledgementOfDataLab/AcknowledgementOfDataLab.html\n",
    "\n",
    "\n",
    "Also familiarize yourself with the Data Lab disclaimers: https://datalab.noirlab.edu/disclaimers.php"
   ]
  },
  {
   "cell_type": "markdown",
   "id": "aaf7640a-a8e8-4b1c-81da-c8c5d77300f0",
   "metadata": {},
   "source": [
    "<a class=\"anchor\" id=\"import\"></a>\n",
    "# Imports and setup"
   ]
  },
  {
   "cell_type": "code",
   "execution_count": 2,
   "id": "e1ff8661-eff0-403b-a8ca-e2942bf2fad0",
   "metadata": {},
   "outputs": [],
   "source": [
    "# std lib\n",
    "import os\n",
    "import sys\n",
    "import time\n",
    "import requests\n",
    "import warnings\n",
    "warnings.simplefilter('ignore', category=UserWarning)\n",
    "\n",
    "# 3rd party\n",
    "from tqdm import tqdm\n",
    "import numpy as np\n",
    "np.seterr(invalid='ignore')\n",
    "import matplotlib.pyplot as plt\n",
    "import astropy.units as u\n",
    "from astropy.wcs import WCS\n",
    "from astropy.coordinates import SkyCoord\n",
    "from astropy.table import QTable, vstack\n",
    "from astropy.stats import sigma_clipped_stats\n",
    "from astropy.io import ascii\n",
    "from astroquery.ipac.irsa import sha\n",
    "from photutils.aperture import SkyCircularAperture, aperture_photometry, SkyCircularAnnulus\n",
    "from antares_client.search import search, get_by_id\n",
    "from unTimely_Catalog_tools import unTimelyCatalogExplorer\n",
    "\n",
    "# Setting plot fonts and sizes and marker transparency\n",
    "hfont = {'fontname':'Dejavu Sans', 'fontsize': 18}\n",
    "tfont = {'fontname':'Dejavu Sans', 'fontsize': 24}\n",
    "alpha = 0.5"
   ]
  },
  {
   "cell_type": "markdown",
   "id": "3875b876-d795-4e8f-875c-50140f006aa9",
   "metadata": {},
   "source": [
    "### Defining folder name and file path for output photometry"
   ]
  },
  {
   "cell_type": "code",
   "execution_count": 3,
   "id": "563ebf08-18b7-421d-b091-e8ab5f102520",
   "metadata": {},
   "outputs": [],
   "source": [
    "PhotFolderName = 'PhotometryTables' # name of the folder to output photometry\n",
    "HomeDir = os.getcwd()\n",
    "fpath = HomeDir + os.path.sep + PhotFolderName # path to PhotometryTables\n",
    "if not os.path.isdir(fpath):\n",
    "    os.makedirs(fpath)"
   ]
  },
  {
   "cell_type": "markdown",
   "id": "a3a3fc8e-6309-401b-97a6-1344760dbe1d",
   "metadata": {},
   "source": [
    "### Defining Functions"
   ]
  },
  {
   "cell_type": "markdown",
   "id": "ccb3c9cf-23e6-4ef8-b68a-03b2b0203423",
   "metadata": {},
   "source": [
    "#### ANTARES client cone search for loci at specified coordinates"
   ]
  },
  {
   "cell_type": "code",
   "execution_count": 4,
   "id": "83a3ac75-ba55-463b-859c-e8f66c3c47c5",
   "metadata": {},
   "outputs": [],
   "source": [
    "# Defining ANTARES Search\n",
    "\n",
    "def ANTARESQuery(ra,dec,search_rad):\n",
    "    # Ensuring previously defined loci are deleted\n",
    "    try:\n",
    "        loci\n",
    "    except NameError:\n",
    "        pass\n",
    "    else:\n",
    "        del loci\n",
    "\n",
    "    loci = []\n",
    "\n",
    "    query = {\n",
    "            \"query\": {\n",
    "                \"bool\": {\n",
    "                    \"must\": [\n",
    "                        {\n",
    "                            \"range\": {\n",
    "                                \"ra\": {\n",
    "                                    \"gte\": ra-search_rad/3600.,\n",
    "                                    \"lte\": ra+search_rad/3600.,\n",
    "                                }\n",
    "                            }\n",
    "                        },\n",
    "                        {\n",
    "                            \"range\": {\n",
    "                                \"dec\": {\n",
    "                                    \"gte\": dec-search_rad/3600.,\n",
    "                                    \"lte\": dec+search_rad/3600.\n",
    "                                }\n",
    "                            }\n",
    "                        }\n",
    "                     ]\n",
    "                }\n",
    "            }\n",
    "        }\n",
    "\n",
    "    for i in search(query):\n",
    "        loc_ra = get_by_id(i.locus_id).ra\n",
    "        loc_dec = get_by_id(i.locus_id).dec\n",
    "        loc_sep = np.sqrt((ra-loc_ra)**2 + (dec-loc_dec)**2)*3600\n",
    "        loci += [[i.locus_id,loc_sep]]\n",
    "        print(i.locus_id,\"located %.3f arcsec from input coordinates (https://antares.noirlab.edu/loci/%s).\" % (loc_sep,i.locus_id))\n",
    "   \n",
    "    if len(loci)>0:\n",
    "        print('Summary: %i ANTARES locus/loci found for %f arcsec search at %f, %f' %(len(loci),search_rad,ra,dec))\n",
    "        loci.sort(key=lambda x: x[1]) # sorting loci by distance separation\n",
    "        return loci\n",
    "    else:\n",
    "        print('No ANTARES loci found for %f arcsec search at %f, %f' %(search_rad,ra,dec)) \n",
    "        return []"
   ]
  },
  {
   "cell_type": "markdown",
   "id": "0a6bde7d-f7a6-43cc-aea7-7905566af7ad",
   "metadata": {},
   "source": [
    "#### Spitzer Forced Photometry\n",
    "\n",
    "Forced photometry function on given ra and dec coordinates. This uses the [Astroquery package](https://astroquery.readthedocs.io/en/latest/) to search for and download all Spitzer/IRAC Ch1 and Ch2 images containing a given coordinate. This function uses a 2 native pixel aperture (2.4'') and a 4 native pixel background annulus (4.8''), which is consistent with the 2_2_6 aperture correction mentioned in the [IRAC instrument handbook](https://irsa.ipac.caltech.edu/data/SPITZER/docs/irac/iracinstrumenthandbook/17/#_Toc82083617). The aperture correction factors appropriate for both 'warm' and 'cold' Spitzer are applied to the photometry."
   ]
  },
  {
   "cell_type": "code",
   "execution_count": 5,
   "id": "6cd0e38d-de17-41f4-bb40-5a69dfb02103",
   "metadata": {},
   "outputs": [],
   "source": [
    "# Defining Spitzer forced photometry. \n",
    "def SpitzerForcedPhot(ra,dec):\n",
    "    PhotOut = []\n",
    "    radSrcSky = 2.4 * u.arcsec #Defining aperture sizes\n",
    "    radBkgdSky = 7.2 * u.arcsec\n",
    "    Ch1ApCor = 1.2132 # Defining aperture corrections based on specified aperture sizes\n",
    "    Ch2ApCor = 1.2322\n",
    "    Ch1ApCorCOLD = 1.215\n",
    "    Ch2ApCorCOLD = 1.233\n",
    "    MJDWarmSpitzer = 52876 # Defining the start date of Warm Spitzer (for aperture corrections)\n",
    "    coords = '%f %f' % (ra, dec)\n",
    "    pos['wavelength'] = np.char.strip(pos['wavelength']) # This strips the white spaces in the channel names\n",
    "    filtcond = ((pos['wavelength']=='IRAC 3.6um') | (pos['wavelength']=='IRAC 4.5um'))\n",
    "    \n",
    "    for i in tqdm(pos[filtcond]['accessUrl']):\n",
    "        f1 = sha.get_file(i.strip())\n",
    "        data = f1[0].data\n",
    "        wcs= WCS(f1[0].header)\n",
    "        posSrcSky = SkyCoord(coords,unit=(u.deg,u.deg))\n",
    "        apertureSrcSky = SkyCircularAperture(posSrcSky,r=radSrcSky)\n",
    "        apertureBkgdSky = SkyCircularAnnulus(posSrcSky,r_in=radSrcSky,r_out=radBkgdSky)\n",
    "        apertureSrc = apertureSrcSky.to_pixel(wcs)\n",
    "        apertureBkgd = apertureBkgdSky.to_pixel(wcs)\n",
    "        annulus_masks = apertureBkgd.to_mask(method='center')\n",
    "        pixfact = (f1[0].header['pxscal1'] * u.arcsec)**2 / u.pixel\n",
    "        convfact = (u.MJy / u.sr * pixfact).to(u.uJy / u.pixel).value\n",
    "\n",
    "        data = f1[0].data *convfact\n",
    "\n",
    "        # Bkgd Annulus\n",
    "        BG_med = []\n",
    "        BG_std = []\n",
    "        PhotTab = []\n",
    "        testmask = np.ma.masked_invalid(data)\n",
    "        PhotTab = aperture_photometry(data,apertureSrc,mask=testmask.mask)\n",
    "        annulus_data = annulus_masks.multiply(data)\n",
    "        if annulus_data is None:\n",
    "            print(i,' has an issue')\n",
    "            continue\n",
    "        mask = annulus_masks.data\n",
    "        annulus_data_1d = annulus_data[mask > 0]\n",
    "        _, median_sigclip, std_sigclip = sigma_clipped_stats(annulus_data_1d)\n",
    "        BG_med.append(median_sigclip)\n",
    "        BG_std.append(std_sigclip)\n",
    "        PhotTab['PI'] = f1[0].header['OBSRVR']\n",
    "        PhotTab['PID'] = f1[0].header['PROGID']\n",
    "        PhotTab['Channel'] = f1[0].header['CHNLNUM']\n",
    "        PhotTab['MJD'] = f1[0].header['MJD_OBS']\n",
    "        PhotTab['BG_med'] = BG_med\n",
    "        PhotTab['Flux'] = PhotTab['aperture_sum'] - PhotTab['BG_med']*apertureSrc.area\n",
    "        PhotTab['Flux_std_1sig'] = std_sigclip * np.sqrt(apertureSrc.area)\n",
    "\n",
    "        \n",
    "        chnl = PhotTab['Channel']\n",
    "        if chnl in (1,2):\n",
    "            if chnl == 1:\n",
    "                cor = Ch1ApCor if PhotTab['MJD']>MJDWarmSpitzer else Ch1ApCorCOLD\n",
    "            elif chnl == 2:\n",
    "                cor = Ch2ApCor if PhotTab['MJD']>MJDWarmSpitzer else Ch2ApCorCOLD\n",
    "                        \n",
    "            PhotTab['Flux'] = PhotTab['Flux'] * cor\n",
    "            PhotTab['Flux_std_1sig'] = PhotTab['Flux_std_1sig'] * cor\n",
    "            PhotTab['Mag'] = -2.5* np.log10(PhotTab['Flux'].value * 10**(-6)/280.9)\n",
    "            PhotTab['Mag_std_1sig'] = 1.09 * PhotTab['Flux_std_1sig'].value/PhotTab['Flux'].value\n",
    "        \n",
    "        else:\n",
    "            print(\"Channel number not found\")\n",
    "            \n",
    "        PhotOut += PhotTab\n",
    "        f1.close()\n",
    "        \n",
    "    PhotOut = vstack(PhotOut)\n",
    "    \n",
    "    # Simplifying naming scheme\n",
    "    PhotOut = QTable(PhotOut)\n",
    "    PhotOut['SNR']=  PhotOut['Flux']/PhotOut['Flux_std_1sig']\n",
    "    PhotOut.sort('MJD')\n",
    "    \n",
    "    return PhotOut"
   ]
  },
  {
   "cell_type": "code",
   "execution_count": 6,
   "id": "c2c784b4-f083-4439-8500-a3d14d56c8b3",
   "metadata": {},
   "outputs": [],
   "source": [
    "def LCplot(plotA=1,plotZ=1,plotS=1,plotW=1,lpos='upper left',alpha=0.7,SNRcut=5):\n",
    "    \n",
    "    fig = plt.figure(figsize=(12, 8))\n",
    "\n",
    "    if locifound:\n",
    "        plt.title('Light curves of %s' % antid,**tfont)\n",
    "    else:\n",
    "        plt.title('Light curves at %.4f, %.4f' % (ra,dec),**tfont)\n",
    "    plt.ylabel('Mag', **hfont)\n",
    "    plt.xlabel('MJD', **hfont)\n",
    "\n",
    "    def plot_errorbar(data,color,label,fieldy='Mag',fieldyerr='Mag_std_1sig',marker='o'):\n",
    "        plt.errorbar(data['MJD'],data[fieldy],yerr=data[fieldyerr], marker=marker,markersize=10,mec='black',\n",
    "                     color=color,ecolor='gray',ls='none',alpha=alpha,label=label)\n",
    "\n",
    "    # Plot ZTF\n",
    "    if plotZ==1:\n",
    "        dset = PhotTabZTF_ANTARES\n",
    "        plot_errorbar(dset[np.where((dset['ZTF_fid']==2) & (dset['Mag_psf_sigma']**(-1)>SNRcut))],fieldy='Mag_psf',fieldyerr='Mag_psf_sigma',marker='o',color=\"red\",label=\"ZTF r\")\n",
    "        plot_errorbar(dset[np.where((dset['ZTF_fid']==1) & (dset['Mag_psf_sigma']**(-1)>SNRcut))],fieldy='Mag_psf',fieldyerr='Mag_psf_sigma',marker='o',color=\"green\",label=\"ZTF g\")\n",
    "        \n",
    "    # Plot ATLAS\n",
    "    if plotA == 1:\n",
    "        dset = PhotTabATLAS\n",
    "        plot_errorbar(dset[np.where((dset['Filter']=='o') & (dset['Flux']/dset['Flux_std_1sig']>SNRcut))],marker='p',color='orange',label='ATLAS o')\n",
    "        plot_errorbar(dset[np.where((dset['Filter']=='c') & (dset['Flux']/dset['Flux_std_1sig']>SNRcut))],marker='p',color='cyan',label='ATLAS c')\n",
    "        \n",
    "    # Plot Spitzer\n",
    "    if plotS == 1:\n",
    "        dset = SpitzerPhotTabUsable\n",
    "        plot_errorbar(dset[np.where((dset['Channel']==1) & (dset['SNR']>SNRcut))],marker='^',color=\"tab:blue\",label='Spitzer/IRAC Ch1 (3.6 $\\mu$m)')\n",
    "        plot_errorbar(dset[np.where((dset['Channel']==2) & (dset['SNR']>SNRcut))],marker='^',color=\"tab:red\",label='Spitzer/IRAC Ch2 (4.5 $\\mu$m)')\n",
    "    \n",
    "    # Plot WISE\n",
    "    if plotW==1:\n",
    "        dset = PhotTabWISE\n",
    "        plot_errorbar(dset[np.where((dset['Band']==1) & (dset['SNR']>SNRcut))],marker='s',color='magenta',label=\"WISE W1 (3.4 $\\mu$m)\")\n",
    "        plot_errorbar(dset[np.where((dset['Band']==2) & (dset['SNR']>SNRcut))],marker='s',color=\"black\",label=\"WISE W2 (4.6 $\\mu$m)\")\n",
    "       \n",
    "        \n",
    "    plt.xticks(**hfont)\n",
    "    plt.yticks(**hfont)\n",
    "\n",
    "    ncol = 2 if plotA==1 and plotZ==1 and plotW==1 and plotS==1 else 1    \n",
    "    plt.legend(loc=lpos,fontsize=12,ncol=ncol)\n",
    "\n",
    "    plt.gca().invert_yaxis()\n",
    "    plt.show()"
   ]
  },
  {
   "cell_type": "markdown",
   "id": "2c7cef89-df2c-4892-9c99-a71544393ded",
   "metadata": {},
   "source": [
    "<a class=\"anchor\" id=\"chapter1\"></a>\n",
    "# Chapter 1 - ZTF Query using ANTARES Client\n",
    "\n",
    "First, we will query the ANTARES database of ZTF data using the ANTARES client to see if there are any loci at the specified coordinates. Coordinates of the closest ANTARES locus to the entered coordinates will be used throughout the notebook to search through the other datasets. The entered coordinates will be used for the other datasets if no ANTARES locus is found. \n",
    "\n",
    "**<em>Note that photometry from the ANTARES database have been reference-image subtracted.</em>**"
   ]
  },
  {
   "cell_type": "markdown",
   "id": "95602a72-06ae-4764-a3c6-3462edd6928b",
   "metadata": {},
   "source": [
    "## Enter RA and DEC (in degrees) of object\n",
    "As an example to demonstrate the utility of this notebook, we will use the intermediate-luminosity red transient in M51, AT 2019ABN [(Jencson et al. 2019)](https://ui.adsabs.harvard.edu/abs/2019ApJ...880L..20J/abstract).\n"
   ]
  },
  {
   "cell_type": "code",
   "execution_count": 7,
   "id": "0630e346-2050-4bb5-a438-4b9cd46a28a5",
   "metadata": {},
   "outputs": [],
   "source": [
    "# AT2019abn\n",
    "ra = 202.4266422\n",
    "dec = 47.1880529"
   ]
  },
  {
   "cell_type": "markdown",
   "id": "e17f5704-0738-48b0-a2d3-f1118a949550",
   "metadata": {},
   "source": [
    "Execute the search through the ANTARES database with a specified search radius (in arcseconds). "
   ]
  },
  {
   "cell_type": "code",
   "execution_count": 8,
   "id": "526df920-f7a5-41ac-89d4-9cbab03724d0",
   "metadata": {},
   "outputs": [
    {
     "name": "stdout",
     "output_type": "stream",
     "text": [
      "ANT2019p2iec located 0.379 arcsec from input coordinates (https://antares.noirlab.edu/loci/ANT2019p2iec).\n",
      "Summary: 1 ANTARES locus/loci found for 1.000000 arcsec search at 202.426642, 47.188053\n"
     ]
    }
   ],
   "source": [
    "ANT_search_rad = 1.0 # search radius (in arcseconds)\n",
    "\n",
    "loci = ANTARESQuery(ra,dec,ANT_search_rad)\n",
    "\n",
    "# Defining a condition to see if loci are found\n",
    "locifound = len(loci)>0"
   ]
  },
  {
   "cell_type": "markdown",
   "id": "9e568ffa-a161-4b45-9671-f1ffc2bf9ec0",
   "metadata": {},
   "source": [
    "If a locus or multiple loci are found, then the following cell will plot the light curves in order of closest to furthest away from the search coordinates."
   ]
  },
  {
   "cell_type": "code",
   "execution_count": 9,
   "id": "b14302da-066e-4e1c-b1d6-a2db29be4ac0",
   "metadata": {},
   "outputs": [
    {
     "data": {
      "image/png": "[encoded data removed]",
      "text/plain": [
       "<Figure size 720x432 with 1 Axes>"
      ]
     },
     "metadata": {
      "needs_background": "light"
     },
     "output_type": "display_data"
    }
   ],
   "source": [
    "# Plot Locus/Loci in order of closest to furthest away\n",
    "\n",
    "if locifound:\n",
    "    for i in np.arange(len(loci)):\n",
    "        fig = plt.figure(figsize=(10, 6))\n",
    "        df = get_by_id(loci[i][0]).timeseries.to_pandas()\n",
    "        df = df[['ant_mjd','ant_mag', 'ztf_fid', 'ztf_magpsf', 'ztf_sigmapsf']]\n",
    "        dn = df.dropna()\n",
    "        plt.errorbar(dn['ant_mjd'][dn['ztf_fid']==2], dn['ztf_magpsf'][dn['ztf_fid']==2], dn['ztf_sigmapsf'][dn['ztf_fid']==2],marker = 'o',\n",
    "                     markersize = 10, mec = 'black', ls = 'none', c='red', alpha=alpha,label = 'ZTF r')\n",
    "        plt.errorbar(dn['ant_mjd'][dn['ztf_fid']==1], dn['ztf_magpsf'][dn['ztf_fid']==1], dn['ztf_sigmapsf'][dn['ztf_fid']==1],marker = 'o',\n",
    "                     markersize = 10, mec = 'black', ls = 'none', c='green', alpha=alpha,label = 'ZTF g')\n",
    "        plt.title('ZTF Light curve of Locus_id=%s' % (loci[i][0]), **tfont)\n",
    "        plt.ylabel('Mag', **hfont)\n",
    "        plt.xlabel('MJD', **hfont)\n",
    "        plt.xticks(**hfont)\n",
    "        plt.yticks(**hfont)\n",
    "        plt.legend(loc = 'lower left', fontsize = 12)\n",
    "        plt.tight_layout()\n",
    "        plt.gca().invert_yaxis()\n",
    "        plt.show()\n",
    "else:\n",
    "    print('No loci found')"
   ]
  },
  {
   "cell_type": "markdown",
   "id": "e463829a-0b4c-4d19-8e4e-a1185254ef2e",
   "metadata": {},
   "source": [
    "We assume that the nearest loci to the entered coordinates (i.e. LociInd = 0) is the correct source to be used for the rest of the notebook. However \"LociInd\" can be adjusted if another loci located furter from the specified coordinates is correct."
   ]
  },
  {
   "cell_type": "code",
   "execution_count": 10,
   "id": "e9bf3c3c-fbb2-4d85-b1af-9fa06ed94e2a",
   "metadata": {},
   "outputs": [
    {
     "name": "stdout",
     "output_type": "stream",
     "text": [
      "Defining coordinates of closest locus ANT2019p2iec located at 202.4266929553846 47.18796056153846 \n",
      " (0.379326 arcsec from input location)\n"
     ]
    }
   ],
   "source": [
    "# Defining antid and locus for closest locus\n",
    "\n",
    "LociInd = 0 # This grabs the index of the closest locus to the input coordinates\n",
    "\n",
    "if locifound:\n",
    "    antid = loci[LociInd][0]\n",
    "    locus = get_by_id(antid)\n",
    "    print('Defining coordinates of closest locus',locus.locus_id, 'located at', locus.ra, locus.dec,\n",
    "          '\\n (%f arcsec from input location)' %(np.sqrt((locus.ra-ra)**2+(locus.dec-dec)**2)*3600))\n",
    "    \n",
    "    df = get_by_id(loci[LociInd][0]).timeseries.to_pandas()\n",
    "    df = df[['ant_mjd','ant_mag', 'ztf_fid', 'ztf_magpsf', 'ztf_sigmapsf']]\n",
    "    PhotTabZTF_ANTARES = QTable()\n",
    "    PhotTabZTF_ANTARES['MJD'] = df['ant_mjd']\n",
    "    PhotTabZTF_ANTARES['ZTF_fid'] = df['ztf_fid']\n",
    "    PhotTabZTF_ANTARES['Mag_psf'] = df['ztf_magpsf']\n",
    "    PhotTabZTF_ANTARES['Mag_psf_sigma'] = df['ztf_sigmapsf']\n",
    "    PhotTabZTF_ANTARES = PhotTabZTF_ANTARES[~np.isnan(PhotTabZTF_ANTARES['Mag_psf'])]\n",
    "else:\n",
    "    print('No loci found')"
   ]
  },
  {
   "cell_type": "markdown",
   "id": "75896221-5657-4510-b0d7-fd84ff27fbc1",
   "metadata": {},
   "source": [
    "Export ZTF photometry of locus specified above from ANTARES Client"
   ]
  },
  {
   "cell_type": "code",
   "execution_count": 11,
   "id": "62f88170-9dfc-45ec-8055-45ec2283b372",
   "metadata": {},
   "outputs": [
    {
     "name": "stdout",
     "output_type": "stream",
     "text": [
      "ZTF Photometry written to /home/jail/dlusers/robertdemo/ryannb01/v5/PhotometryTables/ZTF_ANTARES_Forced_Photometry_ANT2019p2iec.dat\n"
     ]
    }
   ],
   "source": [
    "if locifound:\n",
    "    ascii.write(PhotTabZTF_ANTARES, fpath+'/ZTF_ANTARES_Forced_Photometry_%s.dat' % antid, overwrite=True)\n",
    "    print('ZTF Photometry written to', fpath+'/ZTF_ANTARES_Forced_Photometry_%s.dat' % antid)\n",
    "else:\n",
    "    print('No loci found')"
   ]
  },
  {
   "cell_type": "markdown",
   "id": "f74e809b-e14d-41c7-bfc3-82e6bd078ccd",
   "metadata": {},
   "source": [
    "<a class=\"anchor\" id=\"chapter2\"></a>\n",
    "# Chapter 2 - Spitzer Query and Forced Photometry\n",
    "\n",
    "Now, we will search for any Spitzer/IRAC Ch1 (3.6 $\\mu$m) and/or Ch2 (4.5 $\\mu$m) images around the specified coordinates or ANTARES locus. If images are found, then we will perform forced aperture on those images. "
   ]
  },
  {
   "cell_type": "markdown",
   "id": "e238bc50-0d58-4d8c-a405-86615bb8f801",
   "metadata": {},
   "source": [
    "## Searching for Spitzer/IRAC Coverage at Object Location\n",
    "First, let's see if the object has been imaged by Spitzer IRAC Ch1 or Ch2. If there are no images found, then the Spitzer Forced Photometry section should be skipped."
   ]
  },
  {
   "cell_type": "code",
   "execution_count": 12,
   "id": "eca94060-81c2-4fb0-89a6-aaca41d14160",
   "metadata": {},
   "outputs": [
    {
     "name": "stdout",
     "output_type": "stream",
     "text": [
      "109 Spitzer/IRAC (Ch1 and/or Ch2) images found for ANT2019p2iec around 202.426693, 47.187961\n"
     ]
    }
   ],
   "source": [
    "# Search if any Spitzer/IRAC Ch1 or Ch2 data around ANTARES locus or (if no locus is found) the specified coordinates in previous section\n",
    "\n",
    "im_search_rad = 10/3600 #Searches for images within 10'' of ra and dec\n",
    "\n",
    "if locifound:\n",
    "    ra_ = locus.ra\n",
    "    dec_ = locus.dec\n",
    "    string = \"%s around\" % antid\n",
    "else:\n",
    "    ra_ = ra\n",
    "    dec_ = dec\n",
    "    string = \"source at\"\n",
    "    \n",
    "try:\n",
    "    pos = sha.query(ra=ra_,dec=dec_,size=im_search_rad)\n",
    "except Exception:\n",
    "    print('no images found for %s' % antid)\n",
    "else:\n",
    "    pos['wavelength'] = np.char.strip(pos['wavelength']) # This strips the white spaces in the channel names\n",
    "    filtcond = ((pos['wavelength']=='IRAC 3.6um') | (pos['wavelength']=='IRAC 4.5um'))\n",
    "    if len(pos[filtcond]) > 0:\n",
    "        print('%i Spitzer/IRAC (Ch1 and/or Ch2) images found for %s %f, %f' % (len(pos[filtcond]), string, ra_, dec_))"
   ]
  },
  {
   "cell_type": "markdown",
   "id": "a87dc2fb-1f63-4b92-85f8-013cbc8f497e",
   "metadata": {},
   "source": [
    "Running the forced aperture photometry script on all Spitzer/IRAC Ch1 and Ch2 images at specified coordinates. This may take up to ~5 minutes depending on your internet connection and how many images are found. Note that there may be warnings because the coordinates may fall outside the field of view of the observations, which will be removed in the cell after the following one."
   ]
  },
  {
   "cell_type": "code",
   "execution_count": 13,
   "id": "879e3eb6-e784-4716-acf4-8021111e2932",
   "metadata": {
    "tags": []
   },
   "outputs": [
    {
     "name": "stderr",
     "output_type": "stream",
     "text": [
      "100%|██████████| 109/109 [00:47<00:00,  2.32it/s]\n"
     ]
    },
    {
     "name": "stdout",
     "output_type": "stream",
     "text": [
      "CPU times: user 14.3 s, sys: 3.5 s, total: 17.8 s\n",
      "Wall time: 47.3 s\n"
     ]
    }
   ],
   "source": [
    "%%time\n",
    "SpitzerPhotTab = SpitzerForcedPhot(ra_,dec_)"
   ]
  },
  {
   "cell_type": "markdown",
   "id": "f205bcdd-9013-465f-8fed-180e68053f5a",
   "metadata": {},
   "source": [
    "Check the usable data from the Spitzer forced photometry output. As mentioned above, some measurements include positions that are outside the field of view and show up as NaNs. These are removed in the following cell."
   ]
  },
  {
   "cell_type": "code",
   "execution_count": 14,
   "id": "bfc9e342-0864-4a73-8009-bacc74c4809e",
   "metadata": {},
   "outputs": [
    {
     "name": "stdout",
     "output_type": "stream",
     "text": [
      "87 out of 109 Spitzer/IRAC Ch1 and Ch2 images are usable\n"
     ]
    }
   ],
   "source": [
    "SpitzerPhotTabUsable = SpitzerPhotTab[~np.isnan(SpitzerPhotTab['Flux'])]\n",
    "print('%i out of %i Spitzer/IRAC Ch1 and Ch2 images are usable' % (len(SpitzerPhotTabUsable), len(pos[filtcond])))"
   ]
  },
  {
   "cell_type": "markdown",
   "id": "8897c954-d59b-4072-9b5e-bf89573c27bf",
   "metadata": {},
   "source": [
    "Uncomment to print out Spitzer IRAC Ch1/Ch2 table with usable photometry"
   ]
  },
  {
   "cell_type": "markdown",
   "id": "e60a9c6e-baae-49e6-965c-1efc2f6eab07",
   "metadata": {},
   "source": [
    "# SpitzerPhotTabUsable"
   ]
  },
  {
   "cell_type": "markdown",
   "id": "e3e9dbb9-4300-42bb-9fd1-2eb6f2b1f966",
   "metadata": {},
   "source": [
    "Plotting Spitzer/IRAC Ch1 and Ch2 Light Curve with a specified SNR cut."
   ]
  },
  {
   "cell_type": "code",
   "execution_count": 15,
   "id": "e8ac1d53-3e05-435c-8d4e-763b74c6ad40",
   "metadata": {},
   "outputs": [
    {
     "data": {
      "image/png": "[encoded data removed]",
      "text/plain": [
       "<Figure size 720x432 with 1 Axes>"
      ]
     },
     "metadata": {
      "needs_background": "light"
     },
     "output_type": "display_data"
    }
   ],
   "source": [
    "# Defining SNR cut and Ch1/Ch2 filter conditions\n",
    "SNRcut = 3 #Can change this to show higher SNR detections\n",
    "ch1cond = np.where((SpitzerPhotTabUsable['Channel']==1) & (SpitzerPhotTabUsable['SNR']>SNRcut))\n",
    "ch2cond = np.where((SpitzerPhotTabUsable['Channel']==2) & (SpitzerPhotTabUsable['SNR']>SNRcut))\n",
    "\n",
    "# Plotting\n",
    "fig = plt.figure(figsize=(10, 6))\n",
    "plt.xlabel('MJD')\n",
    "plt.ylabel('mag')\n",
    "if locifound:\n",
    "    plt.title('Spitzer Forced Photometry of %s' % (antid),**tfont)\n",
    "else:\n",
    "    plt.title('Spitzer Forced Photometry at %.4f, %.4f' % (ra,dec),**tfont)\n",
    "plt.ylabel('Mag', **hfont)\n",
    "plt.xlabel('MJD', **hfont)\n",
    "plt.errorbar(SpitzerPhotTabUsable[ch1cond]['MJD'],SpitzerPhotTabUsable[ch1cond]['Mag'],yerr=SpitzerPhotTabUsable[ch1cond]['Mag_std_1sig'],\n",
    "             fmt='^',markersize=10,mec='black',color='tab:blue',ecolor='gray',label='Spitzer/IRAC Ch1 (3.6 $\\mu$m)')\n",
    "plt.errorbar(SpitzerPhotTabUsable[ch2cond]['MJD'],SpitzerPhotTabUsable[ch2cond]['Mag'],yerr=SpitzerPhotTabUsable[ch2cond]['Mag_std_1sig'],\n",
    "             fmt='^',markersize=10,mec='black',color='tab:red',ecolor='gray',label='Spitzer/IRAC Ch2 (4.5 $\\mu$m)')\n",
    "plt.xticks(**hfont)\n",
    "plt.yticks(**hfont)\n",
    "plt.legend(fontsize = 16)\n",
    "plt.tight_layout()\n",
    "plt.gca().invert_yaxis()\n",
    "plt.show()"
   ]
  },
  {
   "cell_type": "markdown",
   "id": "cb3c7ae6-d47f-4d71-b294-5a59709f4bb0",
   "metadata": {},
   "source": [
    "Export usable Spitzer/IRAC Ch1 and Ch2 Photometry Table. If an ANTARES locus was found at the search coordinates, then that will be used in the naming scheme of the photometry table. If no ANTARES locus was found, then the coordinates are used in the file name."
   ]
  },
  {
   "cell_type": "code",
   "execution_count": 16,
   "id": "2af04902-7bc3-48b8-9156-2d27c6e2b71c",
   "metadata": {},
   "outputs": [
    {
     "name": "stdout",
     "output_type": "stream",
     "text": [
      "Spitzer Forced Photometry written to /home/jail/dlusers/robertdemo/ryannb01/v5/PhotometryTables/Spitzer_Forced_Photometry_ANT2019p2iec.dat\n"
     ]
    }
   ],
   "source": [
    "numstring = \"%s\" % antid if locifound else \"%.4f_%.4f\" % (ra,dec)\n",
    "fname = fpath + os.path.sep + \"Spitzer_Forced_Photometry_\" + numstring + \".dat\"\n",
    "ascii.write(SpitzerPhotTabUsable,fname,overwrite=True)\n",
    "print('Spitzer Forced Photometry written to',fname)"
   ]
  },
  {
   "cell_type": "markdown",
   "id": "370fe53f-4d58-47e4-b14b-8fcf56e7daad",
   "metadata": {},
   "source": [
    "<a class=\"anchor\" id=\"chapter3\"></a>\n",
    "# Chapter 3 - ATLAS Forced Photometry\n",
    "In this section, we request [ATLAS](https://atlas.fallingstar.com/) forced photometry following the python script provided in their [API Guide](https://fallingstar-data.com/forcedphot/apiguide/).\n",
    "\n",
    "**You may use the API token for the Astro DataLab account on the ATLAS Forced Photometry server which is provided below, but we encourage you to create your own ATLAS FP account from [this link](https://fallingstar-data.com/forcedphot/register/) since users of the DataLab account will share the same queue (and thus your requests may take longer).**\n",
    "\n",
    "Indicate in the cell below if you would like to use the DataLab API token on the ATLAS FP server or if you would like to use your own ATLAS FP account.\n",
    "\n",
    "If you would like to use your own account, set \"UseDLToken=False\" and uncomment and set \"ATLASFPuname\" and \"ATLASFPpass\" to your ATLAS username and password, respectively.\n"
   ]
  },
  {
   "cell_type": "code",
   "execution_count": 17,
   "id": "56089673-8bcf-42d8-a55c-a57e9780cd12",
   "metadata": {},
   "outputs": [
    {
     "name": "stdout",
     "output_type": "stream",
     "text": [
      "Using the Astro DataLab token\n"
     ]
    }
   ],
   "source": [
    "UseDLToken = True #True = use DataLab API token; False = use username and password \n",
    "\n",
    "#ATLASFPuname = '[ENTER USERNAME]'\n",
    "#ATLASFPpass = '[ENTER PASSWORD]'\n",
    "\n",
    "#----Setting API token----\n",
    "\n",
    "\n",
    "BASEURL = \"https://fallingstar-data.com/forcedphot\"\n",
    "\n",
    "if UseDLToken:\n",
    "    token = 'dd8e0af8c50bb9dd145257f08c53882b5a19d0fd'\n",
    "    print('Using the Astro DataLab token')\n",
    "    headers = {'Authorization': f'Token {token}', 'Accept': 'application/json'} \n",
    "else:\n",
    "    resp = requests.post(url=f\"{BASEURL}/api-token-auth/\", data={'username': \"%s\" % (ATLASFPuname), 'password': \"%s\" % (ATLASFPpass)})\n",
    "    json = resp.json()\n",
    "    \n",
    "    if resp.status_code == 200:\n",
    "        token = json['token']\n",
    "        print(f'Using the token from {ATLASFPuname}. Your token is {token}')\n",
    "        headers = {'Authorization': f'Token {token}', 'Accept': 'application/json'}\n",
    "    else:\n",
    "        print(f'ERROR {resp.status_code}')\n",
    "        print(json)    "
   ]
  },
  {
   "cell_type": "markdown",
   "id": "5ee7f61d-16d1-4359-b6ff-93802f25cf59",
   "metadata": {},
   "source": [
    "The following cell submits the search request at the coordinates of the ANTARES locus or (if no loci are found) the specified coordinates at the beginning of the notebook. You can specify whether or not to use the non-subtracted images (NonSub = 1 if you wish to use the non-subtracted images). The example below uses the reference-subtracted images (NonSub = 0). The minimum MJD date can also be modified. It is set to MJD 58400 in the example below. Set it to a smaller value (e.g., `mjdmin = 57000`) if you wish to process a longer light curve.\n",
    "\n",
    "**Do not execute following cell multiple times since it will create more queues**"
   ]
  },
  {
   "cell_type": "code",
   "execution_count": 18,
   "id": "d3901988-5cd1-4822-9685-d8ecdbc2f14c",
   "metadata": {},
   "outputs": [
    {
     "name": "stdout",
     "output_type": "stream",
     "text": [
      "Running (Reference-subtracted) ATLAS Foced Photometry of ANT2019p2iec\n",
      "The task URL is successfully queued at https://fallingstar-data.com/forcedphot/queue/515875/\n"
     ]
    }
   ],
   "source": [
    "NonSub = 0 #Use Non-subtracted images? 1 = Yes, anything else = No\n",
    "\n",
    "mjdmin = 58400. #Can change the minimum MJD\n",
    "\n",
    "task_url = None\n",
    "while not task_url:\n",
    "    with requests.Session() as s:\n",
    "        if NonSub == 1:\n",
    "            if locifound:\n",
    "                resp = s.post(f\"{BASEURL}/queue/\", headers=headers, data={\n",
    "                'ra': locus.ra, 'dec': locus.dec, 'mjd_min': mjdmin, 'send_email': False,\"use_reduced\": True})\n",
    "                print('Running (Non-subtracted) ATLAS Foced Photometry of %s' %antid)\n",
    "            else:\n",
    "                resp = s.post(f\"{BASEURL}/queue/\", headers=headers, data={\n",
    "                'ra': ra, 'dec': dec, 'mjd_min': mjdmin, 'send_email': False,\"use_reduced\": True})\n",
    "                print('Running (Non-subtracted) ATLAS Foced Photometry at %f, %f' % (ra, dec))\n",
    "        else:\n",
    "            if locifound:\n",
    "                resp = s.post(f\"{BASEURL}/queue/\", headers=headers, data={\n",
    "                'ra': locus.ra, 'dec': locus.dec, 'mjd_min': mjdmin, 'send_email': False})\n",
    "                print('Running (Reference-subtracted) ATLAS Foced Photometry of %s' %antid)\n",
    "            else:\n",
    "                resp = s.post(f\"{BASEURL}/queue/\", headers=headers, data={\n",
    "                'ra': ra, 'dec': dec, 'mjd_min': mjdmin, 'send_email': False})\n",
    "                print('Running (Reference-subtracted) ATLAS Foced Photometry at %f, %f' % (ra, dec))\n",
    "            \n",
    "        json = resp.json()\n",
    "        \n",
    "        if resp.status_code == 201:  # successfully queued\n",
    "            task_url = json['url']\n",
    "            print(f'The task URL is successfully queued at {task_url}')\n",
    "        elif resp.status_code == 429:  # throttled\n",
    "            message = json[\"detail\"]\n",
    "            print(f'{resp.status_code} {message}')\n",
    "            t_sec = re.findall(r'available in (\\d+) seconds', message)\n",
    "            t_min = re.findall(r'available in (\\d+) minutes', message)\n",
    "            if t_sec:\n",
    "                waittime = int(t_sec[0])\n",
    "            elif t_min:\n",
    "                waittime = int(t_min[0]) * 60\n",
    "            else:\n",
    "                waittime = 10\n",
    "            print(f'Waiting {waittime} seconds')\n",
    "            time.sleep(waittime)\n",
    "        else:\n",
    "            print(f'ERROR {resp.status_code}')\n",
    "            print(json)\n",
    "            sys.exit()"
   ]
  },
  {
   "cell_type": "markdown",
   "id": "67211cef-71c8-4db2-aca7-0518d58fcde6",
   "metadata": {},
   "source": [
    "The following cell pings the ATLAS forced photometry server to checks on the status of the request. A text file link will be provided when finished. The time it takes to complete the task depends on the pressure on the ATLAS forced photometry server. An estimated completion time is around 5 - 10 minutes, which also depends on the minimum MJD specified in the above cell. "
   ]
  },
  {
   "cell_type": "code",
   "execution_count": 19,
   "id": "714adeef-3e34-4c33-92ec-07d0a33c9638",
   "metadata": {
    "scrolled": true,
    "tags": []
   },
   "outputs": [
    {
     "name": "stdout",
     "output_type": "stream",
     "text": [
      "Waiting for job to start. Checking again in 10 seconds...\n",
      "Task is running (started at 2023-06-14T15:12:25Z)\n",
      "Task is running (started at 2023-06-14T15:12:25Z)\n",
      "Task is running (started at 2023-06-14T15:12:25Z)\n",
      "Task is running (started at 2023-06-14T15:12:25Z)\n",
      "Task is running (started at 2023-06-14T15:12:25Z)\n",
      "Task is complete with results available at https://fallingstar-data.com/forcedphot/static/results/job515875.txt\n"
     ]
    }
   ],
   "source": [
    "result_url = None\n",
    "while not result_url:\n",
    "    with requests.Session() as s:\n",
    "        try:\n",
    "            resp = s.get(task_url, headers=headers)\n",
    "            json = resp.json()\n",
    "\n",
    "            if resp.status_code == 200:  # HTTP OK\n",
    "                if json['finishtimestamp']:\n",
    "                    result_url = json['result_url']\n",
    "                    textdata = s.get(result_url, headers=headers).text\n",
    "                    print(f\"Task is complete with results available at {result_url}\")\n",
    "                    break\n",
    "                elif json['starttimestamp']:\n",
    "                    print(f\"Task is running (started at {json['starttimestamp']})\")\n",
    "                else:\n",
    "                    print(\"Waiting for job to start. Checking again in 10 seconds...\")\n",
    "                time.sleep(10)\n",
    "        except Exception as e:\n",
    "            print(f'An error occurred: {str(e)}')\n",
    "            sys.exit()\n"
   ]
  },
  {
   "cell_type": "markdown",
   "id": "1cd43042-1e6b-4687-9f45-51c3ffffd2ed",
   "metadata": {},
   "source": [
    "If you already have a saved forced photometry task from the ATLAS server, you can skip the previous two cells and uncomment and execute the following."
   ]
  },
  {
   "cell_type": "code",
   "execution_count": 20,
   "id": "972d8447-13ee-4d0e-88f5-daeab1c3bc72",
   "metadata": {},
   "outputs": [],
   "source": [
    "#taskurl = '[LINK TO TXT FILE]' #e.g. ('https://fallingstar-data.com/forcedphot/static/results/job363930.txt')\n",
    "#textdata = requests.Session().get(taskurl).text"
   ]
  },
  {
   "cell_type": "markdown",
   "id": "37a77511-d876-4718-9f88-f366f93ecfae",
   "metadata": {},
   "source": [
    "We will now parse out the output text file from the ATLAS forced photometry server and filter out the negative values and where the flux uncertainty is 0. The last command deletes the queue from the server to reduce clutter."
   ]
  },
  {
   "cell_type": "code",
   "execution_count": 21,
   "id": "22f8f5fe-1beb-4673-8f7e-688438558d2d",
   "metadata": {},
   "outputs": [
    {
     "data": {
      "text/plain": [
       "<Response [204]>"
      ]
     },
     "execution_count": 21,
     "metadata": {},
     "output_type": "execute_result"
    }
   ],
   "source": [
    "dfresult = ascii.read(textdata)\n",
    "dfresult['SNR'] = np.divide(dfresult['uJy'], dfresult['duJy'], where=(dfresult['duJy'] != 0))\n",
    "\n",
    "# Simplifying naming and table\n",
    "PhotTabATLAS = QTable()\n",
    "PhotTabATLAS['MJD'] = dfresult['##MJD']\n",
    "PhotTabATLAS['Filter'] = dfresult['F']\n",
    "PhotTabATLAS['Flux'] = dfresult['uJy']\n",
    "PhotTabATLAS['Flux_std_1sig'] = dfresult['duJy']\n",
    "PhotTabATLAS['Mag'] = dfresult['m']\n",
    "PhotTabATLAS['Mag_std_1sig'] = dfresult['dm']\n",
    "PhotTabATLAS['SNR'] = dfresult['SNR']\n",
    "\n",
    "# Filtering out photometry where values are negative\n",
    "PhotTabATLAS = PhotTabATLAS[PhotTabATLAS['Flux']>0]\n",
    "\n",
    "# Deleting the ATLAS queue to reduce server storage usage\n",
    "s.delete(task_url, headers=headers)"
   ]
  },
  {
   "cell_type": "markdown",
   "id": "58c9763f-3f69-4ad1-836b-584a2ff15cb9",
   "metadata": {},
   "source": [
    "Plotting the ATLAS forced photometry light curves with a specified SNR cut-off. "
   ]
  },
  {
   "cell_type": "code",
   "execution_count": 22,
   "id": "f9a6f1aa-e46d-491f-a724-c4ebca0dfa9c",
   "metadata": {},
   "outputs": [
    {
     "data": {
      "image/png": "[encoded data removed]",
      "text/plain": [
       "<Figure size 720x432 with 1 Axes>"
      ]
     },
     "metadata": {
      "needs_background": "light"
     },
     "output_type": "display_data"
    }
   ],
   "source": [
    "SNRcut = 3 # Defining SNR cut for displaying points\n",
    "\n",
    "ocond = np.where((PhotTabATLAS['Filter']=='o') & (PhotTabATLAS['Flux']/PhotTabATLAS['Flux_std_1sig']>SNRcut))\n",
    "ccond = np.where((PhotTabATLAS['Filter']=='c') & (PhotTabATLAS['Flux']/PhotTabATLAS['Flux_std_1sig']>SNRcut))\n",
    "\n",
    "fig = plt.figure(figsize=(10,6))\n",
    "\n",
    "NonSub = 0\n",
    "str1 = \"Non\" if NonSub == 1 else \"Ref\"\n",
    "str2 = \"of %s\" % antid if locifound else \"at %.4f, %.4f\" % (ra,dec)\n",
    "plt.title(\"ATLAS (%s-sub) Forced Photometry %s\" % (str1,str2),**tfont)\n",
    "        \n",
    "\n",
    "plt.ylabel('Mag', **hfont)\n",
    "plt.xlabel('MJD', **hfont)\n",
    "\n",
    "#ATLAS\n",
    "plt.errorbar(PhotTabATLAS[ocond]['MJD'],PhotTabATLAS[ocond]['Mag'],yerr=PhotTabATLAS[ocond]['Mag_std_1sig'],\n",
    "             fmt='p',markersize=10,mec='black',c = 'orange', label = 'ATLAS o')\n",
    "plt.errorbar(PhotTabATLAS[ccond]['MJD'],PhotTabATLAS[ccond]['Mag'],yerr=PhotTabATLAS[ccond]['Mag_std_1sig'],\n",
    "             fmt='p',markersize=10,mec='black',c='cyan',label='ATLAS c')\n",
    "\n",
    "plt.xticks(**hfont)\n",
    "plt.yticks(**hfont)\n",
    "plt.legend(loc = 'lower left', fontsize = 12)\n",
    "plt.tight_layout()\n",
    "plt.gca().invert_yaxis()\n",
    "plt.show()"
   ]
  },
  {
   "cell_type": "markdown",
   "id": "09c14f70-96c5-4aa9-acde-2ee403f0b966",
   "metadata": {},
   "source": [
    "Exporting the ATLAS Forced Photometry table. Note that the name depends on whether or not an ANTARES locus was found as well as whether or not reference-subtracted forced photometry was done."
   ]
  },
  {
   "cell_type": "code",
   "execution_count": 23,
   "id": "2c4c401e-9bd1-4270-b0ba-ad9c611acf87",
   "metadata": {},
   "outputs": [
    {
     "name": "stdout",
     "output_type": "stream",
     "text": [
      "ATLAS ref-subtracted forced photometry of ANT2019p2iec written out in /home/jail/dlusers/robertdemo/ryannb01/v5/PhotometryTables/ATLAS_RefSub_Forced_Photometry_ANT2019p2iec.dat\n"
     ]
    }
   ],
   "source": [
    "if NonSub == 1:\n",
    "    if locifound:\n",
    "        ascii.write(PhotTabATLAS, fpath+'/ATLAS_NonSub_Forced_Photometry_%s.dat' % antid, overwrite=True) \n",
    "        print('ATLAS non-subtracted forced photometry of %s written out in' %antid,fpath+'/ATLAS_NonSub_Forced_Photometry_%s.dat' % antid)\n",
    "    else:\n",
    "        ascii.write(PhotTabATLAS, fpath+'/ATLAS_NonSub_Forced_Photometry_%.4f_%.4f.dat' % (ra,dec), overwrite=True) \n",
    "        print('ATLAS non-subtracted forced photometry at %.4f, %.4f written out in'% (ra,dec),fpath+'/ATLAS_NonSub_Forced_Photometry_%.4f_%.4f.dat' % (ra,dec))\n",
    "else:\n",
    "    if locifound:\n",
    "        ascii.write(PhotTabATLAS, fpath+'/ATLAS_RefSub_Forced_Photometry_%s.dat' % antid, overwrite=True) \n",
    "        print('ATLAS ref-subtracted forced photometry of %s written out in' % antid,fpath+'/ATLAS_RefSub_Forced_Photometry_%s.dat' % (antid))\n",
    "    else:\n",
    "        ascii.write(PhotTabATLAS, fpath+'/ATLAS_RefSub_Forced_Photometry_%.4f_%.4f.dat' % (ra,dec), overwrite=True) \n",
    "        print('ATLAS ref-subtracted forced photometry at %.4f, %.4f written out in'%(ra, dec),fpath+'/ATLAS_RefSub_Forced_Photometry_%.4f_%.4f.dat' % (ra,dec))\n"
   ]
  },
  {
   "cell_type": "markdown",
   "id": "6af70d67-8a39-40b1-9ad1-916cdc41a36b",
   "metadata": {},
   "source": [
    "<a class=\"anchor\" id=\"chapter4\"></a>\n",
    "# Chapter 4 - (NEO)WISE Photometry Search\n",
    "\n",
    "Here, we utilize the unTimely Catalog [(Meisner et al. 2023)](https://ui.adsabs.harvard.edu/abs/2023AJ....165...36M/abstract), a time-domain catalog of detections based on Wide-field Infrared Survey Explorer (WISE) and NEOWISE observations spanning the 2010 through 2020 time period. In order to search the unTimely Catalog for (NEO)WISE photometry, we use the [unTimely Catalog Explorer](https://github.com/fkiwy/unTimely_Catalog_explorer#1). This can also be used to create finder charts and image blinks, but we will only use it to search for photometric measurements.\n",
    "\n",
    "First, we set up a directory to host the unTimely catalog files.\n"
   ]
  },
  {
   "cell_type": "code",
   "execution_count": 24,
   "id": "ab6523ff-265c-4a57-bdfa-6d66b6bac169",
   "metadata": {},
   "outputs": [],
   "source": [
    "WISEFolderName = 'WISE_Files'\n",
    "Wpath = HomeDir + os.path.sep + WISEFolderName # path to PhotometryTables\n",
    "if not os.path.isdir(Wpath):\n",
    "    os.makedirs(Wpath)"
   ]
  },
  {
   "cell_type": "markdown",
   "id": "7b6c0d3c-ea99-4b57-9c12-5367820d4354",
   "metadata": {},
   "source": [
    "Now we can execute the search around the coordinate of the ANTARES locus or (if no locus is found) the specified coordinates at the beginning of the notebook. This cell can take around a minute to execute."
   ]
  },
  {
   "cell_type": "code",
   "execution_count": 25,
   "id": "c147801b-70bd-49f0-b942-bb87f9d90087",
   "metadata": {
    "scrolled": true,
    "tags": []
   },
   "outputs": [
    {
     "name": "stdout",
     "output_type": "stream",
     "text": [
      "Searching unWISE catalog for photometry of ANT2019p2iec\n",
      "Scanning catalog index file ...\n",
      "Scanning individual catalog files ...\n",
      "./202/2029p469/2029p469_w1_e000.cat.fits.gz\n",
      "./202/2029p469/2029p469_w2_e000.cat.fits.gz\n",
      "./202/2029p469/2029p469_w1_e001.cat.fits.gz\n",
      "./202/2029p469/2029p469_w2_e001.cat.fits.gz\n",
      "./202/2029p469/2029p469_w1_e002.cat.fits.gz\n",
      "./202/2029p469/2029p469_w2_e002.cat.fits.gz\n",
      "./202/2029p469/2029p469_w1_e003.cat.fits.gz\n",
      "./202/2029p469/2029p469_w2_e003.cat.fits.gz\n",
      "./202/2029p469/2029p469_w1_e004.cat.fits.gz\n",
      "./202/2029p469/2029p469_w2_e004.cat.fits.gz\n",
      "./202/2029p469/2029p469_w1_e005.cat.fits.gz\n",
      "./202/2029p469/2029p469_w2_e005.cat.fits.gz\n",
      "./202/2029p469/2029p469_w1_e006.cat.fits.gz\n",
      "./202/2029p469/2029p469_w2_e006.cat.fits.gz\n",
      "./202/2029p469/2029p469_w1_e007.cat.fits.gz\n",
      "./202/2029p469/2029p469_w2_e007.cat.fits.gz\n",
      "./202/2029p469/2029p469_w1_e008.cat.fits.gz\n",
      "./202/2029p469/2029p469_w2_e008.cat.fits.gz\n",
      "./202/2029p469/2029p469_w1_e009.cat.fits.gz\n",
      "./202/2029p469/2029p469_w2_e009.cat.fits.gz\n",
      "./202/2029p469/2029p469_w1_e010.cat.fits.gz\n",
      "./202/2029p469/2029p469_w2_e010.cat.fits.gz\n",
      "./202/2029p469/2029p469_w1_e011.cat.fits.gz\n",
      "./202/2029p469/2029p469_w2_e011.cat.fits.gz\n",
      "./202/2029p469/2029p469_w1_e012.cat.fits.gz\n",
      "./202/2029p469/2029p469_w2_e012.cat.fits.gz\n",
      "./202/2029p469/2029p469_w1_e013.cat.fits.gz\n",
      "./202/2029p469/2029p469_w2_e013.cat.fits.gz\n",
      "./202/2029p469/2029p469_w1_e014.cat.fits.gz\n",
      "./202/2029p469/2029p469_w2_e014.cat.fits.gz\n",
      "./202/2029p469/2029p469_w1_e015.cat.fits.gz\n",
      "./202/2029p469/2029p469_w2_e015.cat.fits.gz\n",
      "CPU times: user 27.7 s, sys: 344 ms, total: 28.1 s\n",
      "Wall time: 28.1 s\n"
     ]
    }
   ],
   "source": [
    "%%time\n",
    "ucx = unTimelyCatalogExplorer(directory=Wpath, cache=True, show_progress=True, timeout=300,\n",
    "                              catalog_base_url='http://unwise.me/data/neo7/untimely-catalog/',\n",
    "                              catalog_index_file='untimely_index-neo7.fits')\n",
    "\n",
    "str = \"of %s\" % antid if locifound else \"at %f, %f\" % (ra_,dec_)\n",
    "    \n",
    "print('Searching unWISE catalog for photometry %s' % str)\n",
    "result_table = ucx.search_by_coordinates(ra_, dec_, box_size=100, cone_radius=None, show_result_table_in_browser=False,\n",
    "                                         save_result_table=True, result_table_format='ascii.ipac', result_table_extension='dat')"
   ]
  },
  {
   "cell_type": "markdown",
   "id": "1d2b103e-dea1-4da1-9937-96312f196d24",
   "metadata": {},
   "source": [
    "Next, we parse out the .dat file output from the unTimely catalog search results, where the name of the file is based on the search coordinates. We filter the table to search for measurements within a given radius of the search coordinates. Below, we set the search radius to 5 arcseconds (\"rad_as = 5\"). The number of detections within the specified search radius in both W1 and W2 filters will then be provided. "
   ]
  },
  {
   "cell_type": "code",
   "execution_count": 26,
   "id": "42000c57-7c24-41d5-a387-80d073cf1503",
   "metadata": {},
   "outputs": [
    {
     "name": "stdout",
     "output_type": "stream",
     "text": [
      "3 W1 detections found within 5.000000 arcsec of ANT2019p2iec\n",
      "3 W2 detections found within 5.000000 arcsec of ANT2019p2iec\n"
     ]
    }
   ],
   "source": [
    "# Read in Wise phot table\n",
    "if dec>0:\n",
    "    lctab = ascii.read(Wpath+'/unTimely_Catalog_search results_%s+%s.dat' %(np.round(ra_,6), np.round(dec_,6)))\n",
    "else:\n",
    "    lctab = ascii.read(Wpath+'/unTimely_Catalog_search results_%s%s.dat' %(np.round(ra_,6), np.round(dec_,6)))\n",
    "\n",
    "# Filtering for target within 'rad_as' arcseconds\n",
    "rad_as = 5\n",
    "radcond = np.where(lctab['target_dist']<rad_as)        \n",
    "\n",
    "# Simplifying naming and table\n",
    "PhotTabWISE = QTable()\n",
    "PhotTabWISE['MJD'] = lctab[radcond]['mjdmean']\n",
    "PhotTabWISE['Band'] = lctab[radcond]['band']\n",
    "PhotTabWISE['Flux'] = lctab[radcond]['flux']\n",
    "PhotTabWISE['Flux_std_1sig'] = lctab[radcond]['dflux']\n",
    "PhotTabWISE['Mag'] = lctab[radcond]['mag']\n",
    "PhotTabWISE['Mag_std_1sig'] = lctab[radcond]['dmag']\n",
    "PhotTabWISE['SNR'] = lctab[radcond]['flux']/lctab[radcond]['dflux']\n",
    "PhotTabWISE['SNR'] = PhotTabWISE['SNR'].value\n",
    "PhotTabWISE['Target_dist']=lctab[radcond]['target_dist']\n",
    "\n",
    "w1cond = np.where(PhotTabWISE['Band']==1) \n",
    "w2cond = np.where(PhotTabWISE['Band']==2)\n",
    "\n",
    "if locifound:\n",
    "    print('%i W1 detections found within %f arcsec of %s' % (len(PhotTabWISE[w1cond]), rad_as, antid))\n",
    "    print('%i W2 detections found within %f arcsec of %s' % (len(PhotTabWISE[w2cond]), rad_as, antid))\n",
    "else:\n",
    "    print('%i W1 detections found within %f arcsec of %.4f, %.4f' % (len(PhotTabWISE[w1cond]), rad_as, ra, dec))\n",
    "    print('%i W2 detections found within %f arcsec of %.4f, %.4f' % (len(PhotTabWISE[w2cond]), rad_as, ra, dec))"
   ]
  },
  {
   "cell_type": "markdown",
   "id": "231f1b0f-1bb6-4d3f-a649-3306d825adfc",
   "metadata": {},
   "source": [
    "# PhotTabWISE"
   ]
  },
  {
   "cell_type": "markdown",
   "id": "9f1df990-c88d-45b1-8508-00aacf70ea18",
   "metadata": {},
   "source": [
    "Below are additional options for using the unTimely Catalog Explorer (creating finder charts, light curves, and image blinks). Uncomment the commands below if you wish test out the commands."
   ]
  },
  {
   "cell_type": "code",
   "execution_count": 27,
   "id": "83e36632-f7e8-4d72-89ff-919583b7cb15",
   "metadata": {},
   "outputs": [],
   "source": [
    "#Additional options for exploring the WISE data\n",
    "\n",
    "#ucx.create_finder_charts(overlays=True, overlay_color='green', overlay_labels=False, overlay_label_color='red',\n",
    "#                         image_contrast=5, open_file=False, file_format='pdf')\n",
    "\n",
    "#ucx.create_light_curves(photometry_radius=2, yticks=None, open_file=False, file_format='png', overplot_l1b_phot=True, bin_l1b_phot=True)\n",
    "\n",
    "#ucx.create_image_blinks(blink_duration=300, image_zoom=10, image_contrast=5, separate_scan_dir=False, display_blinks=False)"
   ]
  },
  {
   "cell_type": "markdown",
   "id": "b87700bb-abe3-4be1-b466-335516485cd6",
   "metadata": {},
   "source": [
    "Plotting the (NEO)WISE Photometry from the unWISE Catalog Explorer with a specified SNR cut-off."
   ]
  },
  {
   "cell_type": "code",
   "execution_count": 28,
   "id": "f058284a-4898-488d-a9e0-41380ebe2ffa",
   "metadata": {},
   "outputs": [
    {
     "data": {
      "image/png": "[encoded data removed]",
      "text/plain": [
       "<Figure size 720x432 with 1 Axes>"
      ]
     },
     "metadata": {
      "needs_background": "light"
     },
     "output_type": "display_data"
    }
   ],
   "source": [
    "#Plotting WISE photometry\n",
    "\n",
    "fig = plt.figure(figsize=(10, 6))\n",
    "\n",
    "if locifound:\n",
    "    plt.title('unWISE Light curve of %s' % antid,**tfont)\n",
    "else:    \n",
    "    plt.title('unWISE Light curve at %.4f, %.4f' % (ra,dec),**tfont)\n",
    "plt.ylabel('Mag',**hfont)\n",
    "plt.xlabel('MJD',**hfont)\n",
    "\n",
    "SNRcut = 3\n",
    "w1cond = np.where((PhotTabWISE['Band']==1) & (PhotTabWISE['SNR']>SNRcut))\n",
    "w2cond = np.where((PhotTabWISE['Band']==2)& (PhotTabWISE['SNR']>SNRcut))\n",
    "plt.errorbar(PhotTabWISE[w1cond]['MJD'],PhotTabWISE[w1cond]['Mag'],yerr = PhotTabWISE[w1cond]['Mag_std_1sig'],fmt = 's',markersize = 10, mec = 'black',color = 'magenta',ecolor = 'gray',\n",
    "            label = 'WISE W1')\n",
    "plt.errorbar(PhotTabWISE[w2cond]['MJD'],PhotTabWISE[w2cond]['Mag'],yerr = PhotTabWISE[w2cond]['Mag_std_1sig'],fmt = 's',markersize = 10, mec = 'black',color = 'black',ecolor = 'gray',\n",
    "            label = 'WISE W2')\n",
    "plt.xticks(**hfont)\n",
    "plt.yticks(**hfont)\n",
    "plt.legend(loc = 'lower left', fontsize = 12)\n",
    "plt.tight_layout()\n",
    "plt.gca().invert_yaxis()\n",
    "plt.show()"
   ]
  },
  {
   "cell_type": "markdown",
   "id": "cdf33da0-53eb-4b27-95ca-d91089cd196f",
   "metadata": {},
   "source": [
    "Write out the (NEO)WISE photometry table. Note that the naming scheme depends on whether or not an ANTARES locus is found at the search coordinates."
   ]
  },
  {
   "cell_type": "code",
   "execution_count": 29,
   "id": "b2d4ceb3-5e1d-473b-8170-547cf6a27854",
   "metadata": {},
   "outputs": [
    {
     "name": "stdout",
     "output_type": "stream",
     "text": [
      "unWISE photometry of ANT2019p2iec written out in /home/jail/dlusers/robertdemo/ryannb01/v5/PhotometryTables/unWISE_Photometry_ANT2019p2iec.dat\n"
     ]
    }
   ],
   "source": [
    "if locifound:\n",
    "    ascii.write(PhotTabWISE, fpath+'/unWISE_Photometry_%s.dat' % antid, overwrite=True) \n",
    "    print('unWISE photometry of %s written out in' % antid, fpath+'/unWISE_Photometry_%s.dat' % antid)\n",
    "else:\n",
    "    ascii.write(PhotTabWISE, fpath+'/unWISE_Photometry_%.4f_%.4f.dat' % (ra,dec), overwrite=True) \n",
    "    print('unWISE photometry at %.4f, %.4f written out in' % (ra, dec), fpath+'/unWISE_Photometry_%.4f_%.4f.dat' % (ra,dec))"
   ]
  },
  {
   "cell_type": "markdown",
   "id": "49de2c88-f304-4d9d-8f37-40d941cf2e3b",
   "metadata": {},
   "source": [
    "<a class=\"anchor\" id=\"resources\"></a>\n",
    "# Resources and references\n",
    "\n",
    "Jencson et al. (2019): *Discovery of an Intermediate-luminosity Red Transient in M51 and Its Likely Dust-obscured, Infrared-variable Progenitor*. The Astrophysical Journal Letters, 880, 20: https://ui.adsabs.harvard.edu/abs/2019ApJ...880L..20J/abstract\n",
    "\n",
    "Meisner et al. (2023): *unTimely: a Full-sky, Time-domain unWISE Catalog*.  \n",
    "The Astronomical Journal, 165, 36: https://ui.adsabs.harvard.edu/abs/2023AJ....165...36M/abstract\n",
    "\n",
    "Schlafly et al (2019): *The unWISE Catalog: Two Billion Infrared Sources from Five Years of WISE Imaging*. Astrophysical Journal Supplement, 240, 30: https://ui.adsabs.harvard.edu/abs/2019ApJS..240...30S/abstract\n",
    "\n",
    "Tonry et al. (2018): *ATLAS: A High-cadence All-sky Survey System*. Publications of the Astronomical Society of the Pacific, 130, 064505: https://ui.adsabs.harvard.edu/abs/2018PASP..130f4505T/abstract\n"
   ]
  }
 ],
 "metadata": {
  "kernelspec": {
   "display_name": "Python 3",
   "language": "python",
   "name": "python3"
  },
  "language_info": {
   "codemirror_mode": {
    "name": "ipython",
    "version": 3
   },
   "file_extension": ".py",
   "mimetype": "text/x-python",
   "name": "python",
   "nbconvert_exporter": "python",
   "pygments_lexer": "ipython3",
   "version": "3.8.8"
  }
 },
 "nbformat": 4,
 "nbformat_minor": 5
}
