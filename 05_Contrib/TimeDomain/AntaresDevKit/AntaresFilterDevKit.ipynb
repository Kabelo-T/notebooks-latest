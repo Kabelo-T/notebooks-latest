{
 "cells": [
  {
   "cell_type": "code",
   "execution_count": 13,
   "metadata": {},
   "outputs": [],
   "source": [
    "__author__ = 'Carl Stubens <carl.stubens@noirlab.edu>'\n",
    "__edited__ = 'Gautham Narayan, Chien-Hsiu Lee <chien-hsiu.lee@noirlab.edu>, ANTARES Team <antares@noirlab.edu>'\n",
    "__version__ = '20230425' # yyyymmdd\n",
    "__datasets__ = ['']\n",
    "__keywords__ = ['ANTARES', 'transient']"
   ]
  },
  {
   "cell_type": "markdown",
   "metadata": {},
   "source": [
    "# ANTARES Filter Development Kit\n",
    "\n",
    "_Carl Stubens, Gautham Narayan, Chien-Hsiu Lee, ANTARES Team._\n",
    "\n",
    "_Many thanks to Mike Fitzpatrick, Adam Scott, Knut Olsen, Jennifer Andrews, Robert Nikutta._\n",
    "\n",
    "## Summary\n",
    "\n",
    "This Notebook demonstrates how to write filters for [ANTARES](http://antares.noirlab.edu) and test them against a sample of real data from [ZTF](http://ztf.caltech.edu/).\n",
    "\n",
    "This Notebook is intended to be used in Astro Data Lab's Jupyter environment. There, you will have access to ANTARES data. If you're not running in Data Lab, [sign up for DataLab](https://datalab.noirlab.edu), then [log in to the notebook server](https://datalab.noirlab.edu/devbooks).\n",
    "\n",
    "For new Data Lab accounts, this notebook will be automatically included in your `notebooks/` directory. Otherwise, you can save this `.ipynb` notebook file locally, and then upload it to your Data Lab Jupyter notebook server (use the 'Upload' button in the upper right corner).\n",
    "\n",
    "In Data Lab, you MUST use the Kernel version \"Python 3 (ANTARES)\".\n",
    "## Goals\n",
    "\n",
    "To demonstrate:\n",
    "\n",
    "1. How to write filters using the ANTARES filter API.\n",
    "1. How to test filters against a small test dataset.\n",
    "\n",
    "\n",
    "## Table of Contents\n",
    "\n",
    "* [0. Background information on ANTARES](#background)\n",
    "* [1. Initalize the dev kit](#connect)\n",
    "* [2. Write a Filter](#write)\n",
    " * [2.1 Hello World](#write-one)\n",
    " * [2.2 Example of a real Filter](#write-two)\n",
    " * [2.3 Structure of a Filter](#write-three)\n",
    "* [3. Test a Filter](#test)\n",
    "* [4. Upload and use Data File](#data)\n",
    "* [5. Submit Filter to ANTARES](#submit)\n",
    "\n",
    "<a class=\"anchor\" id=\"background\"></a>\n",
    "## 0. Background information on ANTARES\n",
    "\n",
    "ANTARES receives alerts from surveys in real-time and sends them through a processing pipeline. The pipeline contains the following stages:\n",
    "\n",
    "1. Associate the Alert with the nearest point of known past measurements within a 1\" radius. We call this a Locus.\n",
    "2. Discard Alerts with a high probability of being false detections.\n",
    "3. Discard Alerts with poor image quality.\n",
    "4. Look up associated objects in our catalogs.\n",
    "5. If the Alert's Locus has two or more measurements on it, execute the Filters.\n",
    "\n",
    "The filters are python functions which take a LocusData object as a single parameter. Functions on the LocusData provide access to the Alert's properties, the data from past Alerts on the Locus, and the associated catalog objects. The LocusData also provides functions to set new properties on the Alert, and to send it to output streams.\n",
    "\n",
    "<a class=\"anchor\" id=\"connect\"></a>\n",
    "## 1. Initalize the dev kit\n",
    "\n",
    "This will configure the `antares` package to connect to the test database"
   ]
  },
  {
   "cell_type": "code",
   "execution_count": 2,
   "metadata": {
    "tags": []
   },
   "outputs": [
    {
     "name": "stdout",
     "output_type": "stream",
     "text": [
      "Loading ANTARES from /data0/sw/antares-kernel/lib/python3.9/site-packages/antares/__init__.py\n",
      "\n",
      "        _    _   _ _____  _    ____  _____ ____\n",
      "       / \\  | \\ | |_   _|/ \\  |  _ \\| ____/ ___|\n",
      "      / _ \\ |  \\| | | | / _ \\ | |_| |  _| \\___ \\\\\n",
      "     / ___ \\| |\\  | | |/ ___ \\|  _ /| |___ ___| |\n",
      "    /_/   \\_\\_| \\_| |_/_/   \\_\\_| \\_\\_____|____/   v2.4.1\n",
      "    \n"
     ]
    },
    {
     "name": "stderr",
     "output_type": "stream",
     "text": [
      "Jaeger tracer already initialized, skipping\n"
     ]
    },
    {
     "name": "stdout",
     "output_type": "stream",
     "text": [
      "2023-04-25 14:22:09,019 - WARNING MainThread settings.py:setup_prometheus:124 - Prometheus failed to start with [Errno 98] Address already in use\n",
      "Testing loading a random Locus with `dk.get_locus()`...\n",
      "2023-04-25 14:22:11,595 - INFO MainThread settings.py:cassandra_session_factory:84 - Establishing connection to Cassandra\n",
      "2023-04-25 14:22:12,826 - INFO MainThread settings.py:cassandra_session_factory:88 - Connection to Cassandra established\n",
      "2023-04-25 14:22:12,827 - INFO MainThread settings.py:cassandra_session_factory:84 - Establishing connection to Cassandra\n",
      "2023-04-25 14:22:14,039 - INFO MainThread settings.py:cassandra_session_factory:88 - Connection to Cassandra established\n",
      "2023-04-25 14:22:14,040 - INFO MainThread settings.py:cassandra_session_factory:84 - Establishing connection to Cassandra\n",
      "2023-04-25 14:22:15,203 - INFO MainThread settings.py:cassandra_session_factory:88 - Connection to Cassandra established\n",
      "\n",
      "ANTARES v2.4.1 DevKit is ready!\n",
      "Website: http://antares.noirlab.edu\n",
      "Documentation: https://nsf-noirlab.gitlab.io/csdc/antares/antares/\n",
      "\n"
     ]
    }
   ],
   "source": [
    "# Imports\n",
    "import antares.devkit as dk\n",
    "dk.init()\n",
    "# You should see a happy message that says that \"ANTARES DevKit is ready!\""
   ]
  },
  {
   "cell_type": "markdown",
   "metadata": {},
   "source": [
    "<a class=\"anchor\" id=\"write\"></a>\n",
    "## 2. Write a Filter\n",
    "\n",
    "<a class=\"anchor\" id=\"write-one\"></a>\n",
    "### 2.1 Hello world\n",
    "\n",
    "Let’s make a simple `HelloWorld` filter which tags all Loci `hello_world`:\n"
   ]
  },
  {
   "cell_type": "code",
   "execution_count": 3,
   "metadata": {},
   "outputs": [],
   "source": [
    "class HelloWorld(dk.Filter):\n",
    "    OUTPUT_TAGS = [\n",
    "        {\n",
    "            'name': 'hello_world',\n",
    "            'description': 'hello!',\n",
    "        },\n",
    "    ]\n",
    "\n",
    "    def run(self, locus):\n",
    "        print('Hello Locus', locus.locus_id)\n",
    "        locus.tag('hello_world')"
   ]
  },
  {
   "cell_type": "markdown",
   "metadata": {},
   "source": [
    "Let’s run the filter on a randomly chosen real Locus from the database:"
   ]
  },
  {
   "cell_type": "code",
   "execution_count": 4,
   "metadata": {},
   "outputs": [
    {
     "name": "stdout",
     "output_type": "stream",
     "text": [
      "2023-04-25 14:22:33,115 - WARNING MainThread cassandra.py:list_by_location:1167 - Catalog object not found (catalog_id=19, object_id=634809564)\n",
      "Hello Locus ANT2020bbrei\n",
      "{'locus_id': 'ANT2020bbrei', 'locus_data': FilterContext(locus_id=\"ANT2020bbrei\"), 't': 9.559899999977972e-05, 'new_locus_properties': {}, 'new_alert_properties': {}, 'new_tags': {'hello_world'}, 'raised_halt': False}\n"
     ]
    },
    {
     "name": "stderr",
     "output_type": "stream",
     "text": [
      "/data0/sw/antares-kernel/lib/python3.9/site-packages/pandas/core/arraylike.py:396: RuntimeWarning: invalid value encountered in log10\n",
      "  result = getattr(ufunc, method)(*inputs, **kwargs)\n"
     ]
    }
   ],
   "source": [
    "# Fetch 1 random Locus ID from the test dataset\n",
    "locus_id = dk.get_locus_ids(1)[0]\n",
    "\n",
    "# Execute HelloWorld filter on the locus\n",
    "report = dk.run_filter(HelloWorld, locus=locus_id)\n",
    "\n",
    "# `run_filter()` returns a report of what the filter did. Take a look at it:\n",
    "print(report)"
   ]
  },
  {
   "cell_type": "markdown",
   "metadata": {},
   "source": [
    "<a class=\"anchor\" id=\"write-two\"></a>\n",
    "### 2.2 Example of a real Filter\n",
    "\n",
    "As an example, here’s a version of the “High SNR” filter which is one of the defaults included in ANTARES. It tags Loci which have at least one Alert with a high signal-noise ratio:"
   ]
  },
  {
   "cell_type": "code",
   "execution_count": 5,
   "metadata": {},
   "outputs": [],
   "source": [
    "class HighSNR(dk.Filter):\n",
    "    NAME = \"High SNR\"\n",
    "    ERROR_SLACK_CHANNEL = \"\"  # Put your Slack user ID here\n",
    "    REQUIRED_LOCUS_PROPERTIES = [\n",
    "        'ztf_object_id',\n",
    "    ]\n",
    "    REQUIRED_ALERT_PROPERTIES = [\n",
    "        'passband',\n",
    "        'ztf_sigmapsf',\n",
    "    ]\n",
    "    OUTPUT_LOCUS_PROPERTIES = []\n",
    "    OUTPUT_ALERT_PROPERTIES = []\n",
    "    OUTPUT_TAGS = [\n",
    "        {\n",
    "            'name': 'high_snr',\n",
    "            'description': 'Locus has one or more Alerts with high SNR.',\n",
    "        },\n",
    "    ]\n",
    "\n",
    "    def run(self, locus):\n",
    "        \"\"\"\n",
    "        If this Alert has a high SNR, then tag the Locus \"high_snr\".\n",
    "        \"\"\"\n",
    "        # The threshold is dependent on the band that is being imaged.\n",
    "        # These thresholds should flag ~2-3% of alerts.\n",
    "        snr_threshold = {\n",
    "            'g': 50.0,\n",
    "            'R': 55.0,\n",
    "        }\n",
    "        passband = locus.alert.properties['ant_passband']\n",
    "        if passband not in snr_threshold:\n",
    "            print(f'passband {passband} is not supported by this filter.')\n",
    "            return  # Do nothing.\n",
    "        threshold = snr_threshold[passband]\n",
    "        sigmapsf = locus.alert.properties['ztf_sigmapsf']  # Get the ZTF Alert property \"sigmapsf\"\n",
    "        alert_snr = 1.0 / sigmapsf\n",
    "        alert_id = locus.alert.alert_id  # Get the ANTARES alert_id\n",
    "        ztf_object_id = locus.properties['ztf_object_id']  # Get the ZTF Object ID\n",
    "        print(f'Alert {alert_id}')\n",
    "        print(f'Object {ztf_object_id}')\n",
    "        print(f'snr = {alert_snr}')\n",
    "        if alert_snr > threshold:\n",
    "            print('High SNR detected')\n",
    "            locus.tag('high_snr')"
   ]
  },
  {
   "cell_type": "markdown",
   "metadata": {},
   "source": [
    "<a class=\"anchor\" id=\"write-three\"></a>\n",
    "### 2.3 Structure of a Filter\n",
    "\n",
    "\n",
    "The filter `MyFilter` below does nothing of scientific interest, but it demonstrates the most basic use of the filter API.\n",
    "\n",
    "The Filter API consists of the Locus Object, which is passed to the Filter as the single parameter. The `MyFilter` shows examples of how to use the Locus data. For detailed information on the Locus Object, please visit ANTARES documentation at https://nsf-noirlab.gitlab.io/csdc/antares/antares/devkit/locus.html"
   ]
  },
  {
   "cell_type": "code",
   "execution_count": 6,
   "metadata": {},
   "outputs": [],
   "source": [
    "class MyFilter(dk.Filter):\n",
    "\n",
    "    # Required.\n",
    "    #\n",
    "    # This allows you to receive error logs through Slack.\n",
    "    # See footnotes below for more details.\n",
    "    ERROR_SLACK_CHANNEL = '<my_slack_member_id>'\n",
    "\n",
    "    # Optional.\n",
    "    #\n",
    "    # List of Locus properties which the Filter depends on.\n",
    "    # If an incoming Alert's Locus does not have all properties listed here,\n",
    "    # then the Filter will not run on it.\n",
    "    REQUIRED_LOCUS_PROPERTIES = [\n",
    "        # eg:\n",
    "        'ztf_object_id',\n",
    "        # etc.\n",
    "    ]\n",
    "\n",
    "    # Optional.\n",
    "    #\n",
    "    # List of Alert properties which the Filter depends on.\n",
    "    # If an incoming Alert does not have all properties listed here, then\n",
    "    # the Filter will not run on it.\n",
    "    REQUIRED_ALERT_PROPERTIES = [\n",
    "        # eg:\n",
    "        'passband',\n",
    "        'mag',\n",
    "        'ztf_magpsf',\n",
    "        # etc.\n",
    "    ]\n",
    "\n",
    "    # Optional.\n",
    "    #\n",
    "    # List of Tag names which the Filter depends on.\n",
    "    # If an incoming Alert's Locus does not have all Tags listed here, then\n",
    "    # the Filter will not run on it.\n",
    "    REQUIRED_TAGS = [\n",
    "        # eg:\n",
    "        'high_snr',\n",
    "        # etc.\n",
    "    ]\n",
    "\n",
    "    # Required.\n",
    "    #\n",
    "    # A list of all Alert properties which the filter may set.\n",
    "    # If your filter doesn't set properties, then value should be an\n",
    "    # empty list.\n",
    "    # 'name' must be formatted like '<author>_<property_name>'.\n",
    "    # 'type' must be one of the strings: 'int', 'float', or 'str'.\n",
    "    # 'description' should briefly describe what the property means.\n",
    "    OUTPUT_LOCUS_PROPERTIES = [\n",
    "        # eg:\n",
    "        {\n",
    "            'name': 'stubens_interest_score',\n",
    "            'type': 'float',\n",
    "            'description': 'interestingness of the alert by algorithm XYZ',\n",
    "        },\n",
    "        {\n",
    "            'name': 'stubens_object_class',\n",
    "            'type': 'str',\n",
    "            'description': 'probable class of object by algorithm ABC',\n",
    "        },\n",
    "        # etc.\n",
    "    ]\n",
    "\n",
    "    # Required.\n",
    "    #\n",
    "    # A list of all Alert properties which the filter may set.\n",
    "    # If your filter doesn't set properties, then value should be an\n",
    "    # empty list.\n",
    "    # 'name' must be formatted like '<author>_<property_name>'.\n",
    "    # 'type' must be one of the strings: 'int', 'float', or 'str'.\n",
    "    # 'description' should briefly describe what the property means.\n",
    "    OUTPUT_ALERT_PROPERTIES = [\n",
    "        # eg:\n",
    "        {\n",
    "            'name': 'stubens_g_minus_r',\n",
    "            'type': 'float',\n",
    "            'description': 'estimated g-minus-r magnitude',\n",
    "        },\n",
    "        # etc.\n",
    "    ]\n",
    "\n",
    "    # Required.\n",
    "    #\n",
    "    # A list tags names which this Filter may produce.\n",
    "    # If your filter does't tag Loci, then this list should be empty.\n",
    "    # 'name' must be formatted like '<author>_<property_name>'.\n",
    "    # 'description' should briefly describe what the tag means.\n",
    "    OUTPUT_TAGS = [\n",
    "        # eg:\n",
    "        {\n",
    "            'name': 'stubens_transients',\n",
    "            'description': 'Probable transient according to method PQE'\n",
    "        },\n",
    "        # etc.\n",
    "    ]\n",
    "\n",
    "    # Optional.\n",
    "    #\n",
    "    # If your filter requires access to data files, they must be declared here.\n",
    "    # See footnotes below for more details on how to work with data files.\n",
    "    REQUIRES_FILES = [\n",
    "        # eg:\n",
    "        'soraisam_myFile.txt',\n",
    "        'soraisam_myOtherFile.bin',\n",
    "        # etc.\n",
    "    ]\n",
    "\n",
    "    # Optional.\n",
    "    #\n",
    "    # This function is called once per night when ANTARES reboots and\n",
    "    # filters are instantiated. If your filter needs to do any work to prepare\n",
    "    # itself to run, that logic should go here.\n",
    "    # Examples:\n",
    "    #  - Loading data from files\n",
    "    #  - Constructing datastructures\n",
    "    #  - Instantiating machine-learning model objects\n",
    "    def setup(self):\n",
    "        ...\n",
    "\n",
    "    # Required.\n",
    "    #\n",
    "    # This is the function which is called to process an Alert.\n",
    "    # All setup work should have been done in `setup()` in order to make this\n",
    "    # function run as efficiently as possible.\n",
    "    # See footnotes below for description of the `locus` object.\n",
    "    def run(self, locus):\n",
    "        ...\n",
    "\n"
   ]
  },
  {
   "cell_type": "markdown",
   "metadata": {},
   "source": [
    "<a class=\"anchor\" id=\"test\"></a>\n",
    "## 3. Test a filter\n",
    "\n",
    "\n",
    "Let’s run a simple `HelloWorld` filter:"
   ]
  },
  {
   "cell_type": "code",
   "execution_count": 7,
   "metadata": {},
   "outputs": [],
   "source": [
    "class HelloWorld(dk.Filter):\n",
    "    OUTPUT_TAGS = [\n",
    "        {\n",
    "            'name': 'hello_world',\n",
    "            'description': 'hello!',\n",
    "        },\n",
    "    ]\n",
    "\n",
    "    def run(self, locus):\n",
    "        print('Hello Locus', locus.locus_id)\n",
    "        locus.tag('hello_world')\n"
   ]
  },
  {
   "cell_type": "markdown",
   "metadata": {},
   "source": [
    "We can use `run_filter()` to run the filter on a randomly chose real Locus from the database. We can also ask the filter to run a specific locus by giving a locus ID:"
   ]
  },
  {
   "cell_type": "code",
   "execution_count": 8,
   "metadata": {},
   "outputs": [
    {
     "name": "stdout",
     "output_type": "stream",
     "text": [
      "2023-04-25 14:23:15,922 - WARNING MainThread cassandra.py:list_by_location:1167 - Catalog object not found (catalog_id=19, object_id=634809564)\n"
     ]
    },
    {
     "name": "stderr",
     "output_type": "stream",
     "text": [
      "/data0/sw/antares-kernel/lib/python3.9/site-packages/pandas/core/arraylike.py:396: RuntimeWarning: invalid value encountered in log10\n",
      "  result = getattr(ufunc, method)(*inputs, **kwargs)\n"
     ]
    },
    {
     "name": "stdout",
     "output_type": "stream",
     "text": [
      "Hello Locus ANT2020bbrei\n",
      "{'locus_id': 'ANT2020bbrei', 'locus_data': FilterContext(locus_id=\"ANT2020bbrei\"), 't': 9.513700000063352e-05, 'new_locus_properties': {}, 'new_alert_properties': {}, 'new_tags': {'hello_world'}, 'raised_halt': False}\n",
      "Hello Locus ANT2020hcm7s\n",
      "{'locus_id': 'ANT2020hcm7s', 'locus_data': FilterContext(locus_id=\"ANT2020hcm7s\"), 't': 9.552200000051414e-05, 'new_locus_properties': {}, 'new_alert_properties': {}, 'new_tags': {'hello_world'}, 'raised_halt': False}\n"
     ]
    }
   ],
   "source": [
    "# Execute HelloWorld filter on a random locus\n",
    "report = dk.run_filter(HelloWorld)\n",
    "\n",
    "# `run_filter()` returns a report of what the filter did. Take a look at it:\n",
    "print(report)\n",
    "\n",
    "\n",
    "# Execute HelloWorld filter on a specified locus\n",
    "locus_id = 'ANT2020hcm7s'\n",
    "report = dk.run_filter(HelloWorld, locus=locus_id)\n",
    "\n",
    "# `run_filter()` returns a report of what the filter did. Take a look at it:\n",
    "print(report)"
   ]
  },
  {
   "cell_type": "markdown",
   "metadata": {},
   "source": [
    "For testing purpose, we recommend to run the filter on multiple Loci using `run_many()`:\n"
   ]
  },
  {
   "cell_type": "code",
   "execution_count": 10,
   "metadata": {
    "scrolled": true,
    "tags": []
   },
   "outputs": [
    {
     "name": "stdout",
     "output_type": "stream",
     "text": [
      "2023-04-25 14:28:47,805 - WARNING MainThread cassandra.py:list_by_location:1167 - Catalog object not found (catalog_id=19, object_id=634809564)\n"
     ]
    },
    {
     "name": "stderr",
     "output_type": "stream",
     "text": [
      "/data0/sw/antares-kernel/lib/python3.9/site-packages/pandas/core/arraylike.py:396: RuntimeWarning: invalid value encountered in log10\n",
      "  result = getattr(ufunc, method)(*inputs, **kwargs)\n"
     ]
    },
    {
     "name": "stdout",
     "output_type": "stream",
     "text": [
      "Hello Locus ANT2020bbrei\n",
      "2023-04-25 14:28:50,643 - WARNING MainThread cassandra.py:list_by_location:1167 - Catalog object not found (catalog_id=19, object_id=698523106)\n"
     ]
    },
    {
     "name": "stderr",
     "output_type": "stream",
     "text": [
      "/data0/sw/antares-kernel/lib/python3.9/site-packages/pandas/core/arraylike.py:396: RuntimeWarning: invalid value encountered in log10\n",
      "  result = getattr(ufunc, method)(*inputs, **kwargs)\n"
     ]
    },
    {
     "name": "stdout",
     "output_type": "stream",
     "text": [
      "Hello Locus ANT2020jojuc\n",
      "2023-04-25 14:28:52,917 - WARNING MainThread cassandra.py:list_by_location:1167 - Catalog object not found (catalog_id=19, object_id=607041990)\n"
     ]
    },
    {
     "name": "stderr",
     "output_type": "stream",
     "text": [
      "/data0/sw/antares-kernel/lib/python3.9/site-packages/pandas/core/arraylike.py:396: RuntimeWarning: invalid value encountered in log10\n",
      "  result = getattr(ufunc, method)(*inputs, **kwargs)\n"
     ]
    },
    {
     "name": "stdout",
     "output_type": "stream",
     "text": [
      "Hello Locus ANT2018ba7as\n",
      "2023-04-25 14:28:55,286 - WARNING MainThread cassandra.py:list_by_location:1167 - Catalog object not found (catalog_id=19, object_id=662848338)\n",
      "Hello Locus ANT2020a4nco\n",
      "Hello Locus ANT2023t92jq14b9zrc\n",
      "2023-04-25 14:28:58,366 - WARNING MainThread cassandra.py:list_by_location:1167 - Catalog object not found (catalog_id=19, object_id=597997077)\n",
      "Hello Locus ANT2020a4w3e\n",
      "2023-04-25 14:29:00,376 - WARNING MainThread cassandra.py:list_by_location:1167 - Catalog object not found (catalog_id=19, object_id=654300737)\n"
     ]
    },
    {
     "name": "stderr",
     "output_type": "stream",
     "text": [
      "/data0/sw/antares-kernel/lib/python3.9/site-packages/pandas/core/arraylike.py:396: RuntimeWarning: invalid value encountered in log10\n",
      "  result = getattr(ufunc, method)(*inputs, **kwargs)\n"
     ]
    },
    {
     "name": "stdout",
     "output_type": "stream",
     "text": [
      "Hello Locus ANT2018iqoq\n",
      "2023-04-25 14:29:02,783 - WARNING MainThread cassandra.py:list_by_location:1167 - Catalog object not found (catalog_id=19, object_id=618970098)\n",
      "Hello Locus ANT2020a7khs\n",
      "Hello Locus ANT2023ztpvwxlwgyn7\n",
      "2023-04-25 14:29:06,092 - WARNING MainThread cassandra.py:list_by_location:1167 - Catalog object not found (catalog_id=19, object_id=683662522)\n",
      "Hello Locus ANT2020cnps4\n",
      "2023-04-25 14:29:09,104 - WARNING MainThread cassandra.py:list_by_location:1167 - Catalog object not found (catalog_id=19, object_id=658715695)\n"
     ]
    },
    {
     "name": "stderr",
     "output_type": "stream",
     "text": [
      "/data0/sw/antares-kernel/lib/python3.9/site-packages/pandas/core/arraylike.py:396: RuntimeWarning: invalid value encountered in log10\n",
      "  result = getattr(ufunc, method)(*inputs, **kwargs)\n"
     ]
    },
    {
     "name": "stdout",
     "output_type": "stream",
     "text": [
      "Hello Locus ANT20195tat2\n",
      "2023-04-25 14:29:11,879 - WARNING MainThread cassandra.py:list_by_location:1167 - Catalog object not found (catalog_id=19, object_id=611329812)\n"
     ]
    },
    {
     "name": "stderr",
     "output_type": "stream",
     "text": [
      "/data0/sw/antares-kernel/lib/python3.9/site-packages/pandas/core/arraylike.py:396: RuntimeWarning: invalid value encountered in log10\n",
      "  result = getattr(ufunc, method)(*inputs, **kwargs)\n"
     ]
    },
    {
     "name": "stdout",
     "output_type": "stream",
     "text": [
      "Hello Locus ANT2018b4w6k\n",
      "2023-04-25 14:29:15,663 - WARNING MainThread cassandra.py:list_by_location:1167 - Catalog object not found (catalog_id=19, object_id=668679822)\n"
     ]
    },
    {
     "name": "stderr",
     "output_type": "stream",
     "text": [
      "WARNING: AstropyDeprecationWarning: The truth value of a Quantity is ambiguous. In the future this will raise a ValueError. [astropy.units.quantity]\n"
     ]
    },
    {
     "name": "stdout",
     "output_type": "stream",
     "text": [
      "Hello Locus ANT2020a4sh2\n",
      "2023-04-25 14:29:17,178 - WARNING MainThread cassandra.py:list_by_location:1167 - Catalog object not found (catalog_id=19, object_id=699321404)\n",
      "Hello Locus ANT2023splnbnda0wyl\n",
      "Hello Locus ANT20231jsy3o1bb4eo\n",
      "2023-04-25 14:29:19,923 - WARNING MainThread cassandra.py:list_by_location:1167 - Catalog object not found (catalog_id=19, object_id=691628475)\n"
     ]
    },
    {
     "name": "stderr",
     "output_type": "stream",
     "text": [
      "/data0/sw/antares-kernel/lib/python3.9/site-packages/pandas/core/arraylike.py:396: RuntimeWarning: invalid value encountered in log10\n",
      "  result = getattr(ufunc, method)(*inputs, **kwargs)\n"
     ]
    },
    {
     "name": "stdout",
     "output_type": "stream",
     "text": [
      "Hello Locus ANT2020a4ype\n",
      "2023-04-25 14:29:21,672 - WARNING MainThread cassandra.py:list_by_location:1167 - Catalog object not found (catalog_id=19, object_id=664965152)\n"
     ]
    },
    {
     "name": "stderr",
     "output_type": "stream",
     "text": [
      "/data0/sw/antares-kernel/lib/python3.9/site-packages/pandas/core/arraylike.py:396: RuntimeWarning: invalid value encountered in log10\n",
      "  result = getattr(ufunc, method)(*inputs, **kwargs)\n"
     ]
    },
    {
     "name": "stdout",
     "output_type": "stream",
     "text": [
      "Hello Locus ANT2022ahnak\n",
      "2023-04-25 14:29:24,123 - WARNING MainThread cassandra.py:list_by_location:1167 - Catalog object not found (catalog_id=19, object_id=702384729)\n"
     ]
    },
    {
     "name": "stderr",
     "output_type": "stream",
     "text": [
      "/data0/sw/antares-kernel/lib/python3.9/site-packages/pandas/core/arraylike.py:396: RuntimeWarning: invalid value encountered in log10\n",
      "  result = getattr(ufunc, method)(*inputs, **kwargs)\n"
     ]
    },
    {
     "name": "stdout",
     "output_type": "stream",
     "text": [
      "Hello Locus ANT2019kgrao\n",
      "2023-04-25 14:29:26,233 - WARNING MainThread cassandra.py:list_by_location:1167 - Catalog object not found (catalog_id=19, object_id=595144369)\n"
     ]
    },
    {
     "name": "stderr",
     "output_type": "stream",
     "text": [
      "/data0/sw/antares-kernel/lib/python3.9/site-packages/pandas/core/arraylike.py:396: RuntimeWarning: invalid value encountered in log10\n",
      "  result = getattr(ufunc, method)(*inputs, **kwargs)\n"
     ]
    },
    {
     "name": "stdout",
     "output_type": "stream",
     "text": [
      "Hello Locus ANT2020a4nym\n",
      "2023-04-25 14:29:28,868 - WARNING MainThread cassandra.py:list_by_location:1167 - Catalog object not found (catalog_id=19, object_id=680209068)\n"
     ]
    },
    {
     "name": "stderr",
     "output_type": "stream",
     "text": [
      "/data0/sw/antares-kernel/lib/python3.9/site-packages/pandas/core/arraylike.py:396: RuntimeWarning: invalid value encountered in log10\n",
      "  result = getattr(ufunc, method)(*inputs, **kwargs)\n"
     ]
    },
    {
     "name": "stdout",
     "output_type": "stream",
     "text": [
      "Hello Locus ANT2020bbbl4\n",
      "2023-04-25 14:29:31,382 - WARNING MainThread cassandra.py:list_by_location:1167 - Catalog object not found (catalog_id=19, object_id=671217303)\n"
     ]
    },
    {
     "name": "stderr",
     "output_type": "stream",
     "text": [
      "/data0/sw/antares-kernel/lib/python3.9/site-packages/pandas/core/arraylike.py:396: RuntimeWarning: invalid value encountered in log10\n",
      "  result = getattr(ufunc, method)(*inputs, **kwargs)\n"
     ]
    },
    {
     "name": "stdout",
     "output_type": "stream",
     "text": [
      "Hello Locus ANT2020a4huk\n",
      "Hello Locus ANT2023v4zf9rhuttjt\n",
      "2023-04-25 14:29:34,729 - WARNING MainThread cassandra.py:list_by_location:1167 - Catalog object not found (catalog_id=19, object_id=628225256)\n"
     ]
    },
    {
     "name": "stderr",
     "output_type": "stream",
     "text": [
      "/data0/sw/antares-kernel/lib/python3.9/site-packages/pandas/core/arraylike.py:396: RuntimeWarning: invalid value encountered in log10\n",
      "  result = getattr(ufunc, method)(*inputs, **kwargs)\n"
     ]
    },
    {
     "name": "stdout",
     "output_type": "stream",
     "text": [
      "Hello Locus ANT2020a7mnm\n",
      "Hello Locus ANT2023aol8q84cow9t\n",
      "2023-04-25 14:29:37,617 - WARNING MainThread cassandra.py:list_by_location:1167 - Catalog object not found (catalog_id=19, object_id=631530733)\n"
     ]
    },
    {
     "name": "stderr",
     "output_type": "stream",
     "text": [
      "/data0/sw/antares-kernel/lib/python3.9/site-packages/pandas/core/arraylike.py:396: RuntimeWarning: invalid value encountered in log10\n",
      "  result = getattr(ufunc, method)(*inputs, **kwargs)\n"
     ]
    },
    {
     "name": "stdout",
     "output_type": "stream",
     "text": [
      "Hello Locus ANT2020a4vei\n",
      "2023-04-25 14:29:40,296 - WARNING MainThread cassandra.py:list_by_location:1167 - Catalog object not found (catalog_id=19, object_id=681006507)\n",
      "2023-04-25 14:29:40,297 - WARNING MainThread cassandra.py:list_by_location:1167 - Catalog object not found (catalog_id=19, object_id=681006508)\n"
     ]
    },
    {
     "name": "stderr",
     "output_type": "stream",
     "text": [
      "/data0/sw/antares-kernel/lib/python3.9/site-packages/pandas/core/arraylike.py:396: RuntimeWarning: invalid value encountered in log10\n",
      "  result = getattr(ufunc, method)(*inputs, **kwargs)\n"
     ]
    },
    {
     "name": "stdout",
     "output_type": "stream",
     "text": [
      "Hello Locus ANT2020a7iqu\n",
      "Hello Locus ANT2023iyl2166056su\n",
      "2023-04-25 14:29:42,929 - WARNING MainThread cassandra.py:list_by_location:1167 - Catalog object not found (catalog_id=19, object_id=607180137)\n",
      "Hello Locus ANT2020dxbdw\n",
      "Hello Locus ANT2023vbj3pzhqasjz\n",
      "2023-04-25 14:29:46,821 - WARNING MainThread cassandra.py:list_by_location:1167 - Catalog object not found (catalog_id=19, object_id=601710656)\n"
     ]
    },
    {
     "name": "stderr",
     "output_type": "stream",
     "text": [
      "/data0/sw/antares-kernel/lib/python3.9/site-packages/pandas/core/arraylike.py:396: RuntimeWarning: invalid value encountered in log10\n",
      "  result = getattr(ufunc, method)(*inputs, **kwargs)\n"
     ]
    },
    {
     "name": "stdout",
     "output_type": "stream",
     "text": [
      "Hello Locus ANT2020a4w5w\n",
      "Hello Locus ANT2023370hacslywz0\n",
      "2023-04-25 14:29:50,764 - WARNING MainThread cassandra.py:list_by_location:1167 - Catalog object not found (catalog_id=19, object_id=680475568)\n"
     ]
    },
    {
     "name": "stderr",
     "output_type": "stream",
     "text": [
      "/data0/sw/antares-kernel/lib/python3.9/site-packages/pandas/core/arraylike.py:396: RuntimeWarning: invalid value encountered in log10\n",
      "  result = getattr(ufunc, method)(*inputs, **kwargs)\n"
     ]
    },
    {
     "name": "stdout",
     "output_type": "stream",
     "text": [
      "Hello Locus ANT2020dyi6a\n",
      "Hello Locus ANT2023n9naw2k6bdai\n",
      "2023-04-25 14:29:54,414 - WARNING MainThread cassandra.py:list_by_location:1167 - Catalog object not found (catalog_id=19, object_id=694556409)\n"
     ]
    },
    {
     "name": "stderr",
     "output_type": "stream",
     "text": [
      "/data0/sw/antares-kernel/lib/python3.9/site-packages/pandas/core/arraylike.py:396: RuntimeWarning: invalid value encountered in log10\n",
      "  result = getattr(ufunc, method)(*inputs, **kwargs)\n"
     ]
    },
    {
     "name": "stdout",
     "output_type": "stream",
     "text": [
      "Hello Locus ANT2020bbfke\n",
      "Hello Locus ANT2023bdj85krps9kd\n",
      "2023-04-25 14:29:57,697 - WARNING MainThread cassandra.py:list_by_location:1167 - Catalog object not found (catalog_id=19, object_id=618136164)\n",
      "Hello Locus ANT2020batf4\n",
      "2023-04-25 14:30:00,575 - WARNING MainThread cassandra.py:list_by_location:1167 - Catalog object not found (catalog_id=19, object_id=665762465)\n"
     ]
    },
    {
     "name": "stderr",
     "output_type": "stream",
     "text": [
      "/data0/sw/antares-kernel/lib/python3.9/site-packages/pandas/core/arraylike.py:396: RuntimeWarning: invalid value encountered in log10\n",
      "  result = getattr(ufunc, method)(*inputs, **kwargs)\n"
     ]
    },
    {
     "name": "stdout",
     "output_type": "stream",
     "text": [
      "Hello Locus ANT2020bbhd2\n",
      "2023-04-25 14:30:02,732 - WARNING MainThread cassandra.py:list_by_location:1167 - Catalog object not found (catalog_id=19, object_id=600884006)\n"
     ]
    },
    {
     "name": "stderr",
     "output_type": "stream",
     "text": [
      "/data0/sw/antares-kernel/lib/python3.9/site-packages/pandas/core/arraylike.py:396: RuntimeWarning: invalid value encountered in log10\n",
      "  result = getattr(ufunc, method)(*inputs, **kwargs)\n"
     ]
    },
    {
     "name": "stdout",
     "output_type": "stream",
     "text": [
      "Hello Locus ANT2020a4lhq\n",
      "Hello Locus ANT202314jwe8jpe3gb\n",
      "2023-04-25 14:30:06,151 - WARNING MainThread cassandra.py:list_by_location:1167 - Catalog object not found (catalog_id=19, object_id=637382631)\n"
     ]
    },
    {
     "name": "stderr",
     "output_type": "stream",
     "text": [
      "/data0/sw/antares-kernel/lib/python3.9/site-packages/pandas/core/arraylike.py:396: RuntimeWarning: invalid value encountered in log10\n",
      "  result = getattr(ufunc, method)(*inputs, **kwargs)\n"
     ]
    },
    {
     "name": "stdout",
     "output_type": "stream",
     "text": [
      "Hello Locus ANT2020a4wxi\n",
      "Hello Locus ANT202314jwe8jpe3gb\n",
      "2023-04-25 14:30:09,192 - WARNING MainThread cassandra.py:list_by_location:1167 - Catalog object not found (catalog_id=19, object_id=637382631)\n"
     ]
    },
    {
     "name": "stderr",
     "output_type": "stream",
     "text": [
      "/data0/sw/antares-kernel/lib/python3.9/site-packages/pandas/core/arraylike.py:396: RuntimeWarning: invalid value encountered in log10\n",
      "  result = getattr(ufunc, method)(*inputs, **kwargs)\n"
     ]
    },
    {
     "name": "stdout",
     "output_type": "stream",
     "text": [
      "Hello Locus ANT2020a4wxi\n",
      "2023-04-25 14:30:12,009 - WARNING MainThread cassandra.py:list_by_location:1167 - Catalog object not found (catalog_id=19, object_id=636976955)\n"
     ]
    },
    {
     "name": "stderr",
     "output_type": "stream",
     "text": [
      "/data0/sw/antares-kernel/lib/python3.9/site-packages/pandas/core/arraylike.py:396: RuntimeWarning: invalid value encountered in log10\n",
      "  result = getattr(ufunc, method)(*inputs, **kwargs)\n"
     ]
    },
    {
     "name": "stdout",
     "output_type": "stream",
     "text": [
      "Hello Locus ANT2020ba3fi\n",
      "Hello Locus ANT2023747zh5dn2sgm\n",
      "2023-04-25 14:30:15,433 - WARNING MainThread cassandra.py:list_by_location:1167 - Catalog object not found (catalog_id=19, object_id=699055598)\n",
      "Hello Locus ANT2020jojae\n",
      "Hello Locus ANT20234832qs145vmx\n",
      "2023-04-25 14:30:18,987 - WARNING MainThread cassandra.py:list_by_location:1167 - Catalog object not found (catalog_id=19, object_id=624769746)\n"
     ]
    },
    {
     "name": "stderr",
     "output_type": "stream",
     "text": [
      "WARNING: AstropyDeprecationWarning: The truth value of a Quantity is ambiguous. In the future this will raise a ValueError. [astropy.units.quantity]\n",
      "/data0/sw/antares-kernel/lib/python3.9/site-packages/pandas/core/arraylike.py:396: RuntimeWarning: invalid value encountered in log10\n",
      "  result = getattr(ufunc, method)(*inputs, **kwargs)\n"
     ]
    },
    {
     "name": "stdout",
     "output_type": "stream",
     "text": [
      "Hello Locus ANT2020a4mf6\n",
      "2023-04-25 14:30:21,842 - WARNING MainThread cassandra.py:list_by_location:1167 - Catalog object not found (catalog_id=19, object_id=691628565)\n"
     ]
    },
    {
     "name": "stderr",
     "output_type": "stream",
     "text": [
      "/data0/sw/antares-kernel/lib/python3.9/site-packages/pandas/core/arraylike.py:396: RuntimeWarning: invalid value encountered in log10\n",
      "  result = getattr(ufunc, method)(*inputs, **kwargs)\n"
     ]
    },
    {
     "name": "stdout",
     "output_type": "stream",
     "text": [
      "Hello Locus ANT2020a4wuc\n",
      "2023-04-25 14:30:23,829 - WARNING MainThread cassandra.py:list_by_location:1167 - Catalog object not found (catalog_id=19, object_id=655240129)\n"
     ]
    },
    {
     "name": "stderr",
     "output_type": "stream",
     "text": [
      "/data0/sw/antares-kernel/lib/python3.9/site-packages/pandas/core/arraylike.py:396: RuntimeWarning: invalid value encountered in log10\n",
      "  result = getattr(ufunc, method)(*inputs, **kwargs)\n"
     ]
    },
    {
     "name": "stdout",
     "output_type": "stream",
     "text": [
      "Hello Locus ANT2020gpmum\n",
      "2023-04-25 14:30:25,920 - WARNING MainThread cassandra.py:list_by_location:1167 - Catalog object not found (catalog_id=19, object_id=634945279)\n"
     ]
    },
    {
     "name": "stderr",
     "output_type": "stream",
     "text": [
      "/data0/sw/antares-kernel/lib/python3.9/site-packages/pandas/core/arraylike.py:396: RuntimeWarning: invalid value encountered in log10\n",
      "  result = getattr(ufunc, method)(*inputs, **kwargs)\n"
     ]
    },
    {
     "name": "stdout",
     "output_type": "stream",
     "text": [
      "Hello Locus ANT2020bavne\n",
      "2023-04-25 14:30:28,164 - WARNING MainThread cassandra.py:list_by_location:1167 - Catalog object not found (catalog_id=19, object_id=638998376)\n"
     ]
    },
    {
     "name": "stderr",
     "output_type": "stream",
     "text": [
      "/data0/sw/antares-kernel/lib/python3.9/site-packages/pandas/core/arraylike.py:396: RuntimeWarning: invalid value encountered in log10\n",
      "  result = getattr(ufunc, method)(*inputs, **kwargs)\n"
     ]
    },
    {
     "name": "stdout",
     "output_type": "stream",
     "text": [
      "Hello Locus ANT2020eiwag\n",
      "Hello Locus ANT20237jb0i4iiw8y8\n",
      "2023-04-25 14:30:30,864 - WARNING MainThread cassandra.py:list_by_location:1167 - Catalog object not found (catalog_id=19, object_id=630843024)\n",
      "Hello Locus ANT2020a4wtg\n",
      "Hello Locus ANT2023halulggfjl42\n",
      "Hello Locus ANT20233rhp8r5irpnw\n",
      "Hello Locus ANT2023ic3autpzusc7\n",
      "2023-04-25 14:30:34,894 - WARNING MainThread cassandra.py:list_by_location:1167 - Catalog object not found (catalog_id=19, object_id=610227690)\n",
      "Hello Locus ANT2019urge6\n",
      "2023-04-25 14:30:37,840 - WARNING MainThread cassandra.py:list_by_location:1167 - Catalog object not found (catalog_id=19, object_id=668148293)\n"
     ]
    },
    {
     "name": "stderr",
     "output_type": "stream",
     "text": [
      "/data0/sw/antares-kernel/lib/python3.9/site-packages/pandas/core/arraylike.py:396: RuntimeWarning: invalid value encountered in log10\n",
      "  result = getattr(ufunc, method)(*inputs, **kwargs)\n"
     ]
    },
    {
     "name": "stdout",
     "output_type": "stream",
     "text": [
      "Hello Locus ANT2020bbbr4\n",
      "Hello Locus ANT2023el71ihkdi6il\n",
      "2023-04-25 14:30:39,973 - WARNING MainThread cassandra.py:list_by_location:1167 - Catalog object not found (catalog_id=19, object_id=611468093)\n",
      "Hello Locus ANT20235qu8lr0x0ufz\n",
      "Hello Locus ANT2023clklkhk9rg7f\n",
      "2023-04-25 14:30:42,974 - WARNING MainThread cassandra.py:list_by_location:1167 - Catalog object not found (catalog_id=19, object_id=648520854)\n"
     ]
    },
    {
     "name": "stderr",
     "output_type": "stream",
     "text": [
      "/data0/sw/antares-kernel/lib/python3.9/site-packages/pandas/core/arraylike.py:396: RuntimeWarning: invalid value encountered in log10\n",
      "  result = getattr(ufunc, method)(*inputs, **kwargs)\n"
     ]
    },
    {
     "name": "stdout",
     "output_type": "stream",
     "text": [
      "Hello Locus ANT2020a4jo6\n",
      "2023-04-25 14:30:45,258 - WARNING MainThread cassandra.py:list_by_location:1167 - Catalog object not found (catalog_id=19, object_id=589852984)\n",
      "Hello Locus ANT2019vbn5a\n",
      "2023-04-25 14:30:46,186 - WARNING MainThread cassandra.py:list_by_location:1167 - Catalog object not found (catalog_id=19, object_id=593244628)\n",
      "Hello Locus ANT2023bo8e959apozt\n",
      "2023-04-25 14:30:48,188 - WARNING MainThread cassandra.py:list_by_location:1167 - Catalog object not found (catalog_id=19, object_id=661787781)\n"
     ]
    },
    {
     "name": "stderr",
     "output_type": "stream",
     "text": [
      "/data0/sw/antares-kernel/lib/python3.9/site-packages/pandas/core/arraylike.py:396: RuntimeWarning: invalid value encountered in log10\n",
      "  result = getattr(ufunc, method)(*inputs, **kwargs)\n"
     ]
    },
    {
     "name": "stdout",
     "output_type": "stream",
     "text": [
      "Hello Locus ANT2020a7ufq\n",
      "2023-04-25 14:30:51,368 - WARNING MainThread cassandra.py:list_by_location:1167 - Catalog object not found (catalog_id=19, object_id=661520471)\n"
     ]
    },
    {
     "name": "stderr",
     "output_type": "stream",
     "text": [
      "/data0/sw/antares-kernel/lib/python3.9/site-packages/pandas/core/arraylike.py:396: RuntimeWarning: invalid value encountered in log10\n",
      "  result = getattr(ufunc, method)(*inputs, **kwargs)\n"
     ]
    },
    {
     "name": "stdout",
     "output_type": "stream",
     "text": [
      "Hello Locus ANT2020akpae\n",
      "2023-04-25 14:30:55,036 - WARNING MainThread cassandra.py:list_by_location:1167 - Catalog object not found (catalog_id=19, object_id=699321356)\n"
     ]
    },
    {
     "name": "stderr",
     "output_type": "stream",
     "text": [
      "/data0/sw/antares-kernel/lib/python3.9/site-packages/pandas/core/arraylike.py:396: RuntimeWarning: invalid value encountered in log10\n",
      "  result = getattr(ufunc, method)(*inputs, **kwargs)\n"
     ]
    },
    {
     "name": "stdout",
     "output_type": "stream",
     "text": [
      "Hello Locus ANT2020a4mbm\n",
      "2023-04-25 14:30:57,540 - WARNING MainThread cassandra.py:list_by_location:1167 - Catalog object not found (catalog_id=19, object_id=605934981)\n"
     ]
    },
    {
     "name": "stderr",
     "output_type": "stream",
     "text": [
      "/data0/sw/antares-kernel/lib/python3.9/site-packages/pandas/core/arraylike.py:396: RuntimeWarning: invalid value encountered in log10\n",
      "  result = getattr(ufunc, method)(*inputs, **kwargs)\n"
     ]
    },
    {
     "name": "stdout",
     "output_type": "stream",
     "text": [
      "Hello Locus ANT2020bbgta\n",
      "2023-04-25 14:31:00,546 - WARNING MainThread cassandra.py:list_by_location:1167 - Catalog object not found (catalog_id=19, object_id=668148293)\n"
     ]
    },
    {
     "name": "stderr",
     "output_type": "stream",
     "text": [
      "/data0/sw/antares-kernel/lib/python3.9/site-packages/pandas/core/arraylike.py:396: RuntimeWarning: invalid value encountered in log10\n",
      "  result = getattr(ufunc, method)(*inputs, **kwargs)\n"
     ]
    },
    {
     "name": "stdout",
     "output_type": "stream",
     "text": [
      "Hello Locus ANT2020bbbr4\n",
      "Hello Locus ANT2023el71ihkdi6il\n",
      "Hello Locus ANT2023f3kqo5itddfu\n",
      "Hello Locus ANT2020hjubq\n",
      "Hello Locus ANT2023clklkhk9rg7f\n",
      "2023-04-25 14:31:07,229 - WARNING MainThread cassandra.py:list_by_location:1167 - Catalog object not found (catalog_id=19, object_id=648520854)\n"
     ]
    },
    {
     "name": "stderr",
     "output_type": "stream",
     "text": [
      "/data0/sw/antares-kernel/lib/python3.9/site-packages/pandas/core/arraylike.py:396: RuntimeWarning: invalid value encountered in log10\n",
      "  result = getattr(ufunc, method)(*inputs, **kwargs)\n"
     ]
    },
    {
     "name": "stdout",
     "output_type": "stream",
     "text": [
      "Hello Locus ANT2020a4jo6\n",
      "2023-04-25 14:31:09,496 - WARNING MainThread cassandra.py:list_by_location:1167 - Catalog object not found (catalog_id=19, object_id=589852984)\n",
      "Hello Locus ANT2019vbn5a\n",
      "2023-04-25 14:31:10,413 - WARNING MainThread cassandra.py:list_by_location:1167 - Catalog object not found (catalog_id=19, object_id=593244628)\n",
      "Hello Locus ANT2023bo8e959apozt\n",
      "2023-04-25 14:31:12,443 - WARNING MainThread cassandra.py:list_by_location:1167 - Catalog object not found (catalog_id=19, object_id=661787781)\n"
     ]
    },
    {
     "name": "stderr",
     "output_type": "stream",
     "text": [
      "/data0/sw/antares-kernel/lib/python3.9/site-packages/pandas/core/arraylike.py:396: RuntimeWarning: invalid value encountered in log10\n",
      "  result = getattr(ufunc, method)(*inputs, **kwargs)\n"
     ]
    },
    {
     "name": "stdout",
     "output_type": "stream",
     "text": [
      "Hello Locus ANT2020a7ufq\n",
      "2023-04-25 14:31:15,605 - WARNING MainThread cassandra.py:list_by_location:1167 - Catalog object not found (catalog_id=19, object_id=661520471)\n"
     ]
    },
    {
     "name": "stderr",
     "output_type": "stream",
     "text": [
      "/data0/sw/antares-kernel/lib/python3.9/site-packages/pandas/core/arraylike.py:396: RuntimeWarning: invalid value encountered in log10\n",
      "  result = getattr(ufunc, method)(*inputs, **kwargs)\n"
     ]
    },
    {
     "name": "stdout",
     "output_type": "stream",
     "text": [
      "Hello Locus ANT2020akpae\n",
      "2023-04-25 14:31:18,785 - WARNING MainThread cassandra.py:list_by_location:1167 - Catalog object not found (catalog_id=19, object_id=699321356)\n"
     ]
    },
    {
     "name": "stderr",
     "output_type": "stream",
     "text": [
      "/data0/sw/antares-kernel/lib/python3.9/site-packages/pandas/core/arraylike.py:396: RuntimeWarning: invalid value encountered in log10\n",
      "  result = getattr(ufunc, method)(*inputs, **kwargs)\n"
     ]
    },
    {
     "name": "stdout",
     "output_type": "stream",
     "text": [
      "Hello Locus ANT2020a4mbm\n",
      "2023-04-25 14:31:21,293 - WARNING MainThread cassandra.py:list_by_location:1167 - Catalog object not found (catalog_id=19, object_id=605934981)\n"
     ]
    },
    {
     "name": "stderr",
     "output_type": "stream",
     "text": [
      "/data0/sw/antares-kernel/lib/python3.9/site-packages/pandas/core/arraylike.py:396: RuntimeWarning: invalid value encountered in log10\n",
      "  result = getattr(ufunc, method)(*inputs, **kwargs)\n"
     ]
    },
    {
     "name": "stdout",
     "output_type": "stream",
     "text": [
      "Hello Locus ANT2020bbgta\n",
      "2023-04-25 14:31:23,744 - WARNING MainThread cassandra.py:list_by_location:1167 - Catalog object not found (catalog_id=19, object_id=678736381)\n",
      "Hello Locus ANT2020vkm6q\n",
      "2023-04-25 14:31:26,693 - WARNING MainThread cassandra.py:list_by_location:1167 - Catalog object not found (catalog_id=19, object_id=591753445)\n",
      "Hello Locus ANT2020ba2dw\n",
      "2023-04-25 14:31:29,851 - WARNING MainThread cassandra.py:list_by_location:1167 - Catalog object not found (catalog_id=19, object_id=601435246)\n"
     ]
    },
    {
     "name": "stderr",
     "output_type": "stream",
     "text": [
      "/data0/sw/antares-kernel/lib/python3.9/site-packages/pandas/core/arraylike.py:396: RuntimeWarning: invalid value encountered in log10\n",
      "  result = getattr(ufunc, method)(*inputs, **kwargs)\n"
     ]
    },
    {
     "name": "stdout",
     "output_type": "stream",
     "text": [
      "Hello Locus ANT2020a4mhe\n",
      "2023-04-25 14:31:32,496 - WARNING MainThread cassandra.py:list_by_location:1167 - Catalog object not found (catalog_id=19, object_id=595549395)\n"
     ]
    },
    {
     "name": "stderr",
     "output_type": "stream",
     "text": [
      "/data0/sw/antares-kernel/lib/python3.9/site-packages/pandas/core/arraylike.py:396: RuntimeWarning: invalid value encountered in log10\n",
      "  result = getattr(ufunc, method)(*inputs, **kwargs)\n"
     ]
    },
    {
     "name": "stdout",
     "output_type": "stream",
     "text": [
      "Hello Locus ANT2020a4vwu\n",
      "Hello Locus ANT20239ug0z3idyr9y\n",
      "2023-04-25 14:31:34,440 - WARNING MainThread cassandra.py:list_by_location:1167 - Catalog object not found (catalog_id=19, object_id=633583898)\n",
      "Hello Locus ANT2023cd9o5bimvpzo\n",
      "2023-04-25 14:31:36,425 - WARNING MainThread cassandra.py:list_by_location:1167 - Catalog object not found (catalog_id=19, object_id=604542027)\n",
      "Hello Locus ANT2019yriee\n",
      "2023-04-25 14:31:38,366 - WARNING MainThread cassandra.py:list_by_location:1167 - Catalog object not found (catalog_id=19, object_id=605379424)\n"
     ]
    },
    {
     "name": "stderr",
     "output_type": "stream",
     "text": [
      "/data0/sw/antares-kernel/lib/python3.9/site-packages/pandas/core/arraylike.py:396: RuntimeWarning: invalid value encountered in log10\n",
      "  result = getattr(ufunc, method)(*inputs, **kwargs)\n"
     ]
    },
    {
     "name": "stdout",
     "output_type": "stream",
     "text": [
      "Hello Locus ANT2020baya4\n",
      "Hello Locus ANT2023wfvyxsqww87b\n",
      "2023-04-25 14:31:41,567 - WARNING MainThread cassandra.py:list_by_location:1167 - Catalog object not found (catalog_id=19, object_id=595684580)\n"
     ]
    },
    {
     "name": "stderr",
     "output_type": "stream",
     "text": [
      "/data0/sw/antares-kernel/lib/python3.9/site-packages/pandas/core/arraylike.py:396: RuntimeWarning: invalid value encountered in log10\n",
      "  result = getattr(ufunc, method)(*inputs, **kwargs)\n"
     ]
    },
    {
     "name": "stdout",
     "output_type": "stream",
     "text": [
      "Hello Locus ANT2020a7n46\n",
      "Hello Locus ANT2023w11fstqn72dy\n",
      "Hello Locus ANT2023ehq8i9pcoff4\n",
      "Hello Locus ANT2023j6mxk72liaxp\n",
      "Hello Locus ANT2023hct4fvf9zhjw\n",
      "2023-04-25 14:31:46,845 - WARNING MainThread cassandra.py:list_by_location:1167 - Catalog object not found (catalog_id=19, object_id=683396236)\n",
      "Hello Locus ANT2023vxh6d9xytpsu\n",
      "Hello Locus ANT2023m1wmvtr02d43\n",
      "2023-04-25 14:31:49,418 - WARNING MainThread cassandra.py:list_by_location:1167 - Catalog object not found (catalog_id=19, object_id=619942956)\n"
     ]
    },
    {
     "name": "stderr",
     "output_type": "stream",
     "text": [
      "/data0/sw/antares-kernel/lib/python3.9/site-packages/pandas/core/arraylike.py:396: RuntimeWarning: invalid value encountered in log10\n",
      "  result = getattr(ufunc, method)(*inputs, **kwargs)\n"
     ]
    },
    {
     "name": "stdout",
     "output_type": "stream",
     "text": [
      "Hello Locus ANT2020a4ymw\n",
      "2023-04-25 14:31:50,690 - WARNING MainThread cassandra.py:list_by_location:1167 - Catalog object not found (catalog_id=19, object_id=631393486)\n",
      "Hello Locus ANT2023fier0cypxzpk\n",
      "2023-04-25 14:31:52,728 - WARNING MainThread cassandra.py:list_by_location:1167 - Catalog object not found (catalog_id=19, object_id=656843529)\n",
      "Hello Locus ANT2021vf4zo\n",
      "Hello Locus ANT2023fk3494adih0j\n",
      "{'n': 100, 'results': [{'locus_id': 'ANT2020bbrei', 'locus_data': FilterContext(locus_id=\"ANT2020bbrei\"), 't': 8.019599999897764e-05, 'new_locus_properties': {}, 'new_alert_properties': {}, 'new_tags': {'hello_world'}, 'raised_halt': False}, {'locus_id': 'ANT2020jojuc', 'locus_data': FilterContext(locus_id=\"ANT2020jojuc\"), 't': 7.393599999261369e-05, 'new_locus_properties': {}, 'new_alert_properties': {}, 'new_tags': {'hello_world'}, 'raised_halt': False}, {'locus_id': 'ANT2018ba7as', 'locus_data': FilterContext(locus_id=\"ANT2018ba7as\"), 't': 9.706100000528295e-05, 'new_locus_properties': {}, 'new_alert_properties': {}, 'new_tags': {'hello_world'}, 'raised_halt': False}, {'locus_id': 'ANT2020a4nco', 'locus_data': FilterContext(locus_id=\"ANT2020a4nco\"), 't': 8.82510000081993e-05, 'new_locus_properties': {}, 'new_alert_properties': {}, 'new_tags': {'hello_world'}, 'raised_halt': False}, {'locus_id': 'ANT2023t92jq14b9zrc', 'locus_data': FilterContext(locus_id=\"ANT2023t92jq14b9zrc\"), 't': 7.102499999689371e-05, 'new_locus_properties': {}, 'new_alert_properties': {}, 'new_tags': {'hello_world'}, 'raised_halt': False}, {'locus_id': 'ANT2020a4w3e', 'locus_data': FilterContext(locus_id=\"ANT2020a4w3e\"), 't': 0.00010175599999229235, 'new_locus_properties': {}, 'new_alert_properties': {}, 'new_tags': {'hello_world'}, 'raised_halt': False}, {'locus_id': 'ANT2018iqoq', 'locus_data': FilterContext(locus_id=\"ANT2018iqoq\"), 't': 0.00052675499999566, 'new_locus_properties': {}, 'new_alert_properties': {}, 'new_tags': {'hello_world'}, 'raised_halt': False}, {'locus_id': 'ANT2020a7khs', 'locus_data': FilterContext(locus_id=\"ANT2020a7khs\"), 't': 9.260500000607408e-05, 'new_locus_properties': {}, 'new_alert_properties': {}, 'new_tags': {'hello_world'}, 'raised_halt': False}, {'locus_id': 'ANT2023ztpvwxlwgyn7', 'locus_data': FilterContext(locus_id=\"ANT2023ztpvwxlwgyn7\"), 't': 6.733899999744608e-05, 'new_locus_properties': {}, 'new_alert_properties': {}, 'new_tags': {'hello_world'}, 'raised_halt': False}, {'locus_id': 'ANT2020cnps4', 'locus_data': FilterContext(locus_id=\"ANT2020cnps4\"), 't': 8.855799998741531e-05, 'new_locus_properties': {}, 'new_alert_properties': {}, 'new_tags': {'hello_world'}, 'raised_halt': False}, {'locus_id': 'ANT20195tat2', 'locus_data': FilterContext(locus_id=\"ANT20195tat2\"), 't': 8.298700001319048e-05, 'new_locus_properties': {}, 'new_alert_properties': {}, 'new_tags': {'hello_world'}, 'raised_halt': False}, {'locus_id': 'ANT2018b4w6k', 'locus_data': FilterContext(locus_id=\"ANT2018b4w6k\"), 't': 9.817299999781426e-05, 'new_locus_properties': {}, 'new_alert_properties': {}, 'new_tags': {'hello_world'}, 'raised_halt': False}, {'locus_id': 'ANT2020a4sh2', 'locus_data': FilterContext(locus_id=\"ANT2020a4sh2\"), 't': 9.709600000462615e-05, 'new_locus_properties': {}, 'new_alert_properties': {}, 'new_tags': {'hello_world'}, 'raised_halt': False}, {'locus_id': 'ANT2023splnbnda0wyl', 'locus_data': FilterContext(locus_id=\"ANT2023splnbnda0wyl\"), 't': 9.98919999943837e-05, 'new_locus_properties': {}, 'new_alert_properties': {}, 'new_tags': {'hello_world'}, 'raised_halt': False}, {'locus_id': 'ANT20231jsy3o1bb4eo', 'locus_data': FilterContext(locus_id=\"ANT20231jsy3o1bb4eo\"), 't': 6.993200000238176e-05, 'new_locus_properties': {}, 'new_alert_properties': {}, 'new_tags': {'hello_world'}, 'raised_halt': False}, {'locus_id': 'ANT2020a4ype', 'locus_data': FilterContext(locus_id=\"ANT2020a4ype\"), 't': 9.829699999386321e-05, 'new_locus_properties': {}, 'new_alert_properties': {}, 'new_tags': {'hello_world'}, 'raised_halt': False}, {'locus_id': 'ANT2022ahnak', 'locus_data': FilterContext(locus_id=\"ANT2022ahnak\"), 't': 0.00010534700000164321, 'new_locus_properties': {}, 'new_alert_properties': {}, 'new_tags': {'hello_world'}, 'raised_halt': False}, {'locus_id': 'ANT2019kgrao', 'locus_data': FilterContext(locus_id=\"ANT2019kgrao\"), 't': 0.00010115199999916058, 'new_locus_properties': {}, 'new_alert_properties': {}, 'new_tags': {'hello_world'}, 'raised_halt': False}, {'locus_id': 'ANT2020a4nym', 'locus_data': FilterContext(locus_id=\"ANT2020a4nym\"), 't': 9.840399999916372e-05, 'new_locus_properties': {}, 'new_alert_properties': {}, 'new_tags': {'hello_world'}, 'raised_halt': False}, {'locus_id': 'ANT2020bbbl4', 'locus_data': FilterContext(locus_id=\"ANT2020bbbl4\"), 't': 9.81539999997949e-05, 'new_locus_properties': {}, 'new_alert_properties': {}, 'new_tags': {'hello_world'}, 'raised_halt': False}, {'locus_id': 'ANT2020a4huk', 'locus_data': FilterContext(locus_id=\"ANT2020a4huk\"), 't': 9.36870000032286e-05, 'new_locus_properties': {}, 'new_alert_properties': {}, 'new_tags': {'hello_world'}, 'raised_halt': False}, {'locus_id': 'ANT2023v4zf9rhuttjt', 'locus_data': FilterContext(locus_id=\"ANT2023v4zf9rhuttjt\"), 't': 6.862300000420873e-05, 'new_locus_properties': {}, 'new_alert_properties': {}, 'new_tags': {'hello_world'}, 'raised_halt': False}, {'locus_id': 'ANT2020a7mnm', 'locus_data': FilterContext(locus_id=\"ANT2020a7mnm\"), 't': 8.577399999865065e-05, 'new_locus_properties': {}, 'new_alert_properties': {}, 'new_tags': {'hello_world'}, 'raised_halt': False}, {'locus_id': 'ANT2023aol8q84cow9t', 'locus_data': FilterContext(locus_id=\"ANT2023aol8q84cow9t\"), 't': 6.495899999947596e-05, 'new_locus_properties': {}, 'new_alert_properties': {}, 'new_tags': {'hello_world'}, 'raised_halt': False}, {'locus_id': 'ANT2020a4vei', 'locus_data': FilterContext(locus_id=\"ANT2020a4vei\"), 't': 9.749099999112332e-05, 'new_locus_properties': {}, 'new_alert_properties': {}, 'new_tags': {'hello_world'}, 'raised_halt': False}, {'locus_id': 'ANT2020a7iqu', 'locus_data': FilterContext(locus_id=\"ANT2020a7iqu\"), 't': 9.657799999729377e-05, 'new_locus_properties': {}, 'new_alert_properties': {}, 'new_tags': {'hello_world'}, 'raised_halt': False}, {'locus_id': 'ANT2023iyl2166056su', 'locus_data': FilterContext(locus_id=\"ANT2023iyl2166056su\"), 't': 7.741599999633308e-05, 'new_locus_properties': {}, 'new_alert_properties': {}, 'new_tags': {'hello_world'}, 'raised_halt': False}, {'locus_id': 'ANT2020dxbdw', 'locus_data': FilterContext(locus_id=\"ANT2020dxbdw\"), 't': 9.023100000149498e-05, 'new_locus_properties': {}, 'new_alert_properties': {}, 'new_tags': {'hello_world'}, 'raised_halt': False}, {'locus_id': 'ANT2023vbj3pzhqasjz', 'locus_data': FilterContext(locus_id=\"ANT2023vbj3pzhqasjz\"), 't': 6.51810000107389e-05, 'new_locus_properties': {}, 'new_alert_properties': {}, 'new_tags': {'hello_world'}, 'raised_halt': False}, {'locus_id': 'ANT2020a4w5w', 'locus_data': FilterContext(locus_id=\"ANT2020a4w5w\"), 't': 7.915599999819278e-05, 'new_locus_properties': {}, 'new_alert_properties': {}, 'new_tags': {'hello_world'}, 'raised_halt': False}, {'locus_id': 'ANT2023370hacslywz0', 'locus_data': FilterContext(locus_id=\"ANT2023370hacslywz0\"), 't': 6.61830000012742e-05, 'new_locus_properties': {}, 'new_alert_properties': {}, 'new_tags': {'hello_world'}, 'raised_halt': False}, {'locus_id': 'ANT2020dyi6a', 'locus_data': FilterContext(locus_id=\"ANT2020dyi6a\"), 't': 6.515900000181318e-05, 'new_locus_properties': {}, 'new_alert_properties': {}, 'new_tags': {'hello_world'}, 'raised_halt': False}, {'locus_id': 'ANT2023n9naw2k6bdai', 'locus_data': FilterContext(locus_id=\"ANT2023n9naw2k6bdai\"), 't': 7.257600000798448e-05, 'new_locus_properties': {}, 'new_alert_properties': {}, 'new_tags': {'hello_world'}, 'raised_halt': False}, {'locus_id': 'ANT2020bbfke', 'locus_data': FilterContext(locus_id=\"ANT2020bbfke\"), 't': 9.845200000313525e-05, 'new_locus_properties': {}, 'new_alert_properties': {}, 'new_tags': {'hello_world'}, 'raised_halt': False}, {'locus_id': 'ANT2023bdj85krps9kd', 'locus_data': FilterContext(locus_id=\"ANT2023bdj85krps9kd\"), 't': 7.148699999959263e-05, 'new_locus_properties': {}, 'new_alert_properties': {}, 'new_tags': {'hello_world'}, 'raised_halt': False}, {'locus_id': 'ANT2020batf4', 'locus_data': FilterContext(locus_id=\"ANT2020batf4\"), 't': 8.626900000763271e-05, 'new_locus_properties': {}, 'new_alert_properties': {}, 'new_tags': {'hello_world'}, 'raised_halt': False}, {'locus_id': 'ANT2020bbhd2', 'locus_data': FilterContext(locus_id=\"ANT2020bbhd2\"), 't': 8.466900000314581e-05, 'new_locus_properties': {}, 'new_alert_properties': {}, 'new_tags': {'hello_world'}, 'raised_halt': False}, {'locus_id': 'ANT2020a4lhq', 'locus_data': FilterContext(locus_id=\"ANT2020a4lhq\"), 't': 9.68189999923652e-05, 'new_locus_properties': {}, 'new_alert_properties': {}, 'new_tags': {'hello_world'}, 'raised_halt': False}, {'locus_id': 'ANT202314jwe8jpe3gb', 'locus_data': FilterContext(locus_id=\"ANT202314jwe8jpe3gb\"), 't': 0.00011679799999342322, 'new_locus_properties': {}, 'new_alert_properties': {}, 'new_tags': {'hello_world'}, 'raised_halt': False}, {'locus_id': 'ANT2020a4wxi', 'locus_data': FilterContext(locus_id=\"ANT2020a4wxi\"), 't': 7.954299999823888e-05, 'new_locus_properties': {}, 'new_alert_properties': {}, 'new_tags': {'hello_world'}, 'raised_halt': False}, {'locus_id': 'ANT202314jwe8jpe3gb', 'locus_data': FilterContext(locus_id=\"ANT202314jwe8jpe3gb\"), 't': 6.565799999691535e-05, 'new_locus_properties': {}, 'new_alert_properties': {}, 'new_tags': {'hello_world'}, 'raised_halt': False}, {'locus_id': 'ANT2020a4wxi', 'locus_data': FilterContext(locus_id=\"ANT2020a4wxi\"), 't': 9.614399999691159e-05, 'new_locus_properties': {}, 'new_alert_properties': {}, 'new_tags': {'hello_world'}, 'raised_halt': False}, {'locus_id': 'ANT2020ba3fi', 'locus_data': FilterContext(locus_id=\"ANT2020ba3fi\"), 't': 9.93849999986196e-05, 'new_locus_properties': {}, 'new_alert_properties': {}, 'new_tags': {'hello_world'}, 'raised_halt': False}, {'locus_id': 'ANT2023747zh5dn2sgm', 'locus_data': FilterContext(locus_id=\"ANT2023747zh5dn2sgm\"), 't': 6.806300000050669e-05, 'new_locus_properties': {}, 'new_alert_properties': {}, 'new_tags': {'hello_world'}, 'raised_halt': False}, {'locus_id': 'ANT2020jojae', 'locus_data': FilterContext(locus_id=\"ANT2020jojae\"), 't': 8.779099999856044e-05, 'new_locus_properties': {}, 'new_alert_properties': {}, 'new_tags': {'hello_world'}, 'raised_halt': False}, {'locus_id': 'ANT20234832qs145vmx', 'locus_data': FilterContext(locus_id=\"ANT20234832qs145vmx\"), 't': 6.628299999533738e-05, 'new_locus_properties': {}, 'new_alert_properties': {}, 'new_tags': {'hello_world'}, 'raised_halt': False}, {'locus_id': 'ANT2020a4mf6', 'locus_data': FilterContext(locus_id=\"ANT2020a4mf6\"), 't': 9.988399999372177e-05, 'new_locus_properties': {}, 'new_alert_properties': {}, 'new_tags': {'hello_world'}, 'raised_halt': False}, {'locus_id': 'ANT2020a4wuc', 'locus_data': FilterContext(locus_id=\"ANT2020a4wuc\"), 't': 0.00010004099999605387, 'new_locus_properties': {}, 'new_alert_properties': {}, 'new_tags': {'hello_world'}, 'raised_halt': False}, {'locus_id': 'ANT2020gpmum', 'locus_data': FilterContext(locus_id=\"ANT2020gpmum\"), 't': 9.550900000476759e-05, 'new_locus_properties': {}, 'new_alert_properties': {}, 'new_tags': {'hello_world'}, 'raised_halt': False}, {'locus_id': 'ANT2020bavne', 'locus_data': FilterContext(locus_id=\"ANT2020bavne\"), 't': 9.487100000171722e-05, 'new_locus_properties': {}, 'new_alert_properties': {}, 'new_tags': {'hello_world'}, 'raised_halt': False}, {'locus_id': 'ANT2020eiwag', 'locus_data': FilterContext(locus_id=\"ANT2020eiwag\"), 't': 9.812799999053823e-05, 'new_locus_properties': {}, 'new_alert_properties': {}, 'new_tags': {'hello_world'}, 'raised_halt': False}, {'locus_id': 'ANT20237jb0i4iiw8y8', 'locus_data': FilterContext(locus_id=\"ANT20237jb0i4iiw8y8\"), 't': 0.00010106200001303023, 'new_locus_properties': {}, 'new_alert_properties': {}, 'new_tags': {'hello_world'}, 'raised_halt': False}, {'locus_id': 'ANT2020a4wtg', 'locus_data': FilterContext(locus_id=\"ANT2020a4wtg\"), 't': 8.875099999272607e-05, 'new_locus_properties': {}, 'new_alert_properties': {}, 'new_tags': {'hello_world'}, 'raised_halt': False}, {'locus_id': 'ANT2023halulggfjl42', 'locus_data': FilterContext(locus_id=\"ANT2023halulggfjl42\"), 't': 0.00011836699999889788, 'new_locus_properties': {}, 'new_alert_properties': {}, 'new_tags': {'hello_world'}, 'raised_halt': False}, {'locus_id': 'ANT20233rhp8r5irpnw', 'locus_data': FilterContext(locus_id=\"ANT20233rhp8r5irpnw\"), 't': 6.806900000810856e-05, 'new_locus_properties': {}, 'new_alert_properties': {}, 'new_tags': {'hello_world'}, 'raised_halt': False}, {'locus_id': 'ANT2023ic3autpzusc7', 'locus_data': FilterContext(locus_id=\"ANT2023ic3autpzusc7\"), 't': 6.972900000334903e-05, 'new_locus_properties': {}, 'new_alert_properties': {}, 'new_tags': {'hello_world'}, 'raised_halt': False}, {'locus_id': 'ANT2019urge6', 'locus_data': FilterContext(locus_id=\"ANT2019urge6\"), 't': 7.419599999991533e-05, 'new_locus_properties': {}, 'new_alert_properties': {}, 'new_tags': {'hello_world'}, 'raised_halt': False}, {'locus_id': 'ANT2020bbbr4', 'locus_data': FilterContext(locus_id=\"ANT2020bbbr4\"), 't': 6.415800000070249e-05, 'new_locus_properties': {}, 'new_alert_properties': {}, 'new_tags': {'hello_world'}, 'raised_halt': False}, {'locus_id': 'ANT2023el71ihkdi6il', 'locus_data': FilterContext(locus_id=\"ANT2023el71ihkdi6il\"), 't': 4.858799999851726e-05, 'new_locus_properties': {}, 'new_alert_properties': {}, 'new_tags': {'hello_world'}, 'raised_halt': False}, {'locus_id': 'ANT20235qu8lr0x0ufz', 'locus_data': FilterContext(locus_id=\"ANT20235qu8lr0x0ufz\"), 't': 6.532999999819822e-05, 'new_locus_properties': {}, 'new_alert_properties': {}, 'new_tags': {'hello_world'}, 'raised_halt': False}, {'locus_id': 'ANT2023clklkhk9rg7f', 'locus_data': FilterContext(locus_id=\"ANT2023clklkhk9rg7f\"), 't': 6.516300000214414e-05, 'new_locus_properties': {}, 'new_alert_properties': {}, 'new_tags': {'hello_world'}, 'raised_halt': False}, {'locus_id': 'ANT2020a4jo6', 'locus_data': FilterContext(locus_id=\"ANT2020a4jo6\"), 't': 9.701800000527783e-05, 'new_locus_properties': {}, 'new_alert_properties': {}, 'new_tags': {'hello_world'}, 'raised_halt': False}, {'locus_id': 'ANT2019vbn5a', 'locus_data': FilterContext(locus_id=\"ANT2019vbn5a\"), 't': 7.765499999834446e-05, 'new_locus_properties': {}, 'new_alert_properties': {}, 'new_tags': {'hello_world'}, 'raised_halt': False}, {'locus_id': 'ANT2023bo8e959apozt', 'locus_data': FilterContext(locus_id=\"ANT2023bo8e959apozt\"), 't': 6.657899999140682e-05, 'new_locus_properties': {}, 'new_alert_properties': {}, 'new_tags': {'hello_world'}, 'raised_halt': False}, {'locus_id': 'ANT2020a7ufq', 'locus_data': FilterContext(locus_id=\"ANT2020a7ufq\"), 't': 0.00010892699999942579, 'new_locus_properties': {}, 'new_alert_properties': {}, 'new_tags': {'hello_world'}, 'raised_halt': False}, {'locus_id': 'ANT2020akpae', 'locus_data': FilterContext(locus_id=\"ANT2020akpae\"), 't': 0.00011119600000597529, 'new_locus_properties': {}, 'new_alert_properties': {}, 'new_tags': {'hello_world'}, 'raised_halt': False}, {'locus_id': 'ANT2020a4mbm', 'locus_data': FilterContext(locus_id=\"ANT2020a4mbm\"), 't': 0.0001360239999996793, 'new_locus_properties': {}, 'new_alert_properties': {}, 'new_tags': {'hello_world'}, 'raised_halt': False}, {'locus_id': 'ANT2020bbgta', 'locus_data': FilterContext(locus_id=\"ANT2020bbgta\"), 't': 0.00012170799999466908, 'new_locus_properties': {}, 'new_alert_properties': {}, 'new_tags': {'hello_world'}, 'raised_halt': False}, {'locus_id': 'ANT2020bbbr4', 'locus_data': FilterContext(locus_id=\"ANT2020bbbr4\"), 't': 9.686100000294573e-05, 'new_locus_properties': {}, 'new_alert_properties': {}, 'new_tags': {'hello_world'}, 'raised_halt': False}, {'locus_id': 'ANT2023el71ihkdi6il', 'locus_data': FilterContext(locus_id=\"ANT2023el71ihkdi6il\"), 't': 6.77160000037702e-05, 'new_locus_properties': {}, 'new_alert_properties': {}, 'new_tags': {'hello_world'}, 'raised_halt': False}, {'locus_id': 'ANT2023f3kqo5itddfu', 'locus_data': FilterContext(locus_id=\"ANT2023f3kqo5itddfu\"), 't': 6.918799999766634e-05, 'new_locus_properties': {}, 'new_alert_properties': {}, 'new_tags': {'hello_world'}, 'raised_halt': False}, {'locus_id': 'ANT2020hjubq', 'locus_data': FilterContext(locus_id=\"ANT2020hjubq\"), 't': 0.00011927900000330283, 'new_locus_properties': {}, 'new_alert_properties': {}, 'new_tags': {'hello_world'}, 'raised_halt': False}, {'locus_id': 'ANT2023clklkhk9rg7f', 'locus_data': FilterContext(locus_id=\"ANT2023clklkhk9rg7f\"), 't': 6.910099999402064e-05, 'new_locus_properties': {}, 'new_alert_properties': {}, 'new_tags': {'hello_world'}, 'raised_halt': False}, {'locus_id': 'ANT2020a4jo6', 'locus_data': FilterContext(locus_id=\"ANT2020a4jo6\"), 't': 0.00012479500000495136, 'new_locus_properties': {}, 'new_alert_properties': {}, 'new_tags': {'hello_world'}, 'raised_halt': False}, {'locus_id': 'ANT2019vbn5a', 'locus_data': FilterContext(locus_id=\"ANT2019vbn5a\"), 't': 7.803399999772864e-05, 'new_locus_properties': {}, 'new_alert_properties': {}, 'new_tags': {'hello_world'}, 'raised_halt': False}, {'locus_id': 'ANT2023bo8e959apozt', 'locus_data': FilterContext(locus_id=\"ANT2023bo8e959apozt\"), 't': 0.0001713179999995873, 'new_locus_properties': {}, 'new_alert_properties': {}, 'new_tags': {'hello_world'}, 'raised_halt': False}, {'locus_id': 'ANT2020a7ufq', 'locus_data': FilterContext(locus_id=\"ANT2020a7ufq\"), 't': 0.00011293800000089504, 'new_locus_properties': {}, 'new_alert_properties': {}, 'new_tags': {'hello_world'}, 'raised_halt': False}, {'locus_id': 'ANT2020akpae', 'locus_data': FilterContext(locus_id=\"ANT2020akpae\"), 't': 7.436999999299587e-05, 'new_locus_properties': {}, 'new_alert_properties': {}, 'new_tags': {'hello_world'}, 'raised_halt': False}, {'locus_id': 'ANT2020a4mbm', 'locus_data': FilterContext(locus_id=\"ANT2020a4mbm\"), 't': 0.00011471599999879345, 'new_locus_properties': {}, 'new_alert_properties': {}, 'new_tags': {'hello_world'}, 'raised_halt': False}, {'locus_id': 'ANT2020bbgta', 'locus_data': FilterContext(locus_id=\"ANT2020bbgta\"), 't': 0.00010545399999273286, 'new_locus_properties': {}, 'new_alert_properties': {}, 'new_tags': {'hello_world'}, 'raised_halt': False}, {'locus_id': 'ANT2020vkm6q', 'locus_data': FilterContext(locus_id=\"ANT2020vkm6q\"), 't': 9.381399999597306e-05, 'new_locus_properties': {}, 'new_alert_properties': {}, 'new_tags': {'hello_world'}, 'raised_halt': False}, {'locus_id': 'ANT2020ba2dw', 'locus_data': FilterContext(locus_id=\"ANT2020ba2dw\"), 't': 0.00012193099999535661, 'new_locus_properties': {}, 'new_alert_properties': {}, 'new_tags': {'hello_world'}, 'raised_halt': False}, {'locus_id': 'ANT2020a4mhe', 'locus_data': FilterContext(locus_id=\"ANT2020a4mhe\"), 't': 0.00011581500000090728, 'new_locus_properties': {}, 'new_alert_properties': {}, 'new_tags': {'hello_world'}, 'raised_halt': False}, {'locus_id': 'ANT2020a4vwu', 'locus_data': FilterContext(locus_id=\"ANT2020a4vwu\"), 't': 9.917100000222945e-05, 'new_locus_properties': {}, 'new_alert_properties': {}, 'new_tags': {'hello_world'}, 'raised_halt': False}, {'locus_id': 'ANT20239ug0z3idyr9y', 'locus_data': FilterContext(locus_id=\"ANT20239ug0z3idyr9y\"), 't': 7.54539999974213e-05, 'new_locus_properties': {}, 'new_alert_properties': {}, 'new_tags': {'hello_world'}, 'raised_halt': False}, {'locus_id': 'ANT2023cd9o5bimvpzo', 'locus_data': FilterContext(locus_id=\"ANT2023cd9o5bimvpzo\"), 't': 7.025700000440338e-05, 'new_locus_properties': {}, 'new_alert_properties': {}, 'new_tags': {'hello_world'}, 'raised_halt': False}, {'locus_id': 'ANT2019yriee', 'locus_data': FilterContext(locus_id=\"ANT2019yriee\"), 't': 9.903599999461221e-05, 'new_locus_properties': {}, 'new_alert_properties': {}, 'new_tags': {'hello_world'}, 'raised_halt': False}, {'locus_id': 'ANT2020baya4', 'locus_data': FilterContext(locus_id=\"ANT2020baya4\"), 't': 7.372099999258808e-05, 'new_locus_properties': {}, 'new_alert_properties': {}, 'new_tags': {'hello_world'}, 'raised_halt': False}, {'locus_id': 'ANT2023wfvyxsqww87b', 'locus_data': FilterContext(locus_id=\"ANT2023wfvyxsqww87b\"), 't': 6.997300000932682e-05, 'new_locus_properties': {}, 'new_alert_properties': {}, 'new_tags': {'hello_world'}, 'raised_halt': False}, {'locus_id': 'ANT2020a7n46', 'locus_data': FilterContext(locus_id=\"ANT2020a7n46\"), 't': 6.0489000006214155e-05, 'new_locus_properties': {}, 'new_alert_properties': {}, 'new_tags': {'hello_world'}, 'raised_halt': False}, {'locus_id': 'ANT2023w11fstqn72dy', 'locus_data': FilterContext(locus_id=\"ANT2023w11fstqn72dy\"), 't': 5.07100000106675e-05, 'new_locus_properties': {}, 'new_alert_properties': {}, 'new_tags': {'hello_world'}, 'raised_halt': False}, {'locus_id': 'ANT2023ehq8i9pcoff4', 'locus_data': FilterContext(locus_id=\"ANT2023ehq8i9pcoff4\"), 't': 6.72720000238769e-05, 'new_locus_properties': {}, 'new_alert_properties': {}, 'new_tags': {'hello_world'}, 'raised_halt': False}, {'locus_id': 'ANT2023j6mxk72liaxp', 'locus_data': FilterContext(locus_id=\"ANT2023j6mxk72liaxp\"), 't': 6.383199999504541e-05, 'new_locus_properties': {}, 'new_alert_properties': {}, 'new_tags': {'hello_world'}, 'raised_halt': False}, {'locus_id': 'ANT2023hct4fvf9zhjw', 'locus_data': FilterContext(locus_id=\"ANT2023hct4fvf9zhjw\"), 't': 6.515399999784677e-05, 'new_locus_properties': {}, 'new_alert_properties': {}, 'new_tags': {'hello_world'}, 'raised_halt': False}, {'locus_id': 'ANT2023vxh6d9xytpsu', 'locus_data': FilterContext(locus_id=\"ANT2023vxh6d9xytpsu\"), 't': 6.926700001486097e-05, 'new_locus_properties': {}, 'new_alert_properties': {}, 'new_tags': {'hello_world'}, 'raised_halt': False}, {'locus_id': 'ANT2023m1wmvtr02d43', 'locus_data': FilterContext(locus_id=\"ANT2023m1wmvtr02d43\"), 't': 6.989599998519225e-05, 'new_locus_properties': {}, 'new_alert_properties': {}, 'new_tags': {'hello_world'}, 'raised_halt': False}, {'locus_id': 'ANT2020a4ymw', 'locus_data': FilterContext(locus_id=\"ANT2020a4ymw\"), 't': 9.750899999971807e-05, 'new_locus_properties': {}, 'new_alert_properties': {}, 'new_tags': {'hello_world'}, 'raised_halt': False}, {'locus_id': 'ANT2023fier0cypxzpk', 'locus_data': FilterContext(locus_id=\"ANT2023fier0cypxzpk\"), 't': 9.361200000057579e-05, 'new_locus_properties': {}, 'new_alert_properties': {}, 'new_tags': {'hello_world'}, 'raised_halt': False}, {'locus_id': 'ANT2021vf4zo', 'locus_data': FilterContext(locus_id=\"ANT2021vf4zo\"), 't': 8.473200000480574e-05, 'new_locus_properties': {}, 'new_alert_properties': {}, 'new_tags': {'hello_world'}, 'raised_halt': False}, {'locus_id': 'ANT2023fk3494adih0j', 'locus_data': FilterContext(locus_id=\"ANT2023fk3494adih0j\"), 't': 7.75080000039452e-05, 'new_locus_properties': {}, 'new_alert_properties': {}, 'new_tags': {'hello_world'}, 'raised_halt': False}], 't_50_percentile': 8.802100000337987e-05, 't_90_percentile': 0.00011482589999900485, 't_95_percentile': 0.00012171914999470346, 't_99_percentile': 0.00017487236999954984}\n"
     ]
    }
   ],
   "source": [
    "# Execute HelloWorld filter on 100 random locii\n",
    "report = dk.run_many(HelloWorld, n=100)\n",
    "\n",
    "# `run_many()` returns a report of what the filter did. Take a look at it:\n",
    "print(report)"
   ]
  },
  {
   "cell_type": "markdown",
   "metadata": {},
   "source": [
    "## Constructing Locus Objects\n",
    "You can also construct your own Locus objects for testing:"
   ]
  },
  {
   "cell_type": "code",
   "execution_count": 11,
   "metadata": {},
   "outputs": [
    {
     "name": "stdout",
     "output_type": "stream",
     "text": [
      "2023-04-25 14:36:18,488 - WARNING MainThread cassandra.py:list_by_location:1167 - Catalog object not found (catalog_id=19, object_id=490951081)\n",
      "2023-04-25 14:36:18,583 - WARNING MainThread ztf_flux_correction.py:correct_mags:62 - Attempt to correct magnitudes failed, missing fields\n",
      "Building the lightcurve with the following missing columns: {'ant_maglim', 'ant_magerr', 'ant_dec', 'ant_passband', 'ant_ra', 'ant_survey'}\n",
      "Hello Locus locus1\n"
     ]
    },
    {
     "data": {
      "text/plain": [
       "{'locus_id': 'locus1',\n",
       " 'locus_data': FilterContext(locus_id=\"locus1\"),\n",
       " 't': 7.160700002373233e-05,\n",
       " 'new_locus_properties': {},\n",
       " 'new_alert_properties': {},\n",
       " 'new_tags': {'hello_world'},\n",
       " 'raised_halt': False}"
      ]
     },
     "execution_count": 11,
     "metadata": {},
     "output_type": "execute_result"
    }
   ],
   "source": [
    "ra, dec = 88.2744186, -5.0010774\n",
    "locus_dict = {\n",
    "    'locus_id': 'locus1',\n",
    "    'ra': ra,\n",
    "    'dec': dec,\n",
    "    'properties': {\n",
    "        'num_alerts': 2,\n",
    "        'num_mag_values': 2,\n",
    "    },\n",
    "    'tags': [],\n",
    "    'watch_list_ids': [],\n",
    "    'watch_object_ids': [],\n",
    "    'catalog_objects': dk.search_catalogs(ra, dec),\n",
    "    'alerts': [\n",
    "        {\n",
    "            'alert_id': 'alert1',\n",
    "            'locus_id': 'locus1',\n",
    "            'mjd': 58794.272488399874,\n",
    "            'properties': {\n",
    "                'ant_mag': 15.1,\n",
    "            },\n",
    "        },\n",
    "        {\n",
    "            'alert_id': 'alert2',\n",
    "            'locus_id': 'locus1',\n",
    "            'mjd': 58799.50587960007,\n",
    "            'properties': {\n",
    "                'ant_mag': 15.2,\n",
    "            }\n",
    "        },\n",
    "    ],\n",
    "}\n",
    "\n",
    "locus = dk.locus_from_dict(locus_dict)\n",
    "\n",
    "dk.run_filter(HelloWorld, locus)"
   ]
  },
  {
   "cell_type": "markdown",
   "metadata": {},
   "source": [
    "<a class=\"anchor\" id=\"data\"></a>\n",
    "## 4. Upload and use Data File\n",
    "\n",
    "Some filters require access to data files, such as statistical models. ANTARES supports this by storing such files as binary blobs in a database table. These data files can then be loaded into filters when the filter’s `setup()` function is called.\n",
    "\n",
    "### Uploading files into ANTARES\n",
    "\n",
    "The detail of uploading files into ANTARES can be found at ANTARES [Documentation](https://nsf-noirlab.gitlab.io/csdc/antares/antares/devkit/files.html)"
   ]
  },
  {
   "cell_type": "markdown",
   "metadata": {},
   "source": [
    "### Accessing Files from Filters\n",
    "In the `setup()` function of your filter, file data are available as bytes objects.\n",
    "\n",
    "Here is an example of a filter which requires a file, transforms that file into a Python object or datastructure, and then uses that object when the filter runs:"
   ]
  },
  {
   "cell_type": "code",
   "execution_count": 12,
   "metadata": {},
   "outputs": [],
   "source": [
    "import antares.devkit as dk\n",
    "\n",
    "\n",
    "class MyFilter(dk.Filter):\n",
    "    REQUIRES_FILES = [\n",
    "        'cstubens_myFile.txt'\n",
    "    ]\n",
    "\n",
    "    def setup(self):\n",
    "        \"\"\"\n",
    "        ANTARES will call this function once at the beginning of each night\n",
    "        when filters are loaded.\n",
    "        \"\"\"\n",
    "        # ANTARES will load all files in `REQUIRED_FILES` into a dict\n",
    "        # on the filter object `self.files`. Values in this dictionary\n",
    "        # will be byte strings of class `bytes`.\n",
    "        # You can then access them like:\n",
    "        file_data = self.files['cstubens_myFile.txt']\n",
    "\n",
    "        # Construct a Python object or datastructure from the raw `file_data`.\n",
    "        # TODO: your code here\n",
    "        # Then, you can store it on the filter instance for use in `run()`:\n",
    "        self.my_object = my_object\n",
    "\n",
    "    def run(self, locus):\n",
    "        \"\"\"\n",
    "        ANTARES will call this function in real-time for each incoming Alert.\n",
    "        \"\"\"\n",
    "        # Here you can use `self.my_object` in your processing of the alert.\n",
    "        # TODO: your code here"
   ]
  },
  {
   "cell_type": "markdown",
   "metadata": {},
   "source": [
    "### Filter Submission\n",
    "BEFORE you submit your filter to ANTARES, you must contact us to request that we copy your datafiles from the DevKit database into the production database. Please provide the file `key` value(s) which you uploaded the files to."
   ]
  },
  {
   "cell_type": "markdown",
   "metadata": {},
   "source": [
    "<a class=\"anchor\" id=\"submit\"></a>\n",
    "## 5. Submit Filter to ANTARES\n",
    "\n",
    "When you're ready to submit your filter to ANTARES, go to the [filters](https://antares.noirlab.edu/filters) page on the ANTARES website and click \"Add\".\n",
    "\n",
    "**Note**: We highly recommend setting an `ERROR_SLACK_CHANNEL` on your filter so that you will receive notifications of errors. See [Debugging Filters in Production](https://nsf-noirlab.gitlab.io/csdc/antares/antares/devkit/debugging.html).\n",
    "\n",
    "When you submit your filter you will need to provide:\n",
    "\n",
    "* **Name** – A unique name for your filter. Name your filter like:\n",
    "\n",
    "     * Format: `<author or group>_<name>`\n",
    "\n",
    "     * eg: `stubens_sn1a_candidates`\n",
    "     \n",
    "\n",
    "* **Description** – A brief text description of your filter. Will be publicly visible.\n",
    "\n",
    "\n",
    "* **Handler** – The name of the filter class in your code. The handler name does not need to be unique outside of your code.\n",
    "\n",
    "\n",
    "* **Code** – A block of code which includes:\n",
    "\n",
    "     * your import statements\n",
    "\n",
    "     * filter class\n",
    "\n",
    "     * any helper functions that your filter needs\n"
   ]
  }
 ],
 "metadata": {
  "kernelspec": {
   "display_name": "Python 3 (ANTARES)",
   "language": "python",
   "name": "antares_py3.7"
  },
  "language_info": {
   "codemirror_mode": {
    "name": "ipython",
    "version": 3
   },
   "file_extension": ".py",
   "mimetype": "text/x-python",
   "name": "python",
   "nbconvert_exporter": "python",
   "pygments_lexer": "ipython3",
   "version": "3.9.16"
  }
 },
 "nbformat": 4,
 "nbformat_minor": 4
}
