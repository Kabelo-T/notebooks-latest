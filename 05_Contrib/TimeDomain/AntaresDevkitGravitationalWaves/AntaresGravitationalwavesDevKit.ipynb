{
 "cells": [
  {
   "cell_type": "code",
   "execution_count": 1,
   "metadata": {
    "execution": {
     "iopub.execute_input": "2024-02-01T19:43:00.822353Z",
     "iopub.status.busy": "2024-02-01T19:43:00.821857Z",
     "iopub.status.idle": "2024-02-01T19:43:00.839528Z",
     "shell.execute_reply": "2024-02-01T19:43:00.838233Z",
     "shell.execute_reply.started": "2024-02-01T19:43:00.822304Z"
    },
    "tags": []
   },
   "outputs": [],
   "source": [
    "__author__ = 'Antares Team <antares@noirlab.edu>'\n",
    "__version__ = '20242901' # yyyymmdd\n",
    "__datasets__ = ['']\n",
    "__keywords__ = ['ANTARES', 'Gravitational wave events']"
   ]
  },
  {
   "cell_type": "markdown",
   "metadata": {},
   "source": [
    "# Accessing gravitational wave events using ANTARES\n",
    "\n",
    "*ANTARES Team.*"
   ]
  },
  {
   "cell_type": "markdown",
   "metadata": {},
   "source": [
    "### Table of contents\n",
    "* [Goals & notebook summary](#goals)\n",
    "* [Disclaimer & attribution](#attribution)\n",
    "* [Imports & setup](#import)\n",
    "* [Content](#chapter1)\n",
    "    * [0. Background information on ANTARES](#content-background)\n",
    "    * [1. What Is a Gravitational Wave?](#content-grav-waves)\n",
    "    * [2. How to access to gravitational wave notices using the ANTARES devkit?](#content-grav-waves-devkit)\n",
    "    * [3. How to develop a filter that uses gravitational wave data?](#content-grav-waves-filter)\n",
    "    * [4. How to access to gravitational wave notices using the ANTARES client?](#content-grav-waves-client)"
   ]
  },
  {
   "cell_type": "markdown",
   "metadata": {},
   "source": [
    "<a class=\"anchor\" id=\"goals\"></a>\n",
    "# Goals\n",
    "To show how to access gravitational wave data in ANTARES"
   ]
  },
  {
   "cell_type": "markdown",
   "metadata": {},
   "source": [
    "# Summary\n",
    "This jupyter notebook is an example of how to access to gravitational wave notices using the ANTARES devkit and client"
   ]
  },
  {
   "cell_type": "markdown",
   "metadata": {},
   "source": [
    "<a class=\"anchor\" id=\"attribution\"></a>\n",
    "# Disclaimer & attribution\n",
    "If you use this notebook for your published science, please acknowledge the following:\n",
    "\n",
    "* Data Lab concept paper: Fitzpatrick et al., \"The NOAO Data Laboratory: a conceptual overview\", SPIE, 9149, 2014, http://dx.doi.org/10.1117/12.2057445\n",
    "\n",
    "* Data Lab disclaimer: https://datalab.noirlab.edu/disclaimers.php"
   ]
  },
  {
   "cell_type": "markdown",
   "metadata": {},
   "source": [
    "<a class=\"anchor\" id=\"import\"></a>\n",
    "# Imports and setup"
   ]
  },
  {
   "cell_type": "code",
   "execution_count": 2,
   "metadata": {
    "execution": {
     "iopub.execute_input": "2024-02-01T19:43:04.323992Z",
     "iopub.status.busy": "2024-02-01T19:43:04.323498Z",
     "iopub.status.idle": "2024-02-01T19:43:29.920102Z",
     "shell.execute_reply": "2024-02-01T19:43:29.918791Z",
     "shell.execute_reply.started": "2024-02-01T19:43:04.323948Z"
    },
    "tags": []
   },
   "outputs": [
    {
     "name": "stdout",
     "output_type": "stream",
     "text": [
      "Loading ANTARES from /data0/sw/antares-kernel/lib/python3.9/site-packages/antares/__init__.py\n",
      "\n",
      "        _    _   _ _____  _    ____  _____ ____\n",
      "       / \\  | \\ | |_   _|/ \\  |  _ \\| ____/ ___|\n",
      "      / _ \\ |  \\| | | | / _ \\ | |_| |  _| \\___ \\\\\n",
      "     / ___ \\| |\\  | | |/ ___ \\|  _ /| |___ ___| |\n",
      "    /_/   \\_\\_| \\_| |_/_/   \\_\\_| \\_\\_____|____/   v2.9.0\n",
      "    \n",
      "2024-02-01 12:43:06,574 - WARNING MainThread settings.py:setup_prometheus:124 - Prometheus failed to start with [Errno 98] Address already in use\n"
     ]
    },
    {
     "name": "stderr",
     "output_type": "stream",
     "text": [
      "Jaeger tracer already initialized, skipping\n"
     ]
    },
    {
     "name": "stdout",
     "output_type": "stream",
     "text": [
      "Testing loading a random Locus with `dk.get_locus()`...\n",
      "\n",
      "ANTARES v2.9.0 DevKit is ready!\n",
      "Website: https://antares.noirlab.edu\n",
      "Documentation: https://nsf-noirlab.gitlab.io/csdc/antares/antares/\n",
      "\n"
     ]
    },
    {
     "name": "stderr",
     "output_type": "stream",
     "text": [
      "/data0/sw/antares-kernel/lib/python3.9/site-packages/pandas/core/arraylike.py:399: RuntimeWarning: invalid value encountered in log10\n",
      "  result = getattr(ufunc, method)(*inputs, **kwargs)\n"
     ]
    }
   ],
   "source": [
    "import antares.devkit as dk\n",
    "dk.init()"
   ]
  },
  {
   "cell_type": "markdown",
   "metadata": {},
   "source": [
    "<a class=\"anchor\" id=\"content-background\"></a>\n",
    "# 0. Background information on ANTARES\n",
    "\n",
    "ANTARES receives alerts from surveys in real-time and sends them through a processing pipeline. The pipeline contains the following stages:\n",
    "\n",
    "1. Associate the Alert with the nearest point of known past measurements within a 1\" radius. We call this a Locus.\n",
    "2. Discard Alerts with a high probability of being false detections.\n",
    "3. Discard Alerts with poor image quality.\n",
    "4. Associate Gravitational Wave Events to Locus.\n",
    "5. Look up associated objects in our catalogs.\n",
    "6. Update watch lists.\n",
    "7. Execute Filters on Locus.\n",
    "8. Send Locus to user Kafka topics.\n",
    "\n",
    "\n",
    "Filters are Python functions that take a Locus object as a single parameter. Functions on the Locus provide access to the Alert's properties, the data from past Alerts on the Locus, gravitational wave events on the Locus, and the associated catalog objects. This information can be used to characterize or classify the Locus. The Locus also provides functions to set new properties on the Alert and Locus, and to send the Locus to a specific Kafka stream."
   ]
  },
  {
   "cell_type": "code",
   "execution_count": 3,
   "metadata": {
    "execution": {
     "iopub.execute_input": "2024-02-01T19:43:29.922640Z",
     "iopub.status.busy": "2024-02-01T19:43:29.922211Z",
     "iopub.status.idle": "2024-02-01T19:43:47.413841Z",
     "shell.execute_reply": "2024-02-01T19:43:47.412079Z",
     "shell.execute_reply.started": "2024-02-01T19:43:29.922609Z"
    },
    "tags": []
   },
   "outputs": [],
   "source": [
    "# First we retrieve a locus\n",
    "locus = dk.get_locus(\"ANT2020ho42c\")"
   ]
  },
  {
   "cell_type": "markdown",
   "metadata": {},
   "source": [
    "<a class=\"anchor\" id=\"content-grav-waves\"></a>\n",
    "# 1. What Is a Gravitational Wave?\n",
    "\n",
    "Gravitational waves are ripples in space.  The current suite of\n",
    "gravitational wave detectors are sensitive to the coalescence of\n",
    "binary systems with massive compact objects, such as neutron stars and\n",
    "black holes."
   ]
  },
  {
   "cell_type": "markdown",
   "metadata": {},
   "source": [
    "<a class=\"anchor\" id=\"content-grav-waves-devkit\"></a>\n",
    "# 2. How to access to gravitational wave notices using the ANTARES devkit?\n",
    "\n",
    "We can access to the gravitational wave events associated with a locus by accessing to the `grav_wave_events_metadata` dictionary"
   ]
  },
  {
   "cell_type": "code",
   "execution_count": 4,
   "metadata": {
    "execution": {
     "iopub.execute_input": "2024-02-01T19:43:47.416379Z",
     "iopub.status.busy": "2024-02-01T19:43:47.416082Z",
     "iopub.status.idle": "2024-02-01T19:43:47.424236Z",
     "shell.execute_reply": "2024-02-01T19:43:47.423097Z",
     "shell.execute_reply.started": "2024-02-01T19:43:47.416347Z"
    },
    "scrolled": true,
    "tags": []
   },
   "outputs": [
    {
     "name": "stdout",
     "output_type": "stream",
     "text": [
      "S231027bk 2023-10-27 20:01:09.100000\n",
      "S231028r 2023-10-28 06:59:50.019000\n",
      "S231028aw 2023-10-28 14:00:36.384000\n",
      "S231028br 2023-10-28 17:34:20.951000\n",
      "S231029e 2023-10-29 00:54:46.395000\n",
      "S231029n 2023-10-29 07:44:33.518000\n",
      "S231029y 2023-10-29 11:15:08.754000\n",
      "S231029ah 2023-10-29 14:19:37.578000\n",
      "S231029ai 2023-10-29 14:51:39.214000\n",
      "S231029at 2023-10-29 19:48:41.864000\n",
      "S231029bd 2023-10-29 22:13:58.142000\n",
      "S231030r 2023-10-30 02:12:04.512000\n",
      "S231030t 2023-10-30 02:26:50.708000\n",
      "S231030v 2023-10-30 02:51:32.206000\n",
      "S231030ad 2023-10-30 06:25:23.301000\n",
      "S231030bd 2023-10-30 15:05:30.555000\n",
      "S231030be 2023-10-30 15:05:30.437000\n",
      "S231025c 2023-10-25 03:29:30.125000\n",
      "S231025p 2023-10-25 05:38:55.316000\n",
      "S231025t 2023-10-25 06:16:12.235000\n",
      "S231025ap 2023-10-25 14:23:06.141000\n",
      "S231025aw 2023-10-25 15:07:18.932000\n",
      "S231025az 2023-10-25 16:03:30.074000\n",
      "S231026n 2023-10-26 07:11:39.708000\n",
      "S231026z 2023-10-26 12:54:28.507000\n",
      "S231027m 2023-10-27 02:15:46.238000\n",
      "S231027r 2023-10-27 03:51:15.755000\n",
      "S231103aa 2023-11-03 18:52:48.712000\n",
      "S231104j 2023-11-04 07:15:57.806000\n",
      "S231104m 2023-11-04 07:55:47.805000\n",
      "S231104s 2023-11-04 10:03:23.502000\n",
      "S231106k 2023-11-06 02:35:25.371000\n",
      "S231106r 2023-11-06 04:21:56.090000\n",
      "S231107a 2023-11-07 00:14:17.023000\n",
      "S231108l 2023-11-08 03:52:53.817000\n",
      "S231108p 2023-11-08 05:02:19.117000\n",
      "S231108x 2023-11-08 18:08:46.982000\n",
      "S231108ab 2023-11-08 19:57:22.468000\n",
      "S231109p 2023-11-09 05:29:01.246000\n",
      "S231109y 2023-11-09 08:38:47.557000\n",
      "S231109ab 2023-11-09 09:45:18.521000\n",
      "S231109ap 2023-11-09 14:09:51.447000\n",
      "S231109as 2023-11-09 14:25:46.369000\n",
      "S231109bh 2023-11-09 17:54:05.911000\n",
      "S231109bj 2023-11-09 18:12:37.889000\n",
      "S231109bo 2023-11-09 19:19:18.691000\n",
      "S231110az 2023-11-10 17:17:31.380000\n",
      "S231112i 2023-11-12 05:06:43.617000\n",
      "S231112j 2023-11-12 05:14:27.065000\n",
      "S231112ag None\n"
     ]
    }
   ],
   "source": [
    "for gracedb_id, grav_wave_notice in locus.grav_wave_events_metadata.items():\n",
    "    print(gracedb_id, grav_wave_notice.event_datetime)"
   ]
  },
  {
   "cell_type": "markdown",
   "metadata": {},
   "source": [
    "For more information and a complete description of the gravitational\n",
    "wave notice class, see https://nsf-noirlab.gitlab.io/csdc/antares/antares/grav_waves.html"
   ]
  },
  {
   "cell_type": "markdown",
   "metadata": {},
   "source": [
    "If we want to access to the gravitational wave events associated with an alert, we can access to the `grav_wave_events` variable"
   ]
  },
  {
   "cell_type": "code",
   "execution_count": 5,
   "metadata": {
    "execution": {
     "iopub.execute_input": "2024-02-01T19:43:47.426614Z",
     "iopub.status.busy": "2024-02-01T19:43:47.426340Z",
     "iopub.status.idle": "2024-02-01T19:43:47.431916Z",
     "shell.execute_reply": "2024-02-01T19:43:47.430998Z",
     "shell.execute_reply.started": "2024-02-01T19:43:47.426580Z"
    },
    "tags": []
   },
   "outputs": [
    {
     "name": "stdout",
     "output_type": "stream",
     "text": [
      "{'gracedb_id': 'S231103aa', 'contour_level': 99.43336421502327, 'contour_area': 17588.237629045216}\n",
      "{'gracedb_id': 'S231104j', 'contour_level': 85.33401140757233, 'contour_area': 1631.7966697018112}\n",
      "{'gracedb_id': 'S231104m', 'contour_level': 94.29495236819994, 'contour_area': 14449.279395955451}\n",
      "{'gracedb_id': 'S231104s', 'contour_level': 93.68839355615805, 'contour_area': 15322.144786975066}\n",
      "{'gracedb_id': 'S231106k', 'contour_level': 99.08665701692547, 'contour_area': 16916.80271287628}\n",
      "{'gracedb_id': 'S231106r', 'contour_level': 89.01270487170156, 'contour_area': 4625.347278758741}\n",
      "{'gracedb_id': 'S231107a', 'contour_level': 94.34758023019685, 'contour_area': 11236.463322087104}\n",
      "{'gracedb_id': 'S231108l', 'contour_level': 95.66782505934242, 'contour_area': 3123.8509474759635}\n",
      "{'gracedb_id': 'S231108p', 'contour_level': 98.54951439973834, 'contour_area': 12085.828491040804}\n",
      "{'gracedb_id': 'S231108x', 'contour_level': 87.52196496667342, 'contour_area': 2202.306525034102}\n",
      "{'gracedb_id': 'S231108ab', 'contour_level': 65.91878746804203, 'contour_area': 10025.36259204739}\n",
      "{'gracedb_id': 'S231109p', 'contour_level': 48.97257324004685, 'contour_area': 4366.00554238849}\n",
      "{'gracedb_id': 'S231109y', 'contour_level': 75.78371261035582, 'contour_area': 13814.773400175809}\n",
      "{'gracedb_id': 'S231109ab', 'contour_level': 98.82310892735808, 'contour_area': 16987.30337907402}\n",
      "{'gracedb_id': 'S231109ap', 'contour_level': 57.02260796143398, 'contour_area': 1096.7469708796925}\n",
      "{'gracedb_id': 'S231109as', 'contour_level': 85.01546555123183, 'contour_area': 3558.605055695348}\n",
      "{'gracedb_id': 'S231109bh', 'contour_level': 90.21081742470695, 'contour_area': 4860.349499417868}\n",
      "{'gracedb_id': 'S231109bj', 'contour_level': 99.48526041598936, 'contour_area': 17913.88356338715}\n",
      "{'gracedb_id': 'S231109bo', 'contour_level': 94.52885697975583, 'contour_area': 18548.389559166786}\n",
      "{'gracedb_id': 'S231110az', 'contour_level': 98.85011887230475, 'contour_area': 13240.696546851368}\n",
      "{'gracedb_id': 'S231112i', 'contour_level': 56.1947627829921, 'contour_area': 2326.521984525355}\n",
      "{'gracedb_id': 'S231112j', 'contour_level': 83.21747759661274, 'contour_area': 19105.680539587007}\n",
      "{'gracedb_id': 'S231112ag', 'contour_level': 70.89022763699006, 'contour_area': 432.8656975176593}\n"
     ]
    }
   ],
   "source": [
    "for event in locus.alerts[-1].grav_wave_events:\n",
    "    print(event)"
   ]
  },
  {
   "cell_type": "markdown",
   "metadata": {
    "execution": {
     "iopub.execute_input": "2023-11-13T20:28:47.245443Z",
     "iopub.status.busy": "2023-11-13T20:28:47.244853Z",
     "iopub.status.idle": "2023-11-13T20:28:47.253999Z",
     "shell.execute_reply": "2023-11-13T20:28:47.252413Z",
     "shell.execute_reply.started": "2023-11-13T20:28:47.245399Z"
    },
    "tags": []
   },
   "source": [
    "If we want to access to more information about a gravitational wave we can use its gracedb_id to search it in treasuremap"
   ]
  },
  {
   "cell_type": "code",
   "execution_count": 6,
   "metadata": {
    "execution": {
     "iopub.execute_input": "2024-02-01T19:43:47.433091Z",
     "iopub.status.busy": "2024-02-01T19:43:47.432835Z",
     "iopub.status.idle": "2024-02-01T19:43:47.438936Z",
     "shell.execute_reply": "2024-02-01T19:43:47.437677Z",
     "shell.execute_reply.started": "2024-02-01T19:43:47.433067Z"
    },
    "tags": []
   },
   "outputs": [
    {
     "name": "stdout",
     "output_type": "stream",
     "text": [
      "https://treasuremap.space/alerts?graceids=S231103aa\n"
     ]
    }
   ],
   "source": [
    "def get_treasuremap_link(gracedb_id: str):\n",
    "    return f\"https://treasuremap.space/alerts?graceids={gracedb_id}\"\n",
    "\n",
    "print(get_treasuremap_link(\"S231103aa\"))"
   ]
  },
  {
   "cell_type": "markdown",
   "metadata": {},
   "source": [
    "<a class=\"anchor\" id=\"content-grav-waves-filter\"></a>\n",
    "# 3. How to develop a filter that uses gravitational wave data?\n",
    "\n",
    "When developing a filter using the devkit we can restrict the alerts that the filter will be ran based on the probability region"
   ]
  },
  {
   "cell_type": "code",
   "execution_count": 7,
   "metadata": {
    "execution": {
     "iopub.execute_input": "2024-02-01T19:43:47.440238Z",
     "iopub.status.busy": "2024-02-01T19:43:47.439972Z",
     "iopub.status.idle": "2024-02-01T19:43:47.445606Z",
     "shell.execute_reply": "2024-02-01T19:43:47.444508Z",
     "shell.execute_reply.started": "2024-02-01T19:43:47.440214Z"
    },
    "tags": []
   },
   "outputs": [],
   "source": [
    "class SomeFilter(dk.Filter):\n",
    "    REQUIRED_GRAV_WAVE_PROB_REGION = 48.97257324004685\n",
    "\n",
    "    def run(self, locus):\n",
    "        print(f\"Number of grave wave notices: {len(locus.grav_wave_events_metadata)}\")"
   ]
  },
  {
   "cell_type": "code",
   "execution_count": 8,
   "metadata": {
    "execution": {
     "iopub.execute_input": "2024-02-01T19:43:47.446973Z",
     "iopub.status.busy": "2024-02-01T19:43:47.446711Z",
     "iopub.status.idle": "2024-02-01T19:43:47.473793Z",
     "shell.execute_reply": "2024-02-01T19:43:47.472769Z",
     "shell.execute_reply.started": "2024-02-01T19:43:47.446949Z"
    },
    "tags": []
   },
   "outputs": [
    {
     "name": "stdout",
     "output_type": "stream",
     "text": [
      "Number of grave wave notices: 50\n",
      "{'locus_id': 'ANT2020ho42c', 'locus_data': FilterContext(locus_id=\"ANT2020ho42c\"), 't': 7.434700000175098e-05, 'new_locus_properties': {}, 'new_alert_properties': {}, 'new_tags': set(), 'raised_halt': False}\n"
     ]
    }
   ],
   "source": [
    "report = dk.run_filter(SomeFilter, locus)\n",
    "print(report)"
   ]
  },
  {
   "cell_type": "markdown",
   "metadata": {
    "execution": {
     "iopub.execute_input": "2023-12-21T19:49:15.238891Z",
     "iopub.status.busy": "2023-12-21T19:49:15.238207Z",
     "iopub.status.idle": "2023-12-21T19:49:15.247890Z",
     "shell.execute_reply": "2023-12-21T19:49:15.246296Z",
     "shell.execute_reply.started": "2023-12-21T19:49:15.238843Z"
    },
    "tags": []
   },
   "source": [
    "<a class=\"anchor\" id=\"content-grav-waves-client\"></a>\n",
    "# 4. How to access to gravitational wave notices using the ANTARES client?\n",
    "\n",
    "For cases when we want to access to a gravitational wave notice by the id we can use some methods of the antares_client available in https://nsf-noirlab.gitlab.io/csdc/antares/client/tutorial/searching.html"
   ]
  },
  {
   "cell_type": "code",
   "execution_count": 9,
   "metadata": {
    "execution": {
     "iopub.execute_input": "2024-02-01T19:43:47.475083Z",
     "iopub.status.busy": "2024-02-01T19:43:47.474821Z",
     "iopub.status.idle": "2024-02-01T19:43:47.479728Z",
     "shell.execute_reply": "2024-02-01T19:43:47.478574Z",
     "shell.execute_reply.started": "2024-02-01T19:43:47.475059Z"
    },
    "tags": []
   },
   "outputs": [],
   "source": [
    "import antares_client"
   ]
  },
  {
   "cell_type": "code",
   "execution_count": 10,
   "metadata": {
    "execution": {
     "iopub.execute_input": "2024-02-01T19:43:47.481169Z",
     "iopub.status.busy": "2024-02-01T19:43:47.480804Z",
     "iopub.status.idle": "2024-02-01T19:43:47.726761Z",
     "shell.execute_reply": "2024-02-01T19:43:47.725306Z",
     "shell.execute_reply.started": "2024-02-01T19:43:47.481143Z"
    },
    "tags": []
   },
   "outputs": [],
   "source": [
    "gwn = antares_client.search.get_latest_grav_wave_notices(\"S231103aa\")"
   ]
  },
  {
   "cell_type": "code",
   "execution_count": 11,
   "metadata": {
    "execution": {
     "iopub.execute_input": "2024-02-01T19:43:47.731396Z",
     "iopub.status.busy": "2024-02-01T19:43:47.730947Z",
     "iopub.status.idle": "2024-02-01T19:43:47.736835Z",
     "shell.execute_reply": "2024-02-01T19:43:47.735580Z",
     "shell.execute_reply.started": "2024-02-01T19:43:47.731355Z"
    },
    "tags": []
   },
   "outputs": [],
   "source": [
    "import datetime"
   ]
  },
  {
   "cell_type": "code",
   "execution_count": 12,
   "metadata": {
    "execution": {
     "iopub.execute_input": "2024-02-01T19:43:47.738796Z",
     "iopub.status.busy": "2024-02-01T19:43:47.738366Z",
     "iopub.status.idle": "2024-02-01T19:43:48.121499Z",
     "shell.execute_reply": "2024-02-01T19:43:48.120052Z",
     "shell.execute_reply.started": "2024-02-01T19:43:47.738758Z"
    },
    "tags": []
   },
   "outputs": [],
   "source": [
    "gwn2 = antares_client.search.get_grav_wave_notices(\"S231103aa\", datetime.datetime(2023, 11, 3, 18, 58, 2))"
   ]
  },
  {
   "cell_type": "code",
   "execution_count": 13,
   "metadata": {
    "execution": {
     "iopub.execute_input": "2024-02-01T19:43:48.124138Z",
     "iopub.status.busy": "2024-02-01T19:43:48.123689Z",
     "iopub.status.idle": "2024-02-01T19:43:48.137600Z",
     "shell.execute_reply": "2024-02-01T19:43:48.136299Z",
     "shell.execute_reply.started": "2024-02-01T19:43:48.124100Z"
    },
    "tags": []
   },
   "outputs": [
    {
     "data": {
      "text/plain": [
       "True"
      ]
     },
     "execution_count": 13,
     "metadata": {},
     "output_type": "execute_result"
    }
   ],
   "source": [
    "gwn == gwn2"
   ]
  }
 ],
 "metadata": {
  "kernelspec": {
   "display_name": "Python 3 (ANTARES)",
   "language": "python",
   "name": "antares_py3.7"
  },
  "language_info": {
   "codemirror_mode": {
    "name": "ipython",
    "version": 3
   },
   "file_extension": ".py",
   "mimetype": "text/x-python",
   "name": "python",
   "nbconvert_exporter": "python",
   "pygments_lexer": "ipython3",
   "version": "3.9.18"
  }
 },
 "nbformat": 4,
 "nbformat_minor": 4
}
