{
 "cells": [
  {
   "cell_type": "code",
   "execution_count": 1,
   "id": "b75ba0c0-ca5f-4ad6-8055-f53ed35d767d",
   "metadata": {},
   "outputs": [],
   "source": [
    "__author__ = 'Alice Jacques <alice.jacques@noirlab.edu>, Astro Data Lab Team <datalab@noirlab.edu>' \n",
    "__version__ = '20230726' #yyyymmdd \n",
    "__datasets__ = ['ls_dr9', 'sdss_dr17', 'gaia_dr3', 'des_dr2'] \n",
    "__keywords__ = ['crossmatch', 'joint query', 'mydb', 'vospace']"
   ]
  },
  {
   "cell_type": "markdown",
   "id": "58bbec8c-108a-4ab0-827f-e2db0a5201fd",
   "metadata": {},
   "source": [
    "# Examples using the pre-crossmatched tables at Astro Data Lab\n",
    "\n",
    "by Alice Jacques and the Astro Data Lab Team"
   ]
  },
  {
   "cell_type": "markdown",
   "id": "86d0f1ae-256a-4e39-803e-07a6aaf021af",
   "metadata": {
    "jp-MarkdownHeadingCollapsed": true,
    "tags": []
   },
   "source": [
    "### Table of contents\n",
    "* [Goals](#goals)\n",
    "* [Disclaimer & attribution](#attribution)\n",
    "* [Imports & setup](#import)\n",
    "* [Authentication](#auth)\n",
    "* [Writing a query with a JOIN statement](#joinquery)\n",
    "* [Examples of using a JOIN statement in a query with LS and SDSS catalogs](#lssdss)\n",
    "* [Saving results to VOSpace](#savetovospace)\n",
    "* [Saving results to MyDB](#savetomydb)\n",
    "* [Example Using a User Table and a pre-crossmatched Table](#usertable)\n",
    "* [Resources & references](#refs)"
   ]
  },
  {
   "cell_type": "markdown",
   "id": "4c17572e-fcd6-462c-a3b0-8f34831cd3af",
   "metadata": {},
   "source": [
    "<a class=\"anchor\" id=\"goals\"></a>\n",
    "# Goals\n",
    "\n",
    "* Learn how to write a query with a JOIN statement to retrieve information from a pre-crossmatched table and another Data Lab table\n",
    "* Use a user-provided table to crossmatch a Data Lab table\n",
    "\n",
    "For a more in-depth explanation of the pre-crossmatched tables hosted at Astro Data Lab, see our [How-to use pre-crossmatched tables notebook](https://github.com/astro-datalab/notebooks-latest/blob/master/04_HowTos/CrossmatchTables/How_to_use_pre_crossmatched_tables.ipynb). "
   ]
  },
  {
   "cell_type": "markdown",
   "id": "41676f15-4c39-44b1-a785-f7383f7843be",
   "metadata": {},
   "source": [
    "<a class=\"anchor\" id=\"attribution\"></a>\n",
    "# Disclaimer & attribution\n",
    "If you use this notebook for your published science, please acknowledge the following:\n",
    "\n",
    "* Data Lab concept paper: Fitzpatrick et al., \"The NOAO Data Laboratory: a conceptual overview\", SPIE, 9149, 2014, http://dx.doi.org/10.1117/12.2057445\n",
    "\n",
    "* Data Lab disclaimer: https://datalab.noirlab.edu/disclaimers.php"
   ]
  },
  {
   "cell_type": "markdown",
   "id": "c3fbcfc9-09e1-4dbc-beea-9fe52e4a00d8",
   "metadata": {},
   "source": [
    "<a class=\"anchor\" id=\"import\"></a>\n",
    "# Imports and setup"
   ]
  },
  {
   "cell_type": "code",
   "execution_count": 2,
   "id": "e570cd9d-745c-480d-8e2f-f23b9ff04d0b",
   "metadata": {},
   "outputs": [],
   "source": [
    "# std lib\n",
    "from getpass import getpass\n",
    "\n",
    "# 3rd party\n",
    "from astropy.utils.data import download_file  #import file from URL\n",
    "from matplotlib.ticker import NullFormatter\n",
    "import pylab as plt\n",
    "import matplotlib\n",
    "%matplotlib inline\n",
    "\n",
    "# Data Lab\n",
    "from dl import authClient as ac, queryClient as qc, storeClient as sc\n",
    "from dl.helpers.utils import convert # converts table to Pandas dataframe object"
   ]
  },
  {
   "cell_type": "markdown",
   "id": "86315630-c19b-4c32-a935-5847be1f94d1",
   "metadata": {},
   "source": [
    "<a class=\"anchor\" id=\"auth\"></a>\n",
    "# Authentication\n",
    "Much of the functionality of Data Lab can be accessed without explicitly logging in (the service then uses an anonymous login). But some capacities, for instance saving the results of your queries to your virtual storage space, require a login (i.e. you will need a registered user account).\n",
    "\n",
    "If you need to log in to Data Lab, un-comment the cell below and execute it:"
   ]
  },
  {
   "cell_type": "code",
   "execution_count": 3,
   "id": "49207a6a-0716-4270-a6b9-ba16606e57a8",
   "metadata": {},
   "outputs": [
    {
     "data": {
      "text/plain": [
       "'demo00'"
      ]
     },
     "execution_count": 3,
     "metadata": {},
     "output_type": "execute_result"
    }
   ],
   "source": [
    "#token = ac.login(input(\"Enter user name: (+ENTER) \"),getpass(\"Enter password: (+ENTER) \"))\n",
    "ac.whoAmI()"
   ]
  },
  {
   "cell_type": "markdown",
   "id": "249aee3d-10db-4737-9315-10444b680327",
   "metadata": {},
   "source": [
    "<a class=\"anchor\" id=\"joinquery\"></a>\n",
    "# Writing a query with a JOIN statement\n",
    "In order to extract only the relevant columns pertaining to our science question from multiple data tables, we may write a query that uses a JOIN statement. There are 4 main types of JOIN statements that we could use, and which one we decide to choose depends on how we want the information to be extracted. \n",
    "1. **(INNER) JOIN**: Returns rows that have matching values in both tables\n",
    "2. **LEFT (OUTER) JOIN**: Returns all rows from the left table, and the matched rows from the right table\n",
    "3. **RIGHT (OUTER) JOIN**: Returns all rows from the right table, and the matched rows from the left table\n",
    "4. **FULL (OUTER) JOIN**: Returns all rows when there is a match in either left or right table\n",
    "\n",
    "Take a moment to look over the figure below outlining the various JOIN statement types.  \n",
    "NOTE: the default JOIN is an `INNER JOIN`."
   ]
  },
  {
   "cell_type": "markdown",
   "id": "ce1cf3fd-d55f-4203-a6cb-4f39f0fda1f0",
   "metadata": {},
   "source": [
    "<img src='join.png'></img>"
   ]
  },
  {
   "cell_type": "markdown",
   "id": "8cc4b865-b5d1-4dd2-aad7-0f8a8edec6bc",
   "metadata": {},
   "source": [
    "### `JOIN LATERAL`\n",
    "In nearest neighbor crossmatch queries, we use `JOIN LATERAL`, which is like a SQL foreach loop that will iterate over each row in a result set and evaluate a subquery using that row as a parameter."
   ]
  },
  {
   "cell_type": "markdown",
   "id": "6ca2e4d4-2236-4d2e-9c11-c1962ad28932",
   "metadata": {},
   "source": [
    "<a class=\"anchor\" id=\"lssdss\"></a>\n",
    "# Examples of using a JOIN statement in a query with LS and SDSS catalogs\n",
    "## Example 1: A Single JOIN\n",
    "First we will examine the spectroscopic redshift of objects that are found in both the SDSS DR17 catalog and the LS DR9 catalog by writing a query with a single JOIN statement between their pre-crossmatched table and the SDSS DR17 table. The two crossmatch tables related to these two catalogs are:\n",
    "\n",
    "`ls_dr9.x1p5__tractor__sdss_dr17__specobj`  \n",
    "`sdss_dr17.x1p5__specobj__ls_dr9__tractor`\n",
    "\n",
    "The choice of which of these two crossmatch tables to use should be based on the science question being posed. For instance, the question *'how does a galaxy's structure change with redshift?'* is dependent on the redshift values obtained from SDSS DR17, so we should use the crossmatch table that has SDSS DR17 as the first table. So, the relevant information we want to select from our two tables of interest for this example are:\n",
    "\n",
    "1. \"X\" = `sdss_dr17.x1p5__specobj__ls_dr9__tractor`\n",
    "    - **ra1** (RA of SDSS object)\n",
    "    - **dec1** (Dec of SDSS object)\n",
    "2. \"S\" = `sdss_dr17.specobj`\n",
    "    - **z** (redshift)"
   ]
  },
  {
   "cell_type": "markdown",
   "id": "4c14c842-e832-497e-89d4-6c00035528d5",
   "metadata": {},
   "source": [
    "### Write the single JOIN statement query\n",
    "Now that we know what we want and where we want it from, let's write the query and then print the results on screen. Here we use one JOIN statement: it will search in the SDSS DR17 `specobj` table for rows that have the same SDSS id value (`specobjid`) as in the pre-crossmatched table (`id1`) and retrieve the desired columns from the SDSS DR17 `specobj` table within the specified RA and Dec region."
   ]
  },
  {
   "cell_type": "code",
   "execution_count": 4,
   "id": "730021ea-1262-4e71-8e31-13fb3c358595",
   "metadata": {},
   "outputs": [
    {
     "name": "stdout",
     "output_type": "stream",
     "text": [
      "\n",
      "SELECT \n",
      "    X.ra1 AS ra_sdss, X.dec1 AS dec_sdss,\n",
      "    S.z\n",
      "FROM\n",
      "    sdss_dr17.x1p5__specobj__ls_dr9__tractor AS X \n",
      "JOIN\n",
      "    sdss_dr17.specobj AS S ON X.id1 = S.specobjid \n",
      "WHERE\n",
      "    X.ra1 BETWEEN 110 and 200 and X.dec1 BETWEEN 7.0 and 40.0\n",
      "LIMIT 10000\n",
      "\n"
     ]
    }
   ],
   "source": [
    "query_single = (\"\"\"\n",
    "SELECT \n",
    "    X.ra1 AS ra_sdss, X.dec1 AS dec_sdss,\n",
    "    S.z\n",
    "FROM\n",
    "    sdss_dr17.x1p5__specobj__ls_dr9__tractor AS X \n",
    "JOIN\n",
    "    sdss_dr17.specobj AS S ON X.id1 = S.specobjid \n",
    "WHERE\n",
    "    X.ra1 BETWEEN %s and %s and X.dec1 BETWEEN %s and %s\n",
    "LIMIT 10000\n",
    "\"\"\"\n",
    ") %(110,200,7.,40.)  #large region\n",
    "print(query_single) # print the query statement to screen"
   ]
  },
  {
   "cell_type": "markdown",
   "id": "56ccb2f4-1eb0-4b52-9a9c-9a92a64001a6",
   "metadata": {},
   "source": [
    "### Execute the single JOIN statement query and print results"
   ]
  },
  {
   "cell_type": "code",
   "execution_count": 5,
   "id": "e82e6dd9-52aa-4456-8054-9df7ef667fd6",
   "metadata": {},
   "outputs": [
    {
     "name": "stdout",
     "output_type": "stream",
     "text": [
      "CPU times: user 36.8 ms, sys: 10.7 ms, total: 47.5 ms\n",
      "Wall time: 256 ms\n"
     ]
    },
    {
     "data": {
      "text/html": [
       "<div>\n",
       "<style scoped>\n",
       "    .dataframe tbody tr th:only-of-type {\n",
       "        vertical-align: middle;\n",
       "    }\n",
       "\n",
       "    .dataframe tbody tr th {\n",
       "        vertical-align: top;\n",
       "    }\n",
       "\n",
       "    .dataframe thead th {\n",
       "        text-align: right;\n",
       "    }\n",
       "</style>\n",
       "<table border=\"1\" class=\"dataframe\">\n",
       "  <thead>\n",
       "    <tr style=\"text-align: right;\">\n",
       "      <th></th>\n",
       "      <th>ra_sdss</th>\n",
       "      <th>dec_sdss</th>\n",
       "      <th>z</th>\n",
       "    </tr>\n",
       "  </thead>\n",
       "  <tbody>\n",
       "    <tr>\n",
       "      <th>0</th>\n",
       "      <td>110.00027</td>\n",
       "      <td>39.699210</td>\n",
       "      <td>0.516598</td>\n",
       "    </tr>\n",
       "    <tr>\n",
       "      <th>1</th>\n",
       "      <td>110.00065</td>\n",
       "      <td>39.613622</td>\n",
       "      <td>0.053511</td>\n",
       "    </tr>\n",
       "    <tr>\n",
       "      <th>2</th>\n",
       "      <td>110.00140</td>\n",
       "      <td>30.987794</td>\n",
       "      <td>-0.000062</td>\n",
       "    </tr>\n",
       "    <tr>\n",
       "      <th>3</th>\n",
       "      <td>110.00143</td>\n",
       "      <td>37.534445</td>\n",
       "      <td>-0.000253</td>\n",
       "    </tr>\n",
       "    <tr>\n",
       "      <th>4</th>\n",
       "      <td>110.70470</td>\n",
       "      <td>36.963974</td>\n",
       "      <td>0.000046</td>\n",
       "    </tr>\n",
       "    <tr>\n",
       "      <th>...</th>\n",
       "      <td>...</td>\n",
       "      <td>...</td>\n",
       "      <td>...</td>\n",
       "    </tr>\n",
       "    <tr>\n",
       "      <th>9995</th>\n",
       "      <td>113.19078</td>\n",
       "      <td>36.542547</td>\n",
       "      <td>0.328183</td>\n",
       "    </tr>\n",
       "    <tr>\n",
       "      <th>9996</th>\n",
       "      <td>113.19078</td>\n",
       "      <td>39.498064</td>\n",
       "      <td>0.693652</td>\n",
       "    </tr>\n",
       "    <tr>\n",
       "      <th>9997</th>\n",
       "      <td>113.28532</td>\n",
       "      <td>24.537772</td>\n",
       "      <td>1.648059</td>\n",
       "    </tr>\n",
       "    <tr>\n",
       "      <th>9998</th>\n",
       "      <td>113.19086</td>\n",
       "      <td>31.552450</td>\n",
       "      <td>0.170207</td>\n",
       "    </tr>\n",
       "    <tr>\n",
       "      <th>9999</th>\n",
       "      <td>113.28534</td>\n",
       "      <td>32.544773</td>\n",
       "      <td>0.000248</td>\n",
       "    </tr>\n",
       "  </tbody>\n",
       "</table>\n",
       "<p>10000 rows × 3 columns</p>\n",
       "</div>"
      ],
      "text/plain": [
       "        ra_sdss   dec_sdss         z\n",
       "0     110.00027  39.699210  0.516598\n",
       "1     110.00065  39.613622  0.053511\n",
       "2     110.00140  30.987794 -0.000062\n",
       "3     110.00143  37.534445 -0.000253\n",
       "4     110.70470  36.963974  0.000046\n",
       "...         ...        ...       ...\n",
       "9995  113.19078  36.542547  0.328183\n",
       "9996  113.19078  39.498064  0.693652\n",
       "9997  113.28532  24.537772  1.648059\n",
       "9998  113.19086  31.552450  0.170207\n",
       "9999  113.28534  32.544773  0.000248\n",
       "\n",
       "[10000 rows x 3 columns]"
      ]
     },
     "execution_count": 5,
     "metadata": {},
     "output_type": "execute_result"
    }
   ],
   "source": [
    "%%time\n",
    "df_single = qc.query(sql=query_single,fmt='pandas')\n",
    "df_single"
   ]
  },
  {
   "cell_type": "markdown",
   "id": "21aee4cb-fa02-40fb-9055-b1bb32fb5875",
   "metadata": {},
   "source": [
    "## Example 2: A Double JOIN\n",
    "Now we will examine both the spectroscopic redshifts from SDSS DR17 and the photometry from LS DR9 by writing a query with two JOIN statements. The relevant information we want to select from our three tables of interest for this example are:\n",
    "\n",
    "1. \"X\" = `sdss_dr17.x1p5__specobj__ls_dr9__tractor`\n",
    "    - **ra1** (RA of SDSS object)\n",
    "    - **dec1** (Dec of SDSS object)\n",
    "2. \"S\" = `sdss_dr17.specobj`\n",
    "    - **z** (redshift)\n",
    "3. \"L\" = `ls_dr9.tractor`\n",
    "    - **mag_g** (converted g magnitude)\n",
    "    - **mag_r** (converted r magnitude)"
   ]
  },
  {
   "cell_type": "markdown",
   "id": "12622b05-a630-43fd-b477-5cbee8becf57",
   "metadata": {},
   "source": [
    "### Write the double JOIN statement query\n",
    "In this example we use two JOIN statements: the first will search in the SDSS DR17 `specobj` table for rows that have the same SDSS id value (`specobjid`) as in the pre-crossmatched table (`id1`) and retrieve the desired columns from the SDSS DR17 `specobj` table. The second will search in the LS DR9 `tractor` table for rows that have the same LS id value (`ls_id`) as in the pre-crossmatched table (`id2`) and retrieve the desired columns from the LS DR9 `tractor` table within the specified RA and Dec region."
   ]
  },
  {
   "cell_type": "code",
   "execution_count": 6,
   "id": "6f74ac38-f2e7-48ba-b2b8-e621d75096c1",
   "metadata": {},
   "outputs": [
    {
     "name": "stdout",
     "output_type": "stream",
     "text": [
      "\n",
      "SELECT \n",
      "    X.ra1 AS ra_sdss, X.dec1 AS dec_sdss,\n",
      "    S.z,\n",
      "    L.mag_g, L.mag_r\n",
      "FROM\n",
      "    sdss_dr17.x1p5__specobj__ls_dr9__tractor AS X \n",
      "JOIN\n",
      "    sdss_dr17.specobj AS S ON X.id1 = S.specobjid \n",
      "JOIN\n",
      "    ls_dr9.tractor AS L ON X.id2 = L.ls_id\n",
      "WHERE\n",
      "    X.ra1 BETWEEN 110 and 200 and X.dec1 BETWEEN 7.0 and 40.0\n",
      "LIMIT 10000\n",
      "\n"
     ]
    }
   ],
   "source": [
    "query_double = (\"\"\"\n",
    "SELECT \n",
    "    X.ra1 AS ra_sdss, X.dec1 AS dec_sdss,\n",
    "    S.z,\n",
    "    L.mag_g, L.mag_r\n",
    "FROM\n",
    "    sdss_dr17.x1p5__specobj__ls_dr9__tractor AS X \n",
    "JOIN\n",
    "    sdss_dr17.specobj AS S ON X.id1 = S.specobjid \n",
    "JOIN\n",
    "    ls_dr9.tractor AS L ON X.id2 = L.ls_id\n",
    "WHERE\n",
    "    X.ra1 BETWEEN %s and %s and X.dec1 BETWEEN %s and %s\n",
    "LIMIT 10000\n",
    "\"\"\"\n",
    ") %(110,200,7.,40.)  #large region\n",
    "print(query_double) # print the query statement to screen"
   ]
  },
  {
   "cell_type": "markdown",
   "id": "feab669e-44b7-4713-848f-fc0f8f4557f7",
   "metadata": {},
   "source": [
    "### Execute the double JOIN statement query and print results"
   ]
  },
  {
   "cell_type": "code",
   "execution_count": 7,
   "id": "c420e32b-8592-44b7-ae55-cbceb9ee6664",
   "metadata": {},
   "outputs": [
    {
     "name": "stdout",
     "output_type": "stream",
     "text": [
      "CPU times: user 45.4 ms, sys: 11.1 ms, total: 56.6 ms\n",
      "Wall time: 925 ms\n"
     ]
    },
    {
     "data": {
      "text/html": [
       "<div>\n",
       "<style scoped>\n",
       "    .dataframe tbody tr th:only-of-type {\n",
       "        vertical-align: middle;\n",
       "    }\n",
       "\n",
       "    .dataframe tbody tr th {\n",
       "        vertical-align: top;\n",
       "    }\n",
       "\n",
       "    .dataframe thead th {\n",
       "        text-align: right;\n",
       "    }\n",
       "</style>\n",
       "<table border=\"1\" class=\"dataframe\">\n",
       "  <thead>\n",
       "    <tr style=\"text-align: right;\">\n",
       "      <th></th>\n",
       "      <th>ra_sdss</th>\n",
       "      <th>dec_sdss</th>\n",
       "      <th>z</th>\n",
       "      <th>mag_g</th>\n",
       "      <th>mag_r</th>\n",
       "    </tr>\n",
       "  </thead>\n",
       "  <tbody>\n",
       "    <tr>\n",
       "      <th>0</th>\n",
       "      <td>123.12650</td>\n",
       "      <td>39.993317</td>\n",
       "      <td>0.124905</td>\n",
       "      <td>18.130915</td>\n",
       "      <td>16.995148</td>\n",
       "    </tr>\n",
       "    <tr>\n",
       "      <th>1</th>\n",
       "      <td>123.36125</td>\n",
       "      <td>39.996015</td>\n",
       "      <td>-0.000117</td>\n",
       "      <td>21.921595</td>\n",
       "      <td>20.344702</td>\n",
       "    </tr>\n",
       "    <tr>\n",
       "      <th>2</th>\n",
       "      <td>124.93368</td>\n",
       "      <td>39.862601</td>\n",
       "      <td>0.174130</td>\n",
       "      <td>18.598770</td>\n",
       "      <td>17.707087</td>\n",
       "    </tr>\n",
       "    <tr>\n",
       "      <th>3</th>\n",
       "      <td>123.73187</td>\n",
       "      <td>39.973827</td>\n",
       "      <td>1.764000</td>\n",
       "      <td>21.709936</td>\n",
       "      <td>20.956276</td>\n",
       "    </tr>\n",
       "    <tr>\n",
       "      <th>4</th>\n",
       "      <td>123.83651</td>\n",
       "      <td>39.987596</td>\n",
       "      <td>0.463355</td>\n",
       "      <td>20.612232</td>\n",
       "      <td>18.626604</td>\n",
       "    </tr>\n",
       "    <tr>\n",
       "      <th>...</th>\n",
       "      <td>...</td>\n",
       "      <td>...</td>\n",
       "      <td>...</td>\n",
       "      <td>...</td>\n",
       "      <td>...</td>\n",
       "    </tr>\n",
       "    <tr>\n",
       "      <th>9995</th>\n",
       "      <td>141.17950</td>\n",
       "      <td>39.849704</td>\n",
       "      <td>1.112722</td>\n",
       "      <td>20.199490</td>\n",
       "      <td>19.831783</td>\n",
       "    </tr>\n",
       "    <tr>\n",
       "      <th>9996</th>\n",
       "      <td>138.24043</td>\n",
       "      <td>39.549354</td>\n",
       "      <td>1.303211</td>\n",
       "      <td>20.552681</td>\n",
       "      <td>20.535364</td>\n",
       "    </tr>\n",
       "    <tr>\n",
       "      <th>9997</th>\n",
       "      <td>140.28782</td>\n",
       "      <td>39.528155</td>\n",
       "      <td>0.183059</td>\n",
       "      <td>18.847853</td>\n",
       "      <td>18.380463</td>\n",
       "    </tr>\n",
       "    <tr>\n",
       "      <th>9998</th>\n",
       "      <td>141.04811</td>\n",
       "      <td>39.841038</td>\n",
       "      <td>0.000163</td>\n",
       "      <td>20.892084</td>\n",
       "      <td>20.232218</td>\n",
       "    </tr>\n",
       "    <tr>\n",
       "      <th>9999</th>\n",
       "      <td>140.28669</td>\n",
       "      <td>39.492603</td>\n",
       "      <td>2.064560</td>\n",
       "      <td>19.492790</td>\n",
       "      <td>19.353115</td>\n",
       "    </tr>\n",
       "  </tbody>\n",
       "</table>\n",
       "<p>10000 rows × 5 columns</p>\n",
       "</div>"
      ],
      "text/plain": [
       "        ra_sdss   dec_sdss         z      mag_g      mag_r\n",
       "0     123.12650  39.993317  0.124905  18.130915  16.995148\n",
       "1     123.36125  39.996015 -0.000117  21.921595  20.344702\n",
       "2     124.93368  39.862601  0.174130  18.598770  17.707087\n",
       "3     123.73187  39.973827  1.764000  21.709936  20.956276\n",
       "4     123.83651  39.987596  0.463355  20.612232  18.626604\n",
       "...         ...        ...       ...        ...        ...\n",
       "9995  141.17950  39.849704  1.112722  20.199490  19.831783\n",
       "9996  138.24043  39.549354  1.303211  20.552681  20.535364\n",
       "9997  140.28782  39.528155  0.183059  18.847853  18.380463\n",
       "9998  141.04811  39.841038  0.000163  20.892084  20.232218\n",
       "9999  140.28669  39.492603  2.064560  19.492790  19.353115\n",
       "\n",
       "[10000 rows x 5 columns]"
      ]
     },
     "execution_count": 7,
     "metadata": {},
     "output_type": "execute_result"
    }
   ],
   "source": [
    "%%time\n",
    "df_double = qc.query(sql=query_double,fmt='pandas')\n",
    "df_double"
   ]
  },
  {
   "cell_type": "markdown",
   "id": "9f6b6332-4837-4325-b48c-92b732f5269a",
   "metadata": {},
   "source": [
    "<a class=\"anchor\" id=\"savetovospace\"></a>\n",
    "# Saving results to VOSpace\n",
    "VOSpace is a convenient storage space for users to save their work. It can store any data or file type. We can save the results from a query to our virtual storage space. First, a basic query extracting a few thousand rows of the specobjid, ra, and dec columns from the SDSS DR17 specobj table:"
   ]
  },
  {
   "cell_type": "code",
   "execution_count": 8,
   "id": "a22d726d-4f77-4838-b153-2809018acba8",
   "metadata": {},
   "outputs": [
    {
     "name": "stdout",
     "output_type": "stream",
     "text": [
      "SELECT specobjid, ra, dec FROM sdss_dr17.specobj LIMIT 10000\n"
     ]
    }
   ],
   "source": [
    "basic_query = \"SELECT specobjid, ra, dec FROM sdss_dr17.specobj LIMIT 10000\"\n",
    "print(basic_query)"
   ]
  },
  {
   "cell_type": "markdown",
   "id": "40acf779-cbf7-46a4-9f78-0325ccf8e8f5",
   "metadata": {},
   "source": [
    "##### Submit the query, format the output as a CSV, and save it to VOSpace:"
   ]
  },
  {
   "cell_type": "code",
   "execution_count": 9,
   "id": "0440cde3-18af-47d1-927e-6ebad15c35f9",
   "metadata": {},
   "outputs": [
    {
     "name": "stdout",
     "output_type": "stream",
     "text": [
      "CPU times: user 24.9 ms, sys: 2.67 ms, total: 27.6 ms\n",
      "Wall time: 1.51 s\n"
     ]
    }
   ],
   "source": [
    "%%time\n",
    "response = qc.query(sql=basic_query,fmt='csv',out='vos://basic_result.csv')"
   ]
  },
  {
   "cell_type": "markdown",
   "id": "91e55bb9-ec4f-43b5-b444-8ac75ae23d5d",
   "metadata": {},
   "source": [
    "##### Let's ensure the file was saved in VOSpace:"
   ]
  },
  {
   "cell_type": "code",
   "execution_count": 10,
   "id": "d84a1bd5-1c36-4db2-90a8-e6c8e46356a1",
   "metadata": {},
   "outputs": [
    {
     "data": {
      "text/plain": [
       "'basic_result.csv'"
      ]
     },
     "execution_count": 10,
     "metadata": {},
     "output_type": "execute_result"
    }
   ],
   "source": [
    "sc.ls(name='vos://basic_result.csv')"
   ]
  },
  {
   "cell_type": "markdown",
   "id": "dfeca352-a3dc-4d22-b786-68ae7b8eb0d4",
   "metadata": {},
   "source": [
    "##### We will then remove the file from VOSpace:"
   ]
  },
  {
   "cell_type": "code",
   "execution_count": 11,
   "id": "1ad5fdbd-6ae6-41d9-b2ee-4417a8333484",
   "metadata": {},
   "outputs": [
    {
     "data": {
      "text/plain": [
       "'OK'"
      ]
     },
     "execution_count": 11,
     "metadata": {},
     "output_type": "execute_result"
    }
   ],
   "source": [
    "sc.rm(name='vos://basic_result.csv')"
   ]
  },
  {
   "cell_type": "markdown",
   "id": "919320b5-9537-49e6-b4ed-f10fa14ad590",
   "metadata": {},
   "source": [
    "##### And ensure it was removed:"
   ]
  },
  {
   "cell_type": "code",
   "execution_count": 12,
   "id": "644a0b79-aa48-45b5-a3bc-3381a6368c20",
   "metadata": {},
   "outputs": [
    {
     "data": {
      "text/plain": [
       "'A Node does not exist with the requested URI.'"
      ]
     },
     "execution_count": 12,
     "metadata": {},
     "output_type": "execute_result"
    }
   ],
   "source": [
    "sc.ls(name='vos://basic_result.csv')"
   ]
  },
  {
   "cell_type": "markdown",
   "id": "759849f7-c1aa-428d-ab09-9c966edeeb98",
   "metadata": {},
   "source": [
    "<a class=\"anchor\" id=\"savetomydb\"></a>\n",
    "# Saving results to MyDB\n",
    "MyDB is a useful remote per-user relational database that can store data tables. Furthermore, the results of queries can be directly saved to MyDB, as we show in the following example:"
   ]
  },
  {
   "cell_type": "code",
   "execution_count": 13,
   "id": "f6507c7b-5587-4e7c-946a-bcf9f9a6c72c",
   "metadata": {},
   "outputs": [
    {
     "name": "stdout",
     "output_type": "stream",
     "text": [
      "CPU times: user 19.3 ms, sys: 1.34 ms, total: 20.7 ms\n",
      "Wall time: 320 ms\n"
     ]
    }
   ],
   "source": [
    "%%time\n",
    "response = qc.query(sql=basic_query, fmt='csv', out='mydb://basic_result', drop=True)"
   ]
  },
  {
   "cell_type": "markdown",
   "id": "405f04d5-d2cf-4383-9f27-c1de08b96008",
   "metadata": {},
   "source": [
    "##### Ensure the table has been saved to MyDB by calling the `mydb_list()` function, which will list all tables currently in a user's MyDB:"
   ]
  },
  {
   "cell_type": "code",
   "execution_count": 14,
   "id": "84dcbec1-7f2f-435f-ac67-f49d8b6ad6aa",
   "metadata": {},
   "outputs": [
    {
     "name": "stdout",
     "output_type": "stream",
     "text": [
      "basic_result\n",
      "bgsfaint_dlnotebook\n",
      "desi_tile\n",
      "df_xmatch\n",
      "fastspec_everest_z_lt_0p6\n",
      "gaia_sample\n",
      "gaia_sample_xmatch\n",
      "gals\n",
      "lowmassagn_dlnotebook\n",
      "secondary_dark_subset\n",
      "sv1targets_bright_secondary\n",
      "sv1targets_dark_secondary\n",
      "tbl_stat,\n",
      "testcm\n",
      "testingx\n",
      "testx2\n",
      "twomasspsc\n",
      "usno_objects\n",
      " \n",
      "\n"
     ]
    }
   ],
   "source": [
    "print(qc.mydb_list(),\"\\n\")"
   ]
  },
  {
   "cell_type": "markdown",
   "id": "1a4cd0d4-5e93-4a8b-9994-e9a1bd561a46",
   "metadata": {},
   "source": [
    "<a class=\"anchor\" id=\"usertable\"></a>\n",
    "# Example: a User Table and a pre-crossmatched Table\n",
    "Example: a user has only ID, RA, and Dec columns for their own table. They then perform a crossmatch between their table and `gaia_dr3.gaia_source`. In doing so, they can use the pre-crossmatched table `gaia_dr3.x1p5__gaia_source__ls_dr9__tractor` to get `ls_dr9.tractor` ID, RA, and Dec columns for free since the pre-crossmatched table gives them the corresponding `gaia_dr3.gaia_source` ID. We will use the `basic_result` table we stored to our MyDB in the previous section as our \"user-provided\" table."
   ]
  },
  {
   "cell_type": "markdown",
   "id": "5c2d0393-3ab1-403b-bfd9-d71599b0b57a",
   "metadata": {},
   "source": [
    "##### Write the nearest-neighbor crossmatch query"
   ]
  },
  {
   "cell_type": "code",
   "execution_count": 15,
   "id": "3bc7feeb-2486-42e8-a3f3-6b4e14d3c6d9",
   "metadata": {},
   "outputs": [
    {
     "name": "stdout",
     "output_type": "stream",
     "text": [
      "\n",
      "SELECT\n",
      "    b.specobjid AS sdss_id, gg.source_id AS gaia_id, \n",
      "    (q3c_dist(b.ra,b.dec,gg.ra,gg.dec)*3600.0) AS dist_arcsec \n",
      "FROM\n",
      "    mydb://basic_result AS b\n",
      "LEFT JOIN LATERAL (\n",
      "    SELECT g.* \n",
      "    FROM \n",
      "        gaia_dr3.gaia_source AS g\n",
      "    WHERE\n",
      "        q3c_join(b.ra, b.dec, g.ra, g.dec, 0.01)\n",
      "    ORDER BY\n",
      "        q3c_dist(b.ra,b.dec,g.ra,g.dec)\n",
      "    ASC LIMIT 1\n",
      ") AS gg ON true\n",
      "\n"
     ]
    }
   ],
   "source": [
    "query_xmatch = \"\"\"\n",
    "SELECT\n",
    "    b.specobjid AS sdss_id, gg.source_id AS gaia_id, \n",
    "    (q3c_dist(b.ra,b.dec,gg.ra,gg.dec)*3600.0) AS dist_arcsec \n",
    "FROM\n",
    "    mydb://basic_result AS b\n",
    "LEFT JOIN LATERAL (\n",
    "    SELECT g.* \n",
    "    FROM \n",
    "        gaia_dr3.gaia_source AS g\n",
    "    WHERE\n",
    "        q3c_join(b.ra, b.dec, g.ra, g.dec, 0.01)\n",
    "    ORDER BY\n",
    "        q3c_dist(b.ra,b.dec,g.ra,g.dec)\n",
    "    ASC LIMIT 1\n",
    ") AS gg ON true\n",
    "\"\"\"\n",
    "print(query_xmatch)"
   ]
  },
  {
   "cell_type": "markdown",
   "id": "07593aaf-07f6-4a69-a180-4e4399d2ee74",
   "metadata": {},
   "source": [
    "##### Submit the crossmatch query and output to MyDB"
   ]
  },
  {
   "cell_type": "code",
   "execution_count": 16,
   "id": "12537ea4-991b-4d6a-9d0f-8b4eebbb5409",
   "metadata": {},
   "outputs": [
    {
     "name": "stdout",
     "output_type": "stream",
     "text": [
      "CPU times: user 24 ms, sys: 1.27 ms, total: 25.3 ms\n",
      "Wall time: 7.62 s\n"
     ]
    }
   ],
   "source": [
    "%%time\n",
    "df_xmatch = qc.query(sql=query_xmatch,out=\"mydb://df_xmatch\",drop=True) # set drop=True to remove an already existing table from MyDB with the same name"
   ]
  },
  {
   "cell_type": "markdown",
   "id": "88aed757-7e42-43d0-8797-6baca3433701",
   "metadata": {},
   "source": [
    "##### We can print the table by writing a query to MyDB"
   ]
  },
  {
   "cell_type": "code",
   "execution_count": 17,
   "id": "721507c3-a270-4814-b960-3e5057d213a1",
   "metadata": {},
   "outputs": [
    {
     "data": {
      "text/html": [
       "<div>\n",
       "<style scoped>\n",
       "    .dataframe tbody tr th:only-of-type {\n",
       "        vertical-align: middle;\n",
       "    }\n",
       "\n",
       "    .dataframe tbody tr th {\n",
       "        vertical-align: top;\n",
       "    }\n",
       "\n",
       "    .dataframe thead th {\n",
       "        text-align: right;\n",
       "    }\n",
       "</style>\n",
       "<table border=\"1\" class=\"dataframe\">\n",
       "  <thead>\n",
       "    <tr style=\"text-align: right;\">\n",
       "      <th></th>\n",
       "      <th>sdss_id</th>\n",
       "      <th>gaia_id</th>\n",
       "      <th>dist_arcsec</th>\n",
       "    </tr>\n",
       "  </thead>\n",
       "  <tbody>\n",
       "    <tr>\n",
       "      <th>0</th>\n",
       "      <td>2889072702671316992</td>\n",
       "      <td>1.962451e+18</td>\n",
       "      <td>0.122596</td>\n",
       "    </tr>\n",
       "    <tr>\n",
       "      <th>1</th>\n",
       "      <td>2877815347283519488</td>\n",
       "      <td>1.962452e+18</td>\n",
       "      <td>0.135446</td>\n",
       "    </tr>\n",
       "    <tr>\n",
       "      <th>2</th>\n",
       "      <td>2877824143376541696</td>\n",
       "      <td>1.961010e+18</td>\n",
       "      <td>0.193541</td>\n",
       "    </tr>\n",
       "    <tr>\n",
       "      <th>3</th>\n",
       "      <td>2877823318742820864</td>\n",
       "      <td>1.960965e+18</td>\n",
       "      <td>0.133224</td>\n",
       "    </tr>\n",
       "    <tr>\n",
       "      <th>4</th>\n",
       "      <td>2889071878037596160</td>\n",
       "      <td>1.960965e+18</td>\n",
       "      <td>11.562321</td>\n",
       "    </tr>\n",
       "    <tr>\n",
       "      <th>...</th>\n",
       "      <td>...</td>\n",
       "      <td>...</td>\n",
       "      <td>...</td>\n",
       "    </tr>\n",
       "    <tr>\n",
       "      <th>9995</th>\n",
       "      <td>2857534859855816704</td>\n",
       "      <td>2.272961e+18</td>\n",
       "      <td>0.049671</td>\n",
       "    </tr>\n",
       "    <tr>\n",
       "      <th>9996</th>\n",
       "      <td>2866543439439226880</td>\n",
       "      <td>2.272962e+18</td>\n",
       "      <td>0.060718</td>\n",
       "    </tr>\n",
       "    <tr>\n",
       "      <th>9997</th>\n",
       "      <td>2857536234245351424</td>\n",
       "      <td>2.272973e+18</td>\n",
       "      <td>0.080895</td>\n",
       "    </tr>\n",
       "    <tr>\n",
       "      <th>9998</th>\n",
       "      <td>2866556633578760192</td>\n",
       "      <td>2.272977e+18</td>\n",
       "      <td>0.043344</td>\n",
       "    </tr>\n",
       "    <tr>\n",
       "      <th>9999</th>\n",
       "      <td>2857539257902327808</td>\n",
       "      <td>2.272975e+18</td>\n",
       "      <td>0.213171</td>\n",
       "    </tr>\n",
       "  </tbody>\n",
       "</table>\n",
       "<p>10000 rows × 3 columns</p>\n",
       "</div>"
      ],
      "text/plain": [
       "                  sdss_id       gaia_id  dist_arcsec\n",
       "0     2889072702671316992  1.962451e+18     0.122596\n",
       "1     2877815347283519488  1.962452e+18     0.135446\n",
       "2     2877824143376541696  1.961010e+18     0.193541\n",
       "3     2877823318742820864  1.960965e+18     0.133224\n",
       "4     2889071878037596160  1.960965e+18    11.562321\n",
       "...                   ...           ...          ...\n",
       "9995  2857534859855816704  2.272961e+18     0.049671\n",
       "9996  2866543439439226880  2.272962e+18     0.060718\n",
       "9997  2857536234245351424  2.272973e+18     0.080895\n",
       "9998  2866556633578760192  2.272977e+18     0.043344\n",
       "9999  2857539257902327808  2.272975e+18     0.213171\n",
       "\n",
       "[10000 rows x 3 columns]"
      ]
     },
     "execution_count": 17,
     "metadata": {},
     "output_type": "execute_result"
    }
   ],
   "source": [
    "q = \"select * from mydb://df_xmatch\"\n",
    "re = qc.query(sql=q,fmt='pandas')\n",
    "re"
   ]
  },
  {
   "cell_type": "markdown",
   "id": "2b7494ac-6e40-44e0-9f01-51479cf9894e",
   "metadata": {},
   "source": [
    "##### We can now use the gaia_id column from our `df_xmatch` table above to get `ls_dr9.tractor` object information using the `gaia_dr3.x1p5__gaia_source__ls_dr9__tractor` pre-crossmatched table"
   ]
  },
  {
   "cell_type": "code",
   "execution_count": 18,
   "id": "d4ff84af-218e-4d4e-be3f-a1cf12251156",
   "metadata": {},
   "outputs": [
    {
     "name": "stdout",
     "output_type": "stream",
     "text": [
      "\n",
      "SELECT\n",
      "    id2 AS ls_id, ra2 AS ls_ra, dec2 AS ls_dec,\n",
      "    df_xmatch.gaia_id, df_xmatch.sdss_id\n",
      "FROM\n",
      "    gaia_dr3.x1p5__gaia_source__ls_dr9__tractor AS gxl\n",
      "JOIN\n",
      "    mydb://df_xmatch AS df_xmatch ON gxl.id1 = df_xmatch.gaia_id\n",
      "\n",
      "CPU times: user 101 µs, sys: 84 µs, total: 185 µs\n",
      "Wall time: 142 µs\n"
     ]
    }
   ],
   "source": [
    "%%time\n",
    "query_1 = \"\"\"\n",
    "SELECT\n",
    "    id2 AS ls_id, ra2 AS ls_ra, dec2 AS ls_dec,\n",
    "    df_xmatch.gaia_id, df_xmatch.sdss_id\n",
    "FROM\n",
    "    gaia_dr3.x1p5__gaia_source__ls_dr9__tractor AS gxl\n",
    "JOIN\n",
    "    mydb://df_xmatch AS df_xmatch ON gxl.id1 = df_xmatch.gaia_id\n",
    "\"\"\"\n",
    "print(query_1)"
   ]
  },
  {
   "cell_type": "markdown",
   "id": "9d0d5b46-90e9-4dbd-b445-a1953f2e5cd4",
   "metadata": {},
   "source": [
    "##### Submit the query and print the resulting table"
   ]
  },
  {
   "cell_type": "code",
   "execution_count": 19,
   "id": "5f90c8b4-fae1-474d-adf3-9c8a5fa0a926",
   "metadata": {},
   "outputs": [
    {
     "name": "stdout",
     "output_type": "stream",
     "text": [
      "CPU times: user 33.5 ms, sys: 2.69 ms, total: 36.1 ms\n",
      "Wall time: 326 ms\n"
     ]
    },
    {
     "data": {
      "text/html": [
       "<div>\n",
       "<style scoped>\n",
       "    .dataframe tbody tr th:only-of-type {\n",
       "        vertical-align: middle;\n",
       "    }\n",
       "\n",
       "    .dataframe tbody tr th {\n",
       "        vertical-align: top;\n",
       "    }\n",
       "\n",
       "    .dataframe thead th {\n",
       "        text-align: right;\n",
       "    }\n",
       "</style>\n",
       "<table border=\"1\" class=\"dataframe\">\n",
       "  <thead>\n",
       "    <tr style=\"text-align: right;\">\n",
       "      <th></th>\n",
       "      <th>ls_id</th>\n",
       "      <th>ls_ra</th>\n",
       "      <th>ls_dec</th>\n",
       "      <th>gaia_id</th>\n",
       "      <th>sdss_id</th>\n",
       "    </tr>\n",
       "  </thead>\n",
       "  <tbody>\n",
       "    <tr>\n",
       "      <th>0</th>\n",
       "      <td>9907737095837650</td>\n",
       "      <td>287.228165</td>\n",
       "      <td>48.064735</td>\n",
       "      <td>2131102058617608064</td>\n",
       "      <td>3384465917919389696</td>\n",
       "    </tr>\n",
       "    <tr>\n",
       "      <th>1</th>\n",
       "      <td>9907737159009377</td>\n",
       "      <td>287.448870</td>\n",
       "      <td>48.229697</td>\n",
       "      <td>2131098455144685056</td>\n",
       "      <td>3384466192797296640</td>\n",
       "    </tr>\n",
       "    <tr>\n",
       "      <th>2</th>\n",
       "      <td>9907737158950166</td>\n",
       "      <td>287.387517</td>\n",
       "      <td>48.168933</td>\n",
       "      <td>2131097218194075904</td>\n",
       "      <td>3384462344506599424</td>\n",
       "    </tr>\n",
       "    <tr>\n",
       "      <th>3</th>\n",
       "      <td>9907737221862367</td>\n",
       "      <td>287.697861</td>\n",
       "      <td>48.382752</td>\n",
       "      <td>2131196930154414592</td>\n",
       "      <td>3384463718896134144</td>\n",
       "    </tr>\n",
       "    <tr>\n",
       "      <th>4</th>\n",
       "      <td>9907737221859120</td>\n",
       "      <td>287.547174</td>\n",
       "      <td>48.407548</td>\n",
       "      <td>2131195006009050240</td>\n",
       "      <td>3384465093285668864</td>\n",
       "    </tr>\n",
       "    <tr>\n",
       "      <th>...</th>\n",
       "      <td>...</td>\n",
       "      <td>...</td>\n",
       "      <td>...</td>\n",
       "      <td>...</td>\n",
       "      <td>...</td>\n",
       "    </tr>\n",
       "    <tr>\n",
       "      <th>840</th>\n",
       "      <td>9907740343599562</td>\n",
       "      <td>276.670899</td>\n",
       "      <td>63.135065</td>\n",
       "      <td>2160347319866203008</td>\n",
       "      <td>2873374430422132736</td>\n",
       "    </tr>\n",
       "    <tr>\n",
       "      <th>841</th>\n",
       "      <td>9907740343599573</td>\n",
       "      <td>276.671625</td>\n",
       "      <td>63.208500</td>\n",
       "      <td>2160347899685623680</td>\n",
       "      <td>2873378278712829952</td>\n",
       "    </tr>\n",
       "    <tr>\n",
       "      <th>842</th>\n",
       "      <td>9907740343599244</td>\n",
       "      <td>276.634148</td>\n",
       "      <td>63.135310</td>\n",
       "      <td>2160347972701229440</td>\n",
       "      <td>2873379103346550784</td>\n",
       "    </tr>\n",
       "    <tr>\n",
       "      <th>843</th>\n",
       "      <td>9907740343535831</td>\n",
       "      <td>276.356517</td>\n",
       "      <td>63.279633</td>\n",
       "      <td>2160352916207452416</td>\n",
       "      <td>2873378828468643840</td>\n",
       "    </tr>\n",
       "    <tr>\n",
       "      <th>844</th>\n",
       "      <td>9907740343535595</td>\n",
       "      <td>276.327702</td>\n",
       "      <td>63.257707</td>\n",
       "      <td>2160352473826955520</td>\n",
       "      <td>2873373880666318848</td>\n",
       "    </tr>\n",
       "  </tbody>\n",
       "</table>\n",
       "<p>845 rows × 5 columns</p>\n",
       "</div>"
      ],
      "text/plain": [
       "                ls_id       ls_ra     ls_dec              gaia_id  \\\n",
       "0    9907737095837650  287.228165  48.064735  2131102058617608064   \n",
       "1    9907737159009377  287.448870  48.229697  2131098455144685056   \n",
       "2    9907737158950166  287.387517  48.168933  2131097218194075904   \n",
       "3    9907737221862367  287.697861  48.382752  2131196930154414592   \n",
       "4    9907737221859120  287.547174  48.407548  2131195006009050240   \n",
       "..                ...         ...        ...                  ...   \n",
       "840  9907740343599562  276.670899  63.135065  2160347319866203008   \n",
       "841  9907740343599573  276.671625  63.208500  2160347899685623680   \n",
       "842  9907740343599244  276.634148  63.135310  2160347972701229440   \n",
       "843  9907740343535831  276.356517  63.279633  2160352916207452416   \n",
       "844  9907740343535595  276.327702  63.257707  2160352473826955520   \n",
       "\n",
       "                 sdss_id  \n",
       "0    3384465917919389696  \n",
       "1    3384466192797296640  \n",
       "2    3384462344506599424  \n",
       "3    3384463718896134144  \n",
       "4    3384465093285668864  \n",
       "..                   ...  \n",
       "840  2873374430422132736  \n",
       "841  2873378278712829952  \n",
       "842  2873379103346550784  \n",
       "843  2873378828468643840  \n",
       "844  2873373880666318848  \n",
       "\n",
       "[845 rows x 5 columns]"
      ]
     },
     "execution_count": 19,
     "metadata": {},
     "output_type": "execute_result"
    }
   ],
   "source": [
    "%%time\n",
    "df = qc.query(sql=query_1,fmt='pandas')\n",
    "df"
   ]
  },
  {
   "cell_type": "markdown",
   "id": "9b39ece7-895a-4f1c-bddd-deac0a9e7488",
   "metadata": {},
   "source": [
    "<a class=\"anchor\" id=\"refs\"></a>\n",
    "# Resources & references"
   ]
  },
  {
   "cell_type": "markdown",
   "id": "d198321e-fa76-4034-9fcd-8a45141ac73e",
   "metadata": {},
   "source": [
    "W3Schools: SQL Joins https://www.w3schools.com/sql/sql_join.asp  "
   ]
  }
 ],
 "metadata": {
  "kernelspec": {
   "display_name": "Python 3",
   "language": "python",
   "name": "python3"
  },
  "language_info": {
   "codemirror_mode": {
    "name": "ipython",
    "version": 3
   },
   "file_extension": ".py",
   "mimetype": "text/x-python",
   "name": "python",
   "nbconvert_exporter": "python",
   "pygments_lexer": "ipython3",
   "version": "3.8.8"
  }
 },
 "nbformat": 4,
 "nbformat_minor": 5
}
