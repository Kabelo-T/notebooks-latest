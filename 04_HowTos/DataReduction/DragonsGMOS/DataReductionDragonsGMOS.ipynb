{
 "cells": [
  {
   "cell_type": "code",
   "execution_count": null,
   "id": "4d3fe1cf-3804-4503-98c6-ab09b3109e59",
   "metadata": {
    "tags": []
   },
   "outputs": [],
   "source": [
    "__author__ = 'Susan Ridgway <susan.ridgway@noirlab.edu>, Vinicius Placco <vinicius.placco@noirlab.edu>'\n",
    "__version__ = '20230428' # yyyymmdd\n",
    "__datasets__ = ['GS-2018A-Q-207'] # Data comes from the Gemini archive, GS-2018A-Q-207\n",
    "__keywords__ = ['DRAGONS','Gemini','GMOS','data reduction']"
   ]
  },
  {
   "cell_type": "markdown",
   "id": "691fe728-f536-4f0e-b963-e1ef02b79714",
   "metadata": {
    "tags": []
   },
   "source": [
    "# Gemini GMOS photometry data reduction using DRAGONS Python API\n",
    "*Authors: Susan Ridgway, Vinicius Placco*\n",
    "\n",
    "*Adapted from https://dragons.readthedocs.io/projects/gmosimg-drtutorial/en/v3.1.0/*"
   ]
  },
  {
   "cell_type": "markdown",
   "id": "fe49ea95-0cd8-4fb6-983c-e2f6b8115b5c",
   "metadata": {
    "tags": []
   },
   "source": [
    "## Table of contents\n",
    "* [Goals](#goals)\n",
    "* [Summary](#summary)\n",
    "* [Disclaimers and attribution](#disclaimer)\n",
    "* [Imports and setup](#imports)\n",
    "* [Downloading data for reduction](#download)\n",
    "* [Set up calibration service](#calibration)\n",
    "* [Collect bias files, flat files, and science frames](#rawdata)\n",
    "* [Create combined flat and bias frames](#combinecal)\n",
    "* [Create the reduced, combined final science frame](#reducesci)\n",
    "* [Display stacked final image](#displaysci)\n",
    "* [Clean-up (optional)](#Clean-up)\n",
    "* [Resources](#res)\n",
    "\n",
    "<a class=\"anchor\" id=\"goals\"></a>\n",
    "# Goals\n",
    "Showcase how to perform GMOS imaging data reduction using the Gemini DRAGONS package on the Data Lab science platform. Uses a custom DRAGONS kernel `\"DRAGONS (Py3.7)\"`. The steps include downloading data from the Gemini archive, setting up a DRAGONS calibration service, processing of flats, bias, and science frames, and finally the creation of a single combined stacked image.\n",
    "\n",
    "<a class=\"anchor\" id=\"summary\"></a>\n",
    "# Summary\n",
    "DRAGONS is a Python-based astronomical data reduction platform written by the Gemini Science User Support Department. It currently can be used to reduce imaging data from Gemini instruments GMOS, NIRI, Flamingos 2, GSAOI, and GNIRS, and spectroscopic data in GMOS longslit mode. Linked here is a general list of guides, manuals and tutorials about the use of DRAGONS:\n",
    "https://dragons.readthedocs.io/en/v3.1.0/\n",
    "\n",
    "The DRAGONS kernel has been made available in the Data Lab environment, which should allow users to access the routines without being dependent on installing the software in their local machines. \n",
    "\n",
    "In this notebook, we present an example of a DRAGONS Jupyter notebook that works in the Data Lab environment to fully reduce example Gemini South GMOS G band imaging data.\n",
    "This is a version of the DRAGONS Jupyter notebook tutorial presented here: \n",
    "https://gitlab.com/nsf-noirlab/csdc/usngo/DRAGONS_tutorials/-/blob/main/GMOS_IM_FIELD.ipynb\n",
    "\n",
    "This notebook will not present all of the details of the many options available to adjust or optimize the DRAGONS GMOS data reduction process, rather will just show one example of a standard reduction of a GMOS imaging dataset. \n",
    "More extensive explanations can be found in the general DRAGONS GMOS data reduction tutorial from Gemini linked here:\n",
    "https://dragons.readthedocs.io/projects/gmosimg-drtutorial/en/v3.1.0/\n",
    "\n",
    "The data used in this notebook example is GMOS G band imaging from the Gemini archive of the galaxy NGC 5018 from the Gemini South program \"The Evolutionary History of NGC 5018\", PI: L. Sesto, program ID GS-2018A-Q-207. More program information is given here: https://archive.gemini.edu/programinfo/GS-2018A-Q-207.\n",
    "The final reduced science image combines 5 science frames of 460 seconds each, that were dithered between each exposure.\n",
    "\n",
    "\n",
    "<a class=\"anchor\" id=\"disclaimer\"></a>\n",
    "# Disclaimer & attribution\n",
    "If you use this notebook for your published science, please acknowledge the following:\n",
    "\n",
    "* Data Lab concept paper: Fitzpatrick et al., \"The NOAO Data Laboratory: a conceptual overview\", SPIE, 9149, 2014, http://dx.doi.org/10.1117/12.2057445\n",
    "\n",
    "* Data Lab disclaimer: https://datalab.noirlab.edu/disclaimers.php\n",
    "\n",
    "* DRAGONS publication: Labrie et al., \"DRAGONS - Data Reduction for Astronomy from Gemini Observatory North and South\", ASPC, 523, 321L, https://ui.adsabs.harvard.edu/abs/2019ASPC..523..321L/abstract\n",
    "\n",
    "* DRAGONS open source software publication: https://zenodo.org/record/7776065#.ZDg5qOzMLUI\n"
   ]
  },
  {
   "cell_type": "markdown",
   "id": "e5a777bf-ad5e-4931-96b4-94960c44a274",
   "metadata": {},
   "source": [
    "<a class=\"anchor\" id=\"imports\"></a>\n",
    "# Imports and setup\n"
   ]
  },
  {
   "cell_type": "code",
   "execution_count": null,
   "id": "ad09f1dd-4206-43cb-9140-802d26d67e3a",
   "metadata": {},
   "outputs": [],
   "source": [
    "# std lib\n",
    "import glob\n",
    "\n",
    "# 3rd party\n",
    "from astropy.io import fits\n",
    "from astropy.wcs import WCS\n",
    "import matplotlib.pyplot as plt\n",
    "from matplotlib.colors import LogNorm\n",
    "\n",
    "%matplotlib inline\n",
    "\n",
    "# DRAGONS\n",
    "from recipe_system import cal_service\n",
    "from recipe_system.reduction.coreReduce import Reduce\n",
    "from gempy.adlibrary import dataselect\n",
    "from gempy.utils import logutils\n",
    "\n",
    "# Setup a logfile to keep track of the DRAGONS reduction\n",
    "logutils.config(file_name='reduce.log')"
   ]
  },
  {
   "cell_type": "markdown",
   "id": "38c27724-5155-4e0b-842b-3c0aa612edf7",
   "metadata": {},
   "source": [
    "<a class=\"anchor\" id=\"download\"></a>\n",
    "# Downloading the data from the Gemini archive\n",
    "\n",
    "Create a list of the file names of the raw GMOS G band imaging data, and use wget to download these from the Gemini archive."
   ]
  },
  {
   "cell_type": "code",
   "execution_count": null,
   "id": "9585b5fa-754b-4c64-9eb1-24aa4836091f",
   "metadata": {},
   "outputs": [],
   "source": [
    "%%bash\n",
    "\n",
    "# create file that lists FITS files to be downloaded\n",
    "echo \"\\\n",
    "http://archive.gemini.edu/file/S20180419S0098.fits\n",
    "http://archive.gemini.edu/file/S20180419S0099.fits\n",
    "http://archive.gemini.edu/file/S20180419S0100.fits\n",
    "http://archive.gemini.edu/file/S20180419S0101.fits\n",
    "http://archive.gemini.edu/file/S20180419S0102.fits\n",
    "http://archive.gemini.edu/file/S20180419S0207.fits\n",
    "http://archive.gemini.edu/file/S20180419S0208.fits\n",
    "http://archive.gemini.edu/file/S20180419S0209.fits\n",
    "http://archive.gemini.edu/file/S20180419S0210.fits\n",
    "http://archive.gemini.edu/file/S20180419S0211.fits\n",
    "http://archive.gemini.edu/file/S20180423S0050.fits\n",
    "http://archive.gemini.edu/file/S20180423S0051.fits\n",
    "http://archive.gemini.edu/file/S20180423S0052.fits\n",
    "http://archive.gemini.edu/file/S20180423S0053.fits\n",
    "http://archive.gemini.edu/file/S20180423S0054.fits\\\n",
    "\" > gmos.list\n",
    "\n",
    "# download with wget FITS files from Gemini archive for processing (in quiet mode)\n",
    "wget --no-check-certificate -N -q -i gmos.list"
   ]
  },
  {
   "cell_type": "markdown",
   "id": "467621aa-1f8e-4711-9b23-e687e6840f93",
   "metadata": {},
   "source": [
    "<a class=\"anchor\" id=\"calibration\"></a>\n",
    "# Set up the Gemini DRAGONS calibration service\n",
    "\n",
    "Starts the calibration service for DRAGONS. The `w` flag removes all previous calibration databases that might have been set up."
   ]
  },
  {
   "cell_type": "code",
   "execution_count": null,
   "id": "a36039aa-5a1e-4939-a6ee-8d3b8d15ea17",
   "metadata": {},
   "outputs": [],
   "source": [
    "caldb = cal_service.set_local_database()\n",
    "caldb.init(\"w\")"
   ]
  },
  {
   "cell_type": "markdown",
   "id": "77bf250d-04d8-4eea-9cc1-d978bccf4ddd",
   "metadata": {},
   "source": [
    "<a class=\"anchor\" id=\"rawdata\"></a>\n",
    "# Collect bias files, flat files, and science frames\n",
    "\n",
    "This cell stores the names of the files and prints a sorted list for visual inspection."
   ]
  },
  {
   "cell_type": "code",
   "execution_count": null,
   "id": "77cb5813-05bb-43ec-a8f8-c9a08c54f3c4",
   "metadata": {},
   "outputs": [],
   "source": [
    "all_files = glob.glob('S20*[0-9].fits')\n",
    "all_files.sort()\n",
    "print(all_files)"
   ]
  },
  {
   "cell_type": "markdown",
   "id": "438ffb55-5dd7-474d-aa96-ddc5f8ff5bff",
   "metadata": {},
   "source": [
    "Here the raw data is sorted into types (bias, flats, and science images) using [dataselect](https://dragons.readthedocs.io/projects/recipe-system-users-manual/en/v3.1.0/supptools/dataselect.html) and lists are made of the raw frames of each type. These lists are used as input to the later combination steps."
   ]
  },
  {
   "cell_type": "code",
   "execution_count": null,
   "id": "0f3336a8-f066-4e43-a110-52554485f663",
   "metadata": {},
   "outputs": [],
   "source": [
    "list_biases  = dataselect.select_data(all_files,['BIAS'],[])\n",
    "list_flats   = dataselect.select_data(all_files,['FLAT'],[],\n",
    "               dataselect.expr_parser('filter_name==\"g\"'))\n",
    "list_science = dataselect.select_data(all_files,[],['CAL'],\n",
    "               dataselect.expr_parser('(observation_class==\"science\" and filter_name==\"g\")'))"
   ]
  },
  {
   "cell_type": "markdown",
   "id": "2a2b3def-fb96-4fb7-ba13-43424dfd70b2",
   "metadata": {},
   "source": [
    "<a class=\"anchor\" id=\"combinecal\"></a>\n",
    "# Create combined bias frames and flat frames\n",
    "The bias frames are reduced and stacked to create a combined bias frame. The flat frames are reduced, bias corrected and stacked to create a combined flat frame. After each reduction, the output is added to the calibration database."
   ]
  },
  {
   "cell_type": "code",
   "execution_count": null,
   "id": "12c9adea-44cc-4bcf-9f53-cfbf44b74710",
   "metadata": {
    "scrolled": true,
    "tags": []
   },
   "outputs": [],
   "source": [
    "%%time\n",
    "\n",
    "# This should take about 45 seconds\n",
    "\n",
    "reduce_bias = Reduce()\n",
    "reduce_bias.files.extend(list_biases)\n",
    "reduce_bias.runr()\n",
    "\n",
    "caldb.add_cal(reduce_bias.output_filenames[0]) \n",
    "\n",
    "reduce_flats = Reduce()\n",
    "reduce_flats.files.extend(list_flats)\n",
    "reduce_flats.runr()\n",
    "\n",
    "caldb.add_cal(reduce_flats.output_filenames[0]) "
   ]
  },
  {
   "cell_type": "markdown",
   "id": "c9689f6b-783b-4fb3-8bbf-df80be5fb202",
   "metadata": {},
   "source": [
    "<a class=\"anchor\" id=\"reducesci\"></a>\n",
    "# Produce the final stacked, reduced science image\n",
    "In this step, the standard DRAGONS GMOS data reduction protocol is followed: first, the science frames are processed, and a rough combined frame is created that is then used to further flat field and cosmic ray reject the input science frames. These further processed, dithered input frames are then re-combined to maximize signal-to-noise and produce a final combined science frame. *Note:  This process is iterative: 1st, detects sources in individual frames, cross correlated to see which are cross correlated (not CRs) and also uses these to derive offsets, and CR correct. A combined (median, no rejection) sky frame is made, which is then subtracted from each image the final science frame is created after CR Rejecting and sky subtracting the input files, using combination = mean and rejection sigclip*"
   ]
  },
  {
   "cell_type": "code",
   "execution_count": null,
   "id": "295877d3-a957-4a7a-a766-59cb812fb637",
   "metadata": {
    "scrolled": true,
    "tags": []
   },
   "outputs": [],
   "source": [
    "%%time\n",
    "\n",
    "# This should take about 2 minutes\n",
    "\n",
    "reduce_science = Reduce()\n",
    "reduce_science.files.extend(list_science)\n",
    "reduce_science.runr()"
   ]
  },
  {
   "cell_type": "markdown",
   "id": "1b13ef60-5312-478f-9f82-d222d8f888b3",
   "metadata": {},
   "source": [
    "<a class=\"anchor\" id=\"displaysci\"></a>\n",
    "# Display the fully reduced image"
   ]
  },
  {
   "cell_type": "markdown",
   "id": "b60f566d-6774-46e1-bd85-1a72cd757e3d",
   "metadata": {},
   "source": [
    "Read the reduced spectrum with astropy and print information about the various `FITS` extensions provided by the `DRAGONS` data reduction. Also read the `WCS` (World Coordinate System) for plotting purposes."
   ]
  },
  {
   "cell_type": "code",
   "execution_count": null,
   "id": "a897f81b-4847-4b15-be54-b61c828169b3",
   "metadata": {},
   "outputs": [],
   "source": [
    "image_file = \"S20180419S0098_image.fits\"\n",
    "hdu_list = fits.open(image_file)\n",
    "wcs = WCS(hdu_list[1].header)\n",
    "hdu_list.info()"
   ]
  },
  {
   "cell_type": "markdown",
   "id": "512133fc-e966-4975-a4c3-ec1c219cdd98",
   "metadata": {},
   "source": [
    "Get `(x,y)` data from the `SCI` extension and print the array's shape"
   ]
  },
  {
   "cell_type": "code",
   "execution_count": null,
   "id": "3f8a8230-d022-4270-b7cf-3a57ea6ea0cb",
   "metadata": {},
   "outputs": [],
   "source": [
    "image_data = fits.getdata(image_file, ext=1)\n",
    "print(image_data.shape)"
   ]
  },
  {
   "cell_type": "markdown",
   "id": "b5c8f93f-9008-4eea-8453-a9439cec8b2b",
   "metadata": {},
   "source": [
    "Display the image using standard matplotlib.pyplot routines. Note the use of the `WCS` for the coordinates. The `norm=LogNorm` function is used to improve the contrast in the image."
   ]
  },
  {
   "cell_type": "code",
   "execution_count": null,
   "id": "237e18e5-e56e-43ee-b894-ed8a41c81801",
   "metadata": {},
   "outputs": [],
   "source": [
    "plt.figure(figsize = (15,15))\n",
    "plt.subplot(projection=wcs)\n",
    "plt.imshow(image_data,cmap='gray',norm=LogNorm(vmin=3000, vmax=60000))\n",
    "plt.xlabel('Right Ascension [degree]',fontsize=14,fontweight='bold')\n",
    "plt.ylabel('Declination [degree]',fontsize=14,fontweight='bold')\n",
    "plt.xlim(900,2500)\n",
    "plt.ylim(1600,600)\n",
    "plt.show()"
   ]
  },
  {
   "cell_type": "markdown",
   "id": "72c7c993-f399-4ee3-820b-076de88f5482",
   "metadata": {},
   "source": [
    "<a class=\"anchor\" id=\"Clean-up\"></a>\n",
    "# Clean-up (optional)\n",
    "\n",
    "Erase all fits files, lists, logs, and calibrations created during the reduction. For that, uncomment all lines in the cell below and execute."
   ]
  },
  {
   "cell_type": "code",
   "execution_count": null,
   "id": "3e7ce2a8-67f6-4c78-97b5-997dd08e59d1",
   "metadata": {},
   "outputs": [],
   "source": [
    "#%%bash\n",
    "#\n",
    "#rm -f *S2018*.fits gmos.list reduce.log # remove files\n",
    "#rm -rf calibrations/ # remove directories"
   ]
  },
  {
   "cell_type": "markdown",
   "id": "a1b60eb1-19f9-430e-9c8b-cb4181f46f95",
   "metadata": {},
   "source": [
    "<a class=\"anchor\" id=\"res\"></a>\n",
    "# Resources"
   ]
  },
  {
   "cell_type": "markdown",
   "id": "6dccfe91-9c5c-46bd-bdc7-eca0b68327ec",
   "metadata": {},
   "source": [
    "* US NGO DRAGONS tutorials: https://gitlab.com/nsf-noirlab/csdc/usngo/DRAGONS_tutorials/\n",
    "\n",
    "* US NGO DRAGONS tutorial on which this example is based: https://gitlab.com/nsf-noirlab/csdc/usngo/DRAGONS_tutorials/-/blob/main/GMOS_IM_FIELD.ipynb\n",
    "\n",
    "* Gemini DRAGONS list of manuals and tutorials: https://dragons.readthedocs.io/en/v3.1.0/\n",
    "\n",
    "* Gemini DRAGONS GMOS imaging data reduction tutorial:\n",
    "https://dragons.readthedocs.io/projects/gmosimg-drtutorial/en/v3.1.0/\n",
    "\n",
    "* Gemini archival link to the program from which these data were obtained:\n",
    "https://archive.gemini.edu/programinfo/GS-2018A-Q-207\n",
    "\n",
    "* General DataLab/Jupyter Notebook/python Links:\n",
    "  * https://datalab.noirlab.edu/start.php\n",
    "  * https://docs.python.org/3/tutorial/index.html\n",
    "  * https://jupyter.org/\n",
    "\n",
    "\n",
    "\n"
   ]
  }
 ],
 "metadata": {
  "kernelspec": {
   "display_name": "DRAGONS (Py3.7)",
   "language": "python",
   "name": "dragons"
  },
  "language_info": {
   "codemirror_mode": {
    "name": "ipython",
    "version": 3
   },
   "file_extension": ".py",
   "mimetype": "text/x-python",
   "name": "python",
   "nbconvert_exporter": "python",
   "pygments_lexer": "ipython3",
   "version": "3.10.9"
  },
  "toc-autonumbering": false,
  "toc-showcode": true
 },
 "nbformat": 4,
 "nbformat_minor": 5
}
