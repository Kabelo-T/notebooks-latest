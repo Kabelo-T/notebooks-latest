{
 "cells": [
  {
   "cell_type": "code",
   "execution_count": 1,
   "id": "45b2410f-9454-4d30-aa12-b477752adbdf",
   "metadata": {},
   "outputs": [],
   "source": [
    "__author__ = 'Alice Jacques <alice.jacques@noirlab.edu>, Steve Pothier <steve.pothier@noirlab.edu>, Adam Bolton <adam.bolton@noirlab.edu>'\n",
    "__version__ = '20221102' # yyyymmdd; \n",
    "__datasets__ = ['sdss_dr16','boss_dr16']  \n",
    "__keywords__ = ['spectroscopy', 'HowTo', 'sdss spectra', 'tutorial']"
   ]
  },
  {
   "cell_type": "markdown",
   "id": "2f4d7bbd-5c36-4f02-8bbc-91a890d7f4d5",
   "metadata": {},
   "source": [
    "# How to use SPARCL\n",
    "MVP release of SPectra Analysis and Retrievable Catalog Lab (SPARCL)"
   ]
  },
  {
   "cell_type": "markdown",
   "id": "b33c904a-f1de-49e0-850d-1e8d00f15e3d",
   "metadata": {},
   "source": [
    "### Table of contents\n",
    "* [Goals & Summary](#goalssummary)\n",
    "* [Imports and setup](#imports)\n",
    "* [Authentication](#authentication)\n",
    "* [Data sets available in SPARCL](#datasets)\n",
    "* [Get default field names](#defaultfieldnames)\n",
    "* [Get all field names](#allfieldnames)\n",
    "* [Data discovery I: using SPARCL's <tt>client.find()</tt> method](#datadiscoveryI)\n",
    "* [Data discovery II: using Data Lab's <tt>sparcl.main</tt> table](#datadiscoveryII)\n",
    "* [Retrieve records by <tt>id</tt> using <tt>client.retrieve()</tt>](#retrieve)\n",
    "* [Retrieve records by <tt>specid</tt> using <tt>client.retrieve_by_specid()</tt>](#retrieve_specid)\n",
    "* [Join between IDs and spectrum records](#join)\n",
    "* [Access fields in records](#access)\n",
    "* [Convert retrieved output to Pandas DataFrame or Spectrum1D object](#convert)\n",
    "* [Plot spectra](#plot)\n",
    "* [Use <tt>client.missing()</tt> to find missing IDs in the SPARCL database](#missing)"
   ]
  },
  {
   "cell_type": "markdown",
   "id": "54de5b8f-b26c-446f-886b-4197a8524f49",
   "metadata": {},
   "source": [
    "<a class=\"anchor\" id=\"goalssummary\"></a>\n",
    "## Goals & Summary \n",
    "\n",
    "SPARCL (SPectral Analysis and Retrievable Catalog Lab) is an online service for discovery and retrieval of one-dimensional optical-infrared spectra. SPARCL is designed to work for large survey datasets containing many millions of spectra, and to provide access to multiple different data sets through common methods. For more information, see the [SPARCL User Guide](https://astrosparcl.datalab.noirlab.edu/SPARCLUserManual).\n",
    "\n",
    "This notebook provides a basic introduction to using the SPARCL client (or sparclclient) to find and retrieve spectroscopic data within a Python notebook context. The sparclclient connects to the SPARCL server at [NSF's NOIRLab](https://noirlab.edu/public/) and provides access to the contents of the SPARCL database.\n",
    "\n",
    "To see the current data sets and number of spectra available in the SPARCL database, please visit the [SPARCL summary page](https://astrosparcl.datalab.noirlab.edu/sparc/).\n",
    "\n",
    "To get the latest sparclclient documentation, visit the [sparclclient readthedocs site](https://sparclclient.readthedocs.io/en/latest/).\n",
    "\n",
    "Feedback on SPARCL (questions, comments, science use cases, feature requests, bug reports, confusing error messages, etc.) can be submitted to datalab-spectro@noirlab.edu. For bug reports and confusing error messages, it's helpful if you include: a log of *what you did*, *the result you got*, and *the result you expected*."
   ]
  },
  {
   "cell_type": "code",
   "execution_count": 2,
   "id": "c9610266-dd30-451f-ab48-cb4217ee29c4",
   "metadata": {},
   "outputs": [],
   "source": [
    "## Uncomment the following only if SPARCL client is not already installed\n",
    "#!pip install sparclclient"
   ]
  },
  {
   "cell_type": "markdown",
   "id": "54f92d80-5b19-4819-9c48-7aca77d58e5d",
   "metadata": {},
   "source": [
    "<a class=\"anchor\" id=\"imports\"></a>\n",
    "## Imports and setup"
   ]
  },
  {
   "cell_type": "code",
   "execution_count": 3,
   "id": "e86a49f0-d3bc-444d-a9b2-a01f4b49330b",
   "metadata": {},
   "outputs": [],
   "source": [
    "# SPARCL imports\n",
    "from sparcl.client import SparclClient\n",
    "\n",
    "# 3rd party imports\n",
    "from time import time\n",
    "import numpy as np\n",
    "import astropy.units as u\n",
    "from specutils import Spectrum1D\n",
    "from astropy.nddata import InverseVariance\n",
    "from astropy.convolution import convolve, Gaussian1DKernel\n",
    "%matplotlib inline\n",
    "import matplotlib.pyplot as plt\n",
    "import pandas as pd\n",
    "\n",
    "# Data Lab imports\n",
    "from dl import queryClient as qc\n",
    "from dl import authClient as ac\n",
    "from getpass import getpass\n",
    "\n",
    "# plots default setup\n",
    "plt.rcParams['font.size'] = 14\n",
    "plt.rcParams['figure.figsize'] = (14,8)"
   ]
  },
  {
   "cell_type": "markdown",
   "id": "b91e9330-2fe6-4760-90de-87c8a889c29c",
   "metadata": {},
   "source": [
    "<a class=\"anchor\" id=\"authentication\"></a>\n",
    "# Authentication\n",
    "Much of the functionality of Data Lab can be accessed without explicitly logging in (the service then uses an anonymous login). But some capacities, for instance saving the results of your queries to your virtual storage space, require a login (i.e. you will need a registered user account).\n",
    "\n",
    "If you need to log in to Data Lab, issue this command, and respond according to the instructions:"
   ]
  },
  {
   "cell_type": "code",
   "execution_count": 4,
   "id": "a52526d2-c10d-4597-a33f-1c1d5a5d0338",
   "metadata": {},
   "outputs": [
    {
     "data": {
      "text/plain": [
       "'demo00'"
      ]
     },
     "execution_count": 4,
     "metadata": {},
     "output_type": "execute_result"
    }
   ],
   "source": [
    "#ac.login(input(\"Enter user name: (+ENTER) \"),getpass(\"Enter password: (+ENTER) \"))\n",
    "ac.whoAmI()"
   ]
  },
  {
   "cell_type": "markdown",
   "id": "97737c1b-9543-4855-837d-f32622f38bfd",
   "metadata": {},
   "source": [
    "#### We now create a SPARCL client and print out version information:"
   ]
  },
  {
   "cell_type": "code",
   "execution_count": 5,
   "id": "0cbfabb9-9a9a-448c-a02c-93bde065fbe8",
   "metadata": {},
   "outputs": [
    {
     "data": {
      "text/plain": [
       "(sparclclient:1.0.0, api:8.0, https://astrosparcl.datalab.noirlab.edu/sparc, verbose=False, connect_timeout=1.1, read_timeout=5400.0)"
      ]
     },
     "execution_count": 5,
     "metadata": {},
     "output_type": "execute_result"
    }
   ],
   "source": [
    "client = SparclClient()\n",
    "client"
   ]
  },
  {
   "cell_type": "code",
   "execution_count": 6,
   "id": "a4575c4f-f559-4720-95f4-819daa8a57ea",
   "metadata": {},
   "outputs": [
    {
     "name": "stdout",
     "output_type": "stream",
     "text": [
      "Help on SparclClient in module sparcl.client object:\n",
      "\n",
      "class SparclClient(builtins.object)\n",
      " |  SparclClient(*, url='https://astrosparcl.datalab.noirlab.edu', verbose=False, connect_timeout=1.1, read_timeout=5400)\n",
      " |  \n",
      " |  Provides interface to SPARCL Server.\n",
      " |  When using this to report a bug, set verbose to True. Also print\n",
      " |  your instance of this.  The results will include important info\n",
      " |  about the Client and Server that is usefule to Developers.\n",
      " |  \n",
      " |  Args:\n",
      " |      url (:obj:`str`, optional): Base URL of SPARC Server. Defaults\n",
      " |          to 'https://astrosparcl.datalab.noirlab.edu'.\n",
      " |  \n",
      " |      verbose (:obj:`bool`, optional): Default verbosity is set to\n",
      " |          False for all client methods.\n",
      " |  \n",
      " |      connect_timeout (:obj:`float`, optional): Number of seconds to\n",
      " |          wait to establish connection with server. Defaults to\n",
      " |          1.1.\n",
      " |  \n",
      " |      read_timeout (:obj:`float`, optional): Number of seconds to\n",
      " |          wait for server to send a response. Generally time to\n",
      " |          wait for first byte. Defaults to 5400.\n",
      " |  \n",
      " |  Example:\n",
      " |      >>> client = sparcl.client.SparclClient()\n",
      " |  \n",
      " |  Raises:\n",
      " |      Exception: Object creation compares the version from the\n",
      " |          Server against the one expected by the Client. Throws an\n",
      " |          error if the Client is a major version or more behind.\n",
      " |  \n",
      " |  Methods defined here:\n",
      " |  \n",
      " |  __init__(self, *, url='https://astrosparcl.datalab.noirlab.edu', verbose=False, connect_timeout=1.1, read_timeout=5400)\n",
      " |      Create client instance.\n",
      " |  \n",
      " |  __repr__(self)\n",
      " |      Return repr(self).\n",
      " |  \n",
      " |  find(self, outfields=None, *, constraints={}, dataset_list=None, limit=500, sort=None)\n",
      " |      Find records in the SPARC database.\n",
      " |      \n",
      " |      Args:\n",
      " |          outfields (:obj:`list`, optional): List of fields to return.\n",
      " |              Only CORE fields may be passed to this parameter.\n",
      " |              Defaults to None, which will return only the id and _dr\n",
      " |              fields.\n",
      " |      \n",
      " |          constraints (:obj:`dict`, optional): Key-Value pairs of\n",
      " |              constraints to place on the record selection. The Key\n",
      " |              part of the Key-Value pair is the field name and the\n",
      " |              Value part of the Key-Value pair is a list of values.\n",
      " |              Defaults to no constraints. This will return all records in the\n",
      " |              database subject to restrictions imposed by the ``limit``\n",
      " |              parameter.\n",
      " |      \n",
      " |          dataset_list (:obj:`list`, optional): List of data sets from\n",
      " |              which to find records. Defaults to None, which\n",
      " |              will find records in all data sets hosted on the SPARC\n",
      " |              database.\n",
      " |      \n",
      " |          limit (:obj:`int`, optional): Maximum number of records to\n",
      " |              return. Defaults to 500.\n",
      " |      \n",
      " |          sort (:obj:`list`, optional): Comma separated list of fields\n",
      " |              to sort by. Defaults to None. (no sorting)\n",
      " |      \n",
      " |      Returns:\n",
      " |          :class:`~sparcl.Results.Found`: Contains header and records.\n",
      " |      \n",
      " |      Example:\n",
      " |          >>> client = sparcl.client.SparclClient()\n",
      " |          >>> outs = ['id', 'ra', 'dec']\n",
      " |          >>> cons = {'spectype': ['GALAXY'], 'redshift': [0.5, 0.9]}\n",
      " |          >>> found = client.find(outfields=outs, constraints=cons)\n",
      " |          >>> found.records\n",
      " |  \n",
      " |  get_all_fields(self, *, dataset_list=None)\n",
      " |      Get fields tagged as 'all' that are in DATASET_LIST.\n",
      " |      These are the fields used for the ALL value of the include parameter\n",
      " |      of client.retrieve().\n",
      " |      \n",
      " |      Args:\n",
      " |          dataset_list (:obj:`list`, optional): List of data sets from\n",
      " |              which to get all fields. Defaults to None, which\n",
      " |              will return the intersection of all fields in all\n",
      " |              data sets hosted on the SPARC database.\n",
      " |      \n",
      " |      Returns:\n",
      " |          List of fields tagged as 'all' from DATASET_LIST.\n",
      " |      \n",
      " |      Example:\n",
      " |          >>> client = sparcl.client.SparclClient()\n",
      " |          >>> client.get_all_fields()\n",
      " |  \n",
      " |  get_available_fields(self, *, dataset_list=None)\n",
      " |      Get subset of fields that are in all (or selected) DATASET_LIST.\n",
      " |      This may be a bigger list than will be used with the ALL keyword to\n",
      " |      client.retreive().\n",
      " |      \n",
      " |      Args:\n",
      " |          dataset_list (:obj:`list`, optional): List of data sets from\n",
      " |              which to get available fields. Defaults to None, which\n",
      " |              will return the intersection of all available fields in\n",
      " |              all data sets hosted on the SPARC database.\n",
      " |      \n",
      " |      Returns:\n",
      " |          Set of fields available from data sets in DATASET_LIST.\n",
      " |      \n",
      " |      Example:\n",
      " |          >>> client = sparcl.client.SparclClient()\n",
      " |          >>> client.get_available_fields()\n",
      " |  \n",
      " |  get_default_fields(self, *, dataset_list=None)\n",
      " |      Get fields tagged as 'default' that are in DATASET_LIST.\n",
      " |      These are the fields used for the DEFAULT value of the include\n",
      " |      parameter of client.retrieve().\n",
      " |      \n",
      " |      Args:\n",
      " |          dataset_list (:obj:`list`, optional): List of data sets from\n",
      " |              which to get the default fields. Defaults to None, which\n",
      " |              will return the intersection of default fields in all\n",
      " |              data sets hosted on the SPARC database.\n",
      " |      \n",
      " |      Returns:\n",
      " |          List of fields tagged as 'default' from DATASET_LIST.\n",
      " |      \n",
      " |      Example:\n",
      " |          >>> client = sparcl.client.SparclClient()\n",
      " |          >>> client.get_default_fields()\n",
      " |  \n",
      " |  missing(self, uuid_list, *, dataset_list=None, countOnly=False, verbose=False)\n",
      " |      Return the subset of ids in the given uuid_list that are NOT stored\n",
      " |      in the SPARC database.\n",
      " |      \n",
      " |      Args:\n",
      " |          uuid_list (:obj:`list`): List of ids.\n",
      " |      \n",
      " |          dataset_list (:obj:`list`, optional): List of data sets from\n",
      " |              which to find missing ids. Defaults to None, meaning all\n",
      " |              data sets hosted on the SPARC database.\n",
      " |      \n",
      " |          countOnly (:obj:`bool`, optional): Set to True to return only\n",
      " |              a count of the missing ids from the uuid_list. Defaults to\n",
      " |              False.\n",
      " |      \n",
      " |          verbose (:obj:`bool`, optional): Set to True for in-depth return\n",
      " |              statement. Defaults to False.\n",
      " |      \n",
      " |      Returns:\n",
      " |          A list of the subset of ids in the given uuid_list that are NOT\n",
      " |          stored in the SPARC database.\n",
      " |      \n",
      " |      Example:\n",
      " |          >>> client = sparcl.client.SparclClient()\n",
      " |          >>> ids = ['ddbb57ee-8e90-4a0d-823b-0f5d97028076',]\n",
      " |          >>> client.missing(ids)\n",
      " |  \n",
      " |  retrieve(self, uuid_list, *, svc='spectras', format='pkl', include='DEFAULT', dataset_list=None, limit=500, chunk=500, verbose=None)\n",
      " |      Retrieve spectra records from the SPARC database by list of ids.\n",
      " |      \n",
      " |      Args:\n",
      " |          uuid_list (:obj:`list`): List of ids.\n",
      " |      \n",
      " |          svc (:obj:`str`, optional): Defaults to 'spectras'.\n",
      " |      \n",
      " |          format (:obj:`str`, optional): Defaults to 'pkl'.\n",
      " |      \n",
      " |          include (:obj:`list`, optional): List of field names to include\n",
      " |              in each record. Defaults to 'DEFAULT', which will return\n",
      " |              the fields tagged as 'default'.\n",
      " |      \n",
      " |          dataset_list (:obj:`list`, optional): List of data sets from\n",
      " |              which to retrieve spectra data. Defaults to None, meaning all\n",
      " |              data sets hosted on the SPARC database.\n",
      " |      \n",
      " |          limit (:obj:`int`, optional): Maximum number of records to\n",
      " |              return. Defaults to 500.\n",
      " |      \n",
      " |          chunk (:obj:`int`, optional): Size of chunks to break list into.\n",
      " |              Defaults to 500.\n",
      " |      \n",
      " |          verbose (:obj:`bool`, optional): Set to True for in-depth return\n",
      " |              statement. Defaults to False.\n",
      " |      \n",
      " |      Returns:\n",
      " |          :class:`~sparcl.Results.Retrieved`: Contains header and records.\n",
      " |      \n",
      " |      Example:\n",
      " |          >>> client = sparcl.client.SparclClient()\n",
      " |          >>> ids = ['000017b6-56a2-4f87-8828-3a3409ba1083',]\n",
      " |          >>> inc = ['id', 'flux', 'wavelength', 'model']\n",
      " |          >>> ret = client.retrieve(uuid_list=ids, include=inc)\n",
      " |          >>> ret.records\n",
      " |  \n",
      " |  retrieve_by_specid(self, specid_list, *, include='DEFAULT', dataset_list=None, verbose=False)\n",
      " |      Retrieve spectra records from the SPARC database by list of specids.\n",
      " |      \n",
      " |      Args:\n",
      " |          specid_list (:obj:`list`): List of specids.\n",
      " |      \n",
      " |          include (:obj:`list`, optional): List of field names to include\n",
      " |              in each record. Defaults to 'DEFAULT', which will return\n",
      " |              the fields tagged as 'default'.\n",
      " |      \n",
      " |          dataset_list (:obj:`list`, optional): List of data sets from\n",
      " |              which to retrieve spectra data. Defaults to None, meaning all\n",
      " |              data sets hosted on the SPARC database.\n",
      " |      \n",
      " |          verbose (:obj:`bool`, optional): Set to True for in-depth return\n",
      " |              statement. Defaults to False.\n",
      " |      \n",
      " |      Returns:\n",
      " |          :class:`~sparcl.Results.Retrieved`: Contains header and records.\n",
      " |      \n",
      " |      Example:\n",
      " |          >>> client = sparcl.client.SparclClient()\n",
      " |          >>> sids = [5840097619402313728, -8985592895187431424]\n",
      " |          >>> inc = ['specid', 'flux', 'wavelength', 'model']\n",
      " |          >>> ret = client.retrieve_by_specid(specid_list=sids, include=inc)\n",
      " |          >>> ret.records\n",
      " |  \n",
      " |  ----------------------------------------------------------------------\n",
      " |  Readonly properties defined here:\n",
      " |  \n",
      " |  all_datasets\n",
      " |  \n",
      " |  version\n",
      " |      Return version of Server Rest API used by this client.\n",
      " |      If the Rest API changes such that the Major version increases,\n",
      " |      a new version of this module will likely need to be used.\n",
      " |      \n",
      " |      Returns:\n",
      " |          API version (:obj:`float`).\n",
      " |      \n",
      " |      Example:\n",
      " |          >>> client = sparcl.client.SparclClient()\n",
      " |          >>> client.version()\n",
      " |  \n",
      " |  ----------------------------------------------------------------------\n",
      " |  Data descriptors defined here:\n",
      " |  \n",
      " |  __dict__\n",
      " |      dictionary for instance variables (if defined)\n",
      " |  \n",
      " |  __weakref__\n",
      " |      list of weak references to the object (if defined)\n",
      " |  \n",
      " |  ----------------------------------------------------------------------\n",
      " |  Data and other attributes defined here:\n",
      " |  \n",
      " |  KNOWN_GOOD_API_VERSION = 8.0\n",
      "\n"
     ]
    }
   ],
   "source": [
    "help(SparclClient())"
   ]
  },
  {
   "cell_type": "markdown",
   "id": "26df21ea-9dfe-4a8b-8d80-8e2096b2af57",
   "metadata": {},
   "source": [
    "<a class=\"anchor\" id=\"datasets\"></a>\n",
    "## Data sets available in SPARCL\n",
    "List all currently available data sets from the server/url associated with client"
   ]
  },
  {
   "cell_type": "code",
   "execution_count": 7,
   "id": "b612c330-c743-40a4-94e2-6c47dcb31a65",
   "metadata": {},
   "outputs": [
    {
     "data": {
      "text/plain": [
       "{'BOSS-DR16', 'SDSS-DR16'}"
      ]
     },
     "execution_count": 7,
     "metadata": {},
     "output_type": "execute_result"
    }
   ],
   "source": [
    "client.all_datasets"
   ]
  },
  {
   "cell_type": "markdown",
   "id": "6bc0adbb-de83-4e5a-85d5-795a651f97ce",
   "metadata": {},
   "source": [
    "<a class=\"anchor\" id=\"defaultfieldnames\"></a>\n",
    "## Get default field names\n",
    "Gets fields tagged as 'default' that are common to all data sets in the `dataset_list` passed to the function. If `dataset_list` is None (the default), the function returns the intersection of 'default' fields across all datasets currently available in the SPARC database. The following example of this function produces the same output as it would with no `dataset_list` argument because we currently only have SDSS-DR16 and BOSS-DR16 records in the SPARC database."
   ]
  },
  {
   "cell_type": "code",
   "execution_count": 8,
   "id": "158d6cc5-fb09-462e-bb7a-2618388b9965",
   "metadata": {},
   "outputs": [
    {
     "data": {
      "text/plain": [
       "\u001b[0;31mSignature:\u001b[0m \u001b[0mclient\u001b[0m\u001b[0;34m.\u001b[0m\u001b[0mget_default_fields\u001b[0m\u001b[0;34m(\u001b[0m\u001b[0;34m*\u001b[0m\u001b[0;34m,\u001b[0m \u001b[0mdataset_list\u001b[0m\u001b[0;34m=\u001b[0m\u001b[0;32mNone\u001b[0m\u001b[0;34m)\u001b[0m\u001b[0;34m\u001b[0m\u001b[0;34m\u001b[0m\u001b[0m\n",
       "\u001b[0;31mDocstring:\u001b[0m\n",
       "Get fields tagged as 'default' that are in DATASET_LIST.\n",
       "These are the fields used for the DEFAULT value of the include\n",
       "parameter of client.retrieve().\n",
       "\n",
       "Args:\n",
       "    dataset_list (:obj:`list`, optional): List of data sets from\n",
       "        which to get the default fields. Defaults to None, which\n",
       "        will return the intersection of default fields in all\n",
       "        data sets hosted on the SPARC database.\n",
       "\n",
       "Returns:\n",
       "    List of fields tagged as 'default' from DATASET_LIST.\n",
       "\n",
       "Example:\n",
       "    >>> client = sparcl.client.SparclClient()\n",
       "    >>> client.get_default_fields()\n",
       "\u001b[0;31mFile:\u001b[0m      /data0/sw/anaconda3/lib/python3.8/site-packages/sparcl/client.py\n",
       "\u001b[0;31mType:\u001b[0m      method\n"
      ]
     },
     "metadata": {},
     "output_type": "display_data"
    }
   ],
   "source": [
    "client.get_default_fields?"
   ]
  },
  {
   "cell_type": "code",
   "execution_count": 9,
   "id": "90606d1b-0117-4edd-93a6-d1166aa0a1b5",
   "metadata": {},
   "outputs": [
    {
     "data": {
      "text/plain": [
       "['flux', 'id', 'wavelength']"
      ]
     },
     "execution_count": 9,
     "metadata": {},
     "output_type": "execute_result"
    }
   ],
   "source": [
    "client.get_default_fields(dataset_list=['SDSS-DR16', 'BOSS-DR16'])"
   ]
  },
  {
   "cell_type": "markdown",
   "id": "d7e93c80-41a5-4132-9df2-882625d89915",
   "metadata": {},
   "source": [
    "<a class=\"anchor\" id=\"allfieldnames\"></a>\n",
    "## Get all field names\n",
    "Gets fields tagged as 'all' that are common to all data sets in the `dataset_list` passed to the function. If `dataset_list` is None (the default), the function returns the intersection of 'all' fields across all datasets currently available in the SPARC database.  The following example of this function produces the same output as it would with no `dataset_list` argument because we currently only have SDSS-DR16 and BOSS-DR16 records in the SPARC database."
   ]
  },
  {
   "cell_type": "code",
   "execution_count": 10,
   "id": "e6808ef8-a037-4d85-b81e-a021d92ea188",
   "metadata": {},
   "outputs": [
    {
     "data": {
      "text/plain": [
       "\u001b[0;31mSignature:\u001b[0m \u001b[0mclient\u001b[0m\u001b[0;34m.\u001b[0m\u001b[0mget_all_fields\u001b[0m\u001b[0;34m(\u001b[0m\u001b[0;34m*\u001b[0m\u001b[0;34m,\u001b[0m \u001b[0mdataset_list\u001b[0m\u001b[0;34m=\u001b[0m\u001b[0;32mNone\u001b[0m\u001b[0;34m)\u001b[0m\u001b[0;34m\u001b[0m\u001b[0;34m\u001b[0m\u001b[0m\n",
       "\u001b[0;31mDocstring:\u001b[0m\n",
       "Get fields tagged as 'all' that are in DATASET_LIST.\n",
       "These are the fields used for the ALL value of the include parameter\n",
       "of client.retrieve().\n",
       "\n",
       "Args:\n",
       "    dataset_list (:obj:`list`, optional): List of data sets from\n",
       "        which to get all fields. Defaults to None, which\n",
       "        will return the intersection of all fields in all\n",
       "        data sets hosted on the SPARC database.\n",
       "\n",
       "Returns:\n",
       "    List of fields tagged as 'all' from DATASET_LIST.\n",
       "\n",
       "Example:\n",
       "    >>> client = sparcl.client.SparclClient()\n",
       "    >>> client.get_all_fields()\n",
       "\u001b[0;31mFile:\u001b[0m      /data0/sw/anaconda3/lib/python3.8/site-packages/sparcl/client.py\n",
       "\u001b[0;31mType:\u001b[0m      method\n"
      ]
     },
     "metadata": {},
     "output_type": "display_data"
    }
   ],
   "source": [
    "client.get_all_fields?"
   ]
  },
  {
   "cell_type": "code",
   "execution_count": 11,
   "id": "a6d5de70-1b50-4c0b-8d24-7eaadb892dbe",
   "metadata": {},
   "outputs": [
    {
     "name": "stdout",
     "output_type": "stream",
     "text": [
      "['FIBERID', 'MJD', 'PLATE', 'RUN1D', 'RUN2D', 'SPECOBJID', 'data_release', 'datasetgroup', 'dateobs', 'dateobs_center', 'dec', 'exptime', 'flux', 'id', 'instrument', 'ivar', 'mask', 'model', 'ra', 'redshift', 'redshift_err', 'redshift_warning', 'site', 'sky', 'specid', 'specprimary', 'spectype', 'targetid', 'telescope', 'wave_sigma', 'wavelength', 'wavemax', 'wavemin']\n"
     ]
    }
   ],
   "source": [
    "print(sorted(client.get_all_fields(dataset_list=['SDSS-DR16', 'BOSS-DR16'])))"
   ]
  },
  {
   "cell_type": "markdown",
   "id": "b150b159-5011-4df6-89d3-cea14dcb3f18",
   "metadata": {},
   "source": [
    "<a class=\"anchor\" id=\"datadiscoveryI\"></a>\n",
    "## Data discovery I: using SPARCL's `client.find()` method\n",
    "The first way you can discover your data is by using SPARCL's `client.find()` method, which allows you to find records in the SPARCL database based on certain parameters passed to the function. Only Core fields may be in the `outfields` and `constraints` parameters. The descriptions for all fields, including Core fields, is located [here](https://astrosparcl.datalab.noirlab.edu/sparc/sfc/). The SPARCL Core fields constraint types are:\n",
    "\n",
    "\n",
    "| Field name       | Constraint type | Example |\n",
    "|:----------------|:---------------|:-------|\n",
    "| id               | List of values (but not<br>intended for data discovery) | ['00001658-460c-4da1-987d-e493d8c9b89b',<br>'000017b6-56a2-4f87-8828-3a3409ba1083']\n",
    "| specid           | List of values | [6988698046080241664, 6971782884823945216]\n",
    "| targetid         | List of values | [1237679502171374316, 1237678619584692841]\n",
    "| data_release     | List of allowed values<br>from [SPARCL Categoricals](https://astrosparcl.datalab.noirlab.edu/sparc/cats/) | ['BOSS-DR16', 'SDSS-DR16']\n",
    "| datasetgroup     | List of allowed values<br>from [SPARCL Categoricals](https://astrosparcl.datalab.noirlab.edu/sparc/cats/) | ['SDSS_BOSS']\n",
    "| ra               | Range of values (may not<br>\"wrap\" around RA=0) | [44.53, 47.96]\n",
    "| dec              | Range of values | [2.03, 7.76]\n",
    "| redshift         | Range of values | [0.5, 0.9]\n",
    "| redshift_err     | Range of values | [0.000225, 0.000516]\n",
    "| redshift_warning | List of values  | [0, 3, 5]\n",
    "| spectype         | List of allowed values<br>from [SPARCL Categoricals](https://astrosparcl.datalab.noirlab.edu/sparc/cats/) | ['GALAXY', 'STAR']\n",
    "| instrument       | List of allowed values<br>from [SPARCL Categoricals](https://astrosparcl.datalab.noirlab.edu/sparc/cats/) | ['SDSS', 'BOSS']\n",
    "| telescope        | List of allowed values<br>from [SPARCL Categoricals](https://astrosparcl.datalab.noirlab.edu/sparc/cats/) | ['sloan25m']\n",
    "| site             | List of allowed values<br>from [SPARCL Categoricals](https://astrosparcl.datalab.noirlab.edu/sparc/cats/) |  ['apo']\n",
    "| specprimary      | List of values (but typically<br>would only include 1 if<br>being used for data<br>discovery constraints) | [1]\n",
    "| wavemin          | Range of values | [3607, 3608]\n",
    "| wavemax          | Range of values | [10363, 10364]\n",
    "| dateobs_center   | Range of values | ['2013-03-14T10:16:17Z',<br>'2014-05-24T12:10:00Z']\n",
    "| exptime          | Range of values | [3603.46, 3810.12]\n",
    "| updated          | Range of values | ['2022-08-20T21:37:50.636363Z',<br>'2022-09-20T20:00:00.000000Z']\n"
   ]
  },
  {
   "cell_type": "code",
   "execution_count": 12,
   "id": "ff16fd4c-731e-4f03-8d5d-595278a9d61f",
   "metadata": {},
   "outputs": [
    {
     "data": {
      "text/plain": [
       "\u001b[0;31mSignature:\u001b[0m\n",
       "\u001b[0mclient\u001b[0m\u001b[0;34m.\u001b[0m\u001b[0mfind\u001b[0m\u001b[0;34m(\u001b[0m\u001b[0;34m\u001b[0m\n",
       "\u001b[0;34m\u001b[0m    \u001b[0moutfields\u001b[0m\u001b[0;34m=\u001b[0m\u001b[0;32mNone\u001b[0m\u001b[0;34m,\u001b[0m\u001b[0;34m\u001b[0m\n",
       "\u001b[0;34m\u001b[0m    \u001b[0;34m*\u001b[0m\u001b[0;34m,\u001b[0m\u001b[0;34m\u001b[0m\n",
       "\u001b[0;34m\u001b[0m    \u001b[0mconstraints\u001b[0m\u001b[0;34m=\u001b[0m\u001b[0;34m{\u001b[0m\u001b[0;34m}\u001b[0m\u001b[0;34m,\u001b[0m\u001b[0;34m\u001b[0m\n",
       "\u001b[0;34m\u001b[0m    \u001b[0mdataset_list\u001b[0m\u001b[0;34m=\u001b[0m\u001b[0;32mNone\u001b[0m\u001b[0;34m,\u001b[0m\u001b[0;34m\u001b[0m\n",
       "\u001b[0;34m\u001b[0m    \u001b[0mlimit\u001b[0m\u001b[0;34m=\u001b[0m\u001b[0;36m500\u001b[0m\u001b[0;34m,\u001b[0m\u001b[0;34m\u001b[0m\n",
       "\u001b[0;34m\u001b[0m    \u001b[0msort\u001b[0m\u001b[0;34m=\u001b[0m\u001b[0;32mNone\u001b[0m\u001b[0;34m,\u001b[0m\u001b[0;34m\u001b[0m\n",
       "\u001b[0;34m\u001b[0m\u001b[0;34m)\u001b[0m\u001b[0;34m\u001b[0m\u001b[0;34m\u001b[0m\u001b[0m\n",
       "\u001b[0;31mDocstring:\u001b[0m\n",
       "Find records in the SPARC database.\n",
       "\n",
       "Args:\n",
       "    outfields (:obj:`list`, optional): List of fields to return.\n",
       "        Only CORE fields may be passed to this parameter.\n",
       "        Defaults to None, which will return only the id and _dr\n",
       "        fields.\n",
       "\n",
       "    constraints (:obj:`dict`, optional): Key-Value pairs of\n",
       "        constraints to place on the record selection. The Key\n",
       "        part of the Key-Value pair is the field name and the\n",
       "        Value part of the Key-Value pair is a list of values.\n",
       "        Defaults to no constraints. This will return all records in the\n",
       "        database subject to restrictions imposed by the ``limit``\n",
       "        parameter.\n",
       "\n",
       "    dataset_list (:obj:`list`, optional): List of data sets from\n",
       "        which to find records. Defaults to None, which\n",
       "        will find records in all data sets hosted on the SPARC\n",
       "        database.\n",
       "\n",
       "    limit (:obj:`int`, optional): Maximum number of records to\n",
       "        return. Defaults to 500.\n",
       "\n",
       "    sort (:obj:`list`, optional): Comma separated list of fields\n",
       "        to sort by. Defaults to None. (no sorting)\n",
       "\n",
       "Returns:\n",
       "    :class:`~sparcl.Results.Found`: Contains header and records.\n",
       "\n",
       "Example:\n",
       "    >>> client = sparcl.client.SparclClient()\n",
       "    >>> outs = ['id', 'ra', 'dec']\n",
       "    >>> cons = {'spectype': ['GALAXY'], 'redshift': [0.5, 0.9]}\n",
       "    >>> found = client.find(outfields=outs, constraints=cons)\n",
       "    >>> found.records\n",
       "\u001b[0;31mFile:\u001b[0m      /data0/sw/anaconda3/lib/python3.8/site-packages/sparcl/client.py\n",
       "\u001b[0;31mType:\u001b[0m      method\n"
      ]
     },
     "metadata": {},
     "output_type": "display_data"
    }
   ],
   "source": [
    "client.find?"
   ]
  },
  {
   "cell_type": "markdown",
   "id": "c813edfc-479a-40ec-a00e-ed312055267c",
   "metadata": {},
   "source": [
    "#### Define the fields we want returned (`outfields`) and the constraints (`constraints`):"
   ]
  },
  {
   "cell_type": "code",
   "execution_count": 13,
   "id": "398fedc1-b73c-41ef-8583-ca01ee8cc404",
   "metadata": {},
   "outputs": [],
   "source": [
    "out = ['id', 'ra', 'dec', 'redshift', 'spectype', 'data_release', 'redshift_err']\n",
    "cons = {'spectype': ['GALAXY'],\n",
    "        'redshift': [0.5, 0.9],\n",
    "        'data_release': ['BOSS-DR16', 'SDSS-DR16']}"
   ]
  },
  {
   "cell_type": "markdown",
   "id": "5dc3f11f-9e6b-493b-a3f9-39be9b080b79",
   "metadata": {},
   "source": [
    "#### Execute the `client.find()` method with our parameters:\n",
    "The `limit` argument here is being used for demonstration purposes only, and simply returns only the first 20 results here."
   ]
  },
  {
   "cell_type": "code",
   "execution_count": 14,
   "id": "96e84ae0-05d6-4ede-b5d8-b71801a1c508",
   "metadata": {},
   "outputs": [
    {
     "data": {
      "text/plain": [
       "['00001658-460c-4da1-987d-e493d8c9b89b, 0.009449, 0.503123, 0.000225',\n",
       " '000017b6-56a2-4f87-8828-3a3409ba1083, 8.018870, 0.503726, 0.000157',\n",
       " '00001c20-b7ff-4367-af08-26432cd7e01d, 44.354315, 0.699445, 0.000062',\n",
       " '00001e25-8fd4-44c7-bc06-f22580d804bf, 0.980310, 0.583801, 0.000196',\n",
       " '000023ad-e2c6-44a5-8fa1-04c706ad3a4e, 181.336580, 0.591906, 0.000191',\n",
       " '00002da2-ae80-402b-931b-6e54c13bd2fe, 128.275420, 0.611070, 0.000124',\n",
       " '0000370b-438a-43ea-8c8f-f29f01638d1b, 146.565580, 0.704484, 0.000256',\n",
       " '0000379b-2c37-44ae-bf6e-0887576613fb, 118.650640, 0.546738, 0.000175',\n",
       " '00004c0d-bd18-47bc-ad26-a2c092a725ed, 328.622030, 0.644140, 0.000134',\n",
       " '00004c74-4860-4086-b722-fada0dc58cc1, 9.545104, 0.584890, 0.000145',\n",
       " '0000525b-0019-4de4-a7a3-fdd9ef3d926a, 225.224530, 0.517845, 0.000139',\n",
       " '00005a4c-02a4-4d28-8f20-b6a1a08f1f58, 352.204310, 0.835106, 0.000107',\n",
       " '000071b5-f860-40d8-9278-f863fecd18c6, 344.940240, 0.723531, 0.000221',\n",
       " '00007f1b-5d94-4d47-9bdc-cf1b05e6ef29, 166.029310, 0.537072, 0.000117',\n",
       " '0000a0fc-0ca6-4b93-a52f-0fbaa7e1d659, 218.946160, 0.716557, 0.000204',\n",
       " '0000a875-cf73-4500-a2d8-260a58889c23, 211.213840, 0.652672, 0.000194',\n",
       " '0000a8e9-0025-4412-a3cb-be51486f86e6, 13.772158, 0.788422, 0.000101',\n",
       " '0000b8d8-bc5a-4028-8890-3792ad952a5d, 330.095970, 0.614476, 0.000279',\n",
       " '0000b91f-cd46-4dc9-8e8a-2c445085913f, 118.322100, 0.691923, 0.000304',\n",
       " '0000bac4-a6e5-49e0-bbee-18efef7d2e88, 214.984620, 0.696937, 0.000182']"
      ]
     },
     "execution_count": 14,
     "metadata": {},
     "output_type": "execute_result"
    }
   ],
   "source": [
    "found_I = client.find(outfields=out, constraints=cons, limit=20)\n",
    "[\"%s, %f, %f, %f\" % (f['id'],f['ra'],f['redshift'],f['redshift_err']) for f in found_I.records]"
   ]
  },
  {
   "cell_type": "markdown",
   "id": "318188d0-4979-49fc-bcbf-15f5e6c68cc7",
   "metadata": {},
   "source": [
    "<a class=\"anchor\" id=\"datadiscoveryII\"></a>\n",
    "## Data discovery II: using Data Lab's `sparcl.main` table\n",
    "The second way you can discover your data is by querying the `sparcl.main` table hosted at Data Lab. This table contains the following columns:\n"
   ]
  },
  {
   "cell_type": "code",
   "execution_count": 15,
   "id": "7fd22d37-9d35-47f2-8c1d-57cab3a899e6",
   "metadata": {},
   "outputs": [
    {
     "name": "stdout",
     "output_type": "stream",
     "text": [
      "\n",
      "Schema: sparcl\n",
      " Table: main\n",
      "\n",
      "     Column Name   Description\n",
      "     -----------   -----------\n",
      "            elon   Ecliptic longitude\n",
      "            elat   Ecliptic latitude\n",
      "            glon   Galactic longitude\n",
      "            glat   Galactic latitude\n",
      "        redshift   Observed redshift, or radial velocity in units of redshift\n",
      "              ra   Right Ascension in degrees\n",
      "             dec   Declination in degrees\n",
      "         wavemin   Minimum value of wavelength coverage\n",
      "         wavemax   Maximum value of wavelength coverage\n",
      "    redshift_err   Uncertainty on the observed redshift, or radial velocity i\n",
      "                   n units of redshift\n",
      "        targetid   Dataset-specific photometric target identifier\n",
      "          specid   Dataset-specific spectrum identifier (may not be unique)\n",
      "         exptime   Exposure time in seconds\n",
      "       random_id   Random ID in the range 0 to 100 (decimal)\n",
      "            htm9   HTM Level-9 index\n",
      "         ring256   Healpix ID with nside 256, ring schema\n",
      "        nest4096   Healpix ID with nside 4096, nested schema\n",
      "redshift_warning   Bitmask with warning on redshift result\n",
      "     specprimary   Whether an entry is the primary spectrum for a given targe\n",
      "                   t object\n",
      "    datasetgroup   Human-readable common name for a coherent set of spectra t\n",
      "                   hat go together\n",
      "        spectype   Spectral type of the object (STAR, GALAXY, QSO)\n",
      "      instrument   Instrument used for observation\n",
      "              id   Universally Unique Identifier for spectrum in SPARCL\n",
      "       telescope   Telescope used for the observation\n",
      "            site   Site of observations\n",
      "    data_release   Data release of a given record\n",
      "  dateobs_center   Central value of the dateobs range\n",
      "\n"
     ]
    }
   ],
   "source": [
    "print(qc.schema('sparcl.main'))"
   ]
  },
  {
   "cell_type": "markdown",
   "id": "7eeca1eb-f910-4347-97bb-084c8b1c8d9c",
   "metadata": {},
   "source": [
    "#### Query this table for a few rows of data:"
   ]
  },
  {
   "cell_type": "code",
   "execution_count": 16,
   "id": "992affa0-ed13-4967-b4a1-183bf0e3dcea",
   "metadata": {},
   "outputs": [
    {
     "data": {
      "text/html": [
       "<div>\n",
       "<style scoped>\n",
       "    .dataframe tbody tr th:only-of-type {\n",
       "        vertical-align: middle;\n",
       "    }\n",
       "\n",
       "    .dataframe tbody tr th {\n",
       "        vertical-align: top;\n",
       "    }\n",
       "\n",
       "    .dataframe thead th {\n",
       "        text-align: right;\n",
       "    }\n",
       "</style>\n",
       "<table border=\"1\" class=\"dataframe\">\n",
       "  <thead>\n",
       "    <tr style=\"text-align: right;\">\n",
       "      <th></th>\n",
       "      <th>id</th>\n",
       "      <th>specid</th>\n",
       "      <th>ra</th>\n",
       "      <th>dec</th>\n",
       "      <th>redshift</th>\n",
       "      <th>spectype</th>\n",
       "      <th>data_release</th>\n",
       "      <th>redshift_err</th>\n",
       "    </tr>\n",
       "  </thead>\n",
       "  <tbody>\n",
       "    <tr>\n",
       "      <th>0</th>\n",
       "      <td>9bff0107-f9be-42dd-9479-c718025b1443</td>\n",
       "      <td>-5736439818379571200</td>\n",
       "      <td>351.665210</td>\n",
       "      <td>3.154200</td>\n",
       "      <td>0.512992</td>\n",
       "      <td>GALAXY</td>\n",
       "      <td>BOSS-DR16</td>\n",
       "      <td>0.000239</td>\n",
       "    </tr>\n",
       "    <tr>\n",
       "      <th>1</th>\n",
       "      <td>84fabf1b-652b-451f-8757-597da4c1180b</td>\n",
       "      <td>5818791282424958976</td>\n",
       "      <td>224.768790</td>\n",
       "      <td>38.435543</td>\n",
       "      <td>0.608794</td>\n",
       "      <td>GALAXY</td>\n",
       "      <td>BOSS-DR16</td>\n",
       "      <td>0.000276</td>\n",
       "    </tr>\n",
       "    <tr>\n",
       "      <th>2</th>\n",
       "      <td>fc20c42c-9d80-4b7b-ac5c-ebd58948882b</td>\n",
       "      <td>6015743776047517696</td>\n",
       "      <td>157.938930</td>\n",
       "      <td>11.984295</td>\n",
       "      <td>0.595894</td>\n",
       "      <td>GALAXY</td>\n",
       "      <td>BOSS-DR16</td>\n",
       "      <td>0.000165</td>\n",
       "    </tr>\n",
       "    <tr>\n",
       "      <th>3</th>\n",
       "      <td>c3be106d-66b2-4ef2-8f57-5c2d42dc9a94</td>\n",
       "      <td>5133139672286121984</td>\n",
       "      <td>156.597200</td>\n",
       "      <td>39.013379</td>\n",
       "      <td>0.646691</td>\n",
       "      <td>GALAXY</td>\n",
       "      <td>BOSS-DR16</td>\n",
       "      <td>0.000209</td>\n",
       "    </tr>\n",
       "    <tr>\n",
       "      <th>4</th>\n",
       "      <td>46dc2d5e-32cc-4cfb-a605-349d39b9d656</td>\n",
       "      <td>4159297544130940928</td>\n",
       "      <td>126.470000</td>\n",
       "      <td>50.181696</td>\n",
       "      <td>0.516091</td>\n",
       "      <td>GALAXY</td>\n",
       "      <td>BOSS-DR16</td>\n",
       "      <td>0.000086</td>\n",
       "    </tr>\n",
       "    <tr>\n",
       "      <th>5</th>\n",
       "      <td>2094dc77-9e8a-4be5-843c-12a9563142c7</td>\n",
       "      <td>5215344659925323776</td>\n",
       "      <td>158.288240</td>\n",
       "      <td>42.890378</td>\n",
       "      <td>0.570749</td>\n",
       "      <td>GALAXY</td>\n",
       "      <td>BOSS-DR16</td>\n",
       "      <td>0.000185</td>\n",
       "    </tr>\n",
       "    <tr>\n",
       "      <th>6</th>\n",
       "      <td>b3bcccf1-65ae-49a5-88ce-7dd7c42a7529</td>\n",
       "      <td>6112519765531840512</td>\n",
       "      <td>201.971590</td>\n",
       "      <td>7.492312</td>\n",
       "      <td>0.567813</td>\n",
       "      <td>GALAXY</td>\n",
       "      <td>BOSS-DR16</td>\n",
       "      <td>0.000175</td>\n",
       "    </tr>\n",
       "    <tr>\n",
       "      <th>7</th>\n",
       "      <td>c3fecd46-d150-4434-8740-2cf93a74f962</td>\n",
       "      <td>7080955323356565504</td>\n",
       "      <td>347.902890</td>\n",
       "      <td>28.737720</td>\n",
       "      <td>0.590521</td>\n",
       "      <td>GALAXY</td>\n",
       "      <td>BOSS-DR16</td>\n",
       "      <td>0.000152</td>\n",
       "    </tr>\n",
       "    <tr>\n",
       "      <th>8</th>\n",
       "      <td>b320ff22-acbb-41b4-8055-95d40fab11f7</td>\n",
       "      <td>6983090537231568896</td>\n",
       "      <td>11.989809</td>\n",
       "      <td>13.877064</td>\n",
       "      <td>0.506886</td>\n",
       "      <td>GALAXY</td>\n",
       "      <td>BOSS-DR16</td>\n",
       "      <td>0.000150</td>\n",
       "    </tr>\n",
       "    <tr>\n",
       "      <th>9</th>\n",
       "      <td>26a0b3ef-5481-4651-83ae-c79f434d22c8</td>\n",
       "      <td>4452009812457443328</td>\n",
       "      <td>231.515640</td>\n",
       "      <td>23.801918</td>\n",
       "      <td>0.531388</td>\n",
       "      <td>GALAXY</td>\n",
       "      <td>BOSS-DR16</td>\n",
       "      <td>0.000174</td>\n",
       "    </tr>\n",
       "    <tr>\n",
       "      <th>10</th>\n",
       "      <td>5d2343ca-c893-4a6d-8ded-a9710fa2175a</td>\n",
       "      <td>7847668968731201536</td>\n",
       "      <td>190.329880</td>\n",
       "      <td>63.057888</td>\n",
       "      <td>0.580290</td>\n",
       "      <td>GALAXY</td>\n",
       "      <td>BOSS-DR16</td>\n",
       "      <td>0.000188</td>\n",
       "    </tr>\n",
       "    <tr>\n",
       "      <th>11</th>\n",
       "      <td>b68d5505-4197-4586-a8ee-93ae62491802</td>\n",
       "      <td>4314489488565096448</td>\n",
       "      <td>157.415280</td>\n",
       "      <td>-0.200069</td>\n",
       "      <td>0.685722</td>\n",
       "      <td>GALAXY</td>\n",
       "      <td>BOSS-DR16</td>\n",
       "      <td>0.000115</td>\n",
       "    </tr>\n",
       "    <tr>\n",
       "      <th>12</th>\n",
       "      <td>7d44e60c-df25-4a8f-af61-78638d47d5e2</td>\n",
       "      <td>6797070209020874752</td>\n",
       "      <td>253.764660</td>\n",
       "      <td>40.835107</td>\n",
       "      <td>0.553343</td>\n",
       "      <td>GALAXY</td>\n",
       "      <td>BOSS-DR16</td>\n",
       "      <td>0.000142</td>\n",
       "    </tr>\n",
       "    <tr>\n",
       "      <th>13</th>\n",
       "      <td>52653e4c-a6fe-4382-ab6f-53ea51c0061e</td>\n",
       "      <td>-8071394059218563072</td>\n",
       "      <td>344.323990</td>\n",
       "      <td>-0.369052</td>\n",
       "      <td>0.772278</td>\n",
       "      <td>GALAXY</td>\n",
       "      <td>BOSS-DR16</td>\n",
       "      <td>0.000069</td>\n",
       "    </tr>\n",
       "    <tr>\n",
       "      <th>14</th>\n",
       "      <td>3a991304-15ac-4b65-826b-5b6c1f4a13ed</td>\n",
       "      <td>9074839968132911104</td>\n",
       "      <td>241.866860</td>\n",
       "      <td>48.006350</td>\n",
       "      <td>0.817342</td>\n",
       "      <td>GALAXY</td>\n",
       "      <td>BOSS-DR16</td>\n",
       "      <td>0.000158</td>\n",
       "    </tr>\n",
       "    <tr>\n",
       "      <th>15</th>\n",
       "      <td>37e0bf3b-1f7f-4216-8dde-5812c85ce0bf</td>\n",
       "      <td>8035733287883526144</td>\n",
       "      <td>355.249100</td>\n",
       "      <td>33.581010</td>\n",
       "      <td>0.516687</td>\n",
       "      <td>GALAXY</td>\n",
       "      <td>BOSS-DR16</td>\n",
       "      <td>0.000155</td>\n",
       "    </tr>\n",
       "    <tr>\n",
       "      <th>16</th>\n",
       "      <td>42abb1df-0cb5-4ebc-bc5b-cbb51079f364</td>\n",
       "      <td>6133920660425297920</td>\n",
       "      <td>210.733530</td>\n",
       "      <td>12.856677</td>\n",
       "      <td>0.697345</td>\n",
       "      <td>GALAXY</td>\n",
       "      <td>BOSS-DR16</td>\n",
       "      <td>0.000171</td>\n",
       "    </tr>\n",
       "    <tr>\n",
       "      <th>17</th>\n",
       "      <td>463d1682-aa84-4728-89af-a60eff0f0632</td>\n",
       "      <td>7561548004915957760</td>\n",
       "      <td>241.840350</td>\n",
       "      <td>51.080564</td>\n",
       "      <td>0.680701</td>\n",
       "      <td>GALAXY</td>\n",
       "      <td>BOSS-DR16</td>\n",
       "      <td>0.000155</td>\n",
       "    </tr>\n",
       "    <tr>\n",
       "      <th>18</th>\n",
       "      <td>bbaeef86-e79c-4056-9be4-bf9dd5ef0f39</td>\n",
       "      <td>5321026695071027200</td>\n",
       "      <td>238.065700</td>\n",
       "      <td>27.872307</td>\n",
       "      <td>0.566494</td>\n",
       "      <td>GALAXY</td>\n",
       "      <td>BOSS-DR16</td>\n",
       "      <td>0.000190</td>\n",
       "    </tr>\n",
       "    <tr>\n",
       "      <th>19</th>\n",
       "      <td>3104a3b8-cd63-4a74-b88f-6b6b75683789</td>\n",
       "      <td>6021497794921254912</td>\n",
       "      <td>159.526280</td>\n",
       "      <td>13.128766</td>\n",
       "      <td>0.608808</td>\n",
       "      <td>GALAXY</td>\n",
       "      <td>BOSS-DR16</td>\n",
       "      <td>0.000228</td>\n",
       "    </tr>\n",
       "  </tbody>\n",
       "</table>\n",
       "</div>"
      ],
      "text/plain": [
       "                                      id               specid          ra  \\\n",
       "0   9bff0107-f9be-42dd-9479-c718025b1443 -5736439818379571200  351.665210   \n",
       "1   84fabf1b-652b-451f-8757-597da4c1180b  5818791282424958976  224.768790   \n",
       "2   fc20c42c-9d80-4b7b-ac5c-ebd58948882b  6015743776047517696  157.938930   \n",
       "3   c3be106d-66b2-4ef2-8f57-5c2d42dc9a94  5133139672286121984  156.597200   \n",
       "4   46dc2d5e-32cc-4cfb-a605-349d39b9d656  4159297544130940928  126.470000   \n",
       "5   2094dc77-9e8a-4be5-843c-12a9563142c7  5215344659925323776  158.288240   \n",
       "6   b3bcccf1-65ae-49a5-88ce-7dd7c42a7529  6112519765531840512  201.971590   \n",
       "7   c3fecd46-d150-4434-8740-2cf93a74f962  7080955323356565504  347.902890   \n",
       "8   b320ff22-acbb-41b4-8055-95d40fab11f7  6983090537231568896   11.989809   \n",
       "9   26a0b3ef-5481-4651-83ae-c79f434d22c8  4452009812457443328  231.515640   \n",
       "10  5d2343ca-c893-4a6d-8ded-a9710fa2175a  7847668968731201536  190.329880   \n",
       "11  b68d5505-4197-4586-a8ee-93ae62491802  4314489488565096448  157.415280   \n",
       "12  7d44e60c-df25-4a8f-af61-78638d47d5e2  6797070209020874752  253.764660   \n",
       "13  52653e4c-a6fe-4382-ab6f-53ea51c0061e -8071394059218563072  344.323990   \n",
       "14  3a991304-15ac-4b65-826b-5b6c1f4a13ed  9074839968132911104  241.866860   \n",
       "15  37e0bf3b-1f7f-4216-8dde-5812c85ce0bf  8035733287883526144  355.249100   \n",
       "16  42abb1df-0cb5-4ebc-bc5b-cbb51079f364  6133920660425297920  210.733530   \n",
       "17  463d1682-aa84-4728-89af-a60eff0f0632  7561548004915957760  241.840350   \n",
       "18  bbaeef86-e79c-4056-9be4-bf9dd5ef0f39  5321026695071027200  238.065700   \n",
       "19  3104a3b8-cd63-4a74-b88f-6b6b75683789  6021497794921254912  159.526280   \n",
       "\n",
       "          dec  redshift spectype data_release  redshift_err  \n",
       "0    3.154200  0.512992   GALAXY    BOSS-DR16      0.000239  \n",
       "1   38.435543  0.608794   GALAXY    BOSS-DR16      0.000276  \n",
       "2   11.984295  0.595894   GALAXY    BOSS-DR16      0.000165  \n",
       "3   39.013379  0.646691   GALAXY    BOSS-DR16      0.000209  \n",
       "4   50.181696  0.516091   GALAXY    BOSS-DR16      0.000086  \n",
       "5   42.890378  0.570749   GALAXY    BOSS-DR16      0.000185  \n",
       "6    7.492312  0.567813   GALAXY    BOSS-DR16      0.000175  \n",
       "7   28.737720  0.590521   GALAXY    BOSS-DR16      0.000152  \n",
       "8   13.877064  0.506886   GALAXY    BOSS-DR16      0.000150  \n",
       "9   23.801918  0.531388   GALAXY    BOSS-DR16      0.000174  \n",
       "10  63.057888  0.580290   GALAXY    BOSS-DR16      0.000188  \n",
       "11  -0.200069  0.685722   GALAXY    BOSS-DR16      0.000115  \n",
       "12  40.835107  0.553343   GALAXY    BOSS-DR16      0.000142  \n",
       "13  -0.369052  0.772278   GALAXY    BOSS-DR16      0.000069  \n",
       "14  48.006350  0.817342   GALAXY    BOSS-DR16      0.000158  \n",
       "15  33.581010  0.516687   GALAXY    BOSS-DR16      0.000155  \n",
       "16  12.856677  0.697345   GALAXY    BOSS-DR16      0.000171  \n",
       "17  51.080564  0.680701   GALAXY    BOSS-DR16      0.000155  \n",
       "18  27.872307  0.566494   GALAXY    BOSS-DR16      0.000190  \n",
       "19  13.128766  0.608808   GALAXY    BOSS-DR16      0.000228  "
      ]
     },
     "execution_count": 16,
     "metadata": {},
     "output_type": "execute_result"
    }
   ],
   "source": [
    "q = \"\"\"SELECT \n",
    "            id, specid, ra, dec, redshift, spectype, data_release, redshift_err\n",
    "        FROM \n",
    "            sparcl.main\n",
    "        WHERE \n",
    "            spectype='GALAXY'\n",
    "            AND redshift>=0.5 AND redshift<=0.9\n",
    "            AND (data_release='BOSS-DR16' OR data_release='SDSS-DR16')\n",
    "            AND random_id BETWEEN 15.1 AND 15.4\n",
    "        LIMIT 20\n",
    "    \"\"\"\n",
    "found_II = qc.query(sql=q, fmt='pandas')  # output as Pandas DataFrame\n",
    "found_II"
   ]
  },
  {
   "cell_type": "markdown",
   "id": "bef1ccc0-4cf3-4fa7-9a50-cf353bb1015d",
   "metadata": {},
   "source": [
    "<a class=\"anchor\" id=\"retrieve\"></a>\n",
    "## Retrieve records by `id` using `client.retrieve()`\n",
    "In order to retrieve spectra records from SPARCL by `id`, pass the following to the `client.retrieve()` method:\n",
    "```\n",
    "uuid_list : List of IDs.\n",
    "dataset_list : List of data sets to search for the IDs in (default: None).\n",
    "include : List of field names to include in each record (default: 'DEFAULT').\n",
    "```\n",
    "\n",
    "**NOTE: A reasonable amount of records to request retrieval of is about 10,000. Exceeding this value may cause the retrieval to timeout or fail.**"
   ]
  },
  {
   "cell_type": "code",
   "execution_count": 17,
   "id": "793050a3-bf05-400d-97e1-7807954525b6",
   "metadata": {},
   "outputs": [
    {
     "data": {
      "text/plain": [
       "\u001b[0;31mSignature:\u001b[0m\n",
       "\u001b[0mclient\u001b[0m\u001b[0;34m.\u001b[0m\u001b[0mretrieve\u001b[0m\u001b[0;34m(\u001b[0m\u001b[0;34m\u001b[0m\n",
       "\u001b[0;34m\u001b[0m    \u001b[0muuid_list\u001b[0m\u001b[0;34m,\u001b[0m\u001b[0;34m\u001b[0m\n",
       "\u001b[0;34m\u001b[0m    \u001b[0;34m*\u001b[0m\u001b[0;34m,\u001b[0m\u001b[0;34m\u001b[0m\n",
       "\u001b[0;34m\u001b[0m    \u001b[0msvc\u001b[0m\u001b[0;34m=\u001b[0m\u001b[0;34m'spectras'\u001b[0m\u001b[0;34m,\u001b[0m\u001b[0;34m\u001b[0m\n",
       "\u001b[0;34m\u001b[0m    \u001b[0mformat\u001b[0m\u001b[0;34m=\u001b[0m\u001b[0;34m'pkl'\u001b[0m\u001b[0;34m,\u001b[0m\u001b[0;34m\u001b[0m\n",
       "\u001b[0;34m\u001b[0m    \u001b[0minclude\u001b[0m\u001b[0;34m=\u001b[0m\u001b[0;34m'DEFAULT'\u001b[0m\u001b[0;34m,\u001b[0m\u001b[0;34m\u001b[0m\n",
       "\u001b[0;34m\u001b[0m    \u001b[0mdataset_list\u001b[0m\u001b[0;34m=\u001b[0m\u001b[0;32mNone\u001b[0m\u001b[0;34m,\u001b[0m\u001b[0;34m\u001b[0m\n",
       "\u001b[0;34m\u001b[0m    \u001b[0mlimit\u001b[0m\u001b[0;34m=\u001b[0m\u001b[0;36m500\u001b[0m\u001b[0;34m,\u001b[0m\u001b[0;34m\u001b[0m\n",
       "\u001b[0;34m\u001b[0m    \u001b[0mchunk\u001b[0m\u001b[0;34m=\u001b[0m\u001b[0;36m500\u001b[0m\u001b[0;34m,\u001b[0m\u001b[0;34m\u001b[0m\n",
       "\u001b[0;34m\u001b[0m    \u001b[0mverbose\u001b[0m\u001b[0;34m=\u001b[0m\u001b[0;32mNone\u001b[0m\u001b[0;34m,\u001b[0m\u001b[0;34m\u001b[0m\n",
       "\u001b[0;34m\u001b[0m\u001b[0;34m)\u001b[0m\u001b[0;34m\u001b[0m\u001b[0;34m\u001b[0m\u001b[0m\n",
       "\u001b[0;31mDocstring:\u001b[0m\n",
       "Retrieve spectra records from the SPARC database by list of ids.\n",
       "\n",
       "Args:\n",
       "    uuid_list (:obj:`list`): List of ids.\n",
       "\n",
       "    svc (:obj:`str`, optional): Defaults to 'spectras'.\n",
       "\n",
       "    format (:obj:`str`, optional): Defaults to 'pkl'.\n",
       "\n",
       "    include (:obj:`list`, optional): List of field names to include\n",
       "        in each record. Defaults to 'DEFAULT', which will return\n",
       "        the fields tagged as 'default'.\n",
       "\n",
       "    dataset_list (:obj:`list`, optional): List of data sets from\n",
       "        which to retrieve spectra data. Defaults to None, meaning all\n",
       "        data sets hosted on the SPARC database.\n",
       "\n",
       "    limit (:obj:`int`, optional): Maximum number of records to\n",
       "        return. Defaults to 500.\n",
       "\n",
       "    chunk (:obj:`int`, optional): Size of chunks to break list into.\n",
       "        Defaults to 500.\n",
       "\n",
       "    verbose (:obj:`bool`, optional): Set to True for in-depth return\n",
       "        statement. Defaults to False.\n",
       "\n",
       "Returns:\n",
       "    :class:`~sparcl.Results.Retrieved`: Contains header and records.\n",
       "\n",
       "Example:\n",
       "    >>> client = sparcl.client.SparclClient()\n",
       "    >>> ids = ['000017b6-56a2-4f87-8828-3a3409ba1083',]\n",
       "    >>> inc = ['id', 'flux', 'wavelength', 'model']\n",
       "    >>> ret = client.retrieve(uuid_list=ids, include=inc)\n",
       "    >>> ret.records\n",
       "\u001b[0;31mFile:\u001b[0m      /data0/sw/anaconda3/lib/python3.8/site-packages/sparcl/client.py\n",
       "\u001b[0;31mType:\u001b[0m      method\n"
      ]
     },
     "metadata": {},
     "output_type": "display_data"
    }
   ],
   "source": [
    "client.retrieve?"
   ]
  },
  {
   "cell_type": "markdown",
   "id": "0cd018ff-a3da-4be1-820a-130915c9f408",
   "metadata": {},
   "source": [
    "#### Use the IDs from the output of using `client.find()` to retrieve records from SPARCL:\n",
    "Note that `ids` in `found_I.ids` is a property name of the Found class. It is a list of records from all records, not a field name of a record."
   ]
  },
  {
   "cell_type": "code",
   "execution_count": 18,
   "id": "3e775ec7-cfb1-4900-aba1-7aac24ff62ed",
   "metadata": {},
   "outputs": [],
   "source": [
    "# Define the fields to include in the retrieve function\n",
    "inc = ['id', 'specid', 'data_release', 'redshift', 'flux', 'wavelength', 'model', 'ivar', 'mask', 'spectype']"
   ]
  },
  {
   "cell_type": "code",
   "execution_count": 19,
   "id": "da84bdd5-36b8-4a71-be4e-d035ca745a27",
   "metadata": {},
   "outputs": [
    {
     "name": "stdout",
     "output_type": "stream",
     "text": [
      "CPU times: user 44.4 ms, sys: 16.7 ms, total: 61.2 ms\n",
      "Wall time: 967 ms\n"
     ]
    },
    {
     "data": {
      "text/plain": [
       "{'status': {'success': True,\n",
       "  'info': [\"Successfully found 20 records in dr_list=['SDSS-DR16', 'BOSS-DR16']\"],\n",
       "  'warnings': []},\n",
       " 'Count': 20}"
      ]
     },
     "execution_count": 19,
     "metadata": {},
     "output_type": "execute_result"
    }
   ],
   "source": [
    "%%time\n",
    "ids_I = found_I.ids\n",
    "results_I = client.retrieve(uuid_list=ids_I,\n",
    "                          include=inc,\n",
    "                          dataset_list=['SDSS-DR16','BOSS-DR16'])\n",
    "results_I.info"
   ]
  },
  {
   "cell_type": "markdown",
   "id": "97d36bdc-90d7-4a6a-a203-5552d50e46f4",
   "metadata": {},
   "source": [
    "<a class=\"anchor\" id=\"retrieve_specid\"></a>\n",
    "## Retrieve records by `specid` using `client.retrieve_by_specid()`\n",
    "In order to retrieve spectra records from SPARCL by `specid`, pass the following to the `client.retrieve_by_specid()` method:\n",
    "```\n",
    "specid_list : List of specIDs.\n",
    "dataset_list : List of data sets to search for the specIDs in (default: None).\n",
    "include : List of field names to include in each record (default: 'DEFAULT').\n",
    "```\n",
    "\n",
    "**NOTE: A reasonable amount of records to request retrieval of is about 10,000. Exceeding this value may cause the retrieval to timeout or fail.**"
   ]
  },
  {
   "cell_type": "code",
   "execution_count": 20,
   "id": "ee823358-fe90-4100-b9f5-f9d4296993e8",
   "metadata": {},
   "outputs": [
    {
     "data": {
      "text/plain": [
       "\u001b[0;31mSignature:\u001b[0m\n",
       "\u001b[0mclient\u001b[0m\u001b[0;34m.\u001b[0m\u001b[0mretrieve_by_specid\u001b[0m\u001b[0;34m(\u001b[0m\u001b[0;34m\u001b[0m\n",
       "\u001b[0;34m\u001b[0m    \u001b[0mspecid_list\u001b[0m\u001b[0;34m,\u001b[0m\u001b[0;34m\u001b[0m\n",
       "\u001b[0;34m\u001b[0m    \u001b[0;34m*\u001b[0m\u001b[0;34m,\u001b[0m\u001b[0;34m\u001b[0m\n",
       "\u001b[0;34m\u001b[0m    \u001b[0minclude\u001b[0m\u001b[0;34m=\u001b[0m\u001b[0;34m'DEFAULT'\u001b[0m\u001b[0;34m,\u001b[0m\u001b[0;34m\u001b[0m\n",
       "\u001b[0;34m\u001b[0m    \u001b[0mdataset_list\u001b[0m\u001b[0;34m=\u001b[0m\u001b[0;32mNone\u001b[0m\u001b[0;34m,\u001b[0m\u001b[0;34m\u001b[0m\n",
       "\u001b[0;34m\u001b[0m    \u001b[0mverbose\u001b[0m\u001b[0;34m=\u001b[0m\u001b[0;32mFalse\u001b[0m\u001b[0;34m,\u001b[0m\u001b[0;34m\u001b[0m\n",
       "\u001b[0;34m\u001b[0m\u001b[0;34m)\u001b[0m\u001b[0;34m\u001b[0m\u001b[0;34m\u001b[0m\u001b[0m\n",
       "\u001b[0;31mDocstring:\u001b[0m\n",
       "Retrieve spectra records from the SPARC database by list of specids.\n",
       "\n",
       "Args:\n",
       "    specid_list (:obj:`list`): List of specids.\n",
       "\n",
       "    include (:obj:`list`, optional): List of field names to include\n",
       "        in each record. Defaults to 'DEFAULT', which will return\n",
       "        the fields tagged as 'default'.\n",
       "\n",
       "    dataset_list (:obj:`list`, optional): List of data sets from\n",
       "        which to retrieve spectra data. Defaults to None, meaning all\n",
       "        data sets hosted on the SPARC database.\n",
       "\n",
       "    verbose (:obj:`bool`, optional): Set to True for in-depth return\n",
       "        statement. Defaults to False.\n",
       "\n",
       "Returns:\n",
       "    :class:`~sparcl.Results.Retrieved`: Contains header and records.\n",
       "\n",
       "Example:\n",
       "    >>> client = sparcl.client.SparclClient()\n",
       "    >>> sids = [5840097619402313728, -8985592895187431424]\n",
       "    >>> inc = ['specid', 'flux', 'wavelength', 'model']\n",
       "    >>> ret = client.retrieve_by_specid(specid_list=sids, include=inc)\n",
       "    >>> ret.records\n",
       "\u001b[0;31mFile:\u001b[0m      /data0/sw/anaconda3/lib/python3.8/site-packages/sparcl/client.py\n",
       "\u001b[0;31mType:\u001b[0m      method\n"
      ]
     },
     "metadata": {},
     "output_type": "display_data"
    }
   ],
   "source": [
    "client.retrieve_by_specid?"
   ]
  },
  {
   "cell_type": "markdown",
   "id": "91aabcc3-9a50-444a-a9fc-91283c8f1c61",
   "metadata": {},
   "source": [
    "#### Use the specIDs from the `sparcl.main` table to retrieve records from SPARCL:\n",
    "We first need to convert the Pandas Series of specIDs into an int list to work with SPARCL. Then we can pass the int list to the `client.retrieve_by_specid()` method."
   ]
  },
  {
   "cell_type": "code",
   "execution_count": 21,
   "id": "7bd448ba-8342-45b4-8979-583109444c3e",
   "metadata": {},
   "outputs": [],
   "source": [
    "specids = [int(s) for s in found_II['specid']]"
   ]
  },
  {
   "cell_type": "code",
   "execution_count": 22,
   "id": "455cbcde-67e9-4d91-91ae-73705020b689",
   "metadata": {},
   "outputs": [
    {
     "name": "stdout",
     "output_type": "stream",
     "text": [
      "CPU times: user 69.8 ms, sys: 13.5 ms, total: 83.3 ms\n",
      "Wall time: 1.05 s\n"
     ]
    },
    {
     "data": {
      "text/plain": [
       "{'status': {'success': True,\n",
       "  'info': [\"Successfully found 20 records in dr_list=['SDSS-DR16', 'BOSS-DR16']\"],\n",
       "  'warnings': []},\n",
       " 'Count': 20}"
      ]
     },
     "execution_count": 22,
     "metadata": {},
     "output_type": "execute_result"
    }
   ],
   "source": [
    "%%time\n",
    "results_II = client.retrieve_by_specid(specid_list=specids,\n",
    "                          include=inc,\n",
    "                          dataset_list=['SDSS-DR16','BOSS-DR16'])\n",
    "results_II.info"
   ]
  },
  {
   "cell_type": "markdown",
   "id": "195b56ce-f3ff-486d-90de-2c92fd384038",
   "metadata": {},
   "source": [
    "<a class=\"anchor\" id=\"join\"></a>\n",
    "## Join between IDs and spectrum records\n",
    "The ordering of the results of `client.retrieve()` and `client.retrieve_by_specid()` are not necessarily sorted to match the order of the ids in the argument passed to the method. The following code shows one way to join between input IDs and output records. Joining in this way additionally allows for the possibility of missing records and duplicates, although those should not occur if the argument to `client.find()` is a list of valid universally unique SPARCL IDs."
   ]
  },
  {
   "cell_type": "code",
   "execution_count": 23,
   "id": "93e09e4a-96bc-4b9d-a684-c8b27bd17fa0",
   "metadata": {},
   "outputs": [],
   "source": [
    "ids_II = found_II['id']"
   ]
  },
  {
   "cell_type": "code",
   "execution_count": 24,
   "id": "a29c7965",
   "metadata": {},
   "outputs": [
    {
     "data": {
      "text/plain": [
       "[array([12]),\n",
       " array([11]),\n",
       " array([19]),\n",
       " array([17]),\n",
       " array([7]),\n",
       " array([0]),\n",
       " array([14]),\n",
       " array([18]),\n",
       " array([13]),\n",
       " array([1]),\n",
       " array([9]),\n",
       " array([15]),\n",
       " array([10]),\n",
       " array([8]),\n",
       " array([4]),\n",
       " array([3]),\n",
       " array([5]),\n",
       " array([6]),\n",
       " array([16]),\n",
       " array([2])]"
      ]
     },
     "execution_count": 24,
     "metadata": {},
     "output_type": "execute_result"
    }
   ],
   "source": [
    "spec_ids_I = np.asarray([this_rec.id for this_rec in results_I.records])\n",
    "spec_ids_II = np.asarray([this_rec.id for this_rec in results_II.records])\n",
    "spec_match_I = [np.where(spec_ids_I == this_id)[0] for this_id in ids_I]\n",
    "spec_match_II = [np.where(spec_ids_II == this_id)[0] for this_id in ids_II]\n",
    "spec_match_II"
   ]
  },
  {
   "cell_type": "markdown",
   "id": "ae67a4a7-30e5-4127-be7b-01870d07b829",
   "metadata": {},
   "source": [
    "<a class=\"anchor\" id=\"access\"></a>\n",
    "## Access fields in records\n",
    "You can access the fields from records by using dot notation and dictionary indexing."
   ]
  },
  {
   "cell_type": "markdown",
   "id": "f63b8ab8-d5b3-4140-9ffb-5babd0232ce6",
   "metadata": {},
   "source": [
    "#### Accessing a record from our example using `client.find()` and `client.retrieve()`:"
   ]
  },
  {
   "cell_type": "code",
   "execution_count": 25,
   "id": "ef4dc96a-b13d-4679-8a7f-c8461969d0be",
   "metadata": {},
   "outputs": [],
   "source": [
    "records_I = results_I.records[0]\n",
    "\n",
    "id_I = records_I.id\n",
    "data_release_I = records_I.data_release\n",
    "redshift_I = records_I.redshift\n",
    "flux_I = records_I.flux\n",
    "wavelength_I = records_I.wavelength\n",
    "model_I = records_I.model\n",
    "ivar_I = records_I.ivar\n",
    "mask_I = records_I.mask\n",
    "spectype_I = records_I.spectype"
   ]
  },
  {
   "cell_type": "markdown",
   "id": "88f6ce99-ee90-425f-92e5-94a2fcad9d58",
   "metadata": {},
   "source": [
    "<a class=\"anchor\" id=\"convert\"></a>\n",
    "## Convert retrieved output to Pandas DataFrame or Spectrum1D object"
   ]
  },
  {
   "cell_type": "markdown",
   "id": "76361815-ea8a-4bc5-9ed0-d1fdd1b20482",
   "metadata": {},
   "source": [
    "#### Pandas DataFrame:"
   ]
  },
  {
   "cell_type": "code",
   "execution_count": 26,
   "id": "6b132668-8b93-470b-aa9a-8c68db5fad61",
   "metadata": {},
   "outputs": [
    {
     "data": {
      "text/html": [
       "<div>\n",
       "<style scoped>\n",
       "    .dataframe tbody tr th:only-of-type {\n",
       "        vertical-align: middle;\n",
       "    }\n",
       "\n",
       "    .dataframe tbody tr th {\n",
       "        vertical-align: top;\n",
       "    }\n",
       "\n",
       "    .dataframe thead th {\n",
       "        text-align: right;\n",
       "    }\n",
       "</style>\n",
       "<table border=\"1\" class=\"dataframe\">\n",
       "  <thead>\n",
       "    <tr style=\"text-align: right;\">\n",
       "      <th></th>\n",
       "      <th>id</th>\n",
       "      <th>redshift</th>\n",
       "      <th>wavelength</th>\n",
       "      <th>flux</th>\n",
       "    </tr>\n",
       "  </thead>\n",
       "  <tbody>\n",
       "    <tr>\n",
       "      <th>0</th>\n",
       "      <td>00001658-460c-4da1-987d-e493d8c9b89b</td>\n",
       "      <td>0.503123</td>\n",
       "      <td>[3562.8701940455303, 3563.690669682364, 3564.5...</td>\n",
       "      <td>[8.689275741577148, 8.68837833404541, 8.687484...</td>\n",
       "    </tr>\n",
       "    <tr>\n",
       "      <th>1</th>\n",
       "      <td>000017b6-56a2-4f87-8828-3a3409ba1083</td>\n",
       "      <td>0.503726</td>\n",
       "      <td>[3558.7706484879304, 3559.59018006083, 3560.40...</td>\n",
       "      <td>[1.6824426651000977, 1.6827354431152344, 1.683...</td>\n",
       "    </tr>\n",
       "    <tr>\n",
       "      <th>2</th>\n",
       "      <td>00001c20-b7ff-4367-af08-26432cd7e01d</td>\n",
       "      <td>0.699445</td>\n",
       "      <td>[3588.3929932948636, 3589.2193464500533, 3590....</td>\n",
       "      <td>[0.4288151264190674, 0.4288486838340759, 0.428...</td>\n",
       "    </tr>\n",
       "    <tr>\n",
       "      <th>3</th>\n",
       "      <td>00001e25-8fd4-44c7-bc06-f22580d804bf</td>\n",
       "      <td>0.583801</td>\n",
       "      <td>[3565.3321878292813, 3566.1532304264047, 3566....</td>\n",
       "      <td>[0.37539613246917725, 0.3754310607910156, 0.37...</td>\n",
       "    </tr>\n",
       "    <tr>\n",
       "      <th>4</th>\n",
       "      <td>000023ad-e2c6-44a5-8fa1-04c706ad3a4e</td>\n",
       "      <td>0.591906</td>\n",
       "      <td>[3568.617492834813, 3569.439291988468, 3570.26...</td>\n",
       "      <td>[-6.821995258331299, -6.822403907775879, -1.99...</td>\n",
       "    </tr>\n",
       "    <tr>\n",
       "      <th>5</th>\n",
       "      <td>00002da2-ae80-402b-931b-6e54c13bd2fe</td>\n",
       "      <td>0.611070</td>\n",
       "      <td>[3564.5113342624427, 3565.332187829285, 3566.1...</td>\n",
       "      <td>[-4.554078578948975, -4.553183555603027, -4.55...</td>\n",
       "    </tr>\n",
       "    <tr>\n",
       "      <th>6</th>\n",
       "      <td>0000370b-438a-43ea-8c8f-f29f01638d1b</td>\n",
       "      <td>0.704484</td>\n",
       "      <td>[3595.837026057048, 3596.665093461478, 3597.49...</td>\n",
       "      <td>[2.846282482147217, 2.845716953277588, 2.84515...</td>\n",
       "    </tr>\n",
       "    <tr>\n",
       "      <th>7</th>\n",
       "      <td>0000379b-2c37-44ae-bf6e-0887576613fb</td>\n",
       "      <td>0.546738</td>\n",
       "      <td>[3566.9744620973356, 3567.795882885623, 3568.6...</td>\n",
       "      <td>[-2.234649658203125, -2.2346246242523193, -4.7...</td>\n",
       "    </tr>\n",
       "    <tr>\n",
       "      <th>8</th>\n",
       "      <td>00004c0d-bd18-47bc-ad26-a2c092a725ed</td>\n",
       "      <td>0.644140</td>\n",
       "      <td>[3564.5113342624427, 3565.332187829285, 3566.1...</td>\n",
       "      <td>[14.708840370178223, -12.29818058013916, -0.60...</td>\n",
       "    </tr>\n",
       "    <tr>\n",
       "      <th>9</th>\n",
       "      <td>00004c74-4860-4086-b722-fada0dc58cc1</td>\n",
       "      <td>0.584890</td>\n",
       "      <td>[3565.3321878292813, 3566.1532304264047, 3566....</td>\n",
       "      <td>[9.175976753234863, -7.3280744552612305, -4.14...</td>\n",
       "    </tr>\n",
       "    <tr>\n",
       "      <th>10</th>\n",
       "      <td>0000525b-0019-4de4-a7a3-fdd9ef3d926a</td>\n",
       "      <td>0.517845</td>\n",
       "      <td>[3564.5113342624427, 3565.332187829285, 3566.1...</td>\n",
       "      <td>[-2.8849363327026367, -2.8855273723602295, -2....</td>\n",
       "    </tr>\n",
       "    <tr>\n",
       "      <th>11</th>\n",
       "      <td>00005a4c-02a4-4d28-8f20-b6a1a08f1f58</td>\n",
       "      <td>0.835106</td>\n",
       "      <td>[3576.0205018090237, 3576.844005764754, 3577.6...</td>\n",
       "      <td>[7.454610347747803, 7.455092906951904, 7.45557...</td>\n",
       "    </tr>\n",
       "    <tr>\n",
       "      <th>12</th>\n",
       "      <td>000071b5-f860-40d8-9278-f863fecd18c6</td>\n",
       "      <td>0.723531</td>\n",
       "      <td>[3570.2612803901543, 3571.0834580834608, 3571....</td>\n",
       "      <td>[12.058002471923828, 12.054082870483398, 13.79...</td>\n",
       "    </tr>\n",
       "    <tr>\n",
       "      <th>13</th>\n",
       "      <td>00007f1b-5d94-4d47-9bdc-cf1b05e6ef29</td>\n",
       "      <td>0.537072</td>\n",
       "      <td>[3561.2298094276216, 3562.049907308449, 3562.8...</td>\n",
       "      <td>[-4.006366729736328, -4.006986618041992, -1.38...</td>\n",
       "    </tr>\n",
       "    <tr>\n",
       "      <th>14</th>\n",
       "      <td>0000a0fc-0ca6-4b93-a52f-0fbaa7e1d659</td>\n",
       "      <td>0.716557</td>\n",
       "      <td>[3598.321800388802, 3599.15043999954, 3599.979...</td>\n",
       "      <td>[4.705215930938721, 12.850137710571289, -6.271...</td>\n",
       "    </tr>\n",
       "    <tr>\n",
       "      <th>15</th>\n",
       "      <td>0000a875-cf73-4500-a2d8-260a58889c23</td>\n",
       "      <td>0.652672</td>\n",
       "      <td>[3560.4099003595707, 3561.2298094276216, 3562....</td>\n",
       "      <td>[2.115645170211792, -5.098011493682861, -9.232...</td>\n",
       "    </tr>\n",
       "    <tr>\n",
       "      <th>16</th>\n",
       "      <td>0000a8e9-0025-4412-a3cb-be51486f86e6</td>\n",
       "      <td>0.788422</td>\n",
       "      <td>[3588.3929932948636, 3589.2193464500533, 3590....</td>\n",
       "      <td>[3.7463250160217285, 3.75006103515625, 3.75379...</td>\n",
       "    </tr>\n",
       "    <tr>\n",
       "      <th>17</th>\n",
       "      <td>0000b8d8-bc5a-4028-8890-3792ad952a5d</td>\n",
       "      <td>0.614476</td>\n",
       "      <td>[3562.8701940455303, 3563.690669682364, 3564.5...</td>\n",
       "      <td>[-2.771282196044922, 12.807941436767578, 4.994...</td>\n",
       "    </tr>\n",
       "    <tr>\n",
       "      <th>18</th>\n",
       "      <td>0000b91f-cd46-4dc9-8e8a-2c445085913f</td>\n",
       "      <td>0.691923</td>\n",
       "      <td>[3572.7283815192886, 3573.5511273490297, 3574....</td>\n",
       "      <td>[1.306275486946106, 1.3062092065811157, 1.3061...</td>\n",
       "    </tr>\n",
       "    <tr>\n",
       "      <th>19</th>\n",
       "      <td>0000bac4-a6e5-49e0-bbee-18efef7d2e88</td>\n",
       "      <td>0.696937</td>\n",
       "      <td>[3564.5113342624427, 3565.332187829285, 3566.1...</td>\n",
       "      <td>[-3.6648006439208984, -3.665635347366333, -2.1...</td>\n",
       "    </tr>\n",
       "  </tbody>\n",
       "</table>\n",
       "</div>"
      ],
      "text/plain": [
       "                                      id  redshift  \\\n",
       "0   00001658-460c-4da1-987d-e493d8c9b89b  0.503123   \n",
       "1   000017b6-56a2-4f87-8828-3a3409ba1083  0.503726   \n",
       "2   00001c20-b7ff-4367-af08-26432cd7e01d  0.699445   \n",
       "3   00001e25-8fd4-44c7-bc06-f22580d804bf  0.583801   \n",
       "4   000023ad-e2c6-44a5-8fa1-04c706ad3a4e  0.591906   \n",
       "5   00002da2-ae80-402b-931b-6e54c13bd2fe  0.611070   \n",
       "6   0000370b-438a-43ea-8c8f-f29f01638d1b  0.704484   \n",
       "7   0000379b-2c37-44ae-bf6e-0887576613fb  0.546738   \n",
       "8   00004c0d-bd18-47bc-ad26-a2c092a725ed  0.644140   \n",
       "9   00004c74-4860-4086-b722-fada0dc58cc1  0.584890   \n",
       "10  0000525b-0019-4de4-a7a3-fdd9ef3d926a  0.517845   \n",
       "11  00005a4c-02a4-4d28-8f20-b6a1a08f1f58  0.835106   \n",
       "12  000071b5-f860-40d8-9278-f863fecd18c6  0.723531   \n",
       "13  00007f1b-5d94-4d47-9bdc-cf1b05e6ef29  0.537072   \n",
       "14  0000a0fc-0ca6-4b93-a52f-0fbaa7e1d659  0.716557   \n",
       "15  0000a875-cf73-4500-a2d8-260a58889c23  0.652672   \n",
       "16  0000a8e9-0025-4412-a3cb-be51486f86e6  0.788422   \n",
       "17  0000b8d8-bc5a-4028-8890-3792ad952a5d  0.614476   \n",
       "18  0000b91f-cd46-4dc9-8e8a-2c445085913f  0.691923   \n",
       "19  0000bac4-a6e5-49e0-bbee-18efef7d2e88  0.696937   \n",
       "\n",
       "                                           wavelength  \\\n",
       "0   [3562.8701940455303, 3563.690669682364, 3564.5...   \n",
       "1   [3558.7706484879304, 3559.59018006083, 3560.40...   \n",
       "2   [3588.3929932948636, 3589.2193464500533, 3590....   \n",
       "3   [3565.3321878292813, 3566.1532304264047, 3566....   \n",
       "4   [3568.617492834813, 3569.439291988468, 3570.26...   \n",
       "5   [3564.5113342624427, 3565.332187829285, 3566.1...   \n",
       "6   [3595.837026057048, 3596.665093461478, 3597.49...   \n",
       "7   [3566.9744620973356, 3567.795882885623, 3568.6...   \n",
       "8   [3564.5113342624427, 3565.332187829285, 3566.1...   \n",
       "9   [3565.3321878292813, 3566.1532304264047, 3566....   \n",
       "10  [3564.5113342624427, 3565.332187829285, 3566.1...   \n",
       "11  [3576.0205018090237, 3576.844005764754, 3577.6...   \n",
       "12  [3570.2612803901543, 3571.0834580834608, 3571....   \n",
       "13  [3561.2298094276216, 3562.049907308449, 3562.8...   \n",
       "14  [3598.321800388802, 3599.15043999954, 3599.979...   \n",
       "15  [3560.4099003595707, 3561.2298094276216, 3562....   \n",
       "16  [3588.3929932948636, 3589.2193464500533, 3590....   \n",
       "17  [3562.8701940455303, 3563.690669682364, 3564.5...   \n",
       "18  [3572.7283815192886, 3573.5511273490297, 3574....   \n",
       "19  [3564.5113342624427, 3565.332187829285, 3566.1...   \n",
       "\n",
       "                                                 flux  \n",
       "0   [8.689275741577148, 8.68837833404541, 8.687484...  \n",
       "1   [1.6824426651000977, 1.6827354431152344, 1.683...  \n",
       "2   [0.4288151264190674, 0.4288486838340759, 0.428...  \n",
       "3   [0.37539613246917725, 0.3754310607910156, 0.37...  \n",
       "4   [-6.821995258331299, -6.822403907775879, -1.99...  \n",
       "5   [-4.554078578948975, -4.553183555603027, -4.55...  \n",
       "6   [2.846282482147217, 2.845716953277588, 2.84515...  \n",
       "7   [-2.234649658203125, -2.2346246242523193, -4.7...  \n",
       "8   [14.708840370178223, -12.29818058013916, -0.60...  \n",
       "9   [9.175976753234863, -7.3280744552612305, -4.14...  \n",
       "10  [-2.8849363327026367, -2.8855273723602295, -2....  \n",
       "11  [7.454610347747803, 7.455092906951904, 7.45557...  \n",
       "12  [12.058002471923828, 12.054082870483398, 13.79...  \n",
       "13  [-4.006366729736328, -4.006986618041992, -1.38...  \n",
       "14  [4.705215930938721, 12.850137710571289, -6.271...  \n",
       "15  [2.115645170211792, -5.098011493682861, -9.232...  \n",
       "16  [3.7463250160217285, 3.75006103515625, 3.75379...  \n",
       "17  [-2.771282196044922, 12.807941436767578, 4.994...  \n",
       "18  [1.306275486946106, 1.3062092065811157, 1.3061...  \n",
       "19  [-3.6648006439208984, -3.665635347366333, -2.1...  "
      ]
     },
     "execution_count": 26,
     "metadata": {},
     "output_type": "execute_result"
    }
   ],
   "source": [
    "df = pd.DataFrame([[r.id, r.redshift, r.wavelength, r.flux,]\n",
    "                    for r in results_I.records],\n",
    "                  columns=['id', 'redshift', 'wavelength', 'flux'])\n",
    "df"
   ]
  },
  {
   "cell_type": "markdown",
   "id": "ae3d37be-4f53-48b7-b4c3-b3a4478bfa80",
   "metadata": {},
   "source": [
    "#### Spectrum1D:\n",
    "When applicable, the units for each field are documented on the [Fields tab of the astrosparcl website](https://astrosparcl.datalab.noirlab.edu/sparc/sfc/)"
   ]
  },
  {
   "cell_type": "code",
   "execution_count": 27,
   "id": "6f50c0b4-e112-4e96-9763-7c716c758419",
   "metadata": {},
   "outputs": [
    {
     "data": {
      "text/plain": [
       "<Spectrum1D(flux=<Quantity [ 8.68927574e-17,  8.68837833e-17,  8.68748474e-17, ...,\n",
       "            1.01688528e-17, -8.76587963e-17, -8.76609707e-17] erg / (Angstrom cm2 s)>, spectral_axis=<SpectralAxis \n",
       "   (observer to target:\n",
       "      radial_velocity=115835.56522734222 km / s\n",
       "      redshift=0.503122508525848)\n",
       "  [ 3562.87019405,  3563.69066968,  3564.51133426, ..., 10389.62804909,\n",
       "   10392.0206248 , 10394.41375149] Angstrom>, uncertainty=InverseVariance([0.        , 0.        , 0.        , ..., 0.        ,\n",
       "                 0.19256701, 0.        ]))>"
      ]
     },
     "execution_count": 27,
     "metadata": {},
     "output_type": "execute_result"
    }
   ],
   "source": [
    "specs = [Spectrum1D(spectral_axis = r.wavelength*u.AA,\n",
    "                    flux = np.array(r.flux)* 10**-17 * u.Unit('erg cm-2 s-1 AA-1'),\n",
    "                    uncertainty = InverseVariance(np.array(r.ivar)),\n",
    "                    redshift = r.redshift,\n",
    "                    mask = r.mask)\n",
    "        for r in results_I.records]\n",
    "specs[0]"
   ]
  },
  {
   "cell_type": "code",
   "execution_count": 28,
   "id": "931e87ef-11e4-42e4-96cc-7c63d50b0d49",
   "metadata": {},
   "outputs": [
    {
     "data": {
      "image/png": "[encoded data removed]",
      "text/plain": [
       "<Figure size 1008x576 with 1 Axes>"
      ]
     },
     "metadata": {
      "needs_background": "light"
     },
     "output_type": "display_data"
    }
   ],
   "source": [
    "# Plot a couple\n",
    "f, ax = plt.subplots()  \n",
    "ax.step(specs[0].spectral_axis, specs[0].flux) \n",
    "ax.step(specs[1].spectral_axis, specs[1].flux)\n",
    "plt.show()"
   ]
  },
  {
   "cell_type": "markdown",
   "id": "fe520b15-2063-4c6e-beb0-64050889c3cd",
   "metadata": {},
   "source": [
    "<a class=\"anchor\" id=\"plot\"></a>\n",
    "## Plot spectra"
   ]
  },
  {
   "cell_type": "code",
   "execution_count": 29,
   "id": "8405a5b5-7387-4a9d-acd8-3b29bbd91008",
   "metadata": {},
   "outputs": [],
   "source": [
    "def plot_spec(index, results):\n",
    "    \"\"\"\n",
    "    Pass an index value and the output from using client.retrieve()\n",
    "    to plot the spectrum at the specified index.\n",
    "    \"\"\"\n",
    "    \n",
    "    record = results.records[index]\n",
    "\n",
    "    id_ = record.id\n",
    "    data_release = record.data_release\n",
    "    flux = record.flux\n",
    "    wavelength = record.wavelength\n",
    "    model = record.model\n",
    "    spectype = record.spectype\n",
    "\n",
    "    plt.title(f\"Data Set = {data_release}, spectype = {spectype}, id = {id_}\")\n",
    "    plt.xlabel('$\\lambda\\ [\\AA]$')\n",
    "    plt.ylabel('$f_{\\lambda}$ $(10^{-17}$ $erg$ $s^{-1}$ $cm^{-2}$ $\\AA^{-1})$')\n",
    "    \n",
    "    # Plot unsmoothed spectrum in grey\n",
    "    plt.plot(wavelength, flux, color='k', alpha=0.2, label='Unsmoothed spectrum')\n",
    "    \n",
    "    # Overplot spectrum smoothed using a 1-D Gaussian Kernel in black\n",
    "    plt.plot(wavelength, convolve(flux, Gaussian1DKernel(5)), color='k', label='Smoothed spectrum')\n",
    "    \n",
    "    # Overplot the model spectrum in red\n",
    "    plt.plot(wavelength, model, color='r', label='Model spectrum')\n",
    "    \n",
    "    plt.legend()\n",
    "    plt.show()"
   ]
  },
  {
   "cell_type": "code",
   "execution_count": 30,
   "id": "4b575d8b-2e9f-4c57-b411-761a7f7c02bc",
   "metadata": {},
   "outputs": [
    {
     "data": {
      "image/png": "[encoded data removed]",
      "text/plain": [
       "<Figure size 1008x576 with 1 Axes>"
      ]
     },
     "metadata": {
      "needs_background": "light"
     },
     "output_type": "display_data"
    }
   ],
   "source": [
    "plot_spec(index=2, results=results_I)"
   ]
  },
  {
   "cell_type": "markdown",
   "id": "1ce77e44-1f63-4bcc-a1d5-1b657727d913",
   "metadata": {},
   "source": [
    "<a class=\"anchor\" id=\"missing\"></a>\n",
    "## Use `client.missing()` to find missing IDs in the SPARCL database"
   ]
  },
  {
   "cell_type": "code",
   "execution_count": 31,
   "id": "5811e70f-99bf-40f6-be9b-0cee5e0059c0",
   "metadata": {},
   "outputs": [
    {
     "data": {
      "text/plain": [
       "\u001b[0;31mSignature:\u001b[0m\n",
       "\u001b[0mclient\u001b[0m\u001b[0;34m.\u001b[0m\u001b[0mmissing\u001b[0m\u001b[0;34m(\u001b[0m\u001b[0;34m\u001b[0m\n",
       "\u001b[0;34m\u001b[0m    \u001b[0muuid_list\u001b[0m\u001b[0;34m,\u001b[0m\u001b[0;34m\u001b[0m\n",
       "\u001b[0;34m\u001b[0m    \u001b[0;34m*\u001b[0m\u001b[0;34m,\u001b[0m\u001b[0;34m\u001b[0m\n",
       "\u001b[0;34m\u001b[0m    \u001b[0mdataset_list\u001b[0m\u001b[0;34m=\u001b[0m\u001b[0;32mNone\u001b[0m\u001b[0;34m,\u001b[0m\u001b[0;34m\u001b[0m\n",
       "\u001b[0;34m\u001b[0m    \u001b[0mcountOnly\u001b[0m\u001b[0;34m=\u001b[0m\u001b[0;32mFalse\u001b[0m\u001b[0;34m,\u001b[0m\u001b[0;34m\u001b[0m\n",
       "\u001b[0;34m\u001b[0m    \u001b[0mverbose\u001b[0m\u001b[0;34m=\u001b[0m\u001b[0;32mFalse\u001b[0m\u001b[0;34m,\u001b[0m\u001b[0;34m\u001b[0m\n",
       "\u001b[0;34m\u001b[0m\u001b[0;34m)\u001b[0m\u001b[0;34m\u001b[0m\u001b[0;34m\u001b[0m\u001b[0m\n",
       "\u001b[0;31mDocstring:\u001b[0m\n",
       "Return the subset of ids in the given uuid_list that are NOT stored\n",
       "in the SPARC database.\n",
       "\n",
       "Args:\n",
       "    uuid_list (:obj:`list`): List of ids.\n",
       "\n",
       "    dataset_list (:obj:`list`, optional): List of data sets from\n",
       "        which to find missing ids. Defaults to None, meaning all\n",
       "        data sets hosted on the SPARC database.\n",
       "\n",
       "    countOnly (:obj:`bool`, optional): Set to True to return only\n",
       "        a count of the missing ids from the uuid_list. Defaults to\n",
       "        False.\n",
       "\n",
       "    verbose (:obj:`bool`, optional): Set to True for in-depth return\n",
       "        statement. Defaults to False.\n",
       "\n",
       "Returns:\n",
       "    A list of the subset of ids in the given uuid_list that are NOT\n",
       "    stored in the SPARC database.\n",
       "\n",
       "Example:\n",
       "    >>> client = sparcl.client.SparclClient()\n",
       "    >>> ids = ['ddbb57ee-8e90-4a0d-823b-0f5d97028076',]\n",
       "    >>> client.missing(ids)\n",
       "\u001b[0;31mFile:\u001b[0m      /data0/sw/anaconda3/lib/python3.8/site-packages/sparcl/client.py\n",
       "\u001b[0;31mType:\u001b[0m      method\n"
      ]
     },
     "metadata": {},
     "output_type": "display_data"
    }
   ],
   "source": [
    "client.missing?"
   ]
  },
  {
   "cell_type": "markdown",
   "id": "25c70152-b2c6-48fa-92be-eb13ac286ddd",
   "metadata": {},
   "source": [
    "#### When you try to retrieve records from the SPARCL database with IDs that do not exist in the SPARCL database, a warning message will appear:"
   ]
  },
  {
   "cell_type": "code",
   "execution_count": 32,
   "id": "c7dde612-9893-4d0d-90f9-27c1f19e85d6",
   "metadata": {},
   "outputs": [
    {
     "name": "stderr",
     "output_type": "stream",
     "text": [
      "<ipython-input-32-27416088222f>:7: UserWarning: Some UUIDs were not found. 2 out of the 5 requested uuids have no records available in the SPARC database associated with DataSets ['BOSS-DR16', 'SDSS-DR16'].Use \"client.missing()\" to get a list of the 2 unavailable uuids.\n",
      "  res_test = client.retrieve(uuid_list=ids_test)\n"
     ]
    }
   ],
   "source": [
    "ids_test = ['00001658-460c-4da1-987d-e493d8c9b89b',\n",
    "            '000017b6-56a2-4f87-8828-3a3409ba1083',\n",
    "            '00001c20-b7ff-4367-af08-26432cd7e01d',\n",
    "            'c7436b52-f7a5-442b-a9e0-f37a3e23b5f9',\n",
    "            'ddbb57ee-8e90-4a0d-823b-0f5d97028076']\n",
    "\n",
    "res_test = client.retrieve(uuid_list=ids_test)"
   ]
  },
  {
   "cell_type": "markdown",
   "id": "0af25f03-23c5-4de3-a600-6d74c3766e02",
   "metadata": {},
   "source": [
    "#### In order to figure out which of the IDs from your list do not exist in the SPARCL database, use the `client.missing()` method:"
   ]
  },
  {
   "cell_type": "code",
   "execution_count": 33,
   "id": "2f82da1d-780c-419a-9e09-bb6157267338",
   "metadata": {},
   "outputs": [
    {
     "data": {
      "text/plain": [
       "['c7436b52-f7a5-442b-a9e0-f37a3e23b5f9',\n",
       " 'ddbb57ee-8e90-4a0d-823b-0f5d97028076']"
      ]
     },
     "execution_count": 33,
     "metadata": {},
     "output_type": "execute_result"
    }
   ],
   "source": [
    "client.missing(uuid_list=ids_test)"
   ]
  }
 ],
 "metadata": {
  "kernelspec": {
   "display_name": "Python 3",
   "language": "python",
   "name": "python3"
  },
  "language_info": {
   "codemirror_mode": {
    "name": "ipython",
    "version": 3
   },
   "file_extension": ".py",
   "mimetype": "text/x-python",
   "name": "python",
   "nbconvert_exporter": "python",
   "pygments_lexer": "ipython3",
   "version": "3.8.8"
  }
 },
 "nbformat": 4,
 "nbformat_minor": 5
}
