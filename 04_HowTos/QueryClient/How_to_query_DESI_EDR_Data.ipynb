{
 "cells": [
  {
   "cell_type": "code",
   "execution_count": null,
   "metadata": {},
   "outputs": [],
   "source": [
    "__author__ = 'Benjamin Weaver <benjamin.weaver@noirlab.edu>, Alice Jacques <alice.jacques@noirlab.edu>, Astro Data Lab Team <datalab@noirlab.edu>'\n",
    "__version__ = '20230501'\n",
    "__datasets__ = ['desi_edr', 'ls_dr9']\n",
    "__keywords__ = ['query', 'DESI']"
   ]
  },
  {
   "cell_type": "markdown",
   "metadata": {},
   "source": [
    "# How to query DESI EDR Data\n",
    "\n",
    "## Table of Contents\n",
    "\n",
    "* [Abstract](#abstract)\n",
    "\n",
    "## Abstract\n",
    "\n",
    "This tutorial will cover the basics of using the spectroscopic production database, which is loaded from the outputs of the DESI pipeline.  Currently, this is based on software \"release\" `23.1`, and uses a [PostgreSQL](https://www.postgresql.org/) database. We use [SQLAlchemy](http://www.sqlalchemy.org/) to abstract away the details of the database.\n",
    "\n",
    "## Requirements\n",
    "\n",
    "This tutorial uses data from the `fuji` production (`/global/cfs/cdirs/desi/public/edr/spectro/redux/fuji`), and the **DESI 23.1** kernel.\n",
    "\n",
    "## Getting Help\n",
    "\n",
    "If you find a problem using this notebook, please [fill out an new issue on GitHub describing your situation](https://github.com/desihub/tutorials/issues/new/).\n",
    "\n",
    "## Initial Setup\n",
    "\n",
    "This just imports everything we need and sets up paths and environment variables so we can find things."
   ]
  },
  {
   "cell_type": "code",
   "execution_count": 5,
   "metadata": {},
   "outputs": [
    {
     "name": "stdout",
     "output_type": "stream",
     "text": [
      "desisurvey==0.18.0\n"
     ]
    }
   ],
   "source": [
    "#\n",
    "# Imports\n",
    "#\n",
    "import os\n",
    "from types import MethodType\n",
    "import numpy as np\n",
    "import matplotlib\n",
    "import matplotlib.pyplot as plt\n",
    "from matplotlib.font_manager import fontManager, FontProperties\n",
    "# from sqlalchemy import __version__ as sqlalchemy_version\n",
    "# from sqlalchemy import inspect\n",
    "# from sqlalchemy.sql import func\n",
    "import astropy.units as u\n",
    "from dl import queryClient as qc, storeClient as sc, authClient as ac\n",
    "#\n",
    "# DESI software\n",
    "#\n",
    "# from desiutil.log import get_logger, DEBUG\n",
    "from desitarget.targetmask import (desi_mask, mws_mask, bgs_mask)\n",
    "# from desisim.spec_qa import redshifts as dsq_z\n",
    "from desisurvey import __version__ as desisurvey_version\n",
    "# from desisurvey.ephem import get_ephem, get_object_interpolator\n",
    "from desisurvey.utils import get_observer\n",
    "# from specprodDB import __version__ as specprodDB_version\n",
    "# import specprodDB.load as db\n",
    "#\n",
    "# Set the spectroscopic production run.\n",
    "#\n",
    "specprod = os.environ['SPECPROD'] = 'fuji'  # Change this to 'guadalupe' if needed.\n",
    "#\n",
    "# Initialize ephemerides, to find Moon, etc.\n",
    "#\n",
    "os.environ['DESISURVEY_OUTPUT'] = os.environ['SCRATCH']\n",
    "# ephem = get_ephem()\n",
    "#\n",
    "# get_ephem() will run freeze_iers(), so we import these after that.\n",
    "#\n",
    "from astropy.time import Time\n",
    "from astropy.coordinates import ICRS\n",
    "#\n",
    "# Working directory.\n",
    "#\n",
    "workingdir = os.getcwd()\n",
    "# print(f'sqlalchemy=={sqlalchemy_version}')\n",
    "# print(f'specprodDB=={specprodDB_version}')\n",
    "print(f'desisurvey=={desisurvey_version}')\n",
    "qc.set_profile('db01')"
   ]
  },
  {
   "cell_type": "markdown",
   "metadata": {},
   "source": [
    "This function will compute various Moon paramters needed below."
   ]
  },
  {
   "cell_type": "code",
   "execution_count": null,
   "metadata": {},
   "outputs": [],
   "source": [
    "def moon(self, mjd, ra, dec):\n",
    "    \"\"\"Compute relative location of the Moon.\n",
    "    \n",
    "    Parameters\n",
    "    ----------\n",
    "    mjd : float\n",
    "        Time of observation\n",
    "    ra : float\n",
    "        Right Ascension\n",
    "    dec : float\n",
    "        Declination\n",
    "    \n",
    "    Returns\n",
    "    -------\n",
    "    tuple\n",
    "        Moon separation, Moon altitude, Moon illumination fraction\n",
    "    \"\"\"\n",
    "    observation_time = Time(mjd, format='mjd')\n",
    "    position = ICRS(ra=ra*u.deg, dec=dec*u.deg)\n",
    "    zenith = get_observer(observation_time, alt=90 * u.deg, az=0 * u.deg).transform_to(ICRS)\n",
    "    alt = 90 * u.deg - position.separation(zenith)\n",
    "    moon_dec, moon_ra = get_object_interpolator(self.get_night(observation_time), 'moon', altaz=False)(observation_time.mjd)\n",
    "    moon_position = ICRS(ra=moon_ra*u.deg, dec=moon_dec*u.deg)\n",
    "    moon_sep = position.separation(moon_position).to(u.deg).value\n",
    "    moon_alt = (90 * u.deg - moon_position.separation(zenith)).to(u.deg).value\n",
    "    moon_frac = ephem.get_moon_illuminated_fraction(observation_time.mjd).tolist()\n",
    "    return (moon_sep, moon_alt, moon_frac)\n",
    "\n",
    "ephem.moon = MethodType(moon, ephem)"
   ]
  },
  {
   "cell_type": "markdown",
   "metadata": {},
   "source": [
    "## Contents of the Database\n",
    "\n",
    "### Schema\n",
    "\n",
    "All tables are grouped into a database *schema* and that schema is named for the production run, (*e.g.* `fuji`).  When writing \"raw\" SQL, table names need to be schema-qualified, for example, `fuji.target`.  However, the SQLAlchemy abstraction layer is designed to take care of this for you.\n",
    "\n",
    "### Important notes\n",
    "\n",
    "* This database does not contain any sky spectra. Both deliberately-targeted (`targetid & 2**59 != 0`) and negative targetid (`targetid < 0`) sky spectra are excluded.\n",
    "* Only quantities derived from *cumulative* tile-based spectra are included at the present time.\n",
    "\n",
    "### The tables\n",
    "\n",
    "* `photometry`. This contains the pure photometric data. Usually this is derived from the LS DR9 Tractor data, but not every *targeted* object has Tractor photometry.\n",
    "  - Loaded from `tractorphot` files: `/global/cfs/cdirs/desi/public/edr/vac/lsdr9-photometry/v2.0/potential-targets/tractorphot/tractorphot-potential-*-fuji.fits`.\n",
    "  - SQLAlchemy object: `db.Photometry`.\n",
    "  - Primary key: `targetid`.\n",
    "* `target`. This contains the targeting bits and other data generated by `desitarget`.\n",
    "  - Loaded from `targetphot` file: `/global/cfs/cdirs/desi/public/edr/vac/lsdr9-photometry/v2.0/potential-targets/targetphot-potential-fuji.fits`.\n",
    "  - SQLAlchemy object: `db.Target`.\n",
    "  - Unique identifier: (`targetid`, `survey`, `tileid`).\n",
    "  - Primary key: `id`, a unique, arbitrary integer composed from (`targetid`, `survey`, `tileid`).\n",
    "* `tile`. This contains information about observations grouped by tile.\n",
    "  - Loaded from top-level `tiles-fuji.fits`.\n",
    "  - SQLAlchemy object: `db.Tile`.\n",
    "  - Primary key: `tileid`.\n",
    "* `exposure`. This contains information about individual exposures.\n",
    "  - Loaded from top-level `exposures-fuji.fits`, `EXPOSURES` HDU.\n",
    "  - SQLAlchemy object: `db.Exposure`.\n",
    "  - Primary key: `expid`.\n",
    "* `frame`. This contains information about individual exposures, but broken down by camera.  There will usually, but not always, be 30 frames per exposure.\n",
    "  - Loaded from top-level `exposures-fuji.fits`, `FRAMES` HDU.\n",
    "  - SQLAlchemy object: `db.Frame`.\n",
    "  - Unique identifier: (`expid`, `camera`).\n",
    "  - Primary key: `frameid`, composed from `expid` and a mapping of `camera` to an arbitrary integer.\n",
    "* `fiberassign`. This contains information about fiber positions.\n",
    "  - Loaded from fiberassign files in the tiles product.  All fiberassign files corresponding to tiles in the `tile` table are loaded.\n",
    "  - SQLAlchemy object: `db.Fiberassign`.\n",
    "  - Unique identifier: (`tileid`, `targetid`, `location`).\n",
    "  - Primary key: `id`, a unique, arbitrary integer composed from (`tileid`, `targetid`, `location`).\n",
    "* `potential`. This contains a list of `targetid`s that *could* have been targeted on a given tile.\n",
    "  - Loaded from the `POTENTIAL_ASSIGNMENTS` HDU in the same fiberassign files mentioned above.\n",
    "  - SQLAlchemy object: `db.Potential`.\n",
    "  - Unique identifier: (`tileid`, `targetid`, `location`).\n",
    "  - Primary key: `id`, a unique, arbitrary integer composed from (`tileid`, `targetid`, `location`).\n",
    "* `zpix`. This contains the pipeline redshifts grouped by HEALPixel.\n",
    "  - Loaded from the `zall-pix-fuji.fits` file in the `zcatalog/` directory.\n",
    "  - SQLAlchemy object: `db.Zpix`.\n",
    "  - Unique identifier: (`targetid`, `survey`, `program`).\n",
    "  - Primary key: `id`, a unique, arbitrary integer composed from (`targetid`, `survey`, `program`).\n",
    "* `ztile`. This contains the pipeline redshifts grouped by tile in a variety of ways.\n",
    "  - Loaded from the `zall-tilecumulative-fuji.fits` file in the `zcatalog/` directory.\n",
    "  - SQLAlchemy object: `db.Ztile`.\n",
    "  - Unique identifier: (`targetid`, `spgrp`, `spgrpval`, `tileid`).\n",
    "  - Primary key: `id`, a unique, arbitrary integer composed from (`targetid`, `spgrp`, `spgrpval`, `tileid`).\n",
    "* `version`. This contains metadata related to loading the database schema associated with the production run. It has no relationships to other tables.\n",
    "  - SQLAlchemy object: `db.Version`.\n",
    "  - Primary key: `id`, a sequential integer.\n",
    "\n",
    "### Foreign key relationships\n",
    "\n",
    "* `fuji.target.targetid` -> `fuji.photometry.targetid`.\n",
    "* `fuji.target.tileid` -> `fuji.tile.tileid`.\n",
    "* `fuji.exposure.tileid` -> `fuji.tile.tileid`.\n",
    "* `fuji.frame.expid` -> `fuji.exposure.expid`.\n",
    "* `fuji.fiberassign.targetid` -> `fuji.photometry.targetid`.\n",
    "* `fuji.fiberassign.tileid` -> `fuji.tile.tileid`.\n",
    "* `fuji.potential.targetid` -> `fuji.photometry.targetid`.\n",
    "* `fuji.potential.tileid` -> `fuji.tile.tileid`.\n",
    "* `fuji.zpix.targetid` -> `fuji.photometry.targetid`.\n",
    "* `fuji.ztile.targetphotid` -> `fuji.target.id`.\n",
    "* `fuji.ztile.targetid` -> `fuji.photometry.targetid`.\n",
    "* `fuji.ztile.tileid` -> `fuji.tile.tileid`."
   ]
  },
  {
   "cell_type": "markdown",
   "metadata": {},
   "source": [
    "## Initial Database Connection\n",
    "\n",
    "### Set up .pgpass\n",
    "\n",
    "This connection uses a `~/.pgpass` file to store connection credentials. If you already have this set up, you can skip this subsection.\n",
    "\n",
    "If you already have a `~/.pgpass` file, simply do:"
   ]
  },
  {
   "cell_type": "code",
   "execution_count": null,
   "metadata": {},
   "outputs": [],
   "source": [
    "!cat /global/common/software/desi/desi_public.pgpass >> ~/.pgpass"
   ]
  },
  {
   "cell_type": "markdown",
   "metadata": {},
   "source": [
    "If you need to create a `~/.pgpass` file:"
   ]
  },
  {
   "cell_type": "code",
   "execution_count": null,
   "metadata": {},
   "outputs": [],
   "source": [
    "!cp /global/common/software/desi/desi_public.pgpass ~/.pgpass; chmod 600 ~/.pgpass"
   ]
  },
  {
   "cell_type": "code",
   "execution_count": 6,
   "metadata": {},
   "outputs": [
    {
     "data": {
      "text/plain": [
       "'baweaver'"
      ]
     },
     "execution_count": 6,
     "metadata": {},
     "output_type": "execute_result"
    }
   ],
   "source": [
    "ac.whoAmI()"
   ]
  },
  {
   "cell_type": "markdown",
   "metadata": {},
   "source": [
    "### Establish connection"
   ]
  },
  {
   "cell_type": "code",
   "execution_count": null,
   "metadata": {},
   "outputs": [],
   "source": [
    "#\n",
    "# For much more output, use DEBUG/verbose mode.\n",
    "#\n",
    "# db.log = get_logger(DEBUG)\n",
    "# postgresql = db.setup_db(schema=specprod, hostname='specprod-db.desi.lbl.gov', username='desi_public', verbose=True)\n",
    "db.log = get_logger()\n",
    "postgresql = db.setup_db(schema=specprod, hostname='specprod-db.desi.lbl.gov', username='desi_public')"
   ]
  },
  {
   "cell_type": "markdown",
   "metadata": {},
   "source": [
    "## Learning About the Tables\n",
    "\n",
    "The tables in the database are listed above.  To inspect an individual table, you can use the `__table__` attribute."
   ]
  },
  {
   "cell_type": "code",
   "execution_count": null,
   "metadata": {},
   "outputs": [],
   "source": [
    "#\n",
    "# Print the table columns and their types.\n",
    "#\n",
    "[(c.name, c.type) for c in db.Zpix.__table__.columns]"
   ]
  },
  {
   "cell_type": "markdown",
   "metadata": {},
   "source": [
    "We can also `inspect()` the database.  For details see [here](http://docs.sqlalchemy.org/en/latest/core/inspection.html?highlight=inspect#module-sqlalchemy.inspection)."
   ]
  },
  {
   "cell_type": "code",
   "execution_count": null,
   "metadata": {},
   "outputs": [],
   "source": [
    "inspector = inspect(db.engine)\n",
    "for table_name in inspector.get_table_names(schema=specprod):\n",
    "    print(table_name)\n",
    "    for column in inspector.get_columns(table_name, schema=specprod):\n",
    "        print(\"Column: {name} {type}\".format(**column))"
   ]
  },
  {
   "cell_type": "markdown",
   "metadata": {},
   "source": [
    "### Exercises\n",
    "\n",
    "* What is the type of the `night` column of the `exposures` table?\n",
    "* What is the primary key of the `ztile` table?"
   ]
  },
  {
   "cell_type": "markdown",
   "metadata": {
    "tags": []
   },
   "source": [
    "## Simple Queries\n",
    "\n",
    "Queries are set up with the `.query()` method on Session objects.  In this case, there's a prepared Session object called `db.dbSession`.  `.filter()` corresponds to a `WHERE` clause in SQL.\n",
    "\n",
    "In most of the examples below, we include the equivalent raw SQL command that corresponds to the query."
   ]
  },
  {
   "cell_type": "markdown",
   "metadata": {},
   "source": [
    "### Versions\n",
    "\n",
    "Each schema contains a `version` table that describes the software and other tagged data sets used to load that schema. This is mainly intended for internal metadata tracking purposes, but it is still visible.\n",
    "\n",
    "```SQL\n",
    "SELECT * FROM desi_edr.version;\n",
    "```"
   ]
  },
  {
   "cell_type": "code",
   "execution_count": 14,
   "metadata": {},
   "outputs": [
    {
     "ename": "queryClientError",
     "evalue": "Error: relation \"desi_edr.version\" does not exist\nLINE 1: copy (SELECT * FROM desi_edr.version) to stdout with csv hea...\n                            ^\n",
     "output_type": "error",
     "traceback": [
      "\u001b[0;31m---------------------------------------------------------------------------\u001b[0m",
      "\u001b[0;31mqueryClientError\u001b[0m                          Traceback (most recent call last)",
      "\u001b[0;32m<ipython-input-14-15c5c01d5d05>\u001b[0m in \u001b[0;36m<module>\u001b[0;34m\u001b[0m\n\u001b[1;32m      1\u001b[0m \u001b[0;31m# q = db.dbSession.query(db.Version).all()\u001b[0m\u001b[0;34m\u001b[0m\u001b[0;34m\u001b[0m\u001b[0;34m\u001b[0m\u001b[0m\n\u001b[0;32m----> 2\u001b[0;31m \u001b[0mresponse\u001b[0m \u001b[0;34m=\u001b[0m \u001b[0mqc\u001b[0m\u001b[0;34m.\u001b[0m\u001b[0mquery\u001b[0m\u001b[0;34m(\u001b[0m\u001b[0msql\u001b[0m\u001b[0;34m=\u001b[0m\u001b[0;34m'SELECT * FROM desi_edr.version;'\u001b[0m\u001b[0;34m,\u001b[0m \u001b[0mfmt\u001b[0m\u001b[0;34m=\u001b[0m\u001b[0;34m'csv'\u001b[0m\u001b[0;34m,\u001b[0m \u001b[0mtimeout\u001b[0m\u001b[0;34m=\u001b[0m\u001b[0;36m600\u001b[0m\u001b[0;34m)\u001b[0m\u001b[0;34m\u001b[0m\u001b[0;34m\u001b[0m\u001b[0m\n\u001b[0m\u001b[1;32m      3\u001b[0m \u001b[0mprint\u001b[0m\u001b[0;34m(\u001b[0m\u001b[0mresponse\u001b[0m\u001b[0;34m)\u001b[0m\u001b[0;34m\u001b[0m\u001b[0;34m\u001b[0m\u001b[0m\n",
      "\u001b[0;32m/data0/sw/anaconda3/lib/python3.8/site-packages/astro_datalab-2.20.1-py3.8.egg/dl/Util.py\u001b[0m in \u001b[0;36m__call__\u001b[0;34m(self, *args, **kw)\u001b[0m\n\u001b[1;32m     81\u001b[0m             \u001b[0;32mreturn\u001b[0m \u001b[0mfunction\u001b[0m\u001b[0;34m(\u001b[0m\u001b[0mself\u001b[0m\u001b[0;34m.\u001b[0m\u001b[0mobj\u001b[0m\u001b[0;34m,\u001b[0m \u001b[0;34m*\u001b[0m\u001b[0margs\u001b[0m\u001b[0;34m,\u001b[0m \u001b[0;34m**\u001b[0m\u001b[0mkw\u001b[0m\u001b[0;34m)\u001b[0m\u001b[0;34m\u001b[0m\u001b[0;34m\u001b[0m\u001b[0m\n\u001b[1;32m     82\u001b[0m         \u001b[0;32melse\u001b[0m\u001b[0;34m:\u001b[0m\u001b[0;34m\u001b[0m\u001b[0;34m\u001b[0m\u001b[0m\n\u001b[0;32m---> 83\u001b[0;31m             \u001b[0;32mreturn\u001b[0m \u001b[0mfunction\u001b[0m\u001b[0;34m(\u001b[0m\u001b[0;34m*\u001b[0m\u001b[0margs\u001b[0m\u001b[0;34m,\u001b[0m \u001b[0;34m**\u001b[0m\u001b[0mkw\u001b[0m\u001b[0;34m)\u001b[0m\u001b[0;34m\u001b[0m\u001b[0;34m\u001b[0m\u001b[0m\n\u001b[0m\u001b[1;32m     84\u001b[0m \u001b[0;34m\u001b[0m\u001b[0m\n\u001b[1;32m     85\u001b[0m     \u001b[0;32mdef\u001b[0m \u001b[0m__repr__\u001b[0m\u001b[0;34m(\u001b[0m\u001b[0mself\u001b[0m\u001b[0;34m)\u001b[0m\u001b[0;34m:\u001b[0m\u001b[0;34m\u001b[0m\u001b[0;34m\u001b[0m\u001b[0m\n",
      "\u001b[0;32m/data0/sw/anaconda3/lib/python3.8/site-packages/astro_datalab-2.20.1-py3.8.egg/dl/queryClient.py\u001b[0m in \u001b[0;36mquery\u001b[0;34m(token, adql, sql, fmt, out, async_, drop, profile, **kw)\u001b[0m\n\u001b[1;32m    561\u001b[0m           \u001b[0;36m314.996334457679438\u001b[0m\u001b[0;34m,\u001b[0m\u001b[0;36m35.2673478725552698\u001b[0m\u001b[0;34m\u001b[0m\u001b[0;34m\u001b[0m\u001b[0m\n\u001b[1;32m    562\u001b[0m     '''\n\u001b[0;32m--> 563\u001b[0;31m     return qc_client._query (token=def_token(token), adql=adql, sql=sql,\n\u001b[0m\u001b[1;32m    564\u001b[0m                              \u001b[0mfmt\u001b[0m\u001b[0;34m=\u001b[0m\u001b[0mfmt\u001b[0m\u001b[0;34m,\u001b[0m \u001b[0mout\u001b[0m\u001b[0;34m=\u001b[0m\u001b[0mout\u001b[0m\u001b[0;34m,\u001b[0m \u001b[0masync_\u001b[0m\u001b[0;34m=\u001b[0m\u001b[0masync_\u001b[0m\u001b[0;34m,\u001b[0m \u001b[0mdrop\u001b[0m\u001b[0;34m=\u001b[0m\u001b[0mdrop\u001b[0m\u001b[0;34m,\u001b[0m\u001b[0;34m\u001b[0m\u001b[0;34m\u001b[0m\u001b[0m\n\u001b[1;32m    565\u001b[0m                              \u001b[0mprofile\u001b[0m\u001b[0;34m=\u001b[0m\u001b[0mprofile\u001b[0m\u001b[0;34m,\u001b[0m\u001b[0;34m\u001b[0m\u001b[0;34m\u001b[0m\u001b[0m\n",
      "\u001b[0;32m/data0/sw/anaconda3/lib/python3.8/site-packages/astro_datalab-2.20.1-py3.8.egg/dl/queryClient.py\u001b[0m in \u001b[0;36m_query\u001b[0;34m(self, token, adql, sql, fmt, out, async_, drop, profile, **kw)\u001b[0m\n\u001b[1;32m   2091\u001b[0m         \u001b[0mr\u001b[0m \u001b[0;34m=\u001b[0m \u001b[0mrequests\u001b[0m\u001b[0;34m.\u001b[0m\u001b[0mget\u001b[0m \u001b[0;34m(\u001b[0m\u001b[0mdburl\u001b[0m\u001b[0;34m,\u001b[0m \u001b[0mheaders\u001b[0m\u001b[0;34m=\u001b[0m\u001b[0mheaders\u001b[0m\u001b[0;34m,\u001b[0m \u001b[0mtimeout\u001b[0m\u001b[0;34m=\u001b[0m\u001b[0mtimeout\u001b[0m\u001b[0;34m)\u001b[0m\u001b[0;34m\u001b[0m\u001b[0;34m\u001b[0m\u001b[0m\n\u001b[1;32m   2092\u001b[0m         \u001b[0;32mif\u001b[0m \u001b[0mr\u001b[0m\u001b[0;34m.\u001b[0m\u001b[0mstatus_code\u001b[0m \u001b[0;34m!=\u001b[0m \u001b[0;36m200\u001b[0m\u001b[0;34m:\u001b[0m\u001b[0;34m\u001b[0m\u001b[0;34m\u001b[0m\u001b[0m\n\u001b[0;32m-> 2093\u001b[0;31m             \u001b[0;32mraise\u001b[0m \u001b[0mqueryClientError\u001b[0m \u001b[0;34m(\u001b[0m\u001b[0mr\u001b[0m\u001b[0;34m.\u001b[0m\u001b[0mtext\u001b[0m\u001b[0;34m)\u001b[0m\u001b[0;34m\u001b[0m\u001b[0;34m\u001b[0m\u001b[0m\n\u001b[0m\u001b[1;32m   2094\u001b[0m         \u001b[0mresp\u001b[0m \u001b[0;34m=\u001b[0m \u001b[0mqcToString\u001b[0m\u001b[0;34m(\u001b[0m\u001b[0mr\u001b[0m\u001b[0;34m.\u001b[0m\u001b[0mcontent\u001b[0m\u001b[0;34m)\u001b[0m\u001b[0;34m\u001b[0m\u001b[0;34m\u001b[0m\u001b[0m\n\u001b[1;32m   2095\u001b[0m \u001b[0;34m\u001b[0m\u001b[0m\n",
      "\u001b[0;31mqueryClientError\u001b[0m: Error: relation \"desi_edr.version\" does not exist\nLINE 1: copy (SELECT * FROM desi_edr.version) to stdout with csv hea...\n                            ^\n"
     ]
    }
   ],
   "source": [
    "# q = db.dbSession.query(db.Version).all()\n",
    "response = qc.query(sql='SELECT * FROM desi_edr.version;', fmt='csv', timeout=600)\n",
    "print(response)"
   ]
  },
  {
   "cell_type": "markdown",
   "metadata": {},
   "source": [
    "### Exposures, Nights, Tiles\n",
    "\n",
    "Here are some simple queries that demonstrate simple connections between nights, exposures and tiles.\n",
    "\n",
    "#### How many tiles are there?\n",
    "\n",
    "```SQL\n",
    "SELECT COUNT(tileid) FROM desi_edr.tile;\n",
    "```"
   ]
  },
  {
   "cell_type": "code",
   "execution_count": 15,
   "metadata": {},
   "outputs": [
    {
     "name": "stdout",
     "output_type": "stream",
     "text": [
      "count\n",
      "732\n",
      "\n"
     ]
    }
   ],
   "source": [
    "response = qc.query(sql='SELECT COUNT(tileid) FROM desi_edr.tile;', fmt='csv', timeout=600)\n",
    "print(response)"
   ]
  },
  {
   "cell_type": "markdown",
   "metadata": {},
   "source": [
    "#### On which nights were a particular tile observed?\n",
    "\n",
    "```SQL\n",
    "SELECT night, expid FROM desi_edr.exposure WHERE tileid = 100;\n",
    "```"
   ]
  },
  {
   "cell_type": "code",
   "execution_count": 16,
   "metadata": {},
   "outputs": [
    {
     "name": "stdout",
     "output_type": "stream",
     "text": [
      "night,expid\n",
      "20210504,87236\n",
      "20210505,87361\n",
      "\n"
     ]
    }
   ],
   "source": [
    "response = qc.query(sql='SELECT night, expid FROM desi_edr.exposure WHERE tileid = 100;', fmt='csv', timeout=600)\n",
    "print(response)"
   ]
  },
  {
   "cell_type": "markdown",
   "metadata": {},
   "source": [
    "#### Which tiles were observed on a night?\n",
    "\n",
    "```SQL\n",
    "SELECT tileid, survey, program FROM desi_edr.exposure WHERE night = 20210115;\n",
    "```"
   ]
  },
  {
   "cell_type": "code",
   "execution_count": 12,
   "metadata": {},
   "outputs": [
    {
     "name": "stdout",
     "output_type": "stream",
     "text": [
      "tileid,survey,program\n",
      "80715,sv1,other\n",
      "80715,sv1,other\n",
      "80715,sv1,other\n",
      "80674,sv1,dark\n",
      "80674,sv1,dark\n",
      "80674,sv1,dark\n",
      "80678,sv1,dark\n",
      "80678,sv1,dark\n",
      "80680,sv1,dark\n",
      "80680,sv1,dark\n",
      "80683,sv1,dark\n",
      "80683,sv1,dark\n",
      "80685,sv1,dark\n",
      "80685,sv1,dark\n",
      "80688,sv1,dark\n",
      "80688,sv1,dark\n",
      "80690,sv1,dark\n",
      "80690,sv1,dark\n",
      "80653,sv1,bright\n",
      "80653,sv1,bright\n",
      "80699,sv1,dark\n",
      "80699,sv1,dark\n",
      "80655,sv1,bright\n",
      "80700,sv1,dark\n",
      "80700,sv1,dark\n",
      "80660,sv1,bright\n",
      "80660,sv1,bright\n",
      "80662,sv1,bright\n",
      "80662,sv1,bright\n",
      "80663,sv1,bright\n",
      "80663,sv1,bright\n",
      "80707,sv1,dark\n",
      "80707,sv1,dark\n",
      "80665,sv1,bright\n",
      "80665,sv1,bright\n",
      "\n"
     ]
    }
   ],
   "source": [
    "response = qc.query(sql='SELECT tileid, survey, program FROM desi_edr.exposure WHERE night = 20210115;', fmt='csv', timeout=600)\n",
    "print(response)"
   ]
  },
  {
   "cell_type": "markdown",
   "metadata": {},
   "source": [
    "### Select ELG Targets\n",
    "\n",
    "Note the special way we obtain the bitwise AND operator (`desi_mask.ELG == 2**1`).\n",
    "\n",
    "```SQL\n",
    "SELECT * from desi_edr.target WHERE (desi_target & 2) != 0;\n",
    "```"
   ]
  },
  {
   "cell_type": "code",
   "execution_count": 17,
   "metadata": {},
   "outputs": [
    {
     "name": "stdout",
     "output_type": "stream",
     "text": [
      "id,subpriority,targetid,obsconditions,priority_init,numobs_init,hpxpixel,cmx_target,desi_target,bgs_target,mws_target,sv1_desi_target,sv1_bgs_target,sv1_mws_target,sv2_desi_target,sv2_bgs_target,sv2_mws_target,sv3_desi_target,sv3_bgs_target,sv3_mws_target,scnd_target,sv1_scnd_target,sv2_scnd_target,sv3_scnd_target,random_id,tileid,photsys,program,survey\n",
      "158457821059512681299414356074,0.114412116058406,39628267690397802,1,3200,2,27991,0,655458,0,0,0,0,0,0,0,0,0,0,0,0,0,0,0,98.2995,81100,S,dark,special\n",
      "158457821059512681299414355923,0.528282631591801,39628267690397651,1,3100,2,27991,0,655394,0,0,0,0,0,0,0,0,0,0,0,0,0,0,0,56.4003,81100,S,dark,special\n",
      "158457821059512681305047305049,0.830456333421932,39628273323346777,1,3200,2,27998,0,720931,0,0,0,0,0,0,0,0,0,0,0,0,0,0,0,64.134,81100,S,dark,special\n",
      "158457821059512681305047305350,0.105351160185103,39628273323347078,1,3100,2,27998,0,655394,0,0,0,0,0,0,0,0,0,0,0,0,0,0,0,49.5637,81100,S,dark,special\n",
      "158457821059512681299422744039,0.834180670680138,39628267698785767,1,3100,2,27991,0,655394,0,0,0,0,0,0,0,0,0,0,0,0,0,0,0,95.5446,81100,S,dark,special\n",
      "158457821059512681305064084098,0.994602096967192,39628273340125826,1,3100,2,27996,0,655394,0,0,0,0,0,0,0,0,0,0,0,0,0,0,0,88.5944,81100,S,dark,special\n",
      "158457821059512681305080857854,0.701017608725426,39628273356899582,1,3100,2,27997,0,655394,0,0,0,0,0,0,0,0,0,0,0,0,0,0,0,70.2496,81100,S,dark,special\n",
      "158457821059512681305080856676,0.264569837776443,39628273356898404,1,3100,2,27997,0,655394,0,0,0,0,0,0,0,0,0,0,0,0,0,0,0,19.6422,81100,S,dark,special\n",
      "158457821059512681293714294238,0.329699953172482,39628261990335966,1,3100,2,27996,0,655394,0,0,0,0,0,0,0,0,0,0,0,0,0,0,0,12.3718,81100,S,dark,special\n",
      "158457821059512681293710100500,0.44592492111185,39628261986142228,1,3100,2,27996,0,655394,0,0,0,0,0,0,0,0,0,0,0,0,0,0,0,23.1884,81100,S,dark,special\n",
      "\n"
     ]
    }
   ],
   "source": [
    "response = qc.query(sql='SELECT * FROM desi_edr.target WHERE (desi_target & 2) != 0 LIMIT 10;', fmt='csv', timeout=600)\n",
    "print(response)"
   ]
  },
  {
   "cell_type": "code",
   "execution_count": null,
   "metadata": {},
   "outputs": [],
   "source": [
    "[(row.targetid, row.desi_target, row.survey, row.program, row.tileid) for row in q[:10]]"
   ]
  },
  {
   "cell_type": "markdown",
   "metadata": {},
   "source": [
    "#### Exercise\n",
    "\n",
    "* How many objects in the `zpix` table have `spectype` 'GALAXY'?"
   ]
  },
  {
   "cell_type": "markdown",
   "metadata": {},
   "source": [
    "### Redshift and Classification\n",
    "\n",
    "Simple query filtering on string values. Note that the slice notation `[:20]` is equivalent to `LIMIT 20` in SQL.\n",
    "\n",
    "```SQL\n",
    "SELECT spectype, subtype, z FROM desi_edr.zpix WHERE spectype = 'STAR' AND subtype != '' LIMIT 20;\n",
    "```"
   ]
  },
  {
   "cell_type": "code",
   "execution_count": 18,
   "metadata": {},
   "outputs": [
    {
     "name": "stdout",
     "output_type": "stream",
     "text": [
      "spectype,subtype,z\n",
      "STAR,K,2.50139879461232e-05\n",
      "STAR,K,-8.70415119232334e-05\n",
      "STAR,K,-0.000401614832495882\n",
      "STAR,K,-9.3484725432616e-05\n",
      "STAR,K,-0.000186847570876283\n",
      "STAR,G,-0.000131834190257121\n",
      "STAR,K,-7.36032417051396e-05\n",
      "STAR,G,-0.000237380789420343\n",
      "STAR,G,-0.000163911498938115\n",
      "STAR,M,-6.71986958098689e-05\n",
      "STAR,K,-0.000310954262469902\n",
      "STAR,F,0.000166544303106688\n",
      "STAR,WD,0.000224241838834416\n",
      "STAR,G,-4.62911822587923e-05\n",
      "STAR,K,-0.000221235120053661\n",
      "STAR,F,-0.000521280126039622\n",
      "STAR,K,-7.24315494706512e-05\n",
      "STAR,K,0.000248578873712394\n",
      "STAR,G,-0.000372678693179787\n",
      "STAR,M,-8.89373659473731e-05\n",
      "\n"
     ]
    }
   ],
   "source": [
    "response = qc.query(sql=\"SELECT spectype, subtype, z FROM desi_edr.zpix WHERE spectype = 'STAR' AND subtype != '' LIMIT 20;\", fmt='csv', timeout=600)\n",
    "print(response)"
   ]
  },
  {
   "cell_type": "markdown",
   "metadata": {},
   "source": [
    "## Joining Tables\n",
    "\n",
    "### A Simple Join\n",
    "\n",
    "Let's look at the nights and exposures on which a particular `TARGETID` was observed.\n",
    "\n",
    "```SQL\n",
    "SELECT f.tileid, e.expid, e.night FROM desi_edr.fiberassign AS f JOIN desi_edr.exposure AS e ON f.tileid = e.tileid WHERE f.targetid = 933811403620352;\n",
    "```"
   ]
  },
  {
   "cell_type": "code",
   "execution_count": 19,
   "metadata": {},
   "outputs": [
    {
     "name": "stdout",
     "output_type": "stream",
     "text": [
      "tileid,expid,night\n",
      "278,85086,20210416\n",
      "279,85206,20210417\n",
      "279,85207,20210417\n",
      "279,85208,20210417\n",
      "279,85209,20210417\n",
      "280,86980,20210502\n",
      "280,86981,20210502\n",
      "\n"
     ]
    }
   ],
   "source": [
    "q = \"\"\"SELECT f.tileid, e.expid, e.night\n",
    "FROM desi_edr.fiberassign AS f\n",
    "JOIN desi_edr.exposure AS e ON f.tileid = e.tileid\n",
    "WHERE f.targetid = 933811403620352;\"\"\"\n",
    "response = qc.query(sql=q, fmt='csv', timeout=600)\n",
    "print(response)"
   ]
  },
  {
   "cell_type": "markdown",
   "metadata": {},
   "source": [
    "### Another Simple Join\n",
    "\n",
    "In this case, we'll look at photometric flux and measured redshift. We'll `ORDER`(`BY`) the results and `LIMIT` the query with slice notation.\n",
    "\n",
    "```SQL\n",
    "SELECT p.*, z.* FROM desi_edr.photometry AS p JOIN desi_edr.zpix AS z ON p.targetid = z.targetid ORDER BY z.z, p.flux_g LIMIT 50;\n",
    "```"
   ]
  },
  {
   "cell_type": "code",
   "execution_count": 20,
   "metadata": {},
   "outputs": [
    {
     "name": "stdout",
     "output_type": "stream",
     "text": [
      "ra,dec,elon,elat,glon,glat,ls_id,ref_id,targetid,ra_ivar,dec_ivar,dchisq_psf,dchisq_rex,dchisq_dev,dchisq_exp,dchisq_ser,ebv,flux_g,flux_r,flux_z,flux_ivar_g,flux_ivar_r,flux_ivar_z,mw_transmission_g,mw_transmission_r,mw_transmission_z,fracflux_g,fracflux_r,fracflux_z,fracmasked_g,fracmasked_r,fracmasked_z,fracin_g,fracin_r,fracin_z,psfdepth_g,psfdepth_r,psfdepth_z,galdepth_g,galdepth_r,galdepth_z,flux_w1,flux_w2,flux_w3,flux_w4,flux_ivar_w1,flux_ivar_w2,flux_ivar_w3,flux_ivar_w4,mw_transmission_w1,mw_transmission_w2,mw_transmission_w3,mw_transmission_w4,fiberflux_g,fiberflux_r,fiberflux_z,fibertotflux_g,fibertotflux_r,fibertotflux_z,ref_epoch,shape_r,shape_e1,shape_e2,shape_r_ivar,shape_e1_ivar,shape_e2_ivar,sersic,sersic_ivar,gaia_phot_g_mean_mag,gaia_phot_g_mean_flux_over_error,gaia_phot_bp_mean_mag,gaia_phot_bp_mean_flux_over_error,gaia_phot_rp_mean_mag,gaia_phot_rp_mean_flux_over_error,gaia_phot_bp_rp_excess_factor,gaia_astrometric_sigma5d_max,parallax,parallax_ivar,pmra,pmra_ivar,pmdec,pmdec_ivar,random_id,htm9,ring256,nest4096,brickid,brick_objid,release,nobs_g,nobs_r,nobs_z,allmask_g,allmask_r,allmask_z,wisemask_w1,wisemask_w2,maskbits,gaia_astrometric_params_solved,gaia_duplicated_source,ref_cat,morphtype,brickname,id,z,zerr,chi2,coeff_0,coeff_1,coeff_2,coeff_3,coeff_4,coeff_5,coeff_6,coeff_7,coeff_8,coeff_9,deltachi2,mean_fiber_ra,mean_fiber_dec,elon,elat,glon,glat,targetid,zwarn,npixels,ncoeff,coadd_exptime,mean_delta_x,rms_delta_x,mean_delta_y,rms_delta_y,std_fiber_ra,std_fiber_dec,mean_psf_to_fiber_specflux,tsnr2_gpbdark_b,tsnr2_elg_b,tsnr2_gpbbright_b,tsnr2_lya_b,tsnr2_bgs_b,tsnr2_gpbbackup_b,tsnr2_qso_b,tsnr2_lrg_b,tsnr2_gpbdark_r,tsnr2_elg_r,tsnr2_gpbbright_r,tsnr2_lya_r,tsnr2_bgs_r,tsnr2_gpbbackup_r,tsnr2_qso_r,tsnr2_lrg_r,tsnr2_gpbdark_z,tsnr2_elg_z,tsnr2_gpbbright_z,tsnr2_lya_z,tsnr2_bgs_z,tsnr2_gpbbackup_z,tsnr2_qso_z,tsnr2_lrg_z,tsnr2_gpbdark,tsnr2_elg,tsnr2_gpbbright,tsnr2_lya,tsnr2_bgs,tsnr2_gpbbackup,tsnr2_qso,tsnr2_lrg,random_id,htm9,ring256,nest4096,spgrpval,healpix,coadd_fiberstatus,coadd_numexp,coadd_numnight,coadd_numtile,sv_nspec,main_nspec,zcat_nspec,sv_primary,main_primary,zcat_primary,spgrp,subtype,program,spectype,survey\n",
      "242.669696831901,55.5532649095594,207.119847824184,73.0357160851925,85.6454248019652,44.4985460094539,0,0,222434603040803,0,0,326.431,351.194,350.143,351.441,0,0,0,0,0,0,0,0,0,0,0,0,0,0,0,0,0,0,0,0,0,0,0,0,0,0,0,0,0,0,0,0,0,0,0,0,0,0,0,0,0,0,0,0,2015.5,0,0,0,0,0,0,0,0,0,0,0,0,0,0,0,0,0,0,0,0,0,0,26.3799,3516174,69321,41598411,0,0,0,0,0,0,0,0,0,0,0,0,0,f,\"\",\"\",\"\",316912650112397805029907496995,-0.005,4.60082876947163e-05,13592.498231088,0,0,0,0,0,0,0,0,0,0,61.0516254257072,242.669702618207,55.5532654450949,207.119855423694,73.0357185514558,85.64542412997,44.4985427277838,222434603040803,1056,7928,10,17632.5,0.0008,0.00563323,-0.000133333,0.00565685,0.256609,0.0825299,0.791261,5301.56,4.02998,917.678,2765.53,19437.5,5586.18,108.556,43.0142,257413,547.986,43874.7,1.35085,49753.3,259159,171.511,787.614,0.000526625,2204.54,9.35654e-05,0,89659.4,0.000608629,459.69,997.796,262715,2756.56,44792.3,2766.88,158850,264745,739.758,1828.42,60.66,3516174,69321,41598411,10155,10155,0,15,5,1,1,0,1,t,f,t,healpix,\"\",other,GALAXY,sv1\n",
      "165.134033203125,51.2213745117188,142.918059840258,40.6416309897583,156.38534014263,58.0906242870965,0,0,103625095381015,0,0,758.038,822.524,821.971,831.261,0,0,0,0,0,0,0,0,0,0,0,0,0,0,0,0,0,0,0,0,0,0,0,0,0,0,0,0,0,0,0,0,0,0,0,0,0,0,0,0,0,0,0,0,2015.5,0,0,0,0,0,0,0,0,0,0,0,0,0,0,0,0,0,0,0,0,0,0,80.7894,3770436,86493,24336715,0,0,0,0,0,0,0,0,0,0,0,0,0,f,\"\",\"\",\"\",316912650112397686220399837207,-0.005,0.000141699738212187,12579.582769848,0.0003402276600691,-0.000718492466785343,0.00147914794028351,7.08394932201024e-05,0,0,0,0,0,0,1.4490217793973,165.134041550826,51.2213582406747,142.918076645254,40.641619610903,156.385358107493,58.0906384966432,103625095381015,1028,7928,10,16760.9,0.00122222,0.00392994,0.004,0.00847873,0.139842,0.109686,0.791456,5627.94,3.01246,986.984,2476.3,14922.6,6146.28,81.4346,28.7808,162564,444.192,28573.5,0.426052,28557.2,182250,116.994,582.687,0.00060629,1832.98,0.000106422,0,78486.2,0.000672001,388.967,861.955,168192,2280.19,29560.5,2476.73,121966,188396,587.396,1473.42,35.2299,3770436,86493,24336715,5941,5941,0,18,4,1,1,0,1,t,f,t,healpix,\"\",other,GALAXY,sv1\n",
      "224.447662353516,52.0875816345215,190.455220908268,63.5088030656298,88.1547779444925,55.6475634652026,0,0,103636998815828,0,0,1904.84,1904.76,1904.79,1904.8,0,0,0,0,0,0,0,0,0,0,0,0,0,0,0,0,0,0,0,0,0,0,0,0,0,0,0,0,0,0,0,0,0,0,0,0,0,0,0,0,0,0,0,0,2015.5,0,0,0,0,0,0,0,0,0,0,0,0,0,0,0,0,0,0,0,0,0,0,36.264,3657972,83332,46385788,0,0,0,0,0,0,0,0,0,0,0,0,0,f,\"\",\"\",\"\",316912650112397686232303272020,-0.005,3.7531752861205e-05,10884.2695095592,64.873270507828,43.1596505043193,1.760290939258,1.09118002420746,-0.405313692566257,0.817780040184242,-2.63533392655389,-1.22178258284424,-0.388294497443884,2.59308702413593,298.513166169017,224.447651767356,52.0875888412095,190.455199377056,63.5088044822672,88.1547949907327,55.647564778578,103636998815828,1056,7927,10,8140.23,-0.0016,0.00289828,-0.0018,0.00331662,0.0936802,0.0401838,0.791108,1404.71,1.55911,250.565,1065.41,7731.1,1642.34,42.5923,16.6875,183442,388.406,29910.8,1.18263,35343.4,162551,123.63,562.134,0.000199695,1052.75,3.52866e-05,0,46321.7,0.000227812,227.322,499.089,184847,1442.71,30161.4,1066.6,89396.2,164194,393.544,1077.91,56.3804,3657972,83332,46385788,11324,11324,0,5,3,1,1,0,1,t,f,t,healpix,\"\",other,GALAXY,sv1\n",
      "149.240284908295,2.47893651029508,150.486016610484,-9.41390011781103,235.843638979334,41.5610732724387,9906622400041930,0,234545026695170,4.20276e+09,4.06503e+09,226.638,237.584,241.062,241.189,0,0.0196851,0.288389,0.399304,0.658613,1148.7,652.399,89.9778,0.943393,0.961507,0.978283,0.0202883,0.00897884,0.00149544,0.0323477,0.0221351,0.0167565,0.989965,0.992744,0.993524,1664.45,1003.69,157.123,1043.59,573.681,74.8398,4.72354,4.13101,-54.2731,-820.349,2.97251,0.638295,0.000709835,1.00248e-05,0.99667,0.997953,0.999563,0.999835,0.174471,0.241573,0.398452,0.174471,0.241573,0.398452,0,0.364766,0,0,324.062,0,0,1,0,0,0,0,0,0,0,0,0,0,0,0,0,0,0,55.1522,3709809,376744,111651568,345364,5066,9010,4,6,5,0,0,0,0,0,0,0,f, ,REX,1491p025,316912650112397817140331151362,-0.005,4.68412420485803e-05,13201.7520997296,272.3256523599,-228.21857459868,97.4266644173255,-35.8464877501771,20.387122484253,-7.67980170995922,12.0616804827673,-1.22286290068836,-3.3023262422764,11.4503718906389,234.355880163155,149.239460013949,2.47688684810893,150.485952852654,-9.41610836090925,235.845257074826,41.559225472483,234545026695170,1056,7922,10,18180.9,-0.204316,0.630743,0.507737,1.56155,8.64165,21.6031,0.708572,4045.89,3.51639,1261.86,2484.9,30427,4523.31,86.4275,46.2746,226197,530.571,67561.3,1.05633,73635.2,231899,140.566,991.559,0.000609961,1850.03,0.000184827,0,144396,0.000674959,365.849,1201.92,230243,2384.12,68823.1,2485.95,248459,236423,592.842,2239.75,50.8841,3709809,376744,111651568,27258,27258,0,17,4,1,1,0,1,t,f,t,healpix,\"\",other,GALAXY,sv1\n",
      "192.238996669338,29.758244314749,178.070262279289,31.9101690096987,134.504808954847,87.3140331169525,9906632213006951,0,39628475656571495,3.06592e+09,2.64343e+09,168.429,178.592,179.974,181.724,0,0.0143217,0.371317,0.500192,0.926787,512.302,256.745,51.359,0.958491,0.971846,0.984153,0.0098697,0.00456217,0.00643505,0.0229702,0.00993788,0.0186134,0.9902,0.995527,0.990124,662.591,419.303,79.0038,471.893,222.135,44.8082,2.13387,0.71249,-48.9044,940.159,3.51011,0.773744,0.000982226,1.22483e-05,0.997576,0.998511,0.999682,0.99988,0.225895,0.304297,0.563822,0.225897,0.304303,0.563828,0,0.360133,0,0,211.077,0,0,1,0,0,0,0,0,0,0,0,0,0,0,0,0,0,0,81.3692,3587793,197667,42640427,495098,2663,9010,2,2,3,0,0,0,0,0,0,0,f, ,REX,1922p297,237684487579726129403707525735,-0.005,3.46079818634929e-05,7234.7270121106,0,0,0,0,0,0,0,0,0,0,5.74254207526974,192.239018384999,29.7582246285536,178.070292641944,31.9101601421165,134.504501662033,87.3140562594697,39628475656571495,1060,7914,10,120.035,0.005,0.005,0.005,0.005,0,0,0.775998,8.78156,0.00409255,1.75654,3.08944,24.5376,14.4497,0.107592,0.0423758,283.693,0.87292,56.3396,0.000627061,50.4746,454.014,0.207022,1.10881,1.56293e-06,4.80819,3.06966e-07,0,263.534,2.37975e-06,1.05154,2.45018,292.475,5.6852,58.0962,3.09007,338.546,468.464,1.36615,3.60137,94.909,3587793,197667,42640427,10410,10410,0,1,1,1,0,0,1,f,f,t,healpix,\"\",dark,GALAXY,special\n",
      "220.429916629034,-1.01872532013473,218.342491150209,13.9817391115292,350.70797727235,51.3239346399861,9906621097513700,0,39627764264866532,1.04371e+10,9.94962e+09,282.877,285.534,285.763,285.865,0,0.0460248,0.376231,0.462276,0.735718,1211.32,379.063,55.4031,0.872631,0.91231,0.949961,0.000971035,0.00279954,0.00201073,0.0138243,0.0173795,0.026234,0.992954,0.991557,0.534334,1296.52,394.551,56.0306,671.839,218.324,25.9098,2.38824,1.24861,-41.762,-497.896,3.27219,0.702907,0.00166692,2.23891e-05,0.99223,0.995221,0.998979,0.999614,0.293024,0.360039,0.573007,0.293024,0.360039,0.573007,0,0,0,0,0,0,0,0,0,0,0,0,0,0,0,0,0,0,0,0,0,0,0,6.82423,2654718,400499,106223555,325489,4836,9010,2,2,1,0,0,0,0,0,0,0,f, ,PSF,2203m010,237684487635066360913444475620,-0.005,6.70499061739008e-05,8489.04907967885,382.759530450278,186.280231856876,20.9562059479236,-31.2930615244578,-17.6718732543678,14.3407371346998,-10.9970581877313,-10.646930847365,-4.62029314634493,9.83700259035964,0.89265625562075,220.432765290417,-1.02062185648265,218.345889607864,13.9808259760067,350.709404132616,51.3206310023445,39627764264866532,1060,7929,10,3813.21,0.709167,1.72405,0.469167,1.14841,22.727,15.2553,0.6575,1008.49,0.628396,510.558,401.947,8464.26,980.252,13.4926,11.1007,61053.1,134.649,29323.8,0.201272,34501.3,52579.2,32.2713,371.506,9.33101e-05,502.848,4.34712e-05,0,58832.1,9.70431e-05,84.0896,429.576,62061.6,638.126,29834.3,402.148,101798,53559.5,129.853,812.182,28.5275,2654718,400499,106223555,25933,25933,0,5,2,2,1,0,1,t,f,t,healpix,\"\",dark,GALAXY,sv3\n",
      "210.890279432142,4.73919287224132,207.042596980342,16.2197138894505,343.63605610341,61.7706320669857,9906623264523405,0,39627902953718925,1.03024e+10,9.82911e+09,388.315,388.375,0,0,0,0.025145,0.402784,0.492405,0.729579,1193.47,621.041,81.4771,0.928268,0.951096,0.972344,0,0,0,0.0259061,0.0137365,0.0190032,0.984549,0.989841,0.985478,1249.85,641.588,82.3781,831.949,342.565,46.5765,1.33792,2.33956,-22.3548,88.4942,3.50587,0.771942,0.00153752,2.13823e-05,0.995748,0.997386,0.999442,0.999789,0.313794,0.383615,0.56839,0.313794,0.383615,0.56839,0,0,0,0,0,0,0,0,0,0,0,0,0,0,0,0,0,0,0,0,0,0,0,67.081,3569399,361560,106840047,358555,1165,9010,3,3,3,0,0,0,0,0,0,0,f, ,PSF,2109p047,237684487635066361052133328013,-0.005,3.28222917916458e-05,7990.35846463278,2372.3152316423,-543.931561516158,-314.755536086803,317.426724157217,-38.0426817515169,0,0,0,0,0,1.71877084729022,210.890267671983,4.73920078977802,207.042582640526,16.2197171232935,343.636045710204,61.7706453288674,39627902953718925,1060,7918,10,2289.7,-0.003,0.00412311,-0.002,0.00244949,0.0401776,0.0199506,0.789,522.538,0.367613,94.6179,354.753,1778.35,623.042,9.99271,3.02968,31341.3,62.558,5383.56,0.131448,6398.63,31571.5,20.6451,93.6368,5.30603e-05,233.379,9.58923e-06,0,10888.6,6.33367e-05,50.5493,112.811,31863.8,296.305,5478.18,354.885,19065.5,32194.5,81.187,209.478,48.9806,3569399,361560,106840047,26083,26083,0,3,2,2,1,0,1,t,f,t,healpix,\"\",dark,GALAXY,sv3\n",
      "251.791031200634,35.4334236578701,242.032554597876,57.1180465702359,57.8511612950065,39.6862662043688,9907733568555419,0,39632991714019739,8.44442e+09,9.79161e+09,341.054,343.614,344.037,344.301,0,0.0184208,0.423864,0.508099,0.905529,653.67,238.377,199.27,0.946931,0.963935,0.979664,0,0,0,0.0275099,0.0214039,0.00857408,0.984696,0.984327,0.993045,719.764,252.605,205.987,560.742,174.277,97.962,0.251363,0.858546,-15.5712,9.48797,6.06723,1.50515,0.00178402,2.22466e-05,0.996883,0.998085,0.999591,0.999846,0.330034,0.395622,0.705073,0.330034,0.395622,0.705073,0,0,0,0,0,0,0,0,0,0,0,0,0,0,0,0,0,0,0,0,0,0,0,93.5671,3646576,165068,38620994,523234,2459,9011,4,4,3,0,0,0,0,0,0,0,f, ,PSF,2517p355,237684487635066366140893628827,-0.005,3.86472771232827e-05,7981.35267261113,-15.4064170263639,-98.1838662735604,-595.818489426617,-253.742868769501,525.971695589746,-272.252627085555,-26.2502200730274,-284.404719645044,73.5833272343419,-5.43000623579075,0.150291170230048,251.79101743673,35.4333780752362,242.032553712463,57.1179996307564,57.8511006258043,39.6862710791071,39632991714019739,1060,7925,10,2845.61,-0.00266667,0.00424264,0.0116667,0.0138924,0.0732447,0.106641,0.789,240.993,0.330034,45.2291,261.122,1666.92,313.793,8.90009,3.15849,31119.5,65.9824,5445.38,0.202161,6412.41,32108.9,20.5228,95.9205,3.55654e-05,236.752,6.61439e-06,0,9948.23,4.50942e-05,48.2111,106.962,31360.5,303.064,5490.61,261.325,18027.5,32422.7,77.634,206.041,69.8144,3646576,165068,38620994,9428,9428,0,3,2,2,1,0,1,t,f,t,healpix,\"\",dark,GALAXY,sv3\n",
      "188.194869491719,57.1330132258796,153.901092876485,53.2633615918653,127.967206586126,59.8124525939305,9907739203996548,0,39633352382221188,9.18288e+09,9.31715e+09,533.563,535.323,535.952,536.175,0,0.0108648,0.645119,0.751905,1.32465,620.399,236.204,84.085,0.96835,0.978568,0.987955,0,0,0,0.0155006,0.00692715,0.0151216,0.991573,0.99515,0.995668,671.413,241.376,87.248,523.027,165.038,50.104,4.54589,3.36402,24.2171,-36.7102,4.69138,1.19128,0.00200507,2.51539e-05,0.99816,0.99887,0.999759,0.999909,0.502558,0.585746,1.03193,0.502558,0.585746,1.03193,0,0,0,0,0,0,0,0,0,0,0,0,0,0,0,0,0,0,0,0,0,0,0,23.1315,3504084,63384,45743858,609224,2948,9011,3,3,3,0,0,0,0,0,0,0,f, ,PSF,1880p572,237684487616619622427852278660,-0.005,5.24712278023601e-05,7776.84729105831,-73.6330496314456,16.7102857854788,-22.1298420269947,22.9558751132658,-1.16759223992004,0.141039868880907,36.0072120462206,-2.58521809534231,-0.198383873119123,-9.7791078731957,4.1569642066861,188.194906849889,57.1330171609676,153.901114062643,53.2633778992679,127.967165560076,59.812451617985,39633352382221188,1060,7816,10,640.782,0.005,0.005,-0.001,0.001,0,0,0.789,144.882,0.0814888,26.6717,66.0577,430.24,184.436,2.19088,0.796697,12430.9,25.8412,2127.71,0.0500555,2458.34,12430.4,8.23516,37.7393,1.84257e-05,80.8085,3.37595e-06,0,3583.26,2.32066e-05,17.2155,37.9052,12575.8,106.731,2154.38,66.1078,6471.83,12614.9,27.6416,76.4412,0.887529,3504084,63384,45743858,11167,11167,0,1,1,1,1,0,1,t,f,t,healpix,\"\",dark,GALAXY,sv2\n",
      "235.187267009397,42.4909851891864,214.262581698251,59.3787458864529,68.3101718806911,52.4839962378722,9907735621861878,0,39633123125756406,1.10833e+10,1.12245e+10,715.682,721.252,728.898,721.765,730.94,0.027133,0.763588,0.981288,1.35165,565.614,265.388,79.9726,0.922822,0.947333,0.97019,0.0122465,0.0110041,0.0376748,0.0138955,0.00819561,0.0170859,0.96167,0.996678,0.997628,922.777,453.649,153.999,623.662,279.384,82.6644,-0.524118,-4.86655,11.0639,206.478,5.49513,1.49375,0.00352094,4.12643e-05,0.995412,0.99718,0.999398,0.999773,0.433387,0.556946,0.767152,0.433387,0.556946,0.767152,0,0.379928,0.0733119,0.155731,444.018,41.6162,69.8429,4,0,0,0,0,0,0,0,0,0,0,0,0,0,0,0,27.3862,3642522,127162,40465938,554565,502,9011,4,5,3,0,0,0,0,0,0,0,f, ,DEV,2353p425,237684487635066366272305365494,-0.005,6.0195376265909e-05,7881.11864145883,221.144946847314,427.495121267461,-47.6392551765502,21.7771655724863,-8.99262439916093,5.14813263472694,-1.29182508533344,0.932687314512343,1.60131590734488,-11.3372391335063,1.11462941168611,235.187245605975,42.4909826395106,214.262556194759,59.3787365678319,68.3101723655127,52.484012222303,39633123125756406,1060,7929,10,2554.45,-0.004,0.00432049,0.000666667,0.00697615,0.0401805,0.0976489,0.777454,1041.24,0.449554,179.691,297.77,2353.22,1146.26,11.9558,4.895,46187.4,107.251,7496.21,0.133673,8360.31,41779.1,31.7513,151.554,8.73728e-05,326.99,1.51159e-05,0,14197.6,9.66518e-05,70.0854,157.017,47228.7,434.691,7675.9,297.904,24911.1,42925.4,113.793,313.466,74.2992,3642522,127162,40465938,9879,9879,0,3,3,3,1,0,1,t,f,t,healpix,\"\",dark,GALAXY,sv3\n",
      "291.13556598825,64.3536350168849,355.676759923193,80.9957278294584,95.6568167683255,20.8311078591767,9907740512815440,0,39633436146665808,1.2466e+10,1.1558e+10,761.489,761.485,761.483,761.492,0,0.0982834,0.801658,1.18934,1.3972,501.935,171.648,101.219,0.747561,0.822028,0.896172,0.000954091,0.000643844,0.00262422,0.0315849,0.0117544,0.00965927,0.997501,0.998837,0.997881,505.034,173.927,98.0453,405.533,121.512,59.2817,4.77841,6.53356,-11.3914,-169.684,7.15157,2.07114,0.00362681,3.98802e-05,0.983482,0.989823,0.997821,0.999177,0.623133,0.924484,1.08605,0.623133,0.924484,1.08605,0,0,0,0,0,0,0,0,0,0,0,0,0,0,0,0,0,0,0,0,0,0,0,65.1968,3238787,38813,65256290,629195,2384,9011,2,2,3,0,0,0,0,0,0,0,f, ,PSF,2911p642,237684487579726134364197620048,-0.005,4.92082703301527e-05,7475.60832096248,185.038270891888,-204.595801496133,-61.5463067240162,-112.11723514933,19.7710855730407,-30.8010113305014,33.0714302163779,-5.38544591335271,12.6630510891517,2.85709480935455,0.765648204986064,291.135524962318,64.3536472638035,355.676786231014,80.9957490033296,95.6568227566747,20.8311286908904,39633436146665808,1060,7910,10,120.033,-0.005,0.005,-0.003,0.003,0,0,0.789,5.53794,0.00278012,1.10533,2.11218,16.5818,9.15647,0.073548,0.0280065,476.227,0.913723,91.9684,0.00198777,111.119,684.63,0.305255,1.39413,7.56762e-07,4.54394,1.49152e-07,0,247.123,1.18742e-06,0.99468,2.26035,481.765,5.46044,93.0737,2.11417,374.824,693.786,1.37348,3.68249,74.0516,3238787,38813,65256290,15931,15931,0,1,1,1,0,0,1,f,f,t,healpix,\"\",dark,GALAXY,special\n",
      "217.723023944287,52.9407788525067,182.506318589528,61.5017855151825,94.1315070800935,58.2672835786298,9907738287669768,0,39633293737460232,1.55566e+08,1.79371e+08,38.1534,49.1681,40.9707,49.5783,0,0.00953882,1.03619,1.16814,0.885411,61.2326,14.3548,6.59808,0.972158,0.981159,0.989417,0,0,0,0.304477,0.32216,0.233056,0.762537,0.760131,0.707468,619.04,137.113,104.873,440.242,95.908,61.9684,0.300569,-0.685985,2.01741,276.656,3.97419,1.06756,0.00263194,3.60064e-05,0.998385,0.999008,0.999788,0.99992,0.101243,0.114136,0.0865113,0.101243,0.114136,0.0865113,0,2.22128,0,0,199.804,0,0,1,0,0,0,0,0,0,0,0,0,0,0,0,0,0,0,73.5578,3613598,79285,46723119,595242,520,9011,3,3,3,0,0,0,0,0,0,0,f, ,REX,2178p530,237684487598172878295497966088,-0.005,5.04378877449098e-05,8277.35546771997,5.63299929834899,-12.9197534325056,76.9600569149005,40.3192030100863,-87.7804275721735,-9.7575162757211,5.05744152365546,-22.7254253450007,7.33290603389963,-3.45498425256444,1.8961472082774,217.722028683019,52.9368486199412,182.510804827076,61.4984352670322,94.1269916212456,58.270472100967,39633293737460232,1060,7927,10,7803.53,-0.128417,0.247979,0.976083,1.95467,9.88515,24.5492,0.557623,715.879,0.533919,242.911,381.84,5004.25,871.146,13.1186,7.34449,51084.9,116.096,18027.5,0.218364,20231.7,54738.9,30.7259,242.938,8.35738e-05,458.856,3.09085e-05,0,38598.1,0.000102397,80.616,308.176,51800.8,575.486,18270.4,382.058,63834.1,55610.1,124.46,558.459,68.4144,3613598,79285,46723119,11407,11407,0,9,3,1,1,0,1,t,f,t,healpix,\"\",dark,GALAXY,sv1\n",
      "106.931603809408,55.9038429458516,101.241030089314,33.1233586653096,160.810200190165,24.3951997602114,9907738931363894,0,39633334933913654,8.17825e+11,8.52374e+11,38077.4,40183.9,40404.6,40289.9,0,0.0505956,1.97763,7.93039,17.0531,550.312,162.947,95.4803,0.860903,0.904033,0.94513,0.0219555,0.0112308,0.00607427,0.00908928,0.00455155,0.0464746,0.997243,0.998602,0.881197,739.973,317.221,191.923,571.533,210.77,100.745,24.3191,13.8818,-79.672,-712.484,3.30491,0.896876,0.00110042,1.48992e-05,0.991462,0.994748,0.998878,0.999576,1.23211,4.94081,10.6244,1.23586,4.95319,10.6435,0,0.33836,0,0,259891,0,0,1,0,0,0,0,0,0,0,0,0,0,0,0,0,0,0,80.5469,3767055,67562,28763757,605064,54,9011,3,3,5,0,0,0,0,0,0,0,f, ,REX,1071p560,158456325083908540743150469174,-0.005,9.00681789918724e-05,7775.99428597388,1129.30606356256,940.402367656128,50.6279399909535,-99.3508652892257,-6.19148471302677,5.14555080837969,-71.1355710247872,5.51764742124751,-0.636239300211679,10.7175748747751,3.98211634399013,106.929490487722,55.9073430552261,101.239051084996,33.1266612761249,160.806163572861,24.3948262696068,39633334933913654,1060,7927,10,1800,0.958567,1.77685,0.882033,1.17581,82.5085,12.1067,0.147969,738.96,0.526678,706.791,243.586,13965.9,624.7,7.27999,14.6007,59740.5,140.938,55728.7,0.149651,63483.7,45394.3,21.1586,599.458,0.000131359,785.218,0.000124341,0,152159,0.00010544,78.6684,1004.34,60479.5,926.683,56435.5,243.735,229609,46019,107.107,1618.4,41.5767,3767055,67562,28763768,7022,7022,0,6,1,1,1,0,1,t,f,t,healpix,\"\",bright,GALAXY,sv1\n",
      "266.211974684008,65.8261846965568,203.917417474533,88.304054534127,95.5796037385173,31.3595994988531,9907740750253059,1633224437440789120,39633451342629891,2.71555e+12,6.53685e+12,14201.8,14199.1,14199.9,14200.1,0,0.0477238,3.36023,4.87858,5.37419,645.626,189.8,83.0268,0.868253,0.909225,0.948162,0,0,0,0.00652573,0.00548116,0.0127682,0.99834,0.998107,0.999533,916.282,239.747,89.0625,627.157,173.91,51.0189,9.64943,11.5527,66.1773,221.783,10.9204,5.04477,0.0554696,0.0006439,0.991945,0.995045,0.998941,0.9996,2.61717,3.79976,4.18577,2.61717,3.79976,4.18577,2015.5,0,0,0,0,0,0,0,0,20.8419,56.8345,21.3041,5.56007,20.1474,4.6526,1.28662,7.71213,0,0,0,0,0,0,28.8689,3511200,34447,47533087,632818,3075,9011,3,3,3,0,0,0,0,0,0,3,f,G2,PSF,2660p657,237684487635066366600522238979,-0.005,6.96765264631135e-05,39433.4825743691,2308.39634118797,184.557811580214,-114.868724532567,-49.5138144757674,49.4599484368691,0,0,0,0,0,1626.77555346931,266.211994183302,65.826177044535,203.917771153288,88.3040581049484,95.5795942879712,31.3595919364323,39633451342629891,1056,7928,10,2921.7,0.002,0.00494975,0.002,0.00244949,0.369466,0.0190904,0.789,850.343,0.384104,152.116,267.157,2036.59,936.652,10.1073,4.15127,32961.7,76.6694,5715.84,0.102561,6129.91,33257.2,22.007,107.301,0.000108236,321.786,1.91538e-05,0,14765.2,0.000116339,68.8538,157.489,33812,398.839,5867.96,267.26,22931.7,34193.8,100.968,268.942,73.8912,3511200,34447,47533087,11604,11604,0,4,3,3,1,0,1,t,f,t,healpix,\"\",dark,GALAXY,sv3\n",
      "160.260182689717,80.1634156535713,109.872585632927,61.768330901027,129.404576815452,35.2658836170836,9907742350509265,1133148059292132480,39633553759143121,7.3324e+14,5.21007e+14,487012,487000,486997,487000,0,0.0266077,30.6108,42.9943,46.7004,187.277,84.8927,70.8972,0.924258,0.948326,0.970759,3.6516e-07,3.86992e-06,5.4421e-06,0.00069903,0.00134661,0.0147989,0.999958,0.999958,1.00013,636.113,188.765,100.837,486.751,139.863,62.6236,10.8482,4.85283,-3.36662,-234.04,5.28692,1.59818,0.0020223,2.44107e-05,0.995501,0.997235,0.99941,0.999777,23.8235,33.4611,36.3455,23.8235,33.4611,36.3455,2015.5,0,0,0,0,0,0,0,0,18.4842,540.726,18.757,41.6367,18.012,57.4982,1.22843,0.27897,0.181391,30.7362,-1.95833,12.6963,-4.93279,14.311,61.425,3749802,5606,32978949,657236,1233,9011,3,4,5,0,0,0,0,0,0,31,f,G2,PSF,1604p802,79228162569644203368431748305,-0.005,7.01411462484097e-05,5626.7457875847,41.3952986183208,-50.8799150270384,33.9283405784353,-37.9531676647189,8.56791554305318,17.0959794589274,31.6189643039876,-12.0548266469727,-2.93149123150434,33.1249822940705,39.4926343955922,160.260207084857,80.1634166719535,109.872589313765,61.7683348220695,129.404571951505,35.2658852403104,39633553759143121,1024,7749,10,1820.03,0.002,0.002,-0.002,0.002,0,0,0.789,1.36934,0.000914214,0.278795,0.935537,5.03889,2.72285,0.0252554,0.00825691,137.357,0.298872,27.9407,0.000875977,32.7034,271.883,0.0941459,0.427423,3.27433e-07,1.08193,6.66518e-08,0,51.0287,6.50438e-07,0.22555,0.490838,138.726,1.38172,28.2195,0.936413,88.771,274.606,0.344951,0.926518,44.3714,3749802,5606,32978949,8051,8051,0,1,1,1,1,0,1,t,f,t,healpix,\"\",backup,GALAXY,sv1\n",
      "218.429596647849,34.58521910674,200.699670992094,46.4139364352183,58.0445188260822,66.8938182619648,9907733251620998,0,39632971430363270,1.38066e+09,1.40046e+09,77.4652,77.4007,0,0,0,0.0112152,0.322118,0.260959,0.380534,454.584,230.249,119.411,0.967346,0.977885,0.987569,0,0,0,0.0503168,0.0298154,0.0278927,0.977065,0.986463,0.982614,482.493,222.995,108.402,358.73,152.417,62.1693,3.25982,2.08465,-15.2022,163.67,4.91222,1.20673,0.00257801,3.12259e-05,0.998101,0.998833,0.999751,0.999906,0.250468,0.202913,0.29589,0.250468,0.202913,0.29589,0,0,0,0,0,0,0,0,0,0,0,0,0,0,0,0,0,0,0,0,0,0,0,36.2026,3666320,170093,37482136,518398,134,9011,3,3,3,0,0,0,0,0,0,0,f, ,PSF,2185p345,237684487635066366120609972358,-0.00498711921143957,3.58207294618218e-05,7945.56709704933,619.31721310359,1561.56956584978,-327.476998236713,340.023084587293,-54.064300377313,25.6524075875465,-277.332550185943,-8.27872949923979,15.7361831631605,7.18519590209228,0.622924549501477,218.429584362327,34.5852151571649,200.699660494723,46.4139283406338,58.0445142487136,66.8938289705899,39632971430363270,36,7924,10,916.039,-0.0025,0.00254951,0.001,0.00141421,0.0108445,0.0145897,0.789,251.643,0.214151,44.9164,188.747,1023.86,295.85,5.86896,1.89789,16132,35.5091,2712.88,0.0810876,3137.13,15749.9,11,50.5296,2.93707e-05,122.951,5.19994e-06,0,5803.31,3.3853e-05,27.421,60.5538,16383.6,158.674,2757.8,188.828,9964.3,16045.8,44.29,112.981,84.824,3666320,170093,37482136,9150,9150,0,2,2,1,1,0,1,t,f,t,healpix,\"\",dark,GALAXY,sv3\n",
      "244.79684764003,43.8257324287157,226.475329320727,63.5062837982663,68.9831970745246,45.3661750294343,9907735968812855,0,39633145330405175,2.2616e+09,2.33797e+09,99.8336,99.8938,0,0,0,0.01453,0.301417,0.322585,0.620725,496.262,111.937,114.259,0.9579,0.971442,0.983924,0.0150522,0.0643543,0.00391463,0.0306182,0.0934574,0.0187166,0.995,0.984692,0.99061,485.452,101.936,112.453,335.41,81.4763,61.2889,5.97727,10.3004,15.3498,708.614,6.06078,1.57634,0.00549091,6.38444e-05,0.997541,0.998489,0.999678,0.999878,0.234684,0.251166,0.483298,0.234689,0.251169,0.483305,0,0,0,0,0,0,0,0,0,0,0,0,0,0,0,0,0,0,0,0,0,0,0,86.7406,3653064,121209,40234414,559859,3895,9011,2,2,3,0,0,0,0,0,0,0,f, ,PSF,2446p437,237684487635066366294510014263,-0.00498464799337274,0.000110973661967604,7742.41944085184,-22.6527619006084,-220.499122068842,-679.876388185358,-250.434380542915,610.302923314916,-217.252366193851,30.74745313908,-207.794263122761,48.7323714436245,-23.9062007297611,1.06692227599251,244.796829468786,43.8257400548046,226.475295643324,63.506285875467,68.9832092545412,45.3661875510695,39633145330405175,36,7927,10,2506.32,-0.00333333,0.00476095,-0.002,0.00739369,0.0921452,0.102352,0.789,697.555,0.562879,124.403,400.329,2787.99,785.922,15.1423,5.73173,43357.2,95.8604,7316.98,0.232386,8161.76,41174,28.9039,135.665,0.000104703,347.793,1.84115e-05,0,15264,0.000113434,74.2641,166.177,44054.7,444.216,7441.39,400.562,26213.8,41960,118.31,307.573,78.975,3653064,121209,40234414,9822,9822,0,3,3,3,1,0,1,t,f,t,healpix,\"\",dark,GALAXY,sv3\n",
      "226.733535461731,31.0885082754916,211.997614141757,46.2033871438748,48.7628348207572,60.2555437721458,9906632628635819,0,39628502256847019,9.8728e+08,7.17157e+08,42.6449,42.911,0,0,0,0.0196303,0.282215,0.150698,0.302225,431.395,290.14,19.8396,0.943546,0.961613,0.978343,0,0,0,0.0407678,0.0362151,0.0414276,0.975012,0.958392,0.596251,453.592,288.626,17.4335,300.469,182.437,10.25,1.03816,1.39314,-2.82411,129.789,5.05165,1.20613,0.00325108,3.87602e-05,0.996679,0.997959,0.999564,0.999835,0.219636,0.117282,0.235208,0.219636,0.117282,0.235208,0,0,0,0,0,0,0,0,0,0,0,0,0,0,0,0,0,0,0,0,0,0,0,25.1209,3667394,189573,37152779,501440,2219,9010,1,2,1,0,0,0,0,0,0,0,f, ,PSF,2267p310,237684487598172873504017352875,-0.00498389817403406,3.53950529407932e-05,7960.80512008182,22.5106736206286,-21.3545166586193,-60.3160894990071,-15.6418792720122,62.2422144504051,43.5612403947758,2.30937729058297,60.0732268922656,-14.2294381135718,1.73318042441039,0.403321592886641,226.733509968254,31.0885204919605,211.997578194723,46.2033897725195,48.7628586474043,60.2555658205553,39628502256847019,36,7926,10,2066.84,-0.00566667,0.0126623,-0.00333333,0.0033665,0.218558,0.00748216,0.789,474.461,0.429914,87.0226,385.152,2066.75,540.367,11.4076,3.69031,35547.2,77.3943,6143.95,0.180014,7005.78,33516.8,23.0424,111.622,6.0963e-05,316.591,1.11388e-05,0,12656.8,6.90047e-05,63.0298,141.623,36021.6,394.416,6230.98,385.332,21729.3,34057.2,97.4798,256.936,68.0178,3667394,189573,37152779,9070,9070,0,3,3,1,1,0,1,t,f,t,healpix,\"\",dark,GALAXY,sv1\n",
      "241.923638924664,43.0681880015463,222.922303781749,61.9960862118187,68.1438759030828,47.5086353172685,0,0,1071060283817992,0,0,351.466,352.793,355.106,356.335,0,0,0,0,0,0,0,0,0,0,0,0,0,0,0,0,0,0,0,0,0,0,0,0,0,0,0,0,0,0,0,0,0,0,0,0,0,0,0,0,0,0,0,0,2015.5,0,0,0,0,0,0,0,0,0,0,0,0,0,0,0,0,0,0,0,0,0,0,59.5869,3650254,124173,40313867,0,0,0,0,0,0,0,0,0,0,0,0,0,f,\"\",\"\",\"\",158456325120763466615919476744,-0.00497712431274103,2.33611793701468e-05,7521.77498614571,5.88045124929997e-05,-0.000569337845800819,0.000327408463143512,-0.000164412689598701,0,0,0,0,0,0,1.43178846158844,241.923611037573,43.0681759599285,222.922274216274,61.9960670457428,68.1438610654214,47.5086567554493,1071060283817992,36,7898,10,245.264,-0.005,0.005,0.003,0.003,0,0,0.791454,31.3079,0.0248374,5.993,20.7433,133.887,46.7509,0.678786,0.234845,2357.77,5.38038,437.097,0.0117538,492.537,3105.99,1.61983,7.55059,4.21857e-06,23.2847,8.01924e-07,0,1035.2,6.13764e-06,4.90034,10.5492,2389.07,28.69,443.09,20.755,1661.63,3152.74,7.19896,18.3347,0.0608145,3650254,124173,40313867,9842,9842,0,1,1,1,1,0,1,t,f,t,healpix,\"\",bright,GALAXY,sv3\n",
      "150.651375771421,1.13533559527475,152.303449834703,-10.1800600486418,238.408966201228,41.9227605124816,9906621928574322,0,234514852872219,2.90235e+09,2.91318e+09,139.365,151.488,151.491,154.818,0,0.0243125,0.289591,0.421891,0.285822,1158.9,286.654,53.3124,0.930559,0.952676,0.973247,0,0,0,0.0703056,0.0561582,0.0621234,0.97019,0.993235,0.988829,1852.08,541.098,93.5742,1105.32,253.204,45.5506,0.592972,-2.39395,-25.8608,-702.998,3.11667,0.645241,0.000753837,1.00895e-05,0.995888,0.997473,0.99946,0.999796,0.175464,0.255625,0.17318,0.175464,0.255625,0.17318,0,0.363454,0,0,234.346,0,0,1,0,0,0,0,0,0,0,0,0,0,0,0,0,0,0,41.7554,3709429,384940,111618609,338170,3442,9010,3,2,2,0,0,0,0,0,0,0,f, ,REX,1506p012,316912650112397817110157328411,-0.00497480828100477,2.80955652313936e-05,14191.3743916767,37.2852541447956,-5.8963181263548,6.83457830746501,5.55323033154012,2.29816804387194,1.39549721554042,-6.69677249676684,0.109234984357062,-3.10935139637852,0.768949892795857,317.247410951364,120.521088187557,0.908289902800392,122.516599443404,-19.1519879877562,220.360168468097,16.0938767690245,234514852872219,32,7929,10,21664.4,-0.00405,0.0252873,-0.01805,0.0382864,216981,1634.92,0.754803,3243.52,2.55946,701.223,2177.03,14671.4,3874.47,65.5063,24.2248,194260,417.364,40583.5,0.977411,47170.2,211730,122.179,647.627,0.000307245,1520.41,6.68039e-05,0,73476.2,0.00039146,290.696,726.87,197503,1940.33,41284.8,2178.01,135318,215604,478.381,1398.72,71.4374,3827575,386902,89776475,27250,27250,0,19,6,1,1,0,1,t,f,t,healpix,\"\",other,GALAXY,sv1\n",
      "119.674844827325,33.4382974037456,115.038838251848,12.5425679395886,187.470896631282,27.7822547871842,9907732916339613,0,39632949972304797,2.89313e+10,3.58661e+10,1267.25,1267.5,1267.6,1267.61,0,0.0572385,0.758101,1.3058,2.06423,531.9,323.664,95.9339,0.844139,0.892137,0.938153,0,0,0,0.00327576,0.0184384,0.0234458,0.997145,0.991946,0.989537,614.489,330.04,94.4806,360.376,214.524,53.931,4.87714,6.87264,11.6364,100.498,2.97545,0.668272,0.000830203,1.10862e-05,0.990347,0.994061,0.99873,0.99952,0.590379,1.01691,1.60754,0.590379,1.01691,1.60754,0,0,0,0,0,0,0,0,0,0,0,0,0,0,0,0,0,0,0,0,0,0,0,24.1841,3872307,175956,25654829,513282,925,9011,2,3,3,0,0,0,0,0,0,0,f, ,PSF,1197p335,237684487598172877951732810653,-0.00496785500847381,3.44505524449277e-05,9370.43111320907,-39.3676173251724,574.78050942951,-187.035206251706,170.429560074769,-34.4177799578445,8.5070359403845,-79.4436344262528,-4.09498717568548,0.926710863750542,-3.12894404779215,19.9988734168437,119.674845853429,33.438302581241,115.038838040937,12.5425731833715,187.470891257143,27.7822570082364,39632949972304797,32,7929,10,11715.2,0.000222222,0.00734847,-0.00127778,0.00643342,0.154847,0.0919539,0.789,1056.46,0.419212,201.548,242.744,2511.51,1553.89,11.1559,4.91558,61849.4,144.521,11086.3,0.192867,12413.4,72729.9,43.0931,203.227,0.000123289,476.376,2.30028e-05,0,22434.7,0.000167119,102.433,226.392,62905.9,621.316,11287.8,242.937,37359.7,74283.8,156.682,434.534,90.4376,3872307,175956,25654829,6263,6263,0,18,7,1,1,0,1,t,f,t,healpix,\"\",dark,GALAXY,sv1\n",
      "192.604569837889,28.4515484803099,179.100270198412,30.8920299834335,132.543797527785,88.6576283040445,9906631800261014,0,39628449240844694,2.55596e+09,1.86994e+09,117.425,121.888,121.732,122.162,0,0.012847,0.321924,0.229319,0.286182,961.282,286.524,107.368,0.962684,0.974708,0.985773,0.000413133,0.000514985,0.00153507,0.0159514,0.0171403,0.0219787,0.992326,0.990914,0.987795,1407.51,406.944,160.424,826.885,241.67,87.0108,0.135278,-3.8546,-47.0999,-897.264,3.89187,0.840828,0.00104332,1.31507e-05,0.997825,0.998664,0.999715,0.999892,0.202581,0.144306,0.180089,0.202581,0.144306,0.180089,0,0.330557,0,0,153.885,0,0,1,0,0,0,0,0,0,0,0,0,0,0,0,0,0,0,2.80547,3584508,205860,115310483,488800,2454,9010,3,3,5,0,0,0,0,0,0,0,f, ,REX,1926p285,237684487598172873451001350550,-0.00496686452525558,5.25330631215869e-05,4512.73887973041,0,0,0,0,0,0,0,0,0,0,3.61211497946897,192.604561223972,28.4515370902754,179.100268331719,30.8920163994263,132.54419834292,88.6576382501142,39628449240844694,38,5056,10,7012.36,-0.001875,0.00863858,0.003,0.00608276,0.156271,0.0716486,0.777911,941.443,0.676731,175.559,432.098,3619.32,1189.9,17.7647,7.60601,49367.6,100.27,9004.33,0.272839,10353.5,57739.2,31.5174,147.386,5.43029e-05,266.565,1.01513e-05,0,13387.3,6.87651e-05,57.0579,127.707,50309.1,367.512,9179.88,432.37,27360.1,58929.1,106.34,282.699,62.8212,3584508,205860,115310483,28151,28151,16777216,8,5,1,1,0,1,t,f,t,healpix,\"\",dark,GALAXY,sv1\n",
      "171.620448957477,51.1760912998334,147.592871962111,42.7223865483993,150.944017569315,61.0813782667002,9907737873092672,838451661415583616,39633267204296768,1.09094e+14,1.28705e+14,55010,54993.6,54982.4,54993.8,0,0.0136467,6.79679,12.0986,14.6919,311.917,100.663,143.917,0.960408,0.973155,0.984894,0,0,0,0.0055883,0.00426313,0.0129223,0.997979,0.998316,0.997475,677.614,240.889,184.808,450.973,144.83,98.6681,2.78927,1.29315,-15.0009,-28.2756,4.38853,1.08073,0.00127906,1.54457e-05,0.99769,0.998581,0.999697,0.999886,5.20806,9.27059,11.2577,5.20917,9.27351,11.2617,2015.5,0,0,0,0,0,0,0,0,19.9475,170.696,20.0523,12.36,19.2238,8.77235,1.49536,0.630066,7.83822,4.60224,12.093,2.26471,23.2567,2.74713,63.2895,3771815,87342,24402155,588916,4160,9011,4,3,4,0,0,0,0,0,2048,31,f,G2,PSF,1714p512,158456325102355284749130403904,-0.00496137489562983,0.000105186676889077,7929.85132455103,50.6549623218146,28.7923853956315,-5.55515458520907,6.22590616141308,-1.40490881438693,-2.59163829414778,-11.4180983004573,1.41332236985047,0.600112145624881,-0.595016698810696,9.11894453992772,171.620441243141,51.1760841757564,147.592871597622,42.7223779419501,150.944034845823,61.0813803517781,39633267204296768,32,7924,10,4318.43,-0.0014,0.00908845,0.0016,0.00723878,0.323404,0.101746,0.789,84.9362,0.0372077,17.1942,24.2962,230.422,151.125,0.982455,0.431142,4824.91,11.7715,973.391,0.022027,1111.01,8474.56,3.41522,16.502,1.46203e-05,67.4734,2.95458e-06,0,2800.28,2.5893e-05,13.1889,28.6769,4909.85,79.282,990.585,24.3182,4141.71,8625.69,17.5866,45.6101,83.0893,3771815,87342,24402155,5957,5957,0,5,2,2,2,0,2,f,f,f,healpix,\"\",bright,GALAXY,sv2\n",
      "225.383961160256,-8.07560715763259,225.29128398232,8.71120319475624,349.402480369502,42.758220276737,9906618463944901,0,39627595716755653,5.78138e+10,5.86087e+10,1515.39,1515.35,1515.44,1515.37,0,0.0885827,0.943244,1.34712,1.68344,835.551,363.808,39.592,0.76934,0.838084,0.905921,3.88554,3.44609,1.01455,0.158038,0.00439554,0.00655701,0.997855,0.997592,0.996723,1248.49,458.322,40.2219,642.145,251.837,16.8742,3.27838,2.38269,82.5091,572.768,2.42174,0.585002,0.000967869,1.38161e-05,0.9851,0.990823,0.998036,0.999258,0.733847,1.04807,1.30973,0.827368,1.19612,1.48769,0,0,0,0,0,0,0,0,0,0,0,0,0,0,0,0,0,0,0,0,0,0,0,56.441,2838492,448641,184295081,285304,197,9010,2,2,1,0,0,0,0,0,0,0,f, ,PSF,2255m080,237684487579726128523767709893,-0.00495068108765667,4.21508547947479e-05,7475.13702837846,53.6096103081114,89.8980560305451,-21.7814741674871,-51.0878663209965,8.7970895252602,-60.7386142384472,76.3939429159024,-53.0068336414191,16.0410435944536,-8.79827638145997,3.44336714195924,225.383969316397,-8.07560317510358,225.291290679959,8.71120929729512,349.402492246303,42.7582180344872,39627595716755653,36,7876,10,120.032,0.002,0.002,-0.001,0.001,0,0,0.789,0.791586,0.000601348,0.159982,0.434866,3.64067,1.47011,0.0162414,0.00613507,83.2627,0.194118,16.6446,0.000391986,18.3041,146.734,0.0570323,0.271416,1.99193e-07,1.2426,4.00261e-08,0,57.3803,3.59883e-07,0.256372,0.549925,84.0543,1.43732,16.8046,0.435258,79.325,148.204,0.329646,0.827476,32.4647,2838492,448641,184295081,44993,44993,0,1,1,1,0,0,1,f,f,t,healpix,\"\",dark,GALAXY,special\n",
      "176.490403241486,52.4946784206746,150.077969027077,45.4803709916027,144.250968365847,61.838771183092,9907738166363654,0,39633285973804550,7.59555e+09,7.48598e+09,382.941,383.023,0,0,0,0.0190758,0.435942,0.864885,1.06207,600.266,265.956,61.13,0.945096,0.962676,0.978948,0,0,0,0.0202968,0.012864,0.0177781,0.988645,0.992084,0.988262,714.21,305.609,60.3426,515.178,193.618,39.2935,6.94137,7.74131,83.3893,43.5042,4.43733,1.09548,0.00137781,1.67526e-05,0.996772,0.998017,0.999577,0.99984,0.338927,0.672412,0.825717,0.338927,0.672412,0.825717,0,0,0,0,0,0,0,0,0,0,0,0,0,0,0,0,0,0,0,0,0,0,0,71.485,3770044,80794,23062564,593391,1542,9011,4,4,2,0,0,0,0,0,0,0,f, ,PSF,1765p525,237684487616619622361443862022,-0.00494602147401771,0.000140307271885305,7882.27137869462,0,0,0,0,0,0,0,0,0,0,0.526623310000105,176.49033581856,52.4946908838469,150.077910706723,45.4803580197128,144.251028009322,61.8387388099487,39633285973804550,1060,7837,10,935.98,-0.01,0.01,-0.003,0.003,0,0,0.789,143.482,0.100693,26.9046,88.4985,523.162,198.791,2.74943,0.975999,8961.05,20.3365,1633.35,0.0468993,1885.5,11178.1,6.22428,28.7789,2.32252e-05,109.927,4.28984e-06,0,4449.49,3.04894e-05,22.5433,48.3912,9104.53,130.364,1660.25,88.5454,6858.15,11376.9,31.5171,78.1461,36.4712,3770044,80794,23062564,5630,5630,0,1,1,1,1,0,1,t,f,t,healpix,\"\",dark,GALAXY,sv2\n",
      "219.773084829854,-1.34923641429365,217.807072427261,13.4621815618081,349.564579239448,51.502625793614,9906621003006592,0,39627758216675968,4.24351e+09,4.30514e+09,134.579,134.229,0,0,0,0.046448,0.284503,0.322329,0.397715,1023.28,336.054,103.361,0.871538,0.911541,0.949512,0,0,0,0.025136,0.0215175,0.0254831,0.661722,0.657793,0.976937,1063.7,351.033,103.263,601.901,179.579,57.086,0.379126,-3.56767,-74.2307,-312.502,3.2896,0.693269,0.0014903,1.97458e-05,0.992159,0.995178,0.99897,0.999611,0.221143,0.250545,0.309143,0.221143,0.250545,0.309143,0,0,0,0,0,0,0,0,0,0,0,0,0,0,0,0,0,0,0,0,0,0,0,73.6362,2654480,402545,106223715,324047,640,9010,2,2,2,0,0,0,0,0,0,0,f, ,PSF,2198m012,237684487635066360907396285056,-0.00494478018021129,4.48034723659682e-05,8787.39085341756,-3794.12968244884,1538.54762994594,-490.142227998743,-228.026586508654,154.629529619924,0,0,0,0,0,0.642501194968645,219.773007337816,-1.3492162770137,217.806990297207,13.4621763243143,349.564505297786,51.5026912818148,39627758216675968,36,7927,10,3742.32,-0.019,0.019,-0.005,0.005,0,0,0.789,141.27,0.0992129,27.9304,100.958,532.24,222.238,2.65808,0.746981,13927.8,32.8397,2623.96,0.0458556,2993.14,18041.4,9.57152,46.6059,2.21102e-05,127.789,4.26746e-06,0,5765.22,3.15552e-05,26.0504,58.2592,14069.1,160.728,2651.9,101.004,9290.6,18263.6,38.28,105.612,50.1426,2654480,402545,106223715,25933,25933,0,4,1,1,1,0,1,t,f,t,healpix,\"\",dark,GALAXY,sv3\n",
      "241.365034528777,15.0763925479099,235.531903367728,35.1522880741062,28.1721798583006,43.4694400984793,9906627082782263,0,39628147322258999,1.34108e+09,1.29704e+09,75.55,75.2836,0,0,0,0.0482094,0.251468,0.152997,0.226161,948.051,466.857,81.6759,0.867006,0.908345,0.947649,0.00641469,0.0107406,0.10503,0.0302731,0.0149383,0.0372211,0.984415,0.991795,0.97566,973.719,468.76,82.5529,693.564,266.021,53.0632,-0.366808,-1.19996,-38.6678,164.018,4.15607,0.948172,0.000975439,1.20614e-05,0.991863,0.994995,0.99893,0.999596,0.195822,0.119141,0.176115,0.195822,0.119141,0.176115,0,0,0,0,0,0,0,0,0,0,0,0,0,0,0,0,0,0,0,0,0,0,0,92.0787,3451972,290990,34867773,416817,1591,9010,3,3,4,0,0,0,0,0,0,0,f, ,PSF,2414p150,237684487598172873149082764855,-0.00494253876391819,6.14065776525128e-05,8441.91680218276,1.66375626893798,5.45971227791605,-4.80296398033234,10.9085435860514,0.326449427067207,-1.26802533883074,-7.91890757967253,1.07686879865886,-1.07797176774074,-5.57744690671052,1.45502869438678,241.365026110282,15.0764103525631,235.531888622821,35.1523034929142,28.1721979647347,43.4694546038876,39628147322258999,36,7930,10,2978.95,-0.002,0.00244949,-0.00433333,0.00568624,0.0223345,0.0543618,0.789,536.239,0.387159,97.2927,319.357,1913.36,670.809,10.5725,3.81496,31172.7,68.131,5450.94,0.171842,6344.73,34763,21.3222,96.9694,7.18916e-05,366.088,1.30826e-05,0,14017.5,9.14909e-05,74.6615,158.845,31709,434.607,5548.23,319.529,22275.6,35433.9,106.556,259.629,48.5331,3451972,290990,34867773,8512,8512,0,3,3,1,1,0,1,t,f,t,healpix,\"\",dark,GALAXY,sv1\n",
      "234.715627377726,44.5718534859429,211.72190864679,61.0688004307817,71.7666163433933,52.3943534650041,9907736170661871,0,39633158248859631,3.42783e+09,3.81766e+09,197.903,198.809,0,0,0,0.0198282,0.44122,0.51953,0.722711,532.998,176.4,92.0055,0.942994,0.961233,0.978127,0,0,0,0.0377888,0.0209729,0.0150554,0.956389,0.97721,0.986503,591.342,190.435,93.2578,427.817,134.071,53.248,0.0134138,-0.350628,-5.61356,5.13056,6.76503,1.78245,0.00516074,6.04837e-05,0.996645,0.997938,0.99956,0.999834,0.343652,0.404645,0.562897,0.343652,0.404645,0.562897,0,0,0,0,0,0,0,0,0,0,0,0,0,0,0,0,0,0,0,0,0,0,0,79.7191,3642968,117275,40673697,562939,2031,9011,3,3,3,0,0,0,0,0,0,0,f, ,PSF,2346p445,237684487635066366307428468719,-0.00494167979158535,4.19229200751667e-05,8319.26277014642,344.142482287246,210.334664616494,-7.29151821631794,20.506620679411,-12.2317373568157,9.19041911296649,-19.2164440239806,-6.06750574153885,-0.680954510434813,7.50375827712905,4.18000963301347,234.71564380718,44.5718617592838,211.721921814225,61.0688132703079,71.7666251252957,52.3943401717516,39633158248859631,36,7928,10,4574.64,0.003,0.00591608,-0.002,0.00784219,0.14204,0.106965,0.789,483.973,0.547803,88.1349,401.299,2748.95,595.461,14.6905,5.57774,59936.5,129.639,10142.3,0.371651,11981.6,57656.2,39.7232,187.874,5.86502e-05,417.352,1.0634e-05,0,17389.2,7.15412e-05,85.3338,191.455,60420.4,547.539,10230.5,401.671,32119.7,58251.6,139.748,384.906,85.6321,3642968,117275,40673697,9930,9930,0,4,4,4,1,0,1,t,f,t,healpix,\"\",dark,GALAXY,sv3\n",
      "216.833905140835,2.76589003594929,213.552393002742,16.4071889397438,350.331195476477,56.539096951478,9906622512170635,0,39627854803109515,6.44524e+09,6.48179e+09,235.325,238.79,239.004,238.908,0,0.0313942,0.467594,0.433161,0.693365,693.114,358.025,47.2683,0.911254,0.939318,0.96559,0,0,0,0.0181292,0.0180024,0.0195791,0.985037,0.984569,0.982458,890.373,444.167,55.0762,483.495,241.97,31.0067,1.43658,-1.00586,-11.4947,-405.544,3.4863,0.750623,0.00153746,2.03553e-05,0.994694,0.996738,0.999303,0.999737,0.33492,0.310257,0.496631,0.33492,0.310257,0.496631,0,0.197023,0,0,321.883,0,0,1,0,0,0,0,0,0,0,0,0,0,0,0,0,0,0,97.3201,3558156,373865,106759210,347075,1675,9010,2,2,2,0,0,0,0,0,0,0,f, ,REX,2168p027,237684487635066361003982718603,-0.00492105136488088,3.36487784135419e-05,8148.20442208974,0,0,0,0,0,0,0,0,0,0,3.77553406031075,216.833877337508,2.76588013767699,213.55236911838,16.4071703857104,350.331145681253,56.5391076937924,39627854803109515,36,7928,10,4490.9,-0.0072,0.00787401,0.0024,0.00929516,0.0462979,0.130186,0.785028,550.928,0.406532,104.067,274.14,2214.29,728.965,10.7734,4.25792,39428.4,87.2077,7065.05,0.206556,7885.71,43552.7,25.9495,124.252,9.67482e-05,308.932,1.78712e-05,0,14491.8,0.000118737,65.1023,148.96,39979.3,396.546,7169.12,274.346,24591.8,44281.6,101.825,277.471,40.7652,3558156,373865,106759210,26064,26064,0,5,3,3,1,0,1,t,f,t,healpix,\"\",dark,GALAXY,sv3\n",
      "272.983165876912,62.0477013012837,287.345470402067,85.3066116721003,91.2934365734528,28.3164902922528,9907740125367345,0,39633411349941297,1.07964e+10,1.00628e+10,601.846,607.989,608.341,608.1,0,0.0382174,0.716509,0.749715,1.51644,661.779,214.39,63.6871,0.893034,0.926624,0.958269,0,0,0,0.0128725,0.0115716,0.00766446,0.992659,0.992962,0.994461,808.636,268.549,78.9152,557.757,176.259,42.8024,7.21718,10.0882,-10.0966,105.482,8.77379,3.15472,0.00803161,9.31463e-05,0.993544,0.99603,0.999152,0.99968,0.495048,0.51799,1.04774,0.495048,0.51799,1.04774,0,0.239911,0,0,470.536,0,0,1,0,0,0,0,0,0,0,0,0,0,0,0,0,0,0,21.7917,3239447,46365,62839275,623283,3121,9011,3,3,3,0,0,0,0,0,0,0,f, ,REX,2729p620,237684487635066366560529550385,-0.00491955587627944,3.13326010932847e-05,8156.73673189946,1347.41849583003,1442.40667963555,-0.443909833652557,-164.552416948771,-37.8391141906625,39.8693209066343,-289.592521014105,9.14769860288388,1.15141065948592,82.1111887458935,5.9150005620686,272.983138249987,62.0477251541669,287.345391039949,85.3066380252409,91.2934622412525,28.3165053274757,39633411349941297,36,7891,10,920.801,-0.004,0.004,-0.006,0.006,0,0,0.782739,169.882,0.0851758,30.2853,58.7056,451.13,196.934,2.17511,0.910034,12093.1,26.5651,2004.05,0.045712,2322.6,11111.8,7.88727,38.8843,1.94738e-05,99.3087,3.43161e-06,0,4273.97,2.19198e-05,20.3232,47.4804,12263,125.959,2034.34,58.7514,7047.7,11308.7,30.3855,87.2748,61.759,3239447,46365,62839275,15341,15341,0,1,1,1,1,0,1,t,f,t,healpix,\"\",dark,GALAXY,sv3\n",
      "266.340718586044,65.867635736519,203.47293138855,88.3698338443447,95.6248007127699,31.3048012179856,9907740750253944,0,39633451342630776,5.18842e+09,2.4511e+09,337.871,410.369,430.047,434.665,435.217,0.0509163,0.746316,0.954621,1.28503,474.974,131.723,34.3311,0.860086,0.903455,0.944792,0,0,0,0.0324773,0.0283621,0.013597,0.98698,0.987436,0.993214,916.282,239.747,87.5761,627.157,173.91,49.9306,3.68179,4.06836,28.1963,145.321,12.944,6.51091,0.0546955,0.00065842,0.991408,0.994715,0.99887,0.999573,0.295215,0.377613,0.508309,0.295215,0.377613,0.508309,0,1.00071,0.371204,-0.184225,142.233,125.196,97.6483,1,0,0,0,0,0,0,0,0,0,0,0,0,0,0,0,41.6917,3510464,34447,47533134,632818,3960,9011,3,3,3,0,0,0,0,0,0,0,f, ,EXP,2660p657,237684487635066366600522239864,-0.00491309151969801,5.02931515500935e-05,8170.86089368378,0,0,0,0,0,0,0,0,0,0,5.29980181689098,266.340719430638,65.8676125155874,203.473665304855,88.3698236747497,95.6247735510442,31.3048020827288,39633451342630776,36,7928,10,4040.67,-0.0002,0.000447214,0.0058,0.00676757,0.0468414,0.0499834,0.751082,728.958,0.319218,132.015,214.096,1728.92,852.887,8.40735,3.54558,32810,69.6431,5738.34,0.111079,6331,34365,21.2912,100.76,0.000105044,294.77,1.87267e-05,0,14016.6,0.000117395,63.8425,146.142,33538.9,364.733,5870.35,214.207,22076.5,35217.9,93.541,250.448,54.4855,3510464,34447,47533134,11604,11604,0,5,3,3,1,0,1,t,f,t,healpix,\"\",dark,GALAXY,sv3\n",
      "210.498679314306,4.64622635732262,206.697431468536,15.9938871608136,342.847071857243,61.9202128222718,9906623264394560,0,39627902945332544,4.70172e+09,1.0109e+10,572.056,634.688,664.386,671.46,675.092,0.0323645,1.05854,1.28221,1.72357,352.897,140.857,18.2229,0.908641,0.937502,0.964545,0.00878287,0.00335753,0.00475035,0.0222565,0.013445,0.0186983,0.991915,0.993527,0.662859,850.739,434.658,52.1157,532.16,222.805,27.2589,2.82157,0.503404,15.5903,92.5281,3.1966,0.715802,0.00154671,2.08264e-05,0.99453,0.996637,0.999282,0.999729,0.42416,0.513787,0.690641,0.424161,0.513788,0.690642,0,0.995352,-0.400759,-0.159309,289.388,253.711,197.099,1,0,0,0,0,0,0,0,0,0,0,0,0,0,0,0,64.9846,3569379,361559,106861744,358553,3392,9010,2,2,2,0,0,0,0,0,0,0,f, ,EXP,2104p047,237684487635066361052124941632,-0.00490634550603563,5.71492367313229e-05,7867.11223265979,2133.68077605103,-241.362179708432,20.9399786695847,-102.635663864292,89.9910955247686,0,0,0,0,0,11.8423368289723,210.498667306915,4.64624111582163,206.697414362976,15.9938966822938,342.847068982766,61.9202317752148,39627902945332544,32,7927,10,2600.07,-0.003,0.00768115,-0.00366667,0.00602771,0.103401,0.0699219,0.762625,347.811,0.273928,63.7271,230.564,1385.11,435.753,7.45203,2.54772,21822.6,46.5903,3899.66,0.118069,4483.03,25108,14.5117,66.9041,3.78369e-05,165.521,7.03708e-06,0,7369.13,5.02624e-05,34.7977,75.9828,22170.4,212.385,3963.39,230.682,13237.3,25543.7,56.7614,145.435,90.4395,3569379,361559,106861744,26089,26089,0,3,3,2,1,0,1,t,f,t,healpix,\"\",dark,GALAXY,sv3\n",
      "245.950505435926,42.3340754657569,229.399316627043,62.4248220381066,66.8148063423338,44.6026586985231,9907735554097265,0,39633118788845681,1.755e+09,1.72838e+09,134.063,138.341,140.326,141.035,0,0.010348,0.377628,0.346635,0.762695,638.129,192.033,45.0862,0.969832,0.979577,0.988524,0.00388799,0.00594607,0.549701,0.0269951,0.0223206,0.0163235,0.992854,0.994067,0.667563,829.079,262.433,78.7544,600.164,178.859,42.1955,1.37951,1.01701,-18.5171,-170.742,6.17272,1.62806,0.00441552,3.40578e-05,0.998248,0.998924,0.99977,0.999913,0.22476,0.206313,0.453948,0.22476,0.206313,0.453948,0,0.378337,0,0,113.92,0,0,1,0,0,0,0,0,0,0,0,0,0,0,0,0,0,0,12.1732,3653426,128203,40204338,553531,113,9011,4,4,2,0,0,0,0,0,0,0,f, ,REX,2461p422,237684487635066366267968454769,-0.00489705191466537,0.000109589544456887,7953.53352956962,4135.51970389745,910.499159824833,910.394300355912,-1162.41442487989,4.40511017286818,40.0443741395816,-33.3938142898872,22.2293593798334,-14.9017964567444,190.521346441894,2.11193061876384,245.950496274868,42.3340819078666,229.39929805061,62.4248257008132,66.8148156911554,44.6026652602505,39633118788845681,36,7927,10,2524.2,-0.00166667,0.00723418,-0.00166667,0.00310913,0.187676,0.0365034,0.77846,632.267,0.369625,115.363,309.868,1904.18,762.016,9.88807,3.48479,49080.1,103.056,8318.14,0.190778,9565.54,46748,32.3455,150.371,7.30093e-05,335.602,1.32973e-05,0,14196.1,8.81589e-05,69.9439,154.516,49712.3,439.028,8433.51,310.059,25665.8,47510,112.178,308.372,84.0013,3653426,128203,40204338,9815,9815,0,3,3,3,1,0,1,t,f,t,healpix,\"\",dark,GALAXY,sv3\n",
      "246.38959156843,42.5358211614667,229.905864329392,62.7269653231271,67.0830703866938,44.272461843832,9907735624024967,0,39633123264168839,1.9445e+09,2.14153e+09,107.014,107.107,0,0,0,0.0110366,0.326689,0.40929,0.64571,519.789,164.1,56.4887,0.967857,0.978233,0.987766,0.0013239,0.00371658,0.005804,0.0210093,0.0302847,0.0242948,0.994158,0.992965,0.995142,613.531,178.041,53.1934,411.515,123.204,32.4411,1.12668,1.88851,-56.1991,1053.78,5.49712,1.56784,0.00406471,2.25154e-05,0.998131,0.998852,0.999755,0.999907,0.254417,0.318744,0.502862,0.254417,0.318744,0.502862,0,0,0,0,0,0,0,0,0,0,0,0,0,0,0,0,0,0,0,0,0,0,0,43.5737,3653588,128204,40203250,554598,903,9011,3,3,2,0,0,0,2,0,256,0,f, ,PSF,2464p425,237684487635066366272443777927,-0.00489582143114029,4.99890489287397e-05,8051.00846246333,178.85998067806,500.636205198387,-117.626304440725,88.4048065373133,-34.6261424970547,18.9160925609416,-42.2544710568535,-9.2448711676156,10.0207892813163,-3.23304704786948,1.91419735102863,246.389574103253,42.5358348249127,229.905827629806,62.7269736598292,67.0830900035224,44.2724742942441,39633123264168839,36,7929,10,3358.94,-0.00325,0.00782624,-0.0035,0.00519615,0.191005,0.0543688,0.789,452.232,0.317661,84.6216,301.228,1613.71,602.038,8.6265,2.68973,38798.9,84.619,6799.97,0.158241,7841.62,40985.9,26.1046,121.971,5.96761e-05,320.278,1.09686e-05,0,13456.8,7.4324e-05,66.2021,145.352,39251.1,405.215,6884.59,301.386,22912.1,41587.9,100.933,270.013,56.9593,3653588,128204,40203250,9815,9815,0,4,3,3,1,0,1,t,f,t,healpix,\"\",dark,GALAXY,sv3\n",
      "236.671449699788,43.8225086646769,215.007765940591,61.054466072636,70.1116786256188,51.1779011810634,9907735967303103,0,39633145233933759,1.77347e+09,1.93976e+09,160.282,164.533,164.358,164.903,0,0.0153819,0.54431,0.288209,0.344592,495.276,145.499,56.4646,0.955487,0.969793,0.98299,0.206949,0.95878,1.24196,0.0113366,0.0113744,0.223782,0.993778,0.992776,0.795324,632.063,169.499,81.4127,448.851,123.844,52.5235,0.339567,0.495988,-14.4018,318.448,5.98203,1.65056,0.00358712,4.27603e-05,0.997397,0.9984,0.999659,0.999871,0.319216,0.169023,0.20209,0.319231,0.169054,0.202134,0,0.390953,0,0,111.439,0,0,1,0,0,0,0,0,0,0,0,0,0,0,0,0,0,0,84.9825,3643343,121186,40645212,559836,1471,9011,3,3,4,0,0,0,0,0,0,0,f, ,REX,2367p437,237684487635066366294413542847,-0.00489350228649914,7.27957694172978e-05,8245.44366924489,623.81955930874,90.0625944782095,130.155608165698,-129.10373509567,8.5048238388254,-3.49035823198004,-3.78423790515947,2.05887040823466,2.9404648380706,2.86872137036209,3.88331451267368,236.671431538349,43.8224966450259,215.007752999271,61.0544494311673,70.1116636398728,51.1779162777044,39633145233933759,36,7925,10,5211.34,-0.0032,0.00532917,0.003,0.00618061,0.119787,0.0797442,0.781363,952.657,0.548105,168.493,417.811,2799.54,1121.11,14.4128,5.45656,53362.6,136.547,9002.65,0.183136,9947.22,53778.8,37.4872,187.376,8.6343e-05,427.792,1.53445e-05,0,18793.4,0.000102702,89.1762,204.17,54315.3,564.887,9171.14,417.994,31540.2,54899.9,141.076,397.003,2.41963,3643343,121186,40645212,9923,9923,0,5,4,4,1,0,1,t,f,t,healpix,\"\",dark,GALAXY,sv3\n",
      "105.172707213281,37.4692759944667,102.400285764581,14.680855118901,179.336209828249,17.8124392330255,9907734145930083,0,39633028665840483,6.86352e+08,7.63545e+08,37.2263,37.2973,0,0,0,0.15247,0.169155,0.206339,0.158568,792.337,285.916,235.109,0.636774,0.737839,0.843614,3.07604,6.26767,8.88692,0.0152188,0.00845946,0.0104391,0.99749,0.998742,0.999152,855.284,299.778,239.112,633.949,190.882,135.957,4.14436,3.73172,-47.7741,-402.384,2.72279,0.695346,0.000755539,1.00715e-05,0.974492,0.984257,0.996621,0.998723,0.131487,0.16039,0.123258,0.131988,0.162682,0.129116,0,0,0,0,0,0,0,0,0,0,0,0,0,0,0,0,0,0,0,0,0,0,0,92.4293,3867875,154411,27383773,532044,4963,9011,3,3,4,0,0,0,0,0,0,0,f, ,PSF,1050p375,237684487598172878030426346339,-0.00488832295688929,3.61003449832439e-05,8170.07501946123,63.4910609725019,-101.322489311392,31.0037319020405,-8.85158857991905,4.67464012185705,1.75826152158682,1.21020033169165,2.28219527666731,1.80840801137408,-15.5628779622238,11.3223850753748,105.172687034457,37.4692749866892,102.400269416829,14.6808523933288,179.336204808591,17.8124239139708,39633028665840483,32,7929,10,6672.32,-0.0041,0.00788036,0.0004,0.00453872,0.150577,0.0600964,0.789,389.286,0.169226,73.9264,107.068,974.245,516.562,4.40537,1.92626,24055,59.791,4407.87,0.0767667,4925.4,28126.9,16.8711,83.305,3.8175e-05,214.512,7.25285e-06,0,9774.86,5.09948e-05,44.2493,99.737,24444.2,274.472,4481.8,107.145,15674.5,28643.4,65.5257,184.968,32.8007,3867875,154411,27383773,6685,6685,0,10,4,1,1,0,1,t,f,t,healpix,\"\",dark,GALAXY,sv1\n",
      "35.0636650105639,31.741977567313,43.3676719905032,16.7589177591918,144.163051476898,-27.4420353069405,9908831851187516,0,39628515011726652,4.11483e+09,3.37736e+09,143.23,144.169,0,0,0,0.0772145,0.0694526,0.370322,0.761332,1818.75,594.899,92.0321,0.79567,0.857299,0.917481,0.13943,0.0175676,0.0141106,0.0179154,0.0820724,0.0148521,0.99866,0.99884,0.998443,1817.16,652.198,91.4838,1272.49,380.853,52.3418,0.228271,-1.11984,-15.4096,-118.977,3.53619,0.785611,0.00155895,1.16373e-05,0.987,0.991996,0.998288,0.999353,0.0540748,0.288328,0.592763,0.0544061,0.288858,0.593549,0,0,0,0,0,0,0,0,0,0,0,0,0,0,0,0,0,0,0,0,0,0,0,74.3256,4190089,185955,9454181,504481,3388,9012,3,3,3,0,0,0,0,0,0,0,f,\"\",PSF,0350p317,158456325083908535923228282172,-0.00488458754970264,4.11224383024741e-05,12338.7560209057,17572.978322303,-5698.3860192616,-1441.87857248558,-1405.05920172751,182.404024234615,0,0,0,0,0,24.4889393009016,35.0840631027562,31.8670655321175,43.4291429318915,16.8706542602693,144.127737825849,-27.3197069569636,39628515011726652,32,7929,10,3600,0.00166667,0.00631137,0.000666667,0.00516398,0.119847,0.067154,0.763354,82.1191,0.047349,16.5294,26.9132,286.544,138.145,1.23796,0.583316,4857.77,10.8032,967.946,0.0249629,1102.42,7811.38,3.2399,15.519,1.29898e-05,69.3353,2.59512e-06,0,3010.78,2.11375e-05,13.754,30.3935,4939.89,80.1859,984.476,26.9381,4399.74,7949.53,18.2319,46.4958,43.9435,4190093,184932,9454470,2308,2308,0,12,3,1,1,0,1,t,f,t,healpix,\"\",bright,GALAXY,sv1\n",
      "223.809844970703,51.4509735107422,190.668572768161,62.7660003146929,87.612654194003,56.3324782365161,0,0,103629495205925,0,0,127.687,140.025,141.04,142.704,0,0,0,0,0,0,0,0,0,0,0,0,0,0,0,0,0,0,0,0,0,0,0,0,0,0,0,0,0,0,0,0,0,0,0,0,0,0,0,0,0,0,0,0,2015.5,0,0,0,0,0,0,0,0,0,0,0,0,0,0,0,0,0,0,0,0,0,0,83.9599,3657818,85798,46373722,0,0,0,0,0,0,0,0,0,0,0,0,0,f,\"\",\"\",\"\",316912650112397686224799662117,-0.00487174560334031,5.82198555924569e-05,10185.649617806,174.490225353756,91.2880732745983,-5.82886799696277,22.4032594908471,3.30261718259608,4.53484490231672,-35.665114950332,0.771361853399603,2.34945555100696,-0.443021832840466,58.8921230287197,223.809830672569,51.4509791036988,190.668549937898,62.765999081359,87.6126715918944,56.3324824378761,103629495205925,32,7930,10,8140.23,-0.0022,0.00306594,-0.0014,0.006245,0.0791546,0.0893382,0.791399,3593.39,1.64261,616.402,1164.22,8347.53,3634.45,43.951,17.3295,139084,291.019,23056.1,0.463067,26023.5,127980,91.686,423.498,0.000336858,983.382,5.85207e-05,0,43923,0.000359793,212.389,474.727,142677,1276.04,23672.5,1164.69,78294,131615,348.026,915.555,90.5109,3657818,85798,46373722,11321,11321,0,5,3,1,1,0,1,t,f,t,healpix,\"\",other,GALAXY,sv1\n",
      "215.596982069454,-0.314552349550004,213.403468503152,13.0909710660576,345.187347877775,54.9156956572708,9906621379381907,0,39627782304565907,5.53951e+09,5.55339e+09,147.893,151.025,152.396,152.398,0,0.0379105,0.32662,0.316805,0.390809,1705.82,615.83,183.544,0.893845,0.927192,0.958597,0.00125545,0.00413177,0.0256044,0.0182446,0.0174729,0.0228157,1,1,0.829113,2196.01,749.157,230.954,1306.59,472.236,127.096,-10.7298,-8.42132,27.5289,220.303,2.47824,0.631083,0.00157611,2.06671e-05,0.993596,0.996062,0.999159,0.999682,0.226589,0.21978,0.271119,0.226589,0.21978,0.271119,0,0.232819,0,0,381.68,0,0,1,0,0,0,0,0,0,0,0,0,0,0,0,0,0,0,11.1997,2655386,395365,106336911,329790,2707,9010,4,4,4,0,0,0,0,0,2048,0,f, ,REX,2156m002,237684487635066360931484174995,-0.0048649513036151,4.6044968121777e-05,7838.54171935961,1588.83191222781,-38.4577585170705,-44.219243438048,-28.3696479979024,-4.75056846616567,0,0,0,0,0,8.5503159786731,215.597006255597,-0.314568608338364,213.403497468355,13.0909637614053,345.187364659683,54.9156681571586,39627782304565907,36,7803,10,1021.17,0.006,0.006,0.004,0.004,0,0,0.786259,198.407,0.150444,35.8121,98.2313,775.287,238.731,4.05306,1.64753,14616.8,29.733,2483.86,0.085976,2829.25,14471.9,9.48522,43.2148,3.58995e-05,93.2981,6.37298e-06,0,4516.06,4.11128e-05,20.6498,46.6831,14815.2,123.181,2519.67,98.3173,8120.6,14710.6,34.188,91.5455,26.7917,2655386,395365,106336911,25961,25961,0,1,1,1,1,0,1,t,f,t,healpix,\"\",dark,GALAXY,sv3\n",
      "252.094742093119,35.8089009678713,242.318942229455,57.5399878385191,58.3772855120898,39.4924971143457,9907733645495526,0,39632996638133478,2.33377e+10,2.65749e+10,1212.79,1211.26,1209.31,1211.23,0,0.0177396,0.831878,0.951791,1.14386,982.782,381.91,143.468,0.948842,0.965245,0.980408,0,0,0,0.0169485,0.0166193,0.0135615,0.991669,0.993349,0.991394,1035.84,398.477,153.347,754.707,249.894,77.3723,-0.514686,-1.85517,-20.5333,518.892,5.9632,1.54557,0.0017625,2.10796e-05,0.996998,0.998155,0.999606,0.999851,0.648078,0.741497,0.891129,0.648078,0.741497,0.891129,0,0,0,0,0,0,0,0,0,0,0,0,0,0,0,0,0,0,0,0,0,0,0,63.7175,3646575,163021,38624052,524408,3302,9011,4,6,3,0,0,0,0,0,0,0,f, ,PSF,2520p357,237684487635066366145817742566,-0.00486370589552874,6.85150989125235e-05,7184.52526034205,686.223413405113,214.579153855036,-168.115409892554,209.924288491386,-118.836230621363,-53.4799759943077,-66.9963368144197,40.4643025339301,10.078248501126,-37.9892338963568,0.798143884524507,252.094721353601,35.8089167741238,242.318905005799,57.5399993965758,58.3773028881781,39.4925159003598,39632996638133478,1060,7928,10,3679.7,-0.00425,0.00973396,-0.00425,0.00497494,0.191213,0.0341099,0.789,528.514,0.373053,98.6827,227.154,2012.39,667.812,9.77748,4.27,32874.3,72.3175,5905.58,0.166742,6669.34,36426.7,21.7331,103.583,7.25911e-05,349.8,1.33442e-05,0,14178.8,8.78187e-05,70.3358,155.837,33402.8,422.49,6004.27,227.32,22860.5,37094.5,101.846,263.69,53.7235,3646575,163021,38624052,9429,9429,0,4,3,3,1,0,1,t,f,t,healpix,\"\",dark,GALAXY,sv3\n",
      "37.6719853090938,-5.20470154019102,33.5291564025782,-18.9852095244194,174.514277786277,-57.7645334202833,9906619446987408,0,39627658631318160,1.0995e+10,1.09791e+10,474.435,479.686,482.126,481.558,0,0.0261676,0.237673,0.292731,0.189681,4274.86,2637.19,342.899,0.925463,0.949159,0.971235,0.0312627,0.0781262,0.424098,0.0106767,0.00836758,0.0116995,0.999999,0.999994,1,5014.59,3110.24,420.532,3006.93,1768.4,208.69,-0.0157272,-1.52581,-16.553,-1095.17,3.17943,0.74602,0.00167178,2.2823e-05,0.995575,0.99728,0.999419,0.999781,0.170341,0.209801,0.135945,0.171556,0.216534,0.162098,0,0.198101,0,0,484.003,0,0,1,0,0,0,0,0,0,0,0,0,0,0,0,0,0,0,42.8812,2133924,428651,72436589,300304,2704,9010,10,9,12,0,0,0,0,0,0,0,f, ,REX,0377m052,237684487598172872660391824016,-0.00484713902932219,1.6281783135111e-05,11041.8483624001,98.1944522462524,21.8668296974977,-195.62151377019,-90.4549160143803,176.144920280318,-65.8666788459481,-3.44772137061802,-71.4612883335351,22.2895055055594,6.8924804954597,1160.89801168541,37.6719891966266,-5.20469849072064,33.52916133695,-18.9852079380142,174.514278965217,-57.7645285323013,39627658631318160,32,7929,10,10800,-0.001,0.00701189,0.00075,0.00429146,0.0966888,0.0614352,0.785141,1201.35,0.711805,226.227,566.578,3834.31,1588.25,18.8529,6.8358,75227.2,164.871,13546.4,0.287682,15666.4,85226.8,50.3927,238.498,9.02541e-05,548.928,1.71748e-05,0,25117.5,0.000124642,114.185,254.925,76428.6,714.51,13772.6,566.865,44618.2,86815,183.43,500.259,78.7885,2133924,428651,72436589,17684,17684,0,12,5,1,1,0,1,t,f,t,healpix,\"\",dark,GALAXY,sv1\n",
      "290.809627566943,65.4350883586849,2.03083659683367,81.5014387936623,96.7023934802821,21.3177196727689,9907740713813442,0,39633449010595266,1.04813e+11,8.77893e+10,4177.89,4176.99,4177.56,4177.54,0,0.0651891,2.16691,3.37454,4.08859,514.27,155.585,66.051,0.824504,0.878105,0.92987,0.164852,0.11291,0.0907067,0.00338908,0.00451733,0.00514725,0.998808,0.998608,1.00006,672.765,203.706,72.0352,503.093,137.237,40.8989,5.88927,6.305,4.84039,-148.65,5.56701,1.82616,0.00362013,4.05705e-05,0.989013,0.993238,0.998554,0.999454,1.68507,2.62417,3.17944,1.68507,2.62417,3.17944,0,0,0,0,0,0,0,0,0,0,0,0,0,0,0,0,0,0,0,0,0,0,0,15.4391,3270258,35541,65618717,632262,1474,9011,2,2,3,0,0,0,32,0,2304,0,f, ,PSF,2909p655,237684487579726134377061549506,-0.00484364184483702,6.22635752205859e-05,7340.19566109336,0,0,0,0,0,0,0,0,0,0,3.15128829025798,290.809655250374,65.4350875890989,2.03085440479342,81.5014275635451,96.7023966971547,21.3177085345027,39633449010595266,36,7922,10,120.033,0.003,0.003,0,0,0,0,0.789,6.14042,0.00440061,1.21894,3.31171,25.4068,10.3208,0.118177,0.0445871,507.071,1.17037,97.9521,0.00249326,111.826,757.39,0.348916,1.64626,9.64367e-07,4.81282,1.89585e-07,0,255.901,1.55529e-06,1.05672,2.36801,513.212,5.98759,99.1711,3.31421,393.134,767.711,1.52381,4.05886,91.6247,3270258,35541,65618717,16020,16020,0,1,1,1,0,0,1,f,f,t,healpix,\"\",dark,GALAXY,special\n",
      "250.656808263511,29.8175416680999,242.553090047729,51.429712774661,50.4483121772538,39.6601329078302,9906632226311540,1311464449903517696,39628476508015988,1.09384e+13,9.8809e+12,10698.6,10700.9,10706.4,10705.7,0,0.0278515,2.70403,5.33422,5.08897,579.274,167.12,65.9825,0.920861,0.945977,0.969413,0.000234643,0.000123309,0.00025456,0.00592753,0.00775028,0.0920767,0.997946,0.996773,0.770139,693.317,212.043,67.6028,507.55,137.452,37.3613,11.0605,17.3743,58.9989,164.033,4.58883,1.15058,0.00147642,1.65656e-05,0.995291,0.997105,0.999382,0.999767,2.10339,4.14933,3.95856,2.10339,4.14933,3.95856,2015.5,0,0,0,0,0,0,0,0,20.8338,43.2735,20.7326,11.0949,20.1216,10.7476,1.62577,3.01434,-0.233574,0.841858,-1.47392,0.229278,-2.66679,0.11545,83.0713,3430880,197833,38168639,495301,3444,9010,2,2,2,0,0,0,0,0,0,31,f,G2,PSF,2505p297,237684487579726129404558970228,-0.00484155816751214,7.06849157932956e-05,6841.21435191781,375.500949485779,-502.27721749483,183.600846307457,-307.845037399328,-10.0618522036612,-40.4664960246112,104.066358354514,18.3089110166894,71.3850780502241,-11.2795764768043,0.482270662484552,250.656785744235,29.8175576942772,242.553053986131,51.4297243100849,50.4483272738805,39.6601553466522,39628476508015988,36,7896,10,120.032,-0.005,0.005,-0.004,0.004,0,0,0.789,2.27454,0.000925438,0.458591,0.605967,5.81956,4.11419,0.0244737,0.0104008,76.7393,0.247137,15.4103,0.000154172,13.6372,136.382,0.0592845,0.311654,4.00426e-07,1.39633,8.00293e-08,0,75.9559,6.95489e-07,0.30645,0.69161,79.0139,1.64439,15.8688,0.606121,95.4127,140.496,0.390208,1.01367,43.3427,3430880,197833,38168639,9318,9318,0,1,1,1,0,0,1,f,f,t,healpix,\"\",dark,GALAXY,special\n",
      "251.681732844591,33.8062070149898,242.534269452007,55.5122657161157,55.7448834102372,39.5346410037547,9907733023952884,0,39632956859355124,4.72671e+09,5.06533e+09,229.849,227.589,0,0,0,0.0229345,0.360045,0.481733,0.804708,856.389,216.76,108.274,0.934362,0.955298,0.974744,0,0,0,0.0394586,0.0292535,0.00971251,0.984619,0.979394,0.992561,828.766,214.868,113.93,650.849,155.861,54.2844,0.240567,-1.75044,3.81232,-632.687,5.57306,1.38983,0.00151208,1.82895e-05,0.996121,0.997616,0.999491,0.999808,0.279905,0.374507,0.625593,0.279905,0.374507,0.625594,0,0,0,0,0,0,0,0,0,0,0,0,0,0,0,0,0,0,0,0,0,0,0,96.7456,3646631,175308,38255853,514924,4084,9011,4,4,3,0,0,0,0,0,0,0,f, ,PSF,2515p337,237684487635066366106038964212,-0.0048414938510824,8.53681128114414e-05,7848.1534777432,3081.69574545139,714.484853148493,54.1532267884137,11.7134885321213,134.516343937441,0,0,0,0,0,1.79772765941743,251.681733168166,33.8061936797733,242.534275114989,55.5122527693661,55.7448663946443,39.5346386195498,39632956859355124,36,7927,10,2578.53,-2.89121e-19,0.00787401,0.00333333,0.00583095,0.166431,0.0701302,0.789,1028.15,0.485889,183.452,347.736,2558.5,1157.97,12.9573,5.02069,45582.8,106.678,7634.87,0.136811,8542.03,42218.8,31.5321,150.185,9.06808e-05,357.67,1.60496e-05,0,15539,9.99434e-05,76.1387,169.228,46610.9,464.834,7818.32,347.873,26639.5,43376.7,120.628,324.433,21.3425,3646631,175308,38255853,9339,9339,0,3,3,3,1,0,1,t,f,t,healpix,\"\",dark,GALAXY,sv3\n",
      "148.396837449386,31.611833744263,139.570119066466,17.6613593739922,195.321163566461,51.2559824670094,9906632772747393,0,39628511480119425,1.51264e+10,1.20404e+10,631.585,630.989,631.258,631.219,0,0.0160385,0.445144,0.635601,0.935451,1386.42,659.829,103.367,0.953632,0.968525,0.98227,0.00993825,0.00695111,0.00971849,0.0168147,0.0117014,0.014801,0.995212,0.997446,0.99684,1480.87,694.715,105.409,1043.45,440.603,53.8834,1.02557,0.861009,-27.4259,879.255,3.60078,0.78102,0.00105783,1.38044e-05,0.997286,0.998332,0.999644,0.999866,0.346676,0.495004,0.728526,0.346676,0.495004,0.728526,0,0,0,0,0,0,0,0,0,0,0,0,0,0,0,0,0,0,0,0,0,0,0,42.3402,3919381,187302,21687493,503639,129,9010,5,4,4,0,0,0,0,0,0,0,f, ,PSF,1485p315,237684487598172873513240625281,-0.00481938090355511,3.94287020373346e-05,9884.44972205737,-9767.3124993108,1914.8273774068,-886.628057592758,-164.010461965401,-17.221757158245,0,0,0,0,0,11.3381015824434,148.396852621152,31.6118278821771,139.570133927475,17.6613584887687,195.321174723341,51.2559948181388,39628511480119425,32,7928,10,8932.21,0.00568784,0.01083,-0.00024265,0.00767095,0.126935,0.0546183,0.789,2390.16,1.09115,436.214,777.494,5964.92,2919.87,29.1838,11.3208,88663.7,206.596,15733.6,0.264794,17633.4,98607,61.4416,291.689,0.000173276,730.429,3.19543e-05,0,31224.9,0.000220914,151.659,333.414,91053.9,938.115,16169.8,777.758,54823.2,101527,242.285,636.424,3.19327,3919381,187302,21687493,5294,5294,0,11,5,1,1,0,1,t,f,t,healpix,\"\",dark,GALAXY,sv1\n",
      "215.101362466526,0.136263453599085,212.769125589629,13.3508354431032,344.962235368631,55.5732701693741,9906621567994343,0,39627794375772647,7.87871e+10,8.50917e+10,2527.74,2526.54,2527.55,2527.61,0,0.0370878,0.9607,1.26478,1.28111,1845.24,648.851,248.816,0.896025,0.928714,0.959477,0,0,0,0.00706622,0.00856657,0.0144566,0.994481,0.992859,0.989708,2229.99,715.584,258.58,1322.37,450.561,143.082,5.90506,6.17269,-37.8538,913.399,3.1767,0.692341,0.00129707,1.65148e-05,0.993734,0.996147,0.999177,0.999689,0.747978,0.984731,0.997445,0.747978,0.984731,0.997445,0,0,0,0,0,0,0,0,0,0,0,0,0,0,0,0,0,0,0,0,0,0,0,42.1811,3557600,392292,106344594,332668,2535,9010,4,4,5,0,0,0,0,0,2048,0,f, ,PSF,2151p002,237684487635066360943555381735,-0.00480374925620831,7.93420957811547e-05,8781.16280538866,796.578507761626,-317.056119281563,13.4935256834939,-19.9474174443654,-108.752957067845,-50.3083075157976,-29.1554569236249,38.9446725951634,9.60086723677472,2.06271535003913,2.15448926856698,215.101358367123,0.13625156551297,212.769125705753,13.350822868572,344.96221701565,55.5732630649789,39627794375772647,36,7929,10,2270.92,-0.001,0.001,0.003,0.003,0,0,0.789,198.864,0.168323,37.7694,126.87,895.832,271.872,4.50605,1.63516,11140.4,27.4006,2068.89,0.0527893,2206.08,14045.5,7.66906,37.5669,3.00654e-05,107.612,5.68181e-06,0,4983.47,4.04572e-05,22.5118,50.6751,11339.3,135.181,2106.66,126.923,8085.39,14317.3,34.6869,89.8772,83.4338,3557600,392292,106344594,25963,25963,0,3,1,1,1,0,1,t,f,t,healpix,\"\",dark,GALAXY,sv3\n",
      "214.032743402783,52.6798698560746,179.42667682628,59.8377667923331,96.9829088059903,59.970967822161,9907738229869861,0,39633290038086949,1.25819e+10,1.41938e+10,529.2,529.253,533.346,530.492,0,0.0105102,0.172444,0.825616,1.97985,492.893,237.366,89.7934,0.969367,0.97926,0.988346,0.0163039,0.0105432,0.00322062,0.0195509,0.0149964,0.0167696,0.996198,0.996941,0.99396,535.106,256.852,93.3436,391.444,169.425,53.8371,17.5295,34.2678,117.94,686.842,4.61116,1.14905,0.00199115,2.33889e-05,0.99822,0.998907,0.999767,0.999912,0.134318,0.643077,1.54212,0.134318,0.643078,1.54212,0,0,0,0,0,0,0,0,0,0,0,0,0,0,0,0,0,0,0,0,0,0,0,3.80188,3612947,80075,46802189,594360,3365,9011,3,4,3,0,0,0,0,0,0,0,f, ,PSF,2139p527,237684487635066366439217696037,-0.0048012546969053,3.0095469501819e-05,7602.75713625891,476.206022510107,362.64768066285,-36.6119459920958,35.7026706476818,-38.7706634801217,21.070117324286,-30.4998109244921,-10.2821784062044,-6.28812346333354,-2.30908557601756,2.44780361139601,214.032731551159,52.6798292150473,179.426719100847,59.8377314066527,96.9828676447403,59.9710035854904,39633290038086949,36,7889,10,786.865,-0.002,0.002,0.01,0.01,0,0,0.792288,220.945,0.191805,40.1886,139.159,969.904,263.767,5.14001,1.92331,16865.8,35.0836,2837.32,0.0949953,3208.11,15708.1,10.9126,50.7364,3.99303e-05,124.313,7.00492e-06,0,5491.87,4.26008e-05,26.4379,59.7024,17086.7,159.588,2877.51,139.254,9669.88,15971.9,42.4905,112.362,17.7231,3612947,80075,46802189,11426,11426,0,1,1,1,1,0,1,t,f,t,healpix,\"\",dark,GALAXY,sv3\n",
      "223.642990800495,-6.72388943947221,223.223205137024,9.50998904879732,348.791524448922,44.9061358160652,9906618931941929,0,39627625668284969,3.69584e+10,4.0656e+10,1570.13,1569.96,1569.94,1569.95,0,0.0984229,0.572299,0.800799,0.768185,2856.44,876.326,121.736,0.747253,0.821799,0.896033,0.00111384,0.00167232,0.00335775,0.0129144,0.0112999,0.0177591,1,1,1,3151.41,959.325,122.965,1995.96,569.023,66.7833,2.04606,2.73578,58.8325,-355.027,2.90859,0.604995,0.00136655,1.92458e-05,0.983459,0.989809,0.997818,0.999175,0.445674,0.623616,0.598218,0.445674,0.623616,0.598218,0,0,0,0,0,0,0,0,0,0,0,0,0,0,0,0,0,0,0,0,0,0,0,43.5472,2838195,439420,184333164,292445,4649,9010,7,5,4,0,0,0,0,0,0,0,f, ,PSF,2236m067,237684487579726128553719239209,-0.00479320262262367,8.50118668190668e-05,7084.40142317907,501.003300115547,-654.388263091918,312.421114744889,-394.439281907584,25.0330701265267,17.4749112379058,163.689333448958,-26.7272667541934,-25.1003204371614,34.1342461847597,1.12437402969954,223.642979485976,-6.72388554371088,223.223193086936,9.50998949534491,348.791515837219,44.9061460257714,39627625668284969,36,7793,10,120.032,-0.003,0.003,-0.001,0.001,0,0,0.789,0.865231,0.00061986,0.175624,0.346019,3.83139,1.58622,0.0164156,0.00730759,82.0445,0.220393,16.4534,0.000343187,16.4894,142.088,0.0579979,0.293085,2.99246e-07,0.893585,6.01366e-08,0,53.7215,5.23267e-07,0.202275,0.46773,82.9098,1.1146,16.629,0.346363,74.0422,143.674,0.276689,0.768123,54.688,2838195,439420,184333164,45003,45003,0,1,1,1,0,0,1,f,f,t,healpix,\"\",dark,GALAXY,special\n",
      "160.824031565818,80.0305818467231,110.220128016565,61.7642538392917,129.403009290476,35.4303405788652,9907742334059957,1133095866849521536,39633552706373045,4.21084e+14,4.06238e+14,392828,392777,392762,392778,0,0.0277683,9.8836,34.9655,82.8736,345.822,92.7708,35.766,0.921088,0.946134,0.969503,5.31222e-05,0.000108894,3.14713e-05,0.000740762,0.00140808,0.110817,1,0.999999,0.986409,650.164,189.417,61.7632,502.14,143.479,39.465,44.581,22.6313,-7.85737,-431.45,3.45892,1.28924,0.00212559,2.59147e-05,0.995305,0.997114,0.999384,0.999767,7.69312,27.2162,64.5065,7.69319,27.2165,64.5069,2015.5,0,0,0,0,0,0,0,0,18.7373,411.693,19.6439,20.0358,17.8059,83.2271,1.32274,0.372978,0.257874,22.2582,-1.78556,6.75143,-2.13692,9.40257,49.7057,3749801,5820,32977430,656985,1461,9011,3,4,3,0,0,0,0,0,0,31,f,G2,PSF,1608p800,79228162569644203367378978229,-0.0047829542854747,1.03449397057891e-05,6482.96070059881,-23.5409801563509,-116.12086925055,493.833713224729,161.446149210911,-391.927271133117,302.79851813155,97.6902287361651,343.853901476009,-66.4557167119537,4.82712269371606,92.8090735777359,160.824057827313,80.0305872604263,110.220124769562,61.7642607399184,129.403000893285,35.430338800485,39633552706373045,32,7748,10,1820.03,0.002,0.002,-0.002,0.002,0,0,0.789,1.27744,0.000851848,0.25974,0.868483,4.69552,2.54501,0.0235734,0.00772035,126.694,0.270965,25.738,0.000811876,30.2241,251.283,0.0863344,0.389175,2.98559e-07,0.984117,6.06976e-08,0,46.8279,5.94422e-07,0.206528,0.447987,127.972,1.25593,25.9977,0.869295,81.7475,253.828,0.316435,0.844883,71.4954,3749801,5820,32977430,8051,8051,0,1,1,1,1,0,1,t,f,t,healpix,\"\",backup,GALAXY,sv1\n",
      "149.126091860023,2.69211154459093,150.302767189389,-9.25340074418255,235.522587551605,41.5888810761641,0,0,243347159515183,0,0,5049.82,9173.21,9142.21,9262.95,9270.43,0,0,0,0,0,0,0,0,0,0,0,0,0,0,0,0,0,0,0,0,0,0,0,0,0,0,0,0,0,0,0,0,0,0,0,0,0,0,0,0,0,0,0,2015.5,0,0,0,0,0,0,0,0,0,0,0,0,0,0,0,0,0,0,0,0,0,0,63.7535,3709813,374696,112001447,0,0,0,0,0,0,0,0,0,0,0,0,0,f,\"\",\"\",\"\",316912650112397825942463971375,-0.00475923849977499,3.67592744451453e-05,13870.5158511852,57.3209737346317,42.3225487017797,-10.4433632165158,14.3693950268765,1.01325640560683,-3.83264618556498,-3.97670282239559,-0.286589560750355,3.1429378331366,-5.05449232971343,59.2846680427792,149.126091954503,2.69210311756971,150.302770232557,-9.25340861832885,235.522596891838,41.5888763621393,243347159515183,32,7928,10,20621,5.26316e-05,0.00595156,0.00210526,0.00714511,0.0838875,0.0982795,0.792333,3701.67,3.2118,678.136,2484.78,16201.8,4515.81,86.4693,30.9098,208636,490.274,37152.7,1.05418,40393.6,231839,140.959,679.287,0.00056771,1696.51,0.000103357,0,79823.2,0.000680773,363.266,823.82,212338,2190,37830.8,2485.83,136419,236355,590.694,1534.02,30.5861,3709813,374696,112001447,27344,27344,0,19,5,1,1,0,1,t,f,t,healpix,\"\",other,GALAXY,sv1\n",
      "\n"
     ]
    },
    {
     "ename": "NameError",
     "evalue": "name 'db' is not defined",
     "output_type": "error",
     "traceback": [
      "\u001b[0;31m---------------------------------------------------------------------------\u001b[0m",
      "\u001b[0;31mNameError\u001b[0m                                 Traceback (most recent call last)",
      "\u001b[0;32m<ipython-input-20-81af89b08c8f>\u001b[0m in \u001b[0;36m<module>\u001b[0;34m\u001b[0m\n\u001b[1;32m      5\u001b[0m \u001b[0mresponse\u001b[0m \u001b[0;34m=\u001b[0m \u001b[0mqc\u001b[0m\u001b[0;34m.\u001b[0m\u001b[0mquery\u001b[0m\u001b[0;34m(\u001b[0m\u001b[0msql\u001b[0m\u001b[0;34m=\u001b[0m\u001b[0mq\u001b[0m\u001b[0;34m,\u001b[0m \u001b[0mfmt\u001b[0m\u001b[0;34m=\u001b[0m\u001b[0;34m'csv'\u001b[0m\u001b[0;34m,\u001b[0m \u001b[0mtimeout\u001b[0m\u001b[0;34m=\u001b[0m\u001b[0;36m600\u001b[0m\u001b[0;34m)\u001b[0m\u001b[0;34m\u001b[0m\u001b[0;34m\u001b[0m\u001b[0m\n\u001b[1;32m      6\u001b[0m \u001b[0mprint\u001b[0m\u001b[0;34m(\u001b[0m\u001b[0mresponse\u001b[0m\u001b[0;34m)\u001b[0m\u001b[0;34m\u001b[0m\u001b[0;34m\u001b[0m\u001b[0m\n\u001b[0;32m----> 7\u001b[0;31m \u001b[0mq\u001b[0m \u001b[0;34m=\u001b[0m \u001b[0mdb\u001b[0m\u001b[0;34m.\u001b[0m\u001b[0mdbSession\u001b[0m\u001b[0;34m.\u001b[0m\u001b[0mquery\u001b[0m\u001b[0;34m(\u001b[0m\u001b[0mdb\u001b[0m\u001b[0;34m.\u001b[0m\u001b[0mPhotometry\u001b[0m\u001b[0;34m,\u001b[0m \u001b[0mdb\u001b[0m\u001b[0;34m.\u001b[0m\u001b[0mZpix\u001b[0m\u001b[0;34m)\u001b[0m\u001b[0;34m.\u001b[0m\u001b[0mfilter\u001b[0m\u001b[0;34m(\u001b[0m\u001b[0mdb\u001b[0m\u001b[0;34m.\u001b[0m\u001b[0mPhotometry\u001b[0m\u001b[0;34m.\u001b[0m\u001b[0mtargetid\u001b[0m \u001b[0;34m==\u001b[0m \u001b[0mdb\u001b[0m\u001b[0;34m.\u001b[0m\u001b[0mZpix\u001b[0m\u001b[0;34m.\u001b[0m\u001b[0mtargetid\u001b[0m\u001b[0;34m)\u001b[0m\u001b[0;34m.\u001b[0m\u001b[0morder_by\u001b[0m\u001b[0;34m(\u001b[0m\u001b[0mdb\u001b[0m\u001b[0;34m.\u001b[0m\u001b[0mZpix\u001b[0m\u001b[0;34m.\u001b[0m\u001b[0mz\u001b[0m\u001b[0;34m,\u001b[0m \u001b[0mdb\u001b[0m\u001b[0;34m.\u001b[0m\u001b[0mPhotometry\u001b[0m\u001b[0;34m.\u001b[0m\u001b[0mflux_g\u001b[0m\u001b[0;34m)\u001b[0m\u001b[0;34m[\u001b[0m\u001b[0;34m:\u001b[0m\u001b[0;36m50\u001b[0m\u001b[0;34m]\u001b[0m\u001b[0;34m\u001b[0m\u001b[0;34m\u001b[0m\u001b[0m\n\u001b[0m",
      "\u001b[0;31mNameError\u001b[0m: name 'db' is not defined"
     ]
    }
   ],
   "source": [
    "q = \"\"\"SELECT p.*, z.*\n",
    "FROM desi_edr.photometry AS p\n",
    "JOIN desi_edr.zpix AS z ON p.targetid = z.targetid\n",
    "ORDER BY z.z, p.flux_g LIMIT 50;\"\"\"\n",
    "response = qc.query(sql=q, fmt='csv', timeout=600)\n",
    "print(response)"
   ]
  },
  {
   "cell_type": "code",
   "execution_count": null,
   "metadata": {},
   "outputs": [],
   "source": [
    "[(row.Photometry.flux_g, row.Photometry.flux_r, row.Photometry.flux_z, row.Zpix.z) for row in q]"
   ]
  },
  {
   "cell_type": "code",
   "execution_count": null,
   "metadata": {
    "scrolled": true
   },
   "outputs": [],
   "source": [
    "flux_g = np.array([row.Photometry.flux_g for row in q])\n",
    "flux_r = np.array([row.Photometry.flux_r for row in q])\n",
    "flux_z = np.array([row.Photometry.flux_z for row in q])\n",
    "g_minus_r = np.log10(flux_r/flux_g)\n",
    "r_minus_z = np.log10(flux_z/flux_r)\n",
    "redshift = np.array([row.Zpix.z for row in q])\n",
    "fig, axes = plt.subplots(1, 1, figsize=(5, 5), dpi=100)\n",
    "p = axes.plot(g_minus_r, r_minus_z, 'k.')\n",
    "foo = axes.set_xlim([-0.2, 1.0])\n",
    "foo = axes.set_ylim([-0.2, 1.0])\n",
    "foo = axes.set_aspect('equal')\n",
    "foo = axes.set_xlabel('$g - r$')\n",
    "foo = axes.set_ylabel('$r - z$')"
   ]
  },
  {
   "cell_type": "markdown",
   "metadata": {},
   "source": [
    "#### Exercise\n",
    "\n",
    "* Create a color-color plot for objects targeted as QSOs, and spectroscopically confirmed as such."
   ]
  },
  {
   "cell_type": "markdown",
   "metadata": {},
   "source": [
    "### A More Complicated Join\n",
    "\n",
    "Let's look at objects that appear on more than one tile. For each of those tiles, how many exposures where there?\n",
    "\n",
    "In this example, we're using `sqlalchemy.sql.func` to get the equivalent of `COUNT(*)` and a subquery that itself is a multi-table join.\n",
    "\n",
    "```SQL\n",
    "SELECT t.nexp, f.tileid, q1.targetid, q1.n_assign FROM desi_edr.fiberassign AS f\n",
    "    JOIN (SELECT ff.targetid, COUNT(*) AS n_assign FROM desi_edr.fiberassign AS ff GROUP BY ff.targetid) AS q1 ON f.targetid = q1.targetid\n",
    "    JOIN desi_edr.tile AS t ON f.tileid = t.tileid LIMIT 100;\n",
    "```"
   ]
  },
  {
   "cell_type": "code",
   "execution_count": 21,
   "metadata": {},
   "outputs": [
    {
     "name": "stdout",
     "output_type": "stream",
     "text": [
      "nexp,tileid,targetid,n_assign\n",
      "7,80856,6432023904256,1\n",
      "7,80856,6448025174016,1\n",
      "2,80875,6515536691200,2\n",
      "3,80876,6515536691200,2\n",
      "4,80889,6521555517440,2\n",
      "2,80890,6521555517440,2\n",
      "8,80885,6536638234624,2\n",
      "5,80886,6536638234624,2\n",
      "8,80689,6546033475584,1\n",
      "3,80715,28661214347265,1\n",
      "3,80715,28665861636097,1\n",
      "3,80715,28665861636098,1\n",
      "3,80715,28665861636099,1\n",
      "3,80715,28665865830400,1\n",
      "3,80715,28665865830401,1\n",
      "3,80715,28665874219008,1\n",
      "3,80715,28665874219009,1\n",
      "3,80715,28665878413313,1\n",
      "3,80715,28670500536321,1\n",
      "3,80715,28670504730624,1\n",
      "3,80715,28670504730626,1\n",
      "3,80715,28670508924930,1\n",
      "3,80715,28670508924932,1\n",
      "3,80715,28670508924934,1\n",
      "3,80715,28670508924935,1\n",
      "3,80715,28670508924936,1\n",
      "3,80715,28670508924938,1\n",
      "3,80715,28670508924940,1\n",
      "3,80715,28670508924941,1\n",
      "3,80715,28670513119233,1\n",
      "3,80715,28670513119234,1\n",
      "3,80715,28670521507841,1\n",
      "3,80715,28670525702148,1\n",
      "3,80715,28670529896451,1\n",
      "3,80715,28675126853639,1\n",
      "3,80715,28675131047936,1\n",
      "3,80715,28675131047938,1\n",
      "3,80715,28675131047940,1\n",
      "3,80715,28675131047941,1\n",
      "3,80715,28675131047945,1\n",
      "3,80715,28675131047955,1\n",
      "3,80715,28675131047958,1\n",
      "3,80715,28675135242241,1\n",
      "3,80715,28675135242242,1\n",
      "3,80715,28675135242244,1\n",
      "3,80715,28675135242249,1\n",
      "3,80715,28675135242253,1\n",
      "3,80715,28675135242260,1\n",
      "3,80715,28675135242262,1\n",
      "3,80715,28675135242263,1\n",
      "3,80715,28675139436547,1\n",
      "3,80715,28675139436550,1\n",
      "3,80715,28675139436551,1\n",
      "3,80715,28675143630849,1\n",
      "3,80715,28675143630850,1\n",
      "3,80715,28675143630852,1\n",
      "3,80715,28675147825153,1\n",
      "3,80715,28675147825155,1\n",
      "3,80715,28675152019456,1\n",
      "3,80715,28675156213760,1\n",
      "3,80715,28679728005120,1\n",
      "3,80715,28679732199428,1\n",
      "3,80715,28679732199429,1\n",
      "3,80715,28679736393731,1\n",
      "3,80715,28679736393734,1\n",
      "3,80715,28679736393741,1\n",
      "3,80715,28679740588040,1\n",
      "3,80715,28679740588047,1\n",
      "3,80715,28679740588051,1\n",
      "3,80715,28679740588053,1\n",
      "3,80715,28679740588068,1\n",
      "3,80715,28679744782336,1\n",
      "3,80715,28679744782338,1\n",
      "3,80715,28679744782344,1\n",
      "3,80715,28679744782350,1\n",
      "3,80715,28679748976641,1\n",
      "3,80715,28679748976644,1\n",
      "3,80715,28684312379395,1\n",
      "3,80715,28684312379396,1\n",
      "3,80715,28684316573696,1\n",
      "3,80715,28684316573697,1\n",
      "3,80715,28684316573698,1\n",
      "3,80715,28684324962305,1\n",
      "3,80715,28684324962310,1\n",
      "3,80715,28684324962317,1\n",
      "3,80715,28684324962324,1\n",
      "3,80715,28684329156610,1\n",
      "3,80715,28684329156617,1\n",
      "3,80715,28684329156623,1\n",
      "3,80715,28684329156626,1\n",
      "3,80715,28684329156628,1\n",
      "3,80715,28684329156630,1\n",
      "3,80715,28684329156636,1\n",
      "3,80715,28684329156656,1\n",
      "3,80715,28684329156665,1\n",
      "3,80715,28684329156667,1\n",
      "3,80715,28684333350912,1\n",
      "3,80715,28684333350916,1\n",
      "3,80715,28684333350917,1\n",
      "3,80715,28684333350925,1\n",
      "\n"
     ]
    }
   ],
   "source": [
    "q = \"\"\"SELECT t.nexp, f.tileid, q1.targetid, q1.n_assign\n",
    "FROM desi_edr.fiberassign AS f\n",
    "JOIN (SELECT ff.targetid, COUNT(*) AS n_assign FROM desi_edr.fiberassign AS ff GROUP BY ff.targetid) AS q1 ON f.targetid = q1.targetid\n",
    "JOIN desi_edr.tile AS t ON f.tileid = t.tileid LIMIT 100;\n",
    "\"\"\"\n",
    "response = qc.query(sql=q, fmt='csv', timeout=600)\n",
    "print(response)"
   ]
  },
  {
   "cell_type": "markdown",
   "metadata": {},
   "source": [
    "Now let's see what the redshift table thinks are the number of exposures for these objects.\n",
    "\n",
    "```SQL\n",
    "SELECT z.* FROM fuji.zpix AS z WHERE z.targetid IN (6432023904256, 6448025174016[, ...]);\n",
    "```"
   ]
  },
  {
   "cell_type": "code",
   "execution_count": null,
   "metadata": {},
   "outputs": [],
   "source": [
    "q3 = db.dbSession.query(db.Zpix).filter(db.Zpix.targetid.in_([row[2] for row in q2])).all()"
   ]
  },
  {
   "cell_type": "code",
   "execution_count": null,
   "metadata": {},
   "outputs": [],
   "source": [
    "[(row.coadd_numexp, row.zcat_nspec) for row in q3]"
   ]
  },
  {
   "cell_type": "markdown",
   "metadata": {},
   "source": [
    "#### Exercise\n",
    "\n",
    "* What is the distribution of number of exposures?"
   ]
  },
  {
   "cell_type": "markdown",
   "metadata": {},
   "source": [
    "## Fly me to the Moon\n",
    "\n",
    "How does the Moon affect redshifts?  First, let's find exposures that exposures that had the Moon above the horizon."
   ]
  },
  {
   "cell_type": "code",
   "execution_count": null,
   "metadata": {},
   "outputs": [],
   "source": [
    "moon_up = [e.expid for e in db.dbSession.query(db.Exposure).all() if ephem.moon(e.mjd, e.tilera, e.tiledec)[1] > 0]\n",
    "len(moon_up)"
   ]
  },
  {
   "cell_type": "code",
   "execution_count": null,
   "metadata": {},
   "outputs": [],
   "source": [
    "moon_up"
   ]
  },
  {
   "cell_type": "markdown",
   "metadata": {},
   "source": [
    "So there are a few.  But there is a subtle issue: redshifts are based on *all* exposures, and the exposures are deliberately designed to enforce the bright/dark dichotomy in targeting. There are execptions though: certain LRGs also get targeted in the BGS & MWS, so that's not hard to capture. "
   ]
  },
  {
   "cell_type": "code",
   "execution_count": null,
   "metadata": {},
   "outputs": [],
   "source": [
    "various_lrgs = (desi_mask.LRG | desi_mask.BGS_ANY | desi_mask.MWS_ANY)\n",
    "various_lrgs"
   ]
  },
  {
   "cell_type": "markdown",
   "metadata": {},
   "source": [
    "```SQL\n",
    "SELECT z.targetid, z.z, z.zerr, z.zwarn\n",
    "    FROM fuji.ztile AS z\n",
    "    JOIN fuji.target AS t ON z.targetphotid = t.id\n",
    "    JOIN fuji.fiberassign AS f ON t.targetid = f.targetid\n",
    "    JOIN fuji.exposure AS e ON f.tileid == e.tileid\n",
    "    WHERE z.spgrp = 'cumulative'\n",
    "    AND t.desi_target & 3458764513820540929 != 0\n",
    "    AND e.expid IN (90250, 87505, 87382[...]);\n",
    "```"
   ]
  },
  {
   "cell_type": "code",
   "execution_count": null,
   "metadata": {},
   "outputs": [],
   "source": [
    "q_up = db.dbSession.query(db.Ztile.targetid, db.Ztile.z, db.Ztile.zerr, db.Ztile.zwarn)\\\n",
    "                   .join(db.Target, db.Target.id==db.Ztile.targetphotid)\\\n",
    "                   .join(db.Fiberassign, db.Target.targetid==db.Fiberassign.targetid)\\\n",
    "                   .join(db.Exposure, db.Fiberassign.tileid==db.Exposure.tileid)\\\n",
    "                   .filter(db.Ztile.spgrp=='cumulative')\\\n",
    "                   .filter(db.Target.desi_target.op('&')(various_lrgs) != 0)\\\n",
    "                   .filter(db.Exposure.expid.in_(moon_up)).all()"
   ]
  },
  {
   "cell_type": "markdown",
   "metadata": {},
   "source": [
    "```SQL\n",
    "SELECT z.targetid, z.z, z.zerr, z.zwarn\n",
    "    FROM fuji.ztile AS z\n",
    "    JOIN fuji.target AS t ON z.targetphotid = t.id\n",
    "    JOIN fuji.fiberassign AS f ON t.targetid = f.targetid\n",
    "    JOIN fuji.exposure AS e ON f.tileid == e.tileid\n",
    "    WHERE z.spgrp = 'cumulative'\n",
    "    AND t.desi_target & 3458764513820540929 != 0\n",
    "    AND e.expid NOT IN (90250, 87505, 87382[...]);\n",
    "```"
   ]
  },
  {
   "cell_type": "code",
   "execution_count": null,
   "metadata": {},
   "outputs": [],
   "source": [
    "q_dn = db.dbSession.query(db.Ztile.targetid, db.Ztile.z, db.Ztile.zerr, db.Ztile.zwarn)\\\n",
    "                   .join(db.Target, db.Target.id==db.Ztile.targetphotid)\\\n",
    "                   .join(db.Fiberassign, db.Target.targetid==db.Fiberassign.targetid)\\\n",
    "                   .join(db.Exposure, db.Fiberassign.tileid==db.Exposure.tileid)\\\n",
    "                   .filter(db.Ztile.spgrp=='cumulative')\\\n",
    "                   .filter(db.Target.desi_target.op('&')(various_lrgs) != 0)\\\n",
    "                   .filter(~db.Exposure.expid.in_(moon_up)).all()"
   ]
  },
  {
   "cell_type": "markdown",
   "metadata": {},
   "source": [
    "Unfortunately however, the database currently only contains cumulative tile redshifts, not per-exposure redshifts, so it's not really meaningful to say whether the Moon was up or not. We'll just call this a work in progress."
   ]
  },
  {
   "cell_type": "code",
   "execution_count": null,
   "metadata": {},
   "outputs": [],
   "source": [
    "q_up"
   ]
  },
  {
   "cell_type": "code",
   "execution_count": null,
   "metadata": {},
   "outputs": [],
   "source": [
    "q_dn"
   ]
  },
  {
   "cell_type": "markdown",
   "metadata": {},
   "source": [
    "## Survey Progress\n",
    "\n",
    "Let's see which nights have data, and count the number of exposures per night.\n",
    "\n",
    "```SQL\n",
    "SELECT e.night, COUNT(e.expid) AS n_exp FROM fuji.exposure AS e GROUP BY e.night ORDER BY e.night;\n",
    "```"
   ]
  },
  {
   "cell_type": "code",
   "execution_count": null,
   "metadata": {},
   "outputs": [],
   "source": [
    "q = db.dbSession.query(db.Exposure.night, func.count(db.Exposure.expid).label('n_exp')).group_by(db.Exposure.night).order_by(db.Exposure.night).all()\n",
    "q"
   ]
  },
  {
   "cell_type": "markdown",
   "metadata": {},
   "source": [
    "Observation timestamp for a given night.  Note how we have both MJD and a corresponding `datetime.datetime` object in the database.\n",
    "\n",
    "```SQL\n",
    "SELECT e.expid, e.mjd, e.date_obs FROM fuji.exposure AS e WHERE e.night = 20210428 ORDER BY e.expid;\n",
    "```"
   ]
  },
  {
   "cell_type": "code",
   "execution_count": null,
   "metadata": {},
   "outputs": [],
   "source": [
    "q = db.dbSession.query(db.Exposure.expid, db.Exposure.mjd, db.Exposure.date_obs).filter(db.Exposure.night == 20210428).order_by(db.Exposure.expid).all()\n",
    "q"
   ]
  },
  {
   "cell_type": "markdown",
   "metadata": {},
   "source": [
    "So, for a given target in the `target` table, when was the observation completed?  In other words, if a target has multiple observations, we want the date of the *last* observation.  First, how many targets are there?\n",
    "\n",
    "```SQL\n",
    "SELECT COUNT(*) FROM fuji.target;\n",
    "```"
   ]
  },
  {
   "cell_type": "code",
   "execution_count": null,
   "metadata": {},
   "outputs": [],
   "source": [
    "N_targets = db.dbSession.query(db.Target).count()\n",
    "N_targets"
   ]
  },
  {
   "cell_type": "markdown",
   "metadata": {},
   "source": [
    "Now we look for targets that have observations and find the MJD of the observation.\n",
    "\n",
    "```SQL\n",
    "SELECT f.targetid, e.expid, e.mjd FROM fuji.fiberassign AS f\n",
    "    JOIN (SELECT tt.targetid FROM fuji.target AS tt JOIN fuji.fiberassign AS ff ON tt.targetid = ff.targetid\n",
    "              JOIN fuji.exposure AS ee ON ff.tileid = ee.tileid GROUP BY tt.targetid) AS q1 ON f.targetid = q1.targetid\n",
    "    JOIN fuji.exposure AS e ON f.tileid = e.tileid ORDER BY q1.targetid, e.expid;\n",
    "```"
   ]
  },
  {
   "cell_type": "code",
   "execution_count": null,
   "metadata": {},
   "outputs": [],
   "source": [
    "#\n",
    "# Find all targetids that have observations.\n",
    "#\n",
    "q1 = db.dbSession.query(db.Target.targetid).filter(db.Target.targetid == db.Fiberassign.targetid).filter(db.Fiberassign.tileid == db.Exposure.tileid).group_by(db.Target.targetid).subquery()\n",
    "#\n",
    "# Find the exposure times for the targetids that have been observed\n",
    "#\n",
    "q2 = db.dbSession.query(db.Fiberassign.targetid, db.Exposure.expid, db.Exposure.mjd).filter(db.Fiberassign.targetid == q1.c.targetid).filter(db.Fiberassign.tileid == db.Exposure.tileid).order_by(q1.c.targetid, db.Exposure.expid).all()\n",
    "targetid, expid, mjd = zip(*q2)\n",
    "targetid = np.array(targetid)\n",
    "expid = np.array(expid)\n",
    "mjd = np.array(mjd)\n",
    "#\n",
    "# Use the counts to give the *last* observation.\n",
    "#\n",
    "unique_targetid, i, j, c = np.unique(targetid, return_index=True, return_inverse=True, return_counts=True)\n",
    "unique_expid = expid[i + (c-1)]\n",
    "unique_mjd = mjd[i + (c-1)]"
   ]
  },
  {
   "cell_type": "markdown",
   "metadata": {},
   "source": [
    "Now we have the targets and the date of last observation.  But it's sorted by `targetid`."
   ]
  },
  {
   "cell_type": "code",
   "execution_count": null,
   "metadata": {},
   "outputs": [],
   "source": [
    "ii = unique_expid.argsort()\n",
    "unique_targetid, i3, j3, c3 = np.unique(unique_expid[ii], return_index=True, return_inverse=True, return_counts=True)\n",
    "N_completed = np.cumsum(c3)"
   ]
  },
  {
   "cell_type": "code",
   "execution_count": null,
   "metadata": {},
   "outputs": [],
   "source": [
    "min_mjd = 10*(int(mjd.min())//10)\n",
    "fig, axes = plt.subplots(1, 1, figsize=(8, 8), dpi=100)\n",
    "p1 = axes.plot(unique_mjd[ii][i3] - min_mjd, N_completed/N_targets, 'k-')\n",
    "foo = axes.set_xlabel(f'MJD - {min_mjd:d}')\n",
    "foo = axes.set_ylabel('Fraction completed')\n",
    "foo = axes.grid(True)\n",
    "# foo = axes.legend(loc=1)"
   ]
  },
  {
   "cell_type": "markdown",
   "metadata": {},
   "source": [
    "### Exercise\n",
    "\n",
    "* Break down the progress by target class, target bit, etc."
   ]
  },
  {
   "cell_type": "markdown",
   "metadata": {},
   "source": [
    "## Using Relationships in SQLAlchemy\n",
    "\n",
    "Here we demonstrate how table relationships can simplify certain queries. First we grab a single `db.Exposure` object.\n",
    "\n",
    "```SQL\n",
    "SELECT * FROM fuji.exposure where expid = 86507;\n",
    "```"
   ]
  },
  {
   "cell_type": "code",
   "execution_count": null,
   "metadata": {},
   "outputs": [],
   "source": [
    "exposure = db.dbSession.query(db.Exposure).filter(db.Exposure.expid == 86507).one()\n",
    "exposure"
   ]
  },
  {
   "cell_type": "markdown",
   "metadata": {},
   "source": [
    "How do we get the `db.Frame` objects associated with this exposure?"
   ]
  },
  {
   "cell_type": "code",
   "execution_count": null,
   "metadata": {},
   "outputs": [],
   "source": [
    "exposure.frames"
   ]
  },
  {
   "cell_type": "markdown",
   "metadata": {},
   "source": [
    "What tile is associated with this exposure?"
   ]
  },
  {
   "cell_type": "code",
   "execution_count": null,
   "metadata": {},
   "outputs": [],
   "source": [
    "exposure.tile"
   ]
  },
  {
   "cell_type": "markdown",
   "metadata": {},
   "source": [
    "What fiberassignments were made on this tile?"
   ]
  },
  {
   "cell_type": "code",
   "execution_count": null,
   "metadata": {},
   "outputs": [],
   "source": [
    "exposure.tile.fiberassign[:20]"
   ]
  },
  {
   "cell_type": "markdown",
   "metadata": {},
   "source": [
    "What redshifts were measured on this tile?"
   ]
  },
  {
   "cell_type": "code",
   "execution_count": null,
   "metadata": {},
   "outputs": [],
   "source": [
    "exposure.tile.ztile_redshifts[:20]"
   ]
  },
  {
   "cell_type": "markdown",
   "metadata": {},
   "source": [
    "### Exercise\n",
    "\n",
    "* Rewrite example queries above using relationships wherever possible."
   ]
  },
  {
   "cell_type": "markdown",
   "metadata": {},
   "source": [
    "## Using q3c in SQLAlchemy\n",
    "\n",
    "[q3c](https://github.com/segasai/q3c) ([Koposov & Bartunov 2006](https://ui.adsabs.harvard.edu/abs/2006ASPC..351..735K/abstract)) is a popular library that provides spatial indexing and searching in astronomical databases. Here we'll demonstrate how to access this functionality in SQLAlchemy.  Any database function is accessible with `sqlalchemy.sql.func`.  This is a radial (\"cone\") search on an arbitrary point in the DESI footprint:\n",
    "\n",
    "```SQL\n",
    "SELECT p.*, z.*, q3c_dist(p.ra, p.dec, 180.0, 0.0) AS radial_distance\n",
    "    FROM fuji.photometry AS p JOIN fuji.zpix AS z ON p.targetid = z.targetid\n",
    "    WHERE q3c_radial_query(p.ra, p.dec, 180.0, 0.0, 1.0/60.0); -- 1 arcmin\n",
    "```"
   ]
  },
  {
   "cell_type": "code",
   "execution_count": null,
   "metadata": {},
   "outputs": [],
   "source": [
    "q = db.dbSession.query(db.Photometry, db.Zpix, func.q3c_dist(db.Photometry.ra, db.Photometry.dec, 180.0, 0.0).label(\"radial_distance\")).join(db.Zpix).filter(func.q3c_radial_query(db.Photometry.ra, db.Photometry.dec, 180.0, 0.0, 1.0/60.0)).all()  # 1 arcmin\n",
    "q"
   ]
  },
  {
   "cell_type": "markdown",
   "metadata": {},
   "source": [
    "### Exercise\n",
    "\n",
    "* What spectra are near your favourite object?"
   ]
  },
  {
   "cell_type": "code",
   "execution_count": null,
   "metadata": {},
   "outputs": [],
   "source": []
  }
 ],
 "metadata": {
  "kernelspec": {
   "display_name": "DESI 22.2",
   "language": "python",
   "name": "desi_22.2"
  },
  "language_info": {
   "codemirror_mode": {
    "name": "ipython",
    "version": 3
   },
   "file_extension": ".py",
   "mimetype": "text/x-python",
   "name": "python",
   "nbconvert_exporter": "python",
   "pygments_lexer": "ipython3",
   "version": "3.8.8"
  }
 },
 "nbformat": 4,
 "nbformat_minor": 4
}
