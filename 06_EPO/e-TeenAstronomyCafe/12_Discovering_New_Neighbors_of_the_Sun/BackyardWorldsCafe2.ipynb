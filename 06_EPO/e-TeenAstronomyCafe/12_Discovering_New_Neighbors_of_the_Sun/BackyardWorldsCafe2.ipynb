{
 "cells": [
  {
   "attachments": {},
   "cell_type": "markdown",
   "metadata": {
    "id": "xaAWBSED0vEd"
   },
   "source": [
    "<img src=\"Figures/logo154.svg\" alt=\"to Go logo\" width=\"100\" align=\"right\"/>\n",
    "<br>\n",
    "<br>\n",
    "<font size='6'><u><b>Discovering New Neighbors of the Sun</b></u></font>\n",
    "<br>\n",
    "\n",
    "_**Written by Aaron Meisner, NSF's NOIRLab**_"
   ]
  },
  {
   "attachments": {},
   "cell_type": "markdown",
   "metadata": {
    "id": "JPlZbsgP1qGm"
   },
   "source": [
    "# Table of Contents\n",
    "\n",
    "* [How to Use This Notebook](#How-to-Use-This-Notebook)\n",
    "* [Pre-Activity Setup](#Pre-Activity-Setup)\n",
    "* [Objective: Discovering Brown Dwarfs](#Objective:-Discovering-Brown-Dwarfs)\n",
    "* [Activity 1: Motions of stars (and brown dwarfs)](#Activity-1:-Motions-of-stars-(and-brown-dwarfs))\n",
    "* [Activity 2: Colors of stars and brown dwarfs](#Activity-2:Colors-of-stars-and-brown-dwarfs)\n",
    "* [Looking for brown dwarfs based on motion & color](#Looking-for-brown-dwarfs-based-on-motion-&-color)\n",
    "* [Activity 3: Discover the Brown Dwarfs!](#Activity-3:-Discover-the-Brown-Dwarfs!)"
   ]
  },
  {
   "attachments": {},
   "cell_type": "markdown",
   "metadata": {
    "id": "lrCSzip40i38"
   },
   "source": [
    "# How to Use This Notebook\n",
    "\n",
    "The webpage you are in is actually an app - much like the ones on your cellphone. This app consists of cells.\n",
    "\n",
    "An *input* cell looks like a light grey box with an `In [ ]:` on its left. Input cells each contain code - instructions to make the computer do something.\n",
    "\n",
    "To activate or select a cell, click anywhere inside of it.\n",
    "\n",
    "<div class='alert alert-info'>\n",
    "    <font size='3'><b>Select the cell below and read its contents.</b></font>\n",
    "</div>"
   ]
  },
  {
   "cell_type": "code",
   "execution_count": null,
   "metadata": {
    "id": "gK8fGaY71FJH"
   },
   "outputs": [],
   "source": [
    "# Text that follows a \"#\" is known as a comment.\n",
    "# Comments do not affect your code in any way.\n",
    "# You should always read the comments at the top of each cell you interact with.\n",
    "# Comments will be used to describe what the cell's code is actually doing."
   ]
  },
  {
   "attachments": {},
   "cell_type": "markdown",
   "metadata": {
    "id": "6lRcrxpO1Iiu"
   },
   "source": [
    "To execute or run a selected cell, hit `[Shift + Enter]` on your keyboard.\n",
    "\n",
    "<div class='alert alert-info'>\n",
    "    <font size='3'><b>Select the cell below and read its contents. Then, run the cell.</b></font>\n",
    "        <br> If a warning appears, just click <em>\"Run Anyway\"</em>, this code is safe ;) \n",
    "    <br> Also, if you want to save your progress, click the <em>\"Copy to Drive\"</em> button at the top.\n",
    "</div>"
   ]
  },
  {
   "cell_type": "code",
   "execution_count": null,
   "metadata": {
    "colab": {
     "base_uri": "https://localhost:8080/"
    },
    "id": "L_OeY6Hc1NP0",
    "outputId": "3dce70be-2f5e-4dcd-c8cc-2a84c85933ae"
   },
   "outputs": [
    {
     "name": "stdout",
     "output_type": "stream",
     "text": [
      "Congrats! You have successfully run your first cell!\n"
     ]
    }
   ],
   "source": [
    "# Text that DOESN'T follow a \"#\" is considered code.\n",
    "# Lines of code are instructions given to your computer.\n",
    "# The line of code below is a \"print\" statement.\n",
    "# A print statement literally prints out the text between its quotes.\n",
    "\n",
    "print(\"Congrats! You have successfully run your first cell!\")"
   ]
  },
  {
   "attachments": {},
   "cell_type": "markdown",
   "metadata": {
    "id": "4N9eq1Zl1TBl"
   },
   "source": [
    "Running a cell creates an *output* directly below it. An output can be some text, a graph, an interactive slider, or even nothing at all! For that last case, you know you have run a cell when the `In [ ]:` becomes `In [#]:`, where \"#\" is any number.\n",
    "\n",
    "You can learn more about how Python notebooks work at https://try.jupyter.org/\n",
    "___"
   ]
  },
  {
   "attachments": {},
   "cell_type": "markdown",
   "metadata": {
    "id": "uFvS-XIm1X17"
   },
   "source": [
    "# Pre-Activity Setup\n",
    "\n",
    "In order for any of the activities to work properly, you must import the libraries needed for the code in this notebook.\n",
    "\n",
    "Go to the “Runtime” menu and select the option to “Run all.” Running all helps to ensure a cell was not skipped and all libraries are imported to help the activities work properly. As you work through the Python Notebook, you may also re-run each cell individually.\n",
    "\n",
    "<div class='alert alert-info'>\n",
    "    <font size='3'><b>Select and run the cell below.</b></font>\n",
    "</div>"
   ]
  },
  {
   "cell_type": "code",
   "execution_count": null,
   "metadata": {
    "colab": {
     "base_uri": "https://localhost:8080/"
    },
    "id": "arabcv0-1cK2",
    "outputId": "6d393818-9bac-4834-98c5-50025ae4d80c"
   },
   "outputs": [
    {
     "name": "stdout",
     "output_type": "stream",
     "text": [
      "\n",
      "Done! You have successfully imported the libraries.\n"
     ]
    }
   ],
   "source": [
    "# Here, you are importing the libraries needed for this notebook.\n",
    "# These libraries set up the plotting environment in your browser.\n",
    "\n",
    "%matplotlib inline\n",
    "import matplotlib.pyplot as plt\n",
    "from matplotlib.patches import Circle\n",
    "from matplotlib.collections import PatchCollection\n",
    "plt.style.use('ggplot')\n",
    "from collections import OrderedDict\n",
    "import numpy as np\n",
    "import astropy.units as u\n",
    "from astropy.units import imperial\n",
    "from IPython.display import display\n",
    "from ipywidgets import interactive, interact, FloatSlider\n",
    "\n",
    "print(\"\\nDone! You have successfully imported the libraries.\")"
   ]
  },
  {
   "attachments": {},
   "cell_type": "markdown",
   "metadata": {
    "id": "E2SQH-b9mnAO"
   },
   "source": [
    "**ANY QUESTIONS?**"
   ]
  },
  {
   "attachments": {},
   "cell_type": "markdown",
   "metadata": {
    "id": "DspiDj4kpyoC"
   },
   "source": [
    "# Objective: Discovering Brown Dwarfs\n",
    "\n",
    "In this notebook we'll explore a bit of the physics, astronomy and math behind how we can discover new nearby neighbors of the Sun referred to as [brown dwarfs](https://en.wikipedia.org/wiki/Brown_dwarf). Then we'll look through some telescope data to identify real brown dwarfs hidden among other stars, galaxies and detector noise.\n",
    "\n",
    "Brown dwarfs are celestial objects with masses in between those of stars and those of giant planets like Jupiter. Below is an artist rendering of a brown dwarf. You can think of them like oversized versions of Jupiter, but floating around all alone in interstellar space.\n",
    "\n",
    "<img src=\"https://upload.wikimedia.org/wikipedia/commons/thumb/e/e0/Artist%E2%80%99s_conception_of_a_brown_dwarf_like_2MASSJ22282889-431026.jpg/1920px-Artist%E2%80%99s_conception_of_a_brown_dwarf_like_2MASSJ22282889-431026.jpg\" width=\"800\">\n",
    "\n",
    "You might wonder: why should we care about brown dwarfs? There are many different ways to answer this. The atmospheres of brown dwarfs are very similar to those of giant exoplanets, but can be characterized in detail without the glare of a much brighter host star interfering. These brown dwarf atmospheres show strong signatures of water and methane. Some brown dwarfs may in fact be rogue planets ejected from the star system in which they were originally born.\n",
    "\n",
    "Because brown dwarfs are so dim, it still remains possible that there could be an as-yet overlooked brown dwarf closer to us than [Proxima Centauri](https://en.wikipedia.org/wiki/Proxima_Centauri), awaiting discovery in existing telescope data. This would be a historic discovery and makes the search for new brown dwarfs very exciting!\n",
    "\n",
    "In the [Backyard Worlds](https://en.wikipedia.org/wiki/Backyard_Worlds) project, we search for brown dwarfs in [infrared](https://en.wikipedia.org/wiki/Infrared) images taken by NASA's [Wide-field Infrared Survey Explorer](https://en.wikipedia.org/wiki/Wide-field_Infrared_Survey_Explorer) (WISE) telescope.\n",
    "\n",
    "# Activity 1: Motions of stars (and brown dwarfs)\n",
    "\n",
    "Brown dwarfs are cold and dim, so they can only be detected when nearby to us. All inhabitants of our Milky Way Galaxy, such as stars and brown dwarfs, are moving relative to the Sun. But we perceive the objects close to us as having a high apparent motion across the sky. This can be seen in the Barnard's Star example image blink from today's lecture.\n",
    "\n",
    "<center><img src=\"https://upload.wikimedia.org/wikipedia/commons/6/6c/Barnard2005.gif\" width=\"400\"></center>\n",
    "\n",
    "Note that the above animation is on a loop; Barnard's star doesn't actually \"jump backward\" at any point, it just keeps moving along essentially a straight line trajectory.\n",
    "\n",
    "Mathematically, for a star of fixed speed $v$ (in the plane perpendicular to the line of sight from us to the star), we have:\n",
    "\n",
    "$\\mu \\propto v/d$\n",
    "\n",
    "Here $v$ would be in units of distance over time (like m/s or km/s), $d$ is the distance between us and the star (in units like light years) and $\\mu$ is the rate of apparent motion across the sky, which astronomers refer to as **proper motion**. Proper motion has units of angular displacement per unit time. It turns out that the convenient unit of proper motion for nearby stars is [arcseconds](https://en.wikipedia.org/wiki/Minute_and_second_of_arc) per year, where one arcsecond is 1/3600 of a degree. Barnard's Star has the highest proper motion of any currently known star or brown dwarf, at roughly 10.4 arcseconds/year. It is possible that through searches like Backyard Worlds, we could discover a brown dwarf that breaks this proper motion record!\n",
    "\n",
    "Let's take a look at how the fast apparent motion of Barnard's Star plays out in a modern astronomical catalog (from the [Gaia](https://en.wikipedia.org/wiki/Gaia_(spacecraft)) mission). The code below shows the locations of stars in a 40 [arcminute](https://en.wikipedia.org/wiki/Minute_and_second_of_arc) diameter patch of the sky, similar in size to the full Moon.\n",
    "\n"
   ]
  },
  {
   "cell_type": "code",
   "execution_count": null,
   "metadata": {
    "id": "0tiRoQxcCrJZ"
   },
   "outputs": [],
   "source": [
    "# set up Python environment...\n",
    "\n",
    "from ipywidgets import *\n",
    "import numpy as np\n",
    "import matplotlib.pyplot as plt\n",
    "import pandas as pd"
   ]
  },
  {
   "cell_type": "code",
   "execution_count": null,
   "metadata": {
    "id": "8FBDJzJUoKwQ"
   },
   "outputs": [],
   "source": [
    "url = 'https://raw.githubusercontent.com/ameisner/cafe/master/etc/gaia_barnards_star.csv'\n",
    "df_gaia = pd.read_csv(url)"
   ]
  },
  {
   "cell_type": "code",
   "execution_count": null,
   "metadata": {
    "colab": {
     "base_uri": "https://localhost:8080/",
     "height": 567,
     "referenced_widgets": [
      "75b5affa594d4b81abff8751c5169ee7",
      "ab8bfb9ed48d4b1294c7b31cc3dd0a04",
      "316198ada98949b0a69e0db40e740574",
      "970a379005924950bc608b589f5b7aab",
      "b6d7298c21574dd99bff4e5eac0930c5",
      "4fe1e221d99f4c519f7ee79e65cd7cc3",
      "e30a3e3e243a4e6dbfd553f807870f05"
     ]
    },
    "id": "5d3DpdM7oV2B",
    "outputId": "17a4285b-1df8-4f28-b895-58d718070b7d"
   },
   "outputs": [
    {
     "name": "stdout",
     "output_type": "stream",
     "text": [
      "NOTE: CLICKING THE SLIDER THEN HOLDING THE RIGHT ARROW WILL GIVE YOU A CONTINUOUS \"MOVIE\" OF THE MOTIONS\n"
     ]
    },
    {
     "data": {
      "application/vnd.jupyter.widget-view+json": {
       "model_id": "75b5affa594d4b81abff8751c5169ee7",
       "version_major": 2,
       "version_minor": 0
      },
      "text/plain": [
       "interactive(children=(IntSlider(value=0, description='dt_yr'), Output()), _dom_classes=('widget-interact',))"
      ]
     },
     "metadata": {},
     "output_type": "display_data"
    },
    {
     "data": {
      "text/plain": [
       "<function __main__.plot_stars>"
      ]
     },
     "execution_count": 16,
     "metadata": {},
     "output_type": "execute_result"
    }
   ],
   "source": [
    "def plot_stars(dt_yr=0):\n",
    "  global df_gaia\n",
    "\n",
    "  xmin = np.min(df_gaia['RA'])\n",
    "  xmax = np.max(df_gaia['RA'])\n",
    "\n",
    "  ymin = np.min(df_gaia['DEC'])\n",
    "  ymax = np.max(df_gaia['DEC'])\n",
    "\n",
    "  ra = df_gaia['RA'] + dt_yr*np.cos(df_gaia['DEC']/(180/np.pi))*df_gaia['PMRA']/(3600.0*1000.0)\n",
    "  dec = df_gaia['DEC'] + dt_yr*df_gaia['PMDEC']/(3600.0*1000.0)\n",
    "\n",
    "  plt.figure(figsize=(8, 8))\n",
    "  plt.scatter(ra, dec, edgecolor='black', s=10, c='k', marker='.') #needed to avoid a deprecation warning in matplotlib.pyplot (2023-07-10, Marco Moreno)\n",
    "  ###plt.scatter(ra[400], dec[400], marker='o', facecolor='none',\n",
    "  ###            s=100, edgecolor='r')\n",
    "\n",
    "  plt.xlim((xmax, xmin)) # east to the left...\n",
    "  plt.ylim((ymax, ymin)) # to match the Barnard's Star GIF shown earlier...\n",
    "\n",
    "  plt.xlabel('right ascension (degrees)')\n",
    "  plt.ylabel('declination (degrees)')\n",
    "  plt.show() # This line is important due to an update of the ipywidgets library (2023-07-10, Marco Moreno)\n",
    "\n",
    "print('NOTE: CLICKING THE SLIDER THEN HOLDING THE RIGHT ARROW WILL GIVE YOU A CONTINUOUS \"MOVIE\" OF THE MOTIONS')\n",
    "interact(plot_stars, dt_yr=(0, 100, 1))"
   ]
  },
  {
   "attachments": {},
   "cell_type": "markdown",
   "metadata": {
    "id": "1YJGmmuTo166"
   },
   "source": [
    "Most stars in this sky patch are a few thousand light years from the Sun. For comparison, Barnard's Star is just under 6 light years away from the Sun! Notice that during one century, a star many thousands of light years away appears to stay at essentially a fixed position.\n",
    "\n",
    "**Can you find Barnard's Star by eye?** Hint: Barnard's Star has the largest proper motion of any star on the entire sky, so it will look like it's moving a lot faster than any other star in this small sky region.\n",
    "\n",
    "**ANY QUESTIONS?**"
   ]
  },
  {
   "attachments": {},
   "cell_type": "markdown",
   "metadata": {
    "id": "NrDCp41Kusv-"
   },
   "source": [
    "**GOING FURTHER (OPTIONAL)**\n",
    "\n",
    "What if we look at the motions on longer timescales, say 0 to 10,000 years in increments of 100 years? Here's what we see:"
   ]
  },
  {
   "cell_type": "code",
   "execution_count": null,
   "metadata": {
    "colab": {
     "base_uri": "https://localhost:8080/",
     "height": 550,
     "referenced_widgets": [
      "047c2efd76c84fb99f87e6ae683e1311",
      "b8ff79b19cf242dea4afea8d0783ea92",
      "b4c5faeb98bf4120ae787f85982e60eb",
      "76f4f6a1e02f460d8511339cd5142c78",
      "fb8d9c87a9c54126810dd4fc1cda98b5",
      "25e973d1b651443da7a3c8c2c600a32a",
      "99710b1f5fdc404ab6b49f69c8752ea4"
     ]
    },
    "id": "Iw0PXdMxpMVn",
    "outputId": "8e4507b7-351a-4979-cedd-91694640b2d1"
   },
   "outputs": [
    {
     "data": {
      "application/vnd.jupyter.widget-view+json": {
       "model_id": "047c2efd76c84fb99f87e6ae683e1311",
       "version_major": 2,
       "version_minor": 0
      },
      "text/plain": [
       "interactive(children=(IntSlider(value=0, description='dt_yr', max=10000, step=100), Output()), _dom_classes=('…"
      ]
     },
     "metadata": {},
     "output_type": "display_data"
    },
    {
     "data": {
      "text/plain": [
       "<function __main__.plot_stars>"
      ]
     },
     "execution_count": 17,
     "metadata": {},
     "output_type": "execute_result"
    }
   ],
   "source": [
    "interact(plot_stars, dt_yr=(0, 10000, 100))"
   ]
  },
  {
   "attachments": {},
   "cell_type": "markdown",
   "metadata": {
    "id": "8kD0IHFTux_z"
   },
   "source": [
    "So over ~10,000 years, all the stars, even the distant ones, appear to move noticeably.\n",
    "\n",
    "**Bonus Question**: why don't we see the motion of Barnard's Star using the above slider with 100 year time increments?\n",
    "\n",
    "**GOING FURTHER (OPTIONAL)**\n",
    "\n",
    "What about even longer time scales, 1 million years in increments of 1,000 years? That's shown here:"
   ]
  },
  {
   "cell_type": "code",
   "execution_count": null,
   "metadata": {
    "colab": {
     "base_uri": "https://localhost:8080/",
     "height": 550,
     "referenced_widgets": [
      "4ec24770809a4930b12d72f4140132b1",
      "c4ce44b66d524940ab9704ee85c4f086",
      "5374de310ee340138c435dd5dd339358",
      "727d1083a9c24c32b3b5e5e7a572036b",
      "a859a1346ada4281a2d9f2f1dcc15f72",
      "6a15c5ad0a324a84b3047bf86676bb34",
      "e61804c399b7415bb62b6fd51a3c0f10"
     ]
    },
    "id": "Krt1taihpjL8",
    "outputId": "104175bd-71c8-4c0e-bb5e-578d40bdeaeb"
   },
   "outputs": [
    {
     "data": {
      "application/vnd.jupyter.widget-view+json": {
       "model_id": "4ec24770809a4930b12d72f4140132b1",
       "version_major": 2,
       "version_minor": 0
      },
      "text/plain": [
       "interactive(children=(IntSlider(value=0, description='dt_yr', max=1000000, step=1000), Output()), _dom_classes…"
      ]
     },
     "metadata": {},
     "output_type": "display_data"
    },
    {
     "data": {
      "text/plain": [
       "<function __main__.plot_stars>"
      ]
     },
     "execution_count": 18,
     "metadata": {},
     "output_type": "execute_result"
    }
   ],
   "source": [
    "interact(plot_stars, dt_yr=(0, 1000000, 1000))"
   ]
  },
  {
   "attachments": {},
   "cell_type": "markdown",
   "metadata": {
    "id": "uYLgGXm5D8lu"
   },
   "source": [
    "**Bonus Question**: after a long time (millions of years), all the stars in this visualization \"go away\". If we were to actually look at a patch of sky for millions of years, would all the stars \"go away\"?"
   ]
  },
  {
   "attachments": {},
   "cell_type": "markdown",
   "metadata": {
    "id": "PeCuazwl0G0H"
   },
   "source": [
    "# Activity 2: Colors of stars and brown dwarfs\n",
    "\n",
    "If you've looked at the night sky, you've probably noticed that stars come in different colors. The color of a star is indicative of its temperature. A blue/white looking star is relatively hot, while a red star (say, a red dwarf like Barnard's Star) will look more yellow/orange in color.\n",
    "\n",
    "We can think of this in a simplified way, approximating the [spectrum](https://en.wikipedia.org/wiki/Spectrum) -- light emission as a function of [wavelength](https://en.wikipedia.org/wiki/Wavelength) -- of each star as a [blackbody curve](https://en.wikipedia.org/wiki/Planck%27s_law).\n",
    "\n",
    "The following code makes plots illustrating how the color of a star shifts from blue to red as you go from the hottest stars ($\\sim$50,000 Kelvin) to cold brown dwarfs (temperature = 700 Kelvin). [Kelvin](https://en.wikipedia.org/wiki/Kelvin) is a temperature scale used by physicists and astronomers. The transition from star to brown dwarf happens at roughly 2,200 Kelvin. For comparison, the Sun has a temperature of ~5,800 Kelvin.\n",
    "\n",
    "The [peak wavelength](https://skyserver.sdss.org/dr1/en/proj/advanced/color/peakwavelength.asp) of the light emission shifts from short (blue) wavelengths to long (red) wavelengths as the temperature decreases.\n"
   ]
  },
  {
   "cell_type": "code",
   "execution_count": null,
   "metadata": {
    "colab": {
     "base_uri": "https://localhost:8080/",
     "height": 339,
     "referenced_widgets": [
      "18faddeef15b4326bd62f838bdb0b14f",
      "eabb47e208fc401dad7648aa641dc5f7",
      "1825cff033c14f62b4663ede3b360100",
      "799d1b31e96b4dcd9c69a061e4fbe879",
      "5c436b346679496987876d4b757e3a47",
      "c7d7fba5d9554a44956372dfbe4f043e",
      "86b7cef85bad4905b423ad09badac693"
     ]
    },
    "id": "fSU6yvMfC0Nl",
    "outputId": "67660dcc-9668-4f36-ddc0-96ecd930b42b"
   },
   "outputs": [
    {
     "data": {
      "application/vnd.jupyter.widget-view+json": {
       "model_id": "18faddeef15b4326bd62f838bdb0b14f",
       "version_major": 2,
       "version_minor": 0
      },
      "text/plain": [
       "interactive(children=(FloatSlider(value=5800.0, description='T', layout=Layout(width='initial'), max=30000.0, …"
      ]
     },
     "metadata": {},
     "output_type": "display_data"
    }
   ],
   "source": [
    "url = 'https://raw.githubusercontent.com/ameisner/cafe/master/etc/blackbody_wise_flux_ratios.csv'\n",
    "df_bb = pd.read_csv(url)\n",
    "\n",
    "def plot_planck(T):\n",
    "  # make sure to normalize\n",
    "\n",
    "  plt.figure(figsize=(18, 4))\n",
    "  plt.subplot(1, 2, 1)\n",
    "  lambda_values_nm = np.arange(100, 8000)\n",
    "  lambda_values_m = (1e-9)*lambda_values_nm\n",
    "\n",
    "  c = 3e8\n",
    "  nu_values = c/lambda_values_m\n",
    "\n",
    "  k_b = 1.380649e-23\n",
    "  h = 6.62607015e-34\n",
    "\n",
    "  B_nu_T = np.power(nu_values, 3)/(np.exp(h*nu_values/(k_b*T)) - 1)\n",
    "\n",
    "  B_nu_T /= np.max(B_nu_T) # normalize so that the peak has value 1\n",
    "\n",
    "  lambda_values_um = lambda_values_nm/1000\n",
    "  plt.plot(lambda_values_um, B_nu_T, c='k')\n",
    "\n",
    "  wav_lim_um_blue = (3, 3.9)\n",
    "  wav_lim_um_red = (4.1, 5)\n",
    "\n",
    "  plt.plot([wav_lim_um_blue[0]]*2, [0, 1], c='b')\n",
    "  plt.plot([3.9,3.9], [0, 1], c='b')\n",
    "  plt.plot([4.1,4.1], [0, 1], c='r')\n",
    "  plt.plot([5, 5], [0, 1], c='r')\n",
    "\n",
    "  plt.text(3.07, 0.55, 'WISE low\\nwavelength\\nchannel', c='b', fontsize=12,\n",
    "           rotation=90)\n",
    "  \n",
    "  plt.text(4.17, 0.55, 'WISE long\\nwavelength\\nchannel', c='r', fontsize=12,\n",
    "           rotation=90)\n",
    "\n",
    "  plt.ylim((0, 1.025))\n",
    "  plt.xlim((0, 8))\n",
    "\n",
    "  title = 'temperature = ' + str(int(T)) + ' Kelvin ('\n",
    "  title += 'STAR' if T > 2200 else 'BROWN DWARF'\n",
    "  title += ')'\n",
    "\n",
    "  plt.title(title)\n",
    "  plt.xlabel('wavelength (microns)')\n",
    "  plt.ylabel('normalized flux per unit frequency')\n",
    "\n",
    "  plt.subplot(1, 2, 2)\n",
    "\n",
    "  flux_ratio_num = np.sum(B_nu_T[(lambda_values_um > wav_lim_um_red[0]) & (lambda_values_um < wav_lim_um_red[1])]) \n",
    "  flux_ratio_den = np.sum(B_nu_T[(lambda_values_um > wav_lim_um_blue[0]) & (lambda_values_um < wav_lim_um_blue[1])]) \n",
    "\n",
    "  flux_ratio = flux_ratio_num/flux_ratio_den\n",
    "\n",
    "  global df_bb\n",
    "  plt.plot(df_bb['t_vals'], df_bb['flux_ratio_vals'], c='k')\n",
    "\n",
    "  plt.xlim((700, 30000))\n",
    "  plt.ylim((0, 2))\n",
    "\n",
    "  plt.scatter([T], [flux_ratio], marker='o', s=100, c='k')\n",
    "\n",
    "  plt.xlabel('temperature', fontsize=16)\n",
    "  plt.ylabel('(red flux) / (blue flux) ratio', fontsize=16)\n",
    "\n",
    "  plt.title(title)\n",
    "\n",
    "  ax = plt.gca()\n",
    "  ax.tick_params(axis='both', which='major', labelsize=14)\n",
    "  ax.tick_params(axis='both', which='minor', labelsize=14)\n",
    "\n",
    "  plt.show() # This line is important due to an update of the ipywidgets library (2023-07-10, Marco Moreno)\n",
    "\n",
    "layout = {'width':'initial'}\n",
    "box_layout = {'display':'flex', 'flex_flow':'column', 'align-items':'center', 'border':'1px solid grey', 'width':'initial'}\n",
    "\n",
    "# start at 5800 K because that's roughly the temperature of the Sun\n",
    "T = FloatSlider(value=5800, min=700, max=30000, step=50, continuous_update=True, layout=layout)\n",
    "\n",
    "plot4 = interactive(plot_planck, T=T)\n",
    "plot4.layout = box_layout\n",
    "display(plot4)"
   ]
  },
  {
   "attachments": {},
   "cell_type": "markdown",
   "metadata": {
    "id": "_9VwvHUl1Oyv"
   },
   "source": [
    "The black line of the left hand plot shows how the overall spectrum and its peak location shift toward longer wavelengths as you go from a hotter to a colder star (assuming simplified blackbody emission for now). The right hand plot shows the ratio of amount of light emitted in two infrared wavelength ranges, one centered at $\\sim$3.5 microns and the other centered at $\\sim$4.5 microns. A [micron](https://en.wikipedia.org/wiki/Micrometre) is a unit of length, equal to 1000 [nanometers](https://en.wikipedia.org/wiki/Nanometre). For a sense of scale, the typical width of a strand of spider web silk is a few microns. You may have noticed the word [\"flux\"](https://en.wikipedia.org/wiki/Radiative_flux) in the plot labels. Flux is basically just another word for amount of energy emitted per unit time per unit area.\n",
    "\n",
    "Most stars have a fairly similar ratio of light at 4.5 microns to light at 3.5 microns. But when we reach the coldest brown dwarfs, this ratio becomes dramatically higher. Thus, we can search for cold nearby brown dwarfs not only based on their proper motion, but also based on their \"color\" at infrared wavelengths. In this context, by \"color\" astronomers mean the ratio of amount of light emitted at two different wavelengths. Objects that look very bright at 4.5 microns relative to how bright they are at 3.5 microns will be strong brown dwarf candidates and are said to have a very \"red color\" because they emit more strongly at the longer wavelength of these two wavelengths. The plotted wavelength intervals have been chosen because these are the wavelengths at which the WISE telescope maps the sky, and we'll be looking at images from the WISE telescope later in this activity."
   ]
  },
  {
   "attachments": {},
   "cell_type": "markdown",
   "metadata": {
    "id": "oRb-Hgu_4sai"
   },
   "source": [
    "Incidentally, the detailed spectra of brown dwarfs look much weirder than a simple blackbody, primarily due to methane and water absorption that carve out deep valleys and sharp peaks in the profile of light as a function of wavelength. An example is shown below:\n",
    "\n",
    "<img src=\"https://astrobites.org/wp-content/uploads/2017/05/fig2.png\" width=\"800\">\n",
    "\n",
    "That's right -- there's water in the atmospheres of brown dwarfs, either in the form of steam / water vapor or, in the case of the coldest brown dwarfs, water ice clouds!\n",
    "\n",
    "The temperature of [this object](https://en.wikipedia.org/wiki/WISEA_1101%2B5400) (the first brown dwarf discovered by Backyard Worlds citizen scientists!) is $\\sim$1,200 Kelvin. For comparison, the Sun's temperature is a much hotter $\\sim$5,800 Kelvin and Jupiter's temperature is significantly cooler, $\\sim$150 Kelvin.\n",
    "\n",
    "**ANY QUESTIONS?**\n",
    "\n",
    "**GOING FURTHER (EXTRA INFO)**\n",
    "\n",
    "Looking at this spectrum, there are a couple of features that tell us it's a brown dwarf:\n",
    "\n",
    "(1) If we imagine a smooth blackbody-like envelope that ignores the deep water/methane absorption troughs, it would peak somewhere in the ~1.3 micron range. For comparison, the Sun (temperature ~5,800 K) peaks at roughly 0.5 microns (roughly 500 nanometers). From [Wien's law](https://en.wikipedia.org/wiki/Wien%27s_displacement_law), we know that the peak of the blackbody spectrum shifts redward as temperature gets colder. An object with spectrum peaking near 1.3 microns would need to be a few times cooler than the Sun, cold enough to be a brown dwarf.\n",
    "\n",
    "(2) The extreme water/methane absorption features are a distinctive hallmark of brown dwarfs -- the spectrum of a [star](https://www.esa.int/ESA_Multimedia/Images/2017/12/Solar_spectrum) or galaxy just doesn't look like that at all. This type of absorption signature gets imprinted when a relatively cool gas (the brown dwarf upper atmosphere) is sitting in front of a relatively hot source (the deeper, hotter layers of the brown dwarf atmosphere). This absorption band creation is a consequence of [Kirchoff's laws](https://www.e-education.psu.edu/astro801/content/l3_p6.html).\n"
   ]
  },
  {
   "attachments": {},
   "cell_type": "markdown",
   "metadata": {
    "id": "Y0Qm2cFk2jgb"
   },
   "source": [
    "# Looking for brown dwarfs based on motion & color\n",
    "\n",
    "Now that we have some background on the distinctive motions and colors of brown dwarfs, let's discuss how Backyard Worlds uses both of these traits to discover new brown dwarfs nearby to the Sun. Backyard Worlds looks at images from NASA's [Wide-field Infrared Survey Explorer](https://en.wikipedia.org/wiki/Wide-field_Infrared_Survey_Explorer) (WISE) telescope. These images have square [pixels](https://en.wikipedia.org/wiki/Pixel) that are 2.75 arcseconds on a side, and the data set spans a $\\sim$10 year time period (from roughly 2010 to 2020). So Barnard's Star would appear to move by\n",
    "\n",
    "10.4 arcseconds/year $\\times$ 10 years / (2.75 arcseconds/pixel) $\\sim$ 38 WISE pixels\n",
    "\n",
    "Over the course of the available data.\n",
    "\n",
    "What is the limit of motions we can detected with the WISE data? Roughly speaking, we can 'see' a movement of about 1 pixel, which would correspond to:\n",
    "\n",
    "2.75 arcseconds / 10 years = 0.275 arcseconds per year.\n",
    "\n",
    "Let's visually examine a few examples of what recent brown dwarf discoveries made by Backyard Worlds citizen scientists look like in the actual WISE data used to discover them. Here's what a brown dwarf moving at roughly 1.5 arcsecond per year looks like.\n",
    "\n",
    "<img src=\"https://raw.githubusercontent.com/ameisner/cafe/master/etc/w1930.gif\" width=\"200\">\n",
    "\n",
    "Note that the above animation is on a loop. This animation and the others like it in the remainder of this notebook have a sidelength of 2 arcminutes.\n",
    "\n",
    "The brown dwarf moves toward the bottom right corner of the image over the ~2010-2020 time period, then jumps back upward/leftward to its starting position when the loop resets. This brown dwarf was first discovered by Backyard Worlds citizen scientists in October 2017. The Backyard Worlds science team has subsequently observed it with the [Spitzer Space Telescope](https://en.wikipedia.org/wiki/Spitzer_Space_Telescope), finding that it is one of the coldest known brown dwarfs, with a temperature of 350 +/- 80 Kelvin. Notice that in addition to the motion of this object, it has a distinctive orange color very different from the black color of much more distant stars and galaxies in the image.\n",
    "\n",
    "Here's a brown dwarf moving significantly slower ($\\sim$0.5 arcseconds/year, roughly 20$\\times$ slower than Barnard's star), but still in a way that's visually perceptible relative to the much more distant background stars and galaxies that appear to stay fixed.\n",
    "\n",
    "<img src=\"https://raw.githubusercontent.com/ameisner/cafe/master/etc/w2243.gif\" width=\"200\">\n",
    "\n",
    "This brown dwarf was first discovered by Backyard Worlds citizen scientists in April 2018. **Question**: Which direction do you see this brown dwarf moving over time?\n",
    "\n",
    "Let's keep going on the theme of tricky cases. In addition to blending/confusion, detector noise and defects can also masquerade as red and/or moving sources, and therefore show up as \"bogus\" brown dwarf candidates. Here's one example, a so-called \"ghost\" in the WISE data:\n",
    "\n",
    "\n",
    "<img src=\"https://raw.githubusercontent.com/ameisner/cafe/master/etc/ghost.gif\" width=\"200\">\n",
    "\n",
    "It looks very red, but it has an odd donut-shaped appearance which is different from the shape of stars in the imagery, hence we know it can't be a real brown dwarf. If you follow [this link](https://www.legacysurvey.org/viewer/?ra=12.4397&dec=-13.5258&layer=unwise-neo6&zoom=13), you can see that this ghost is sourced by a bright star that's just \"off the screen\" in this animation.\n",
    "\n",
    "Lastly, \"crowded fields\" -- areas of the sky such as the plane of our Milky Way Galaxy with lots of stars -- can be more difficult to comprehend, both for computer programs and for humans. Here's a crowded field example:\n",
    "\n",
    "<img src=\"https://raw.githubusercontent.com/ameisner/cafe/master/etc/w1936.gif\" width=\"200\">\n",
    "\n",
    "**ANY QUESTIONS?**\n",
    "\n",
    "# Activity 3: Discover the brown dwarfs!\n",
    "\n",
    "Here's a <a href=\"https://docs.google.com/spreadsheets/d/1bDp2B-GO7O-GdfMz68-Jv63HXdU0LQQu_NxMhcXCr8o/edit?usp=sharing\">Google Sheet</a> with a couple dozen brown dwarf candidates. The candidate in each case is at the center of the field of view (but keep your eyes out for celestial objects that might be moving in other parts of each movie!). Each team should collaborate on its own copy of the spreadsheet, filling out the \"NOTES\" column with the team members' thoughts about whether each candidate is a brown dwarf or not. Then we will reconvene the whole group to discuss. By the way, several of the brown dwarfs in this example data set were first discovered by Backyard Worlds volunteers within the last few years!\n",
    "\n",
    "**ANY QUESTIONS?**\n",
    "\n",
    "## Like staring at movies of brown dwarf candidates?\n",
    "\n",
    "Anyone can participate in the Backyard Worlds project, which is accessible online for free and with no registration required at:\n",
    "\n",
    "https://backyardworlds.org/"
   ]
  }
 ],
 "metadata": {
  "colab": {
   "collapsed_sections": [],
   "name": "BackyardWorldsCafe2",
   "provenance": []
  },
  "kernelspec": {
   "display_name": "Python 3",
   "language": "python",
   "name": "python3"
  },
  "language_info": {
   "codemirror_mode": {
    "name": "ipython",
    "version": 3
   },
   "file_extension": ".py",
   "mimetype": "text/x-python",
   "name": "python",
   "nbconvert_exporter": "python",
   "pygments_lexer": "ipython3",
   "version": "3.9.5"
  },
  "widgets": {
   "application/vnd.jupyter.widget-state+json": {
    "047c2efd76c84fb99f87e6ae683e1311": {
     "model_module": "@jupyter-widgets/controls",
     "model_module_version": "1.5.0",
     "model_name": "VBoxModel",
     "state": {
      "_dom_classes": [
       "widget-interact"
      ],
      "_model_module": "@jupyter-widgets/controls",
      "_model_module_version": "1.5.0",
      "_model_name": "VBoxModel",
      "_view_count": null,
      "_view_module": "@jupyter-widgets/controls",
      "_view_module_version": "1.5.0",
      "_view_name": "VBoxView",
      "box_style": "",
      "children": [
       "IPY_MODEL_b4c5faeb98bf4120ae787f85982e60eb",
       "IPY_MODEL_76f4f6a1e02f460d8511339cd5142c78"
      ],
      "layout": "IPY_MODEL_b8ff79b19cf242dea4afea8d0783ea92"
     }
    },
    "1825cff033c14f62b4663ede3b360100": {
     "model_module": "@jupyter-widgets/controls",
     "model_module_version": "1.5.0",
     "model_name": "FloatSliderModel",
     "state": {
      "_dom_classes": [],
      "_model_module": "@jupyter-widgets/controls",
      "_model_module_version": "1.5.0",
      "_model_name": "FloatSliderModel",
      "_view_count": null,
      "_view_module": "@jupyter-widgets/controls",
      "_view_module_version": "1.5.0",
      "_view_name": "FloatSliderView",
      "continuous_update": true,
      "description": "T",
      "description_tooltip": null,
      "disabled": false,
      "layout": "IPY_MODEL_c7d7fba5d9554a44956372dfbe4f043e",
      "max": 30000,
      "min": 700,
      "orientation": "horizontal",
      "readout": true,
      "readout_format": ".2f",
      "step": 50,
      "style": "IPY_MODEL_5c436b346679496987876d4b757e3a47",
      "value": 5800
     }
    },
    "18faddeef15b4326bd62f838bdb0b14f": {
     "model_module": "@jupyter-widgets/controls",
     "model_module_version": "1.5.0",
     "model_name": "VBoxModel",
     "state": {
      "_dom_classes": [
       "widget-interact"
      ],
      "_model_module": "@jupyter-widgets/controls",
      "_model_module_version": "1.5.0",
      "_model_name": "VBoxModel",
      "_view_count": null,
      "_view_module": "@jupyter-widgets/controls",
      "_view_module_version": "1.5.0",
      "_view_name": "VBoxView",
      "box_style": "",
      "children": [
       "IPY_MODEL_1825cff033c14f62b4663ede3b360100",
       "IPY_MODEL_799d1b31e96b4dcd9c69a061e4fbe879"
      ],
      "layout": "IPY_MODEL_eabb47e208fc401dad7648aa641dc5f7"
     }
    },
    "25e973d1b651443da7a3c8c2c600a32a": {
     "model_module": "@jupyter-widgets/base",
     "model_module_version": "1.2.0",
     "model_name": "LayoutModel",
     "state": {
      "_model_module": "@jupyter-widgets/base",
      "_model_module_version": "1.2.0",
      "_model_name": "LayoutModel",
      "_view_count": null,
      "_view_module": "@jupyter-widgets/base",
      "_view_module_version": "1.2.0",
      "_view_name": "LayoutView",
      "align_content": null,
      "align_items": null,
      "align_self": null,
      "border": null,
      "bottom": null,
      "display": null,
      "flex": null,
      "flex_flow": null,
      "grid_area": null,
      "grid_auto_columns": null,
      "grid_auto_flow": null,
      "grid_auto_rows": null,
      "grid_column": null,
      "grid_gap": null,
      "grid_row": null,
      "grid_template_areas": null,
      "grid_template_columns": null,
      "grid_template_rows": null,
      "height": null,
      "justify_content": null,
      "justify_items": null,
      "left": null,
      "margin": null,
      "max_height": null,
      "max_width": null,
      "min_height": null,
      "min_width": null,
      "object_fit": null,
      "object_position": null,
      "order": null,
      "overflow": null,
      "overflow_x": null,
      "overflow_y": null,
      "padding": null,
      "right": null,
      "top": null,
      "visibility": null,
      "width": null
     }
    },
    "316198ada98949b0a69e0db40e740574": {
     "model_module": "@jupyter-widgets/controls",
     "model_module_version": "1.5.0",
     "model_name": "IntSliderModel",
     "state": {
      "_dom_classes": [],
      "_model_module": "@jupyter-widgets/controls",
      "_model_module_version": "1.5.0",
      "_model_name": "IntSliderModel",
      "_view_count": null,
      "_view_module": "@jupyter-widgets/controls",
      "_view_module_version": "1.5.0",
      "_view_name": "IntSliderView",
      "continuous_update": true,
      "description": "dt_yr",
      "description_tooltip": null,
      "disabled": false,
      "layout": "IPY_MODEL_4fe1e221d99f4c519f7ee79e65cd7cc3",
      "max": 100,
      "min": 0,
      "orientation": "horizontal",
      "readout": true,
      "readout_format": "d",
      "step": 1,
      "style": "IPY_MODEL_b6d7298c21574dd99bff4e5eac0930c5",
      "value": 0
     }
    },
    "4ec24770809a4930b12d72f4140132b1": {
     "model_module": "@jupyter-widgets/controls",
     "model_module_version": "1.5.0",
     "model_name": "VBoxModel",
     "state": {
      "_dom_classes": [
       "widget-interact"
      ],
      "_model_module": "@jupyter-widgets/controls",
      "_model_module_version": "1.5.0",
      "_model_name": "VBoxModel",
      "_view_count": null,
      "_view_module": "@jupyter-widgets/controls",
      "_view_module_version": "1.5.0",
      "_view_name": "VBoxView",
      "box_style": "",
      "children": [
       "IPY_MODEL_5374de310ee340138c435dd5dd339358",
       "IPY_MODEL_727d1083a9c24c32b3b5e5e7a572036b"
      ],
      "layout": "IPY_MODEL_c4ce44b66d524940ab9704ee85c4f086"
     }
    },
    "4fe1e221d99f4c519f7ee79e65cd7cc3": {
     "model_module": "@jupyter-widgets/base",
     "model_module_version": "1.2.0",
     "model_name": "LayoutModel",
     "state": {
      "_model_module": "@jupyter-widgets/base",
      "_model_module_version": "1.2.0",
      "_model_name": "LayoutModel",
      "_view_count": null,
      "_view_module": "@jupyter-widgets/base",
      "_view_module_version": "1.2.0",
      "_view_name": "LayoutView",
      "align_content": null,
      "align_items": null,
      "align_self": null,
      "border": null,
      "bottom": null,
      "display": null,
      "flex": null,
      "flex_flow": null,
      "grid_area": null,
      "grid_auto_columns": null,
      "grid_auto_flow": null,
      "grid_auto_rows": null,
      "grid_column": null,
      "grid_gap": null,
      "grid_row": null,
      "grid_template_areas": null,
      "grid_template_columns": null,
      "grid_template_rows": null,
      "height": null,
      "justify_content": null,
      "justify_items": null,
      "left": null,
      "margin": null,
      "max_height": null,
      "max_width": null,
      "min_height": null,
      "min_width": null,
      "object_fit": null,
      "object_position": null,
      "order": null,
      "overflow": null,
      "overflow_x": null,
      "overflow_y": null,
      "padding": null,
      "right": null,
      "top": null,
      "visibility": null,
      "width": null
     }
    },
    "5374de310ee340138c435dd5dd339358": {
     "model_module": "@jupyter-widgets/controls",
     "model_module_version": "1.5.0",
     "model_name": "IntSliderModel",
     "state": {
      "_dom_classes": [],
      "_model_module": "@jupyter-widgets/controls",
      "_model_module_version": "1.5.0",
      "_model_name": "IntSliderModel",
      "_view_count": null,
      "_view_module": "@jupyter-widgets/controls",
      "_view_module_version": "1.5.0",
      "_view_name": "IntSliderView",
      "continuous_update": true,
      "description": "dt_yr",
      "description_tooltip": null,
      "disabled": false,
      "layout": "IPY_MODEL_6a15c5ad0a324a84b3047bf86676bb34",
      "max": 1000000,
      "min": 0,
      "orientation": "horizontal",
      "readout": true,
      "readout_format": "d",
      "step": 1000,
      "style": "IPY_MODEL_a859a1346ada4281a2d9f2f1dcc15f72",
      "value": 0
     }
    },
    "5c436b346679496987876d4b757e3a47": {
     "model_module": "@jupyter-widgets/controls",
     "model_module_version": "1.5.0",
     "model_name": "SliderStyleModel",
     "state": {
      "_model_module": "@jupyter-widgets/controls",
      "_model_module_version": "1.5.0",
      "_model_name": "SliderStyleModel",
      "_view_count": null,
      "_view_module": "@jupyter-widgets/base",
      "_view_module_version": "1.2.0",
      "_view_name": "StyleView",
      "description_width": "",
      "handle_color": null
     }
    },
    "6a15c5ad0a324a84b3047bf86676bb34": {
     "model_module": "@jupyter-widgets/base",
     "model_module_version": "1.2.0",
     "model_name": "LayoutModel",
     "state": {
      "_model_module": "@jupyter-widgets/base",
      "_model_module_version": "1.2.0",
      "_model_name": "LayoutModel",
      "_view_count": null,
      "_view_module": "@jupyter-widgets/base",
      "_view_module_version": "1.2.0",
      "_view_name": "LayoutView",
      "align_content": null,
      "align_items": null,
      "align_self": null,
      "border": null,
      "bottom": null,
      "display": null,
      "flex": null,
      "flex_flow": null,
      "grid_area": null,
      "grid_auto_columns": null,
      "grid_auto_flow": null,
      "grid_auto_rows": null,
      "grid_column": null,
      "grid_gap": null,
      "grid_row": null,
      "grid_template_areas": null,
      "grid_template_columns": null,
      "grid_template_rows": null,
      "height": null,
      "justify_content": null,
      "justify_items": null,
      "left": null,
      "margin": null,
      "max_height": null,
      "max_width": null,
      "min_height": null,
      "min_width": null,
      "object_fit": null,
      "object_position": null,
      "order": null,
      "overflow": null,
      "overflow_x": null,
      "overflow_y": null,
      "padding": null,
      "right": null,
      "top": null,
      "visibility": null,
      "width": null
     }
    },
    "727d1083a9c24c32b3b5e5e7a572036b": {
     "model_module": "@jupyter-widgets/output",
     "model_module_version": "1.0.0",
     "model_name": "OutputModel",
     "state": {
      "_dom_classes": [],
      "_model_module": "@jupyter-widgets/output",
      "_model_module_version": "1.0.0",
      "_model_name": "OutputModel",
      "_view_count": null,
      "_view_module": "@jupyter-widgets/output",
      "_view_module_version": "1.0.0",
      "_view_name": "OutputView",
      "layout": "IPY_MODEL_e61804c399b7415bb62b6fd51a3c0f10",
      "msg_id": "",
      "outputs": [
       {
        "data": {
         "image/png": "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\n",
         "text/plain": "<Figure size 576x576 with 1 Axes>"
        },
        "metadata": {},
        "output_type": "display_data"
       }
      ]
     }
    },
    "75b5affa594d4b81abff8751c5169ee7": {
     "model_module": "@jupyter-widgets/controls",
     "model_module_version": "1.5.0",
     "model_name": "VBoxModel",
     "state": {
      "_dom_classes": [
       "widget-interact"
      ],
      "_model_module": "@jupyter-widgets/controls",
      "_model_module_version": "1.5.0",
      "_model_name": "VBoxModel",
      "_view_count": null,
      "_view_module": "@jupyter-widgets/controls",
      "_view_module_version": "1.5.0",
      "_view_name": "VBoxView",
      "box_style": "",
      "children": [
       "IPY_MODEL_316198ada98949b0a69e0db40e740574",
       "IPY_MODEL_970a379005924950bc608b589f5b7aab"
      ],
      "layout": "IPY_MODEL_ab8bfb9ed48d4b1294c7b31cc3dd0a04"
     }
    },
    "76f4f6a1e02f460d8511339cd5142c78": {
     "model_module": "@jupyter-widgets/output",
     "model_module_version": "1.0.0",
     "model_name": "OutputModel",
     "state": {
      "_dom_classes": [],
      "_model_module": "@jupyter-widgets/output",
      "_model_module_version": "1.0.0",
      "_model_name": "OutputModel",
      "_view_count": null,
      "_view_module": "@jupyter-widgets/output",
      "_view_module_version": "1.0.0",
      "_view_name": "OutputView",
      "layout": "IPY_MODEL_99710b1f5fdc404ab6b49f69c8752ea4",
      "msg_id": "",
      "outputs": [
       {
        "data": {
         "image/png": "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\n",
         "text/plain": "<Figure size 576x576 with 1 Axes>"
        },
        "metadata": {},
        "output_type": "display_data"
       }
      ]
     }
    },
    "799d1b31e96b4dcd9c69a061e4fbe879": {
     "model_module": "@jupyter-widgets/output",
     "model_module_version": "1.0.0",
     "model_name": "OutputModel",
     "state": {
      "_dom_classes": [],
      "_model_module": "@jupyter-widgets/output",
      "_model_module_version": "1.0.0",
      "_model_name": "OutputModel",
      "_view_count": null,
      "_view_module": "@jupyter-widgets/output",
      "_view_module_version": "1.0.0",
      "_view_name": "OutputView",
      "layout": "IPY_MODEL_86b7cef85bad4905b423ad09badac693",
      "msg_id": "",
      "outputs": [
       {
        "data": {
         "image/png": "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\n",
         "text/plain": "<Figure size 1296x288 with 2 Axes>"
        },
        "metadata": {},
        "output_type": "display_data"
       }
      ]
     }
    },
    "86b7cef85bad4905b423ad09badac693": {
     "model_module": "@jupyter-widgets/base",
     "model_module_version": "1.2.0",
     "model_name": "LayoutModel",
     "state": {
      "_model_module": "@jupyter-widgets/base",
      "_model_module_version": "1.2.0",
      "_model_name": "LayoutModel",
      "_view_count": null,
      "_view_module": "@jupyter-widgets/base",
      "_view_module_version": "1.2.0",
      "_view_name": "LayoutView",
      "align_content": null,
      "align_items": null,
      "align_self": null,
      "border": null,
      "bottom": null,
      "display": null,
      "flex": null,
      "flex_flow": null,
      "grid_area": null,
      "grid_auto_columns": null,
      "grid_auto_flow": null,
      "grid_auto_rows": null,
      "grid_column": null,
      "grid_gap": null,
      "grid_row": null,
      "grid_template_areas": null,
      "grid_template_columns": null,
      "grid_template_rows": null,
      "height": null,
      "justify_content": null,
      "justify_items": null,
      "left": null,
      "margin": null,
      "max_height": null,
      "max_width": null,
      "min_height": null,
      "min_width": null,
      "object_fit": null,
      "object_position": null,
      "order": null,
      "overflow": null,
      "overflow_x": null,
      "overflow_y": null,
      "padding": null,
      "right": null,
      "top": null,
      "visibility": null,
      "width": null
     }
    },
    "970a379005924950bc608b589f5b7aab": {
     "model_module": "@jupyter-widgets/output",
     "model_module_version": "1.0.0",
     "model_name": "OutputModel",
     "state": {
      "_dom_classes": [],
      "_model_module": "@jupyter-widgets/output",
      "_model_module_version": "1.0.0",
      "_model_name": "OutputModel",
      "_view_count": null,
      "_view_module": "@jupyter-widgets/output",
      "_view_module_version": "1.0.0",
      "_view_name": "OutputView",
      "layout": "IPY_MODEL_e30a3e3e243a4e6dbfd553f807870f05",
      "msg_id": "",
      "outputs": [
       {
        "data": {
         "image/png": "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\n",
         "text/plain": "<Figure size 576x576 with 1 Axes>"
        },
        "metadata": {},
        "output_type": "display_data"
       }
      ]
     }
    },
    "99710b1f5fdc404ab6b49f69c8752ea4": {
     "model_module": "@jupyter-widgets/base",
     "model_module_version": "1.2.0",
     "model_name": "LayoutModel",
     "state": {
      "_model_module": "@jupyter-widgets/base",
      "_model_module_version": "1.2.0",
      "_model_name": "LayoutModel",
      "_view_count": null,
      "_view_module": "@jupyter-widgets/base",
      "_view_module_version": "1.2.0",
      "_view_name": "LayoutView",
      "align_content": null,
      "align_items": null,
      "align_self": null,
      "border": null,
      "bottom": null,
      "display": null,
      "flex": null,
      "flex_flow": null,
      "grid_area": null,
      "grid_auto_columns": null,
      "grid_auto_flow": null,
      "grid_auto_rows": null,
      "grid_column": null,
      "grid_gap": null,
      "grid_row": null,
      "grid_template_areas": null,
      "grid_template_columns": null,
      "grid_template_rows": null,
      "height": null,
      "justify_content": null,
      "justify_items": null,
      "left": null,
      "margin": null,
      "max_height": null,
      "max_width": null,
      "min_height": null,
      "min_width": null,
      "object_fit": null,
      "object_position": null,
      "order": null,
      "overflow": null,
      "overflow_x": null,
      "overflow_y": null,
      "padding": null,
      "right": null,
      "top": null,
      "visibility": null,
      "width": null
     }
    },
    "a859a1346ada4281a2d9f2f1dcc15f72": {
     "model_module": "@jupyter-widgets/controls",
     "model_module_version": "1.5.0",
     "model_name": "SliderStyleModel",
     "state": {
      "_model_module": "@jupyter-widgets/controls",
      "_model_module_version": "1.5.0",
      "_model_name": "SliderStyleModel",
      "_view_count": null,
      "_view_module": "@jupyter-widgets/base",
      "_view_module_version": "1.2.0",
      "_view_name": "StyleView",
      "description_width": "",
      "handle_color": null
     }
    },
    "ab8bfb9ed48d4b1294c7b31cc3dd0a04": {
     "model_module": "@jupyter-widgets/base",
     "model_module_version": "1.2.0",
     "model_name": "LayoutModel",
     "state": {
      "_model_module": "@jupyter-widgets/base",
      "_model_module_version": "1.2.0",
      "_model_name": "LayoutModel",
      "_view_count": null,
      "_view_module": "@jupyter-widgets/base",
      "_view_module_version": "1.2.0",
      "_view_name": "LayoutView",
      "align_content": null,
      "align_items": null,
      "align_self": null,
      "border": null,
      "bottom": null,
      "display": null,
      "flex": null,
      "flex_flow": null,
      "grid_area": null,
      "grid_auto_columns": null,
      "grid_auto_flow": null,
      "grid_auto_rows": null,
      "grid_column": null,
      "grid_gap": null,
      "grid_row": null,
      "grid_template_areas": null,
      "grid_template_columns": null,
      "grid_template_rows": null,
      "height": null,
      "justify_content": null,
      "justify_items": null,
      "left": null,
      "margin": null,
      "max_height": null,
      "max_width": null,
      "min_height": null,
      "min_width": null,
      "object_fit": null,
      "object_position": null,
      "order": null,
      "overflow": null,
      "overflow_x": null,
      "overflow_y": null,
      "padding": null,
      "right": null,
      "top": null,
      "visibility": null,
      "width": null
     }
    },
    "b4c5faeb98bf4120ae787f85982e60eb": {
     "model_module": "@jupyter-widgets/controls",
     "model_module_version": "1.5.0",
     "model_name": "IntSliderModel",
     "state": {
      "_dom_classes": [],
      "_model_module": "@jupyter-widgets/controls",
      "_model_module_version": "1.5.0",
      "_model_name": "IntSliderModel",
      "_view_count": null,
      "_view_module": "@jupyter-widgets/controls",
      "_view_module_version": "1.5.0",
      "_view_name": "IntSliderView",
      "continuous_update": true,
      "description": "dt_yr",
      "description_tooltip": null,
      "disabled": false,
      "layout": "IPY_MODEL_25e973d1b651443da7a3c8c2c600a32a",
      "max": 10000,
      "min": 0,
      "orientation": "horizontal",
      "readout": true,
      "readout_format": "d",
      "step": 100,
      "style": "IPY_MODEL_fb8d9c87a9c54126810dd4fc1cda98b5",
      "value": 0
     }
    },
    "b6d7298c21574dd99bff4e5eac0930c5": {
     "model_module": "@jupyter-widgets/controls",
     "model_module_version": "1.5.0",
     "model_name": "SliderStyleModel",
     "state": {
      "_model_module": "@jupyter-widgets/controls",
      "_model_module_version": "1.5.0",
      "_model_name": "SliderStyleModel",
      "_view_count": null,
      "_view_module": "@jupyter-widgets/base",
      "_view_module_version": "1.2.0",
      "_view_name": "StyleView",
      "description_width": "",
      "handle_color": null
     }
    },
    "b8ff79b19cf242dea4afea8d0783ea92": {
     "model_module": "@jupyter-widgets/base",
     "model_module_version": "1.2.0",
     "model_name": "LayoutModel",
     "state": {
      "_model_module": "@jupyter-widgets/base",
      "_model_module_version": "1.2.0",
      "_model_name": "LayoutModel",
      "_view_count": null,
      "_view_module": "@jupyter-widgets/base",
      "_view_module_version": "1.2.0",
      "_view_name": "LayoutView",
      "align_content": null,
      "align_items": null,
      "align_self": null,
      "border": null,
      "bottom": null,
      "display": null,
      "flex": null,
      "flex_flow": null,
      "grid_area": null,
      "grid_auto_columns": null,
      "grid_auto_flow": null,
      "grid_auto_rows": null,
      "grid_column": null,
      "grid_gap": null,
      "grid_row": null,
      "grid_template_areas": null,
      "grid_template_columns": null,
      "grid_template_rows": null,
      "height": null,
      "justify_content": null,
      "justify_items": null,
      "left": null,
      "margin": null,
      "max_height": null,
      "max_width": null,
      "min_height": null,
      "min_width": null,
      "object_fit": null,
      "object_position": null,
      "order": null,
      "overflow": null,
      "overflow_x": null,
      "overflow_y": null,
      "padding": null,
      "right": null,
      "top": null,
      "visibility": null,
      "width": null
     }
    },
    "c4ce44b66d524940ab9704ee85c4f086": {
     "model_module": "@jupyter-widgets/base",
     "model_module_version": "1.2.0",
     "model_name": "LayoutModel",
     "state": {
      "_model_module": "@jupyter-widgets/base",
      "_model_module_version": "1.2.0",
      "_model_name": "LayoutModel",
      "_view_count": null,
      "_view_module": "@jupyter-widgets/base",
      "_view_module_version": "1.2.0",
      "_view_name": "LayoutView",
      "align_content": null,
      "align_items": null,
      "align_self": null,
      "border": null,
      "bottom": null,
      "display": null,
      "flex": null,
      "flex_flow": null,
      "grid_area": null,
      "grid_auto_columns": null,
      "grid_auto_flow": null,
      "grid_auto_rows": null,
      "grid_column": null,
      "grid_gap": null,
      "grid_row": null,
      "grid_template_areas": null,
      "grid_template_columns": null,
      "grid_template_rows": null,
      "height": null,
      "justify_content": null,
      "justify_items": null,
      "left": null,
      "margin": null,
      "max_height": null,
      "max_width": null,
      "min_height": null,
      "min_width": null,
      "object_fit": null,
      "object_position": null,
      "order": null,
      "overflow": null,
      "overflow_x": null,
      "overflow_y": null,
      "padding": null,
      "right": null,
      "top": null,
      "visibility": null,
      "width": null
     }
    },
    "c7d7fba5d9554a44956372dfbe4f043e": {
     "model_module": "@jupyter-widgets/base",
     "model_module_version": "1.2.0",
     "model_name": "LayoutModel",
     "state": {
      "_model_module": "@jupyter-widgets/base",
      "_model_module_version": "1.2.0",
      "_model_name": "LayoutModel",
      "_view_count": null,
      "_view_module": "@jupyter-widgets/base",
      "_view_module_version": "1.2.0",
      "_view_name": "LayoutView",
      "align_content": null,
      "align_items": null,
      "align_self": null,
      "border": null,
      "bottom": null,
      "display": null,
      "flex": null,
      "flex_flow": null,
      "grid_area": null,
      "grid_auto_columns": null,
      "grid_auto_flow": null,
      "grid_auto_rows": null,
      "grid_column": null,
      "grid_gap": null,
      "grid_row": null,
      "grid_template_areas": null,
      "grid_template_columns": null,
      "grid_template_rows": null,
      "height": null,
      "justify_content": null,
      "justify_items": null,
      "left": null,
      "margin": null,
      "max_height": null,
      "max_width": null,
      "min_height": null,
      "min_width": null,
      "object_fit": null,
      "object_position": null,
      "order": null,
      "overflow": null,
      "overflow_x": null,
      "overflow_y": null,
      "padding": null,
      "right": null,
      "top": null,
      "visibility": null,
      "width": "initial"
     }
    },
    "e30a3e3e243a4e6dbfd553f807870f05": {
     "model_module": "@jupyter-widgets/base",
     "model_module_version": "1.2.0",
     "model_name": "LayoutModel",
     "state": {
      "_model_module": "@jupyter-widgets/base",
      "_model_module_version": "1.2.0",
      "_model_name": "LayoutModel",
      "_view_count": null,
      "_view_module": "@jupyter-widgets/base",
      "_view_module_version": "1.2.0",
      "_view_name": "LayoutView",
      "align_content": null,
      "align_items": null,
      "align_self": null,
      "border": null,
      "bottom": null,
      "display": null,
      "flex": null,
      "flex_flow": null,
      "grid_area": null,
      "grid_auto_columns": null,
      "grid_auto_flow": null,
      "grid_auto_rows": null,
      "grid_column": null,
      "grid_gap": null,
      "grid_row": null,
      "grid_template_areas": null,
      "grid_template_columns": null,
      "grid_template_rows": null,
      "height": null,
      "justify_content": null,
      "justify_items": null,
      "left": null,
      "margin": null,
      "max_height": null,
      "max_width": null,
      "min_height": null,
      "min_width": null,
      "object_fit": null,
      "object_position": null,
      "order": null,
      "overflow": null,
      "overflow_x": null,
      "overflow_y": null,
      "padding": null,
      "right": null,
      "top": null,
      "visibility": null,
      "width": null
     }
    },
    "e61804c399b7415bb62b6fd51a3c0f10": {
     "model_module": "@jupyter-widgets/base",
     "model_module_version": "1.2.0",
     "model_name": "LayoutModel",
     "state": {
      "_model_module": "@jupyter-widgets/base",
      "_model_module_version": "1.2.0",
      "_model_name": "LayoutModel",
      "_view_count": null,
      "_view_module": "@jupyter-widgets/base",
      "_view_module_version": "1.2.0",
      "_view_name": "LayoutView",
      "align_content": null,
      "align_items": null,
      "align_self": null,
      "border": null,
      "bottom": null,
      "display": null,
      "flex": null,
      "flex_flow": null,
      "grid_area": null,
      "grid_auto_columns": null,
      "grid_auto_flow": null,
      "grid_auto_rows": null,
      "grid_column": null,
      "grid_gap": null,
      "grid_row": null,
      "grid_template_areas": null,
      "grid_template_columns": null,
      "grid_template_rows": null,
      "height": null,
      "justify_content": null,
      "justify_items": null,
      "left": null,
      "margin": null,
      "max_height": null,
      "max_width": null,
      "min_height": null,
      "min_width": null,
      "object_fit": null,
      "object_position": null,
      "order": null,
      "overflow": null,
      "overflow_x": null,
      "overflow_y": null,
      "padding": null,
      "right": null,
      "top": null,
      "visibility": null,
      "width": null
     }
    },
    "eabb47e208fc401dad7648aa641dc5f7": {
     "model_module": "@jupyter-widgets/base",
     "model_module_version": "1.2.0",
     "model_name": "LayoutModel",
     "state": {
      "_model_module": "@jupyter-widgets/base",
      "_model_module_version": "1.2.0",
      "_model_name": "LayoutModel",
      "_view_count": null,
      "_view_module": "@jupyter-widgets/base",
      "_view_module_version": "1.2.0",
      "_view_name": "LayoutView",
      "align_content": null,
      "align_items": null,
      "align_self": null,
      "border": "1px solid grey",
      "bottom": null,
      "display": "flex",
      "flex": null,
      "flex_flow": "column",
      "grid_area": null,
      "grid_auto_columns": null,
      "grid_auto_flow": null,
      "grid_auto_rows": null,
      "grid_column": null,
      "grid_gap": null,
      "grid_row": null,
      "grid_template_areas": null,
      "grid_template_columns": null,
      "grid_template_rows": null,
      "height": null,
      "justify_content": null,
      "justify_items": null,
      "left": null,
      "margin": null,
      "max_height": null,
      "max_width": null,
      "min_height": null,
      "min_width": null,
      "object_fit": null,
      "object_position": null,
      "order": null,
      "overflow": null,
      "overflow_x": null,
      "overflow_y": null,
      "padding": null,
      "right": null,
      "top": null,
      "visibility": null,
      "width": "initial"
     }
    },
    "fb8d9c87a9c54126810dd4fc1cda98b5": {
     "model_module": "@jupyter-widgets/controls",
     "model_module_version": "1.5.0",
     "model_name": "SliderStyleModel",
     "state": {
      "_model_module": "@jupyter-widgets/controls",
      "_model_module_version": "1.5.0",
      "_model_name": "SliderStyleModel",
      "_view_count": null,
      "_view_module": "@jupyter-widgets/base",
      "_view_module_version": "1.2.0",
      "_view_name": "StyleView",
      "description_width": "",
      "handle_color": null
     }
    }
   }
  }
 },
 "nbformat": 4,
 "nbformat_minor": 1
}
